{
 "cells": [
  {
   "cell_type": "markdown",
   "metadata": {},
   "source": [
    "# 2D Advection-Diffusion equation"
   ]
  },
  {
   "cell_type": "markdown",
   "metadata": {},
   "source": [
    "in this notebook we provide a simple example of the DeepMoD algorithm and apply it on the 2D advection-diffusion equation. "
   ]
  },
  {
   "cell_type": "code",
   "execution_count": 3,
   "metadata": {},
   "outputs": [],
   "source": [
    "import numpy as np\n",
    "import pandas as pd \n",
    "\n",
    "from scipy.io import loadmat\n",
    "from deepymod.DeepMoD import DeepMoD\n",
    "from deepymod.library_functions import *\n",
    "from deepymod.utilities import library_matrix_mat, print_PDE\n",
    "\n",
    "import matplotlib.pyplot as plt\n",
    "plt.style.use('seaborn-notebook')\n",
    "\n",
    "np.random.seed(42)  # setting seed for randomisation"
   ]
  },
  {
   "cell_type": "markdown",
   "metadata": {},
   "source": [
    "## Prepare the data"
   ]
  },
  {
   "cell_type": "markdown",
   "metadata": {},
   "source": [
    "Next, we prepare the dataset."
   ]
  },
  {
   "cell_type": "code",
   "execution_count": 5,
   "metadata": {},
   "outputs": [],
   "source": [
    "data = loadmat('Diffusion_bc_new.mat')\n",
    "usol = np.real(data['Expression1'])\n",
    "usol= usol.reshape((201,251,3))\n",
    "\n",
    "x_v= usol[:,:,0]\n",
    "t_v = usol[:,:,1]\n",
    "y_v = usol[:,:,2]"
   ]
  },
  {
   "cell_type": "markdown",
   "metadata": {},
   "source": [
    "Next we plot the dataset for three different time-points"
   ]
  },
  {
   "cell_type": "markdown",
   "metadata": {},
   "source": [
    "We flatten it to give it the right dimensions for feeding it to the network:"
   ]
  },
  {
   "cell_type": "code",
   "execution_count": 6,
   "metadata": {},
   "outputs": [],
   "source": [
    "X = np.transpose((t_v.flatten(),x_v.flatten()))\n",
    "y = y_v.reshape((y_v.size, 1))"
   ]
  },
  {
   "cell_type": "code",
   "execution_count": 22,
   "metadata": {},
   "outputs": [
    {
     "data": {
      "text/plain": [
       "<matplotlib.contour.QuadContourSet at 0xb271af828>"
      ]
     },
     "execution_count": 22,
     "metadata": {},
     "output_type": "execute_result"
    },
    {
     "data": {
      "image/png": "[encoded data removed]",
      "text/plain": [
       "<Figure size 720x720 with 1 Axes>"
      ]
     },
     "metadata": {
      "needs_background": "light"
     },
     "output_type": "display_data"
    }
   ],
   "source": [
    "fig = plt.subplots(figsize=(10, 10))\n",
    "\n",
    "plt.contourf(x_v, t_v, y_v, cmap='coolwarm')\n"
   ]
  },
  {
   "cell_type": "markdown",
   "metadata": {},
   "source": [
    "We select the noise level we add to the data-set"
   ]
  },
  {
   "cell_type": "code",
   "execution_count": 23,
   "metadata": {},
   "outputs": [],
   "source": [
    "noise_level = 0."
   ]
  },
  {
   "cell_type": "code",
   "execution_count": 24,
   "metadata": {},
   "outputs": [],
   "source": [
    "y_noisy = y + noise_level * np.std(y) * np.random.randn(y.size, 1)"
   ]
  },
  {
   "cell_type": "markdown",
   "metadata": {},
   "source": [
    "Select the number of samples:"
   ]
  },
  {
   "cell_type": "code",
   "execution_count": 26,
   "metadata": {},
   "outputs": [],
   "source": [
    "number_of_samples = 2500"
   ]
  },
  {
   "cell_type": "code",
   "execution_count": 27,
   "metadata": {},
   "outputs": [],
   "source": [
    "idx = np.random.permutation(y.size)\n",
    "X_train = X[idx, :][:number_of_samples]\n",
    "y_train = y_noisy[idx, :][:number_of_samples]"
   ]
  },
  {
   "cell_type": "markdown",
   "metadata": {},
   "source": [
    "## Configure the neural network"
   ]
  },
  {
   "cell_type": "markdown",
   "metadata": {},
   "source": [
    "Next we define the architecture and strength of the $L_1$ penalty for the neural network.\n",
    "Note that in this example have three input channels in this example: {x,y,t}"
   ]
  },
  {
   "cell_type": "code",
   "execution_count": 30,
   "metadata": {},
   "outputs": [],
   "source": [
    "config = {'layers': [2, 40, 40, 40, 40, 1], 'lambda': 10**-6}"
   ]
  },
  {
   "cell_type": "markdown",
   "metadata": {},
   "source": [
    "DeepMoD accepts any arbitrary library function and any options for it can be given through *the library_config*. The library function for this example accepts a maximum order for the polynomial and derivative terms. DeepMoD also needs to know the total number of terms upfront. We can calculate that by making a list of the polynomial and derivative terms and getting all the terms by feeding them into the library_matrix_mat function. Its output will be used later to print the found PDE."
   ]
  },
  {
   "cell_type": "code",
   "execution_count": 31,
   "metadata": {},
   "outputs": [
    {
     "name": "stdout",
     "output_type": "stream",
     "text": [
      "['1', 'u_{x}', 'u_{xx}', 'u', 'uu_{x}', 'uu_{xx}']\n"
     ]
    }
   ],
   "source": [
    "u = ['1', 'u']\n",
    "du = ['1', 'u_{x}','u_{xx}']\n",
    "coeffs_list = library_matrix_mat(u, du)\n",
    "print(coeffs_list)\n",
    "library_config = {'total_terms':6, 'deriv_order': 2, 'poly_order': 1}"
   ]
  },
  {
   "cell_type": "markdown",
   "metadata": {},
   "source": [
    "Next we set the training options. Usually we only change the maximum iterations and the grad_tol, which sets the convergence criterion;"
   ]
  },
  {
   "cell_type": "code",
   "execution_count": 32,
   "metadata": {},
   "outputs": [],
   "source": [
    "train_opts = {'max_iterations': 200000, 'grad_tol':10**-7, 'learning_rate': 0.004, 'beta1': 0.99, 'beta2': 0.999, 'epsilon': 10**-8}"
   ]
  },
  {
   "cell_type": "markdown",
   "metadata": {},
   "source": [
    "The last configuration we need to fill is the ouput_opts. It contains an output_directory and X_predict field. We've build a custom tensorboard so you can follow the progress of the run.  Output_directory sets where the files are saved, then simply run \n",
    "\n",
    "`tensorboard --logdir $[OUTPUT_DIRECTORY]`\n",
    "\n",
    "in a terminal to open tensorboard. It shows the value of the coefficients, scaled coefficients and all possible costs. Note that the runs are timestamped in output_directory, so you'll have to add it! We can also use the output of tensorboard to analyze deepmod after. We show this below. The last option is X_predict. As DeepMoD also denoises the data, use this option to denoise some dataset X after DeepMoD has converged."
   ]
  },
  {
   "cell_type": "code",
   "execution_count": 33,
   "metadata": {},
   "outputs": [],
   "source": [
    "output_opts = {'output_directory': 'diffusion_mse/', 'X_predict': X}"
   ]
  },
  {
   "cell_type": "markdown",
   "metadata": {},
   "source": [
    "## Run DeepMoD"
   ]
  },
  {
   "cell_type": "markdown",
   "metadata": {},
   "source": [
    "We can now run DeepMoD using all the options we have set and the training data. We also need to specify which library function we wish to use. You can build any library you want and just pass is through this command:"
   ]
  },
  {
   "cell_type": "code",
   "execution_count": 34,
   "metadata": {},
   "outputs": [
    {
     "name": "stdout",
     "output_type": "stream",
     "text": [
      "u (?, 2, 1)\n",
      "du (?, 1, 3)\n",
      "theta (?, 2, 3)\n",
      "Epoch | Total loss | Loss gradient | MSE | PI | L1 \n",
      "0 [12.990449, 0.049819566, 12.820206, 0.17023756, 5.2892324e-06]\n",
      "500 [0.053271636, 0.22203265, 0.04373412, 0.009536056, 1.4612972e-06]\n",
      "1000 [0.021000382, 0.07469076, 0.018155405, 0.0028433786, 1.5974592e-06]\n",
      "1500 [0.011423711, 0.055277277, 0.009839203, 0.0015827926, 1.7149616e-06]\n",
      "2000 [0.0065794084, 0.032984532, 0.0059768124, 0.0006009152, 1.6805658e-06]\n",
      "2500 [0.0046865265, 0.0237956, 0.004384688, 0.000300189, 1.6495597e-06]\n",
      "3000 [0.00392041, 0.019936463, 0.0036854919, 0.00023326775, 1.6501104e-06]\n",
      "3500 [0.0033746583, 0.017324692, 0.0031795101, 0.00019348509, 1.6629994e-06]\n",
      "4000 [0.0029281303, 0.01498307, 0.0027756263, 0.0001508246, 1.679461e-06]\n",
      "4500 [0.0025593902, 0.012772986, 0.0024449062, 0.00011278539, 1.698404e-06]\n",
      "5000 [0.002261156, 0.010769196, 0.0021758345, 8.360056e-05, 1.7207949e-06]\n",
      "5500 [0.0020301763, 0.011462272, 0.001966369, 6.205884e-05, 1.748316e-06]\n",
      "6000 [0.0018731073, 0.015187976, 0.0018207823, 5.054229e-05, 1.7826643e-06]\n",
      "6500 [0.0017075924, 0.0123116765, 0.0016684114, 3.7359605e-05, 1.8212668e-06]\n",
      "7000 [0.0015842757, 0.009315224, 0.0015502981, 3.2111217e-05, 1.8664693e-06]\n",
      "7500 [0.0014742507, 0.008300431, 0.0014462717, 2.6056683e-05, 1.922348e-06]\n",
      "8000 [0.0014179714, 0.01656741, 0.0013850033, 3.0979045e-05, 1.9890967e-06]\n",
      "8500 [0.001294566, 0.0064821066, 0.0012743195, 1.8191467e-05, 2.054911e-06]\n",
      "9000 [0.0012268492, 0.009218018, 0.0012085844, 1.6135562e-05, 2.1291785e-06]\n",
      "9500 [0.0011709166, 0.014886676, 0.001147329, 2.13865e-05, 2.2011109e-06]\n",
      "10000 [0.0011149901, 0.004906353, 0.0011018147, 1.0903682e-05, 2.27175e-06]\n",
      "10500 [0.0011083023, 0.013236044, 0.0010860573, 1.9911464e-05, 2.3335474e-06]\n",
      "11000 [0.0010552373, 0.015181897, 0.0010336211, 1.9217423e-05, 2.3987354e-06]\n",
      "11500 [0.0010528131, 0.027922476, 0.0009992912, 5.1069997e-05, 2.4519688e-06]\n",
      "12000 [0.0010213961, 0.01953158, 0.0009931803, 2.5709254e-05, 2.506491e-06]\n",
      "12500 [0.0009671882, 0.0046159346, 0.0009558649, 8.774012e-06, 2.5493307e-06]\n",
      "13000 [0.00095328287, 0.017824138, 0.00092710275, 2.3585422e-05, 2.594701e-06]\n",
      "13500 [0.0009365837, 0.0051370547, 0.0009256473, 8.303576e-06, 2.6328187e-06]\n",
      "14000 [0.0009113126, 0.006936375, 0.00090036256, 8.2760025e-06, 2.6740022e-06]\n",
      "14500 [0.00093930826, 0.028711505, 0.0008886334, 4.7966758e-05, 2.7080434e-06]\n",
      "15000 [0.0009272139, 0.027250594, 0.000877643, 4.682943e-05, 2.7414394e-06]\n",
      "15500 [0.0009033373, 0.017500374, 0.0008808257, 1.9735868e-05, 2.7757326e-06]\n",
      "16000 [0.0008836325, 0.0061317766, 0.0008726877, 8.143383e-06, 2.8014397e-06]\n",
      "16500 [0.0008671735, 0.006547678, 0.0008559394, 8.398847e-06, 2.8352451e-06]\n",
      "17000 [0.00087696, 0.012675586, 0.0008620539, 1.2042522e-05, 2.8635811e-06]\n",
      "17500 [0.00086318486, 0.0216125, 0.0008294264, 3.0870764e-05, 2.8876561e-06]\n",
      "18000 [0.00084427313, 0.008493563, 0.00083238137, 8.980739e-06, 2.9110493e-06]\n",
      "18500 [0.0008453131, 0.009412077, 0.00083423126, 8.141089e-06, 2.9407352e-06]\n",
      "19000 [0.000865434, 0.029967839, 0.00080897426, 5.3496384e-05, 2.9633793e-06]\n",
      "19500 [0.0008638462, 0.018625338, 0.000839474, 2.1383135e-05, 2.9890668e-06]\n",
      "20000 [0.0008267841, 0.018489853, 0.00080166216, 2.2114382e-05, 3.0075726e-06]\n",
      "20500 [0.0008270914, 0.021571025, 0.00079354626, 3.0512956e-05, 3.0321437e-06]\n",
      "21000 [0.0008012452, 0.008576433, 0.00079062744, 7.5668486e-06, 3.0509398e-06]\n",
      "21500 [0.0008041116, 0.0073942365, 0.0007928324, 8.208747e-06, 3.0704769e-06]\n",
      "22000 [0.000803551, 0.01889796, 0.00077875284, 2.1706364e-05, 3.0918056e-06]\n",
      "22500 [0.0008073678, 0.021936804, 0.00077684876, 2.7405258e-05, 3.1137643e-06]\n",
      "23000 [0.00081000436, 0.023810336, 0.0007748773, 3.1993208e-05, 3.133838e-06]\n",
      "23500 [0.0008093248, 0.026996832, 0.00076535187, 4.0821687e-05, 3.1512493e-06]\n",
      "24000 [0.00081378553, 0.021430032, 0.0007846332, 2.5979165e-05, 3.1731233e-06]\n",
      "24500 [0.0007655128, 0.009081201, 0.0007558504, 6.473997e-06, 3.1884215e-06]\n",
      "25000 [0.0007729821, 0.015239899, 0.0007519473, 1.7826771e-05, 3.208005e-06]\n",
      "25500 [0.00076734263, 0.012881594, 0.0007524732, 1.1646597e-05, 3.2228415e-06]\n",
      "26000 [0.0008013344, 0.028351657, 0.00075179926, 4.6295067e-05, 3.2400835e-06]\n",
      "26500 [0.000784449, 0.025841635, 0.0007437962, 3.739541e-05, 3.2574053e-06]\n",
      "27000 [0.0007816587, 0.023792539, 0.0007449199, 3.3464887e-05, 3.2739515e-06]\n",
      "27500 [0.00078844925, 0.028005643, 0.000741215, 4.3943972e-05, 3.2902178e-06]\n",
      "28000 [0.00078782695, 0.028764345, 0.00073777616, 4.674403e-05, 3.3067938e-06]\n",
      "28500 [0.00076032785, 0.020915793, 0.0007315968, 2.5408131e-05, 3.3229828e-06]\n",
      "29000 [0.00074449583, 0.014144928, 0.0007279935, 1.3159394e-05, 3.3429412e-06]\n",
      "29500 [0.00077383197, 0.027054789, 0.0007253454, 4.5127978e-05, 3.3586011e-06]\n",
      "30000 [0.0007488277, 0.015306554, 0.0007294996, 1.5958232e-05, 3.3698834e-06]\n",
      "30500 [0.0007388528, 0.013373755, 0.00072398956, 1.1474445e-05, 3.3888161e-06]\n",
      "31000 [0.00075804454, 0.023187585, 0.00072234287, 3.229997e-05, 3.401698e-06]\n",
      "31500 [0.0007413956, 0.01936605, 0.00071603805, 2.1938593e-05, 3.418958e-06]\n",
      "32000 [0.00071964314, 0.0094008325, 0.0007082962, 7.914525e-06, 3.432426e-06]\n",
      "32500 [0.00073340855, 0.012874425, 0.0007146437, 1.5315885e-05, 3.4489838e-06]\n",
      "33000 [0.00075384387, 0.022191834, 0.0007210521, 2.9332912e-05, 3.4588245e-06]\n",
      "33500 [0.0007334806, 0.017978681, 0.00070962775, 2.0374622e-05, 3.478249e-06]\n",
      "34000 [0.0007454481, 0.024451861, 0.00070859626, 3.336053e-05, 3.4912885e-06]\n",
      "34500 [0.0007282622, 0.02168196, 0.00069781335, 2.694559e-05, 3.503235e-06]\n",
      "35000 [0.00070506457, 0.009633049, 0.00069397315, 7.574072e-06, 3.5173146e-06]\n",
      "35500 [0.00072333805, 0.016756134, 0.00069924357, 2.0561456e-05, 3.533059e-06]\n",
      "36000 [0.00073780195, 0.022246886, 0.0007048306, 2.9428667e-05, 3.5426126e-06]\n",
      "36500 [0.0007326119, 0.02715418, 0.0006886512, 4.040139e-05, 3.5592805e-06]\n",
      "37000 [0.00072039, 0.01973683, 0.0006931134, 2.3707447e-05, 3.5691148e-06]\n",
      "37500 [0.0007085598, 0.002108345, 0.0007015011, 3.4716177e-06, 3.5870994e-06]\n",
      "38000 [0.0007232064, 0.0111242235, 0.0007100061, 9.605816e-06, 3.5944336e-06]\n",
      "38500 [0.0006887715, 0.0057645747, 0.00068092626, 4.2337756e-06, 3.6114102e-06]\n",
      "39000 [0.00069932063, 0.011474714, 0.00068568566, 1.0013025e-05, 3.6219483e-06]\n",
      "39500 [0.00069560786, 0.007932242, 0.0006860827, 5.8873143e-06, 3.6378337e-06]\n",
      "40000 [0.0007001883, 0.0048400904, 0.00069020333, 6.3338057e-06, 3.651105e-06]\n",
      "40500 [0.00069455104, 0.011153415, 0.00068045553, 1.0432224e-05, 3.663301e-06]\n",
      "41000 [0.0006947691, 0.007847595, 0.0006830111, 8.081989e-06, 3.675961e-06]\n",
      "41500 [0.0007191322, 0.018157067, 0.0006954457, 1.9998186e-05, 3.688348e-06]\n",
      "42000 [0.0007184682, 0.027389063, 0.0006741247, 4.0643194e-05, 3.7003215e-06]\n",
      "42500 [0.00070190034, 0.021879027, 0.00067062094, 2.7567163e-05, 3.7122247e-06]\n",
      "43000 [0.0006814787, 0.012995211, 0.00066545553, 1.23000655e-05, 3.7230939e-06]\n",
      "43500 [0.0007183271, 0.019434137, 0.0006917673, 2.2823506e-05, 3.7363172e-06]\n",
      "44000 [0.0006775126, 0.007329423, 0.0006642182, 9.551103e-06, 3.7432733e-06]\n",
      "44500 [0.000701124, 0.02593796, 0.0006599401, 3.7427635e-05, 3.756273e-06]\n",
      "45000 [0.0006991057, 0.024681846, 0.00066220795, 3.3126675e-05, 3.7710474e-06]\n",
      "45500 [0.00067080464, 0.010984051, 0.00065670477, 1.0318071e-05, 3.7817883e-06]\n",
      "46000 [0.00069052016, 0.023532685, 0.0006556012, 3.1127198e-05, 3.7917375e-06]\n",
      "46500 [0.0006905672, 0.024646256, 0.0006536942, 3.306937e-05, 3.8036285e-06]\n",
      "47000 [0.00067925506, 0.020275101, 0.00065184437, 2.3597486e-05, 3.8131668e-06]\n",
      "47500 [0.0006849397, 0.022205692, 0.00065279653, 2.8317696e-05, 3.825461e-06]\n",
      "48000 [0.00066889275, 0.013508105, 0.00065260706, 1.2446724e-05, 3.8389667e-06]\n",
      "48500 [0.00065603113, 0.005251856, 0.000647025, 5.157793e-06, 3.848353e-06]\n",
      "49000 [0.0006867871, 0.02563355, 0.00064732356, 3.56031e-05, 3.8604626e-06]\n",
      "49500 [0.0006872448, 0.018105686, 0.0006632582, 2.011929e-05, 3.867332e-06]\n",
      "50000 [0.0006806414, 0.02376541, 0.0006443843, 3.237622e-05, 3.8808926e-06]\n",
      "50500 [0.00066121377, 0.014871965, 0.00064229214, 1.5028812e-05, 3.8928288e-06]\n",
      "51000 [0.0006681843, 0.018944288, 0.0006407356, 2.3546552e-05, 3.9021347e-06]\n",
      "51500 [0.00066722906, 0.014677483, 0.00064966484, 1.3648682e-05, 3.9155407e-06]\n",
      "52000 [0.00065171294, 0.0068572634, 0.0006410101, 6.776157e-06, 3.926678e-06]\n",
      "52500 [0.00068155775, 0.015329857, 0.000661815, 1.5810276e-05, 3.9325073e-06]\n",
      "53000 [0.0006744447, 0.020787349, 0.0006445571, 2.5944228e-05, 3.9433917e-06]\n",
      "53500 [0.0006828782, 0.018686768, 0.0006580987, 2.0825824e-05, 3.9536503e-06]\n",
      "54000 [0.00069249823, 0.030800916, 0.00063723885, 5.1295454e-05, 3.963962e-06]\n",
      "54500 [0.00064495055, 0.005180558, 0.0006371044, 3.870349e-06, 3.9758406e-06]\n",
      "55000 [0.0006519679, 0.016607579, 0.00063040864, 1.7572462e-05, 3.9867455e-06]\n",
      "55500 [0.0006679916, 0.023930954, 0.00062995456, 3.4039393e-05, 3.9976203e-06]\n",
      "56000 [0.00066347886, 0.011938885, 0.0006493033, 1.0164983e-05, 4.01054e-06]\n",
      "56500 [0.00067305163, 0.02094359, 0.00064312934, 2.5902453e-05, 4.0198483e-06]\n",
      "57000 [0.0006654217, 0.012601878, 0.0006501605, 1.12303e-05, 4.030916e-06]\n",
      "57500 [0.00065681664, 0.019432668, 0.00063041045, 2.236593e-05, 4.0402388e-06]\n",
      "58000 [0.0006373725, 0.009258081, 0.0006261286, 7.19589e-06, 4.0480736e-06]\n",
      "58500 [0.0006772933, 0.017509766, 0.0006541837, 1.9049074e-05, 4.060496e-06]\n",
      "59000 [0.0006387617, 0.00736302, 0.00062608125, 8.6154505e-06, 4.0650007e-06]\n",
      "59500 [0.00067144097, 0.021240292, 0.0006381793, 2.918805e-05, 4.0736177e-06]\n",
      "60000 [0.0006344138, 0.0059163556, 0.00062363775, 6.691964e-06, 4.084106e-06]\n",
      "60500 [0.0006771088, 0.029232433, 0.0006275139, 4.550164e-05, 4.0932955e-06]\n",
      "61000 [0.00066693116, 0.027709777, 0.0006221335, 4.0690447e-05, 4.107219e-06]\n",
      "61500 [0.00063527207, 0.014182122, 0.0006182266, 1.2929918e-05, 4.115576e-06]\n",
      "62000 [0.0006591335, 0.024452932, 0.00062215596, 3.2854874e-05, 4.122656e-06]\n",
      "62500 [0.0006593956, 0.025350245, 0.00061737245, 3.7891252e-05, 4.1318826e-06]\n",
      "63000 [0.00064747554, 0.021123173, 0.00061844935, 2.488566e-05, 4.140553e-06]\n",
      "63500 [0.0006419283, 0.017751176, 0.0006196749, 1.8103223e-05, 4.1501303e-06]\n",
      "64000 [0.0006302429, 0.011056315, 0.0006159939, 1.0086848e-05, 4.162156e-06]\n",
      "64500 [0.000655962, 0.025280347, 0.0006175134, 3.427665e-05, 4.1719527e-06]\n",
      "65000 [0.0006471298, 0.022128392, 0.00061373046, 2.9222196e-05, 4.177145e-06]\n",
      "65500 [0.0006314023, 0.011442993, 0.00061872456, 8.492056e-06, 4.185728e-06]\n",
      "66000 [0.0006395142, 0.019958293, 0.00061288715, 2.2432669e-05, 4.194379e-06]\n",
      "66500 [0.000666615, 0.022788312, 0.0006309788, 3.142776e-05, 4.2084325e-06]\n",
      "67000 [0.000628009, 0.007079853, 0.0006178797, 5.9129643e-06, 4.2163497e-06]\n",
      "67500 [0.0006472172, 0.023162242, 0.00061439676, 2.8598904e-05, 4.2215847e-06]\n",
      "68000 [0.00062590605, 0.012181518, 0.0006105175, 1.1159478e-05, 4.229077e-06]\n",
      "68500 [0.00065172784, 0.027138855, 0.00060814933, 3.9340503e-05, 4.2379575e-06]\n",
      "69000 [0.00062726834, 0.0065974914, 0.00061745924, 5.5578594e-06, 4.251235e-06]\n",
      "69500 [0.0006299976, 0.011174344, 0.0006134175, 1.2326085e-05, 4.253982e-06]\n",
      "70000 [0.00064207916, 0.021320038, 0.00061128876, 2.6526308e-05, 4.2640363e-06]\n",
      "70500 [0.00062674866, 0.011665041, 0.00061422976, 8.247865e-06, 4.271019e-06]\n",
      "71000 [0.0006357795, 0.020955998, 0.00060786837, 2.3627399e-05, 4.2837164e-06]\n",
      "71500 [0.0006438897, 0.025838349, 0.0006046863, 3.491305e-05, 4.290285e-06]\n",
      "72000 [0.0006243935, 0.014557076, 0.0006062696, 1.38246405e-05, 4.2992733e-06]\n",
      "72500 [0.0006270974, 0.011404373, 0.000610861, 1.1932899e-05, 4.303478e-06]\n",
      "73000 [0.000625268, 0.010722757, 0.00061316235, 7.788462e-06, 4.317172e-06]\n",
      "73500 [0.00064496545, 0.026405225, 0.00060198875, 3.8655424e-05, 4.321296e-06]\n"
     ]
    },
    {
     "ename": "KeyboardInterrupt",
     "evalue": "",
     "output_type": "error",
     "traceback": [
      "\u001b[0;31m---------------------------------------------------------------------------\u001b[0m",
      "\u001b[0;31mKeyboardInterrupt\u001b[0m                         Traceback (most recent call last)",
      "\u001b[0;32m<ipython-input-34-eea601368c69>\u001b[0m in \u001b[0;36m<module>\u001b[0;34m\u001b[0m\n\u001b[0;32m----> 1\u001b[0;31m \u001b[0msparse_vectors\u001b[0m\u001b[0;34m,\u001b[0m \u001b[0mdenoised\u001b[0m \u001b[0;34m=\u001b[0m \u001b[0mDeepMoD\u001b[0m\u001b[0;34m(\u001b[0m\u001b[0mX_train\u001b[0m\u001b[0;34m,\u001b[0m \u001b[0my_train\u001b[0m\u001b[0;34m,\u001b[0m \u001b[0mconfig\u001b[0m\u001b[0;34m,\u001b[0m \u001b[0mlibrary_1D\u001b[0m\u001b[0;34m,\u001b[0m \u001b[0mlibrary_config\u001b[0m\u001b[0;34m,\u001b[0m \u001b[0mtrain_opts\u001b[0m\u001b[0;34m,\u001b[0m \u001b[0moutput_opts\u001b[0m\u001b[0;34m)\u001b[0m\u001b[0;34m\u001b[0m\u001b[0;34m\u001b[0m\u001b[0m\n\u001b[0m",
      "\u001b[0;32m~/Documents/GitHub/DeepMoD_mechanical/DeePyMoD_Internal/src/deepymod/DeepMoD.py\u001b[0m in \u001b[0;36mDeepMoD\u001b[0;34m(data, target, config, library_function, library_config, train_opts, output_opts)\u001b[0m\n\u001b[1;32m     22\u001b[0m     \u001b[0moutput_opts\u001b[0m\u001b[0;34m.\u001b[0m\u001b[0mupdate\u001b[0m\u001b[0;34m(\u001b[0m\u001b[0;34m{\u001b[0m\u001b[0;34m'cycles'\u001b[0m\u001b[0;34m:\u001b[0m \u001b[0;36m0\u001b[0m\u001b[0;34m}\u001b[0m\u001b[0;34m)\u001b[0m\u001b[0;34m\u001b[0m\u001b[0;34m\u001b[0m\u001b[0m\n\u001b[1;32m     23\u001b[0m \u001b[0;34m\u001b[0m\u001b[0m\n\u001b[0;32m---> 24\u001b[0;31m     \u001b[0mcoeff_list\u001b[0m\u001b[0;34m,\u001b[0m \u001b[0mcoeff_scaled_list\u001b[0m\u001b[0;34m,\u001b[0m \u001b[0mweights\u001b[0m\u001b[0;34m,\u001b[0m \u001b[0mbiases\u001b[0m \u001b[0;34m=\u001b[0m \u001b[0mPINN\u001b[0m\u001b[0;34m(\u001b[0m\u001b[0mdata\u001b[0m\u001b[0;34m,\u001b[0m \u001b[0mtarget\u001b[0m\u001b[0;34m,\u001b[0m \u001b[0mmask\u001b[0m\u001b[0;34m,\u001b[0m \u001b[0minternal_config\u001b[0m\u001b[0;34m,\u001b[0m \u001b[0mlibrary_function\u001b[0m\u001b[0;34m,\u001b[0m \u001b[0mlibrary_config\u001b[0m\u001b[0;34m,\u001b[0m \u001b[0mtrain_opts\u001b[0m\u001b[0;34m,\u001b[0m \u001b[0moutput_opts\u001b[0m\u001b[0;34m)\u001b[0m\u001b[0;34m\u001b[0m\u001b[0;34m\u001b[0m\u001b[0m\n\u001b[0m\u001b[1;32m     25\u001b[0m     \u001b[0msparsity_pattern_list\u001b[0m \u001b[0;34m=\u001b[0m \u001b[0;34m[\u001b[0m\u001b[0mthresholding\u001b[0m\u001b[0;34m(\u001b[0m\u001b[0mcoeff\u001b[0m\u001b[0;34m,\u001b[0m \u001b[0mmode\u001b[0m\u001b[0;34m=\u001b[0m\u001b[0;34m'auto'\u001b[0m\u001b[0;34m,\u001b[0m \u001b[0mthreshold\u001b[0m \u001b[0;34m=\u001b[0m \u001b[0;36m0.05\u001b[0m\u001b[0;34m)\u001b[0m \u001b[0;32mfor\u001b[0m \u001b[0mcoeff\u001b[0m \u001b[0;32min\u001b[0m \u001b[0mcoeff_scaled_list\u001b[0m\u001b[0;34m]\u001b[0m\u001b[0;34m\u001b[0m\u001b[0;34m\u001b[0m\u001b[0m\n\u001b[1;32m     26\u001b[0m \u001b[0;34m\u001b[0m\u001b[0m\n",
      "\u001b[0;32m~/Documents/GitHub/DeepMoD_mechanical/DeePyMoD_Internal/src/deepymod/PINN.py\u001b[0m in \u001b[0;36mPINN\u001b[0;34m(data, target, mask, config, library_function, library_config, train_opts, output_opts)\u001b[0m\n\u001b[1;32m     26\u001b[0m         \u001b[0mprint\u001b[0m\u001b[0;34m(\u001b[0m\u001b[0;34m'Epoch | Total loss | Loss gradient | MSE | PI | L1 '\u001b[0m\u001b[0;34m)\u001b[0m\u001b[0;34m\u001b[0m\u001b[0;34m\u001b[0m\u001b[0m\n\u001b[1;32m     27\u001b[0m         \u001b[0;32mfor\u001b[0m \u001b[0miteration\u001b[0m \u001b[0;32min\u001b[0m \u001b[0mnp\u001b[0m\u001b[0;34m.\u001b[0m\u001b[0marange\u001b[0m\u001b[0;34m(\u001b[0m\u001b[0mtrain_opts\u001b[0m\u001b[0;34m[\u001b[0m\u001b[0;34m'max_iterations'\u001b[0m\u001b[0;34m]\u001b[0m\u001b[0;34m)\u001b[0m\u001b[0;34m:\u001b[0m\u001b[0;34m\u001b[0m\u001b[0;34m\u001b[0m\u001b[0m\n\u001b[0;32m---> 28\u001b[0;31m             \u001b[0msess\u001b[0m\u001b[0;34m.\u001b[0m\u001b[0mrun\u001b[0m\u001b[0;34m(\u001b[0m\u001b[0mtrain_op\u001b[0m\u001b[0;34m)\u001b[0m\u001b[0;34m\u001b[0m\u001b[0;34m\u001b[0m\u001b[0m\n\u001b[0m\u001b[1;32m     29\u001b[0m             \u001b[0;32mif\u001b[0m \u001b[0miteration\u001b[0m \u001b[0;34m%\u001b[0m \u001b[0;36m50\u001b[0m \u001b[0;34m==\u001b[0m \u001b[0;36m0\u001b[0m\u001b[0;34m:\u001b[0m\u001b[0;34m\u001b[0m\u001b[0;34m\u001b[0m\u001b[0m\n\u001b[1;32m     30\u001b[0m                 \u001b[0msummary\u001b[0m \u001b[0;34m=\u001b[0m \u001b[0msess\u001b[0m\u001b[0;34m.\u001b[0m\u001b[0mrun\u001b[0m\u001b[0;34m(\u001b[0m\u001b[0mmerged_summary\u001b[0m\u001b[0;34m)\u001b[0m\u001b[0;34m\u001b[0m\u001b[0;34m\u001b[0m\u001b[0m\n",
      "\u001b[0;32m~/anaconda3/lib/python3.6/site-packages/tensorflow/python/client/session.py\u001b[0m in \u001b[0;36mrun\u001b[0;34m(self, fetches, feed_dict, options, run_metadata)\u001b[0m\n\u001b[1;32m    903\u001b[0m     \u001b[0;32mtry\u001b[0m\u001b[0;34m:\u001b[0m\u001b[0;34m\u001b[0m\u001b[0;34m\u001b[0m\u001b[0m\n\u001b[1;32m    904\u001b[0m       result = self._run(None, fetches, feed_dict, options_ptr,\n\u001b[0;32m--> 905\u001b[0;31m                          run_metadata_ptr)\n\u001b[0m\u001b[1;32m    906\u001b[0m       \u001b[0;32mif\u001b[0m \u001b[0mrun_metadata\u001b[0m\u001b[0;34m:\u001b[0m\u001b[0;34m\u001b[0m\u001b[0;34m\u001b[0m\u001b[0m\n\u001b[1;32m    907\u001b[0m         \u001b[0mproto_data\u001b[0m \u001b[0;34m=\u001b[0m \u001b[0mtf_session\u001b[0m\u001b[0;34m.\u001b[0m\u001b[0mTF_GetBuffer\u001b[0m\u001b[0;34m(\u001b[0m\u001b[0mrun_metadata_ptr\u001b[0m\u001b[0;34m)\u001b[0m\u001b[0;34m\u001b[0m\u001b[0;34m\u001b[0m\u001b[0m\n",
      "\u001b[0;32m~/anaconda3/lib/python3.6/site-packages/tensorflow/python/client/session.py\u001b[0m in \u001b[0;36m_run\u001b[0;34m(self, handle, fetches, feed_dict, options, run_metadata)\u001b[0m\n\u001b[1;32m   1135\u001b[0m     \u001b[0;32mif\u001b[0m \u001b[0mfinal_fetches\u001b[0m \u001b[0;32mor\u001b[0m \u001b[0mfinal_targets\u001b[0m \u001b[0;32mor\u001b[0m \u001b[0;34m(\u001b[0m\u001b[0mhandle\u001b[0m \u001b[0;32mand\u001b[0m \u001b[0mfeed_dict_tensor\u001b[0m\u001b[0;34m)\u001b[0m\u001b[0;34m:\u001b[0m\u001b[0;34m\u001b[0m\u001b[0;34m\u001b[0m\u001b[0m\n\u001b[1;32m   1136\u001b[0m       results = self._do_run(handle, final_targets, final_fetches,\n\u001b[0;32m-> 1137\u001b[0;31m                              feed_dict_tensor, options, run_metadata)\n\u001b[0m\u001b[1;32m   1138\u001b[0m     \u001b[0;32melse\u001b[0m\u001b[0;34m:\u001b[0m\u001b[0;34m\u001b[0m\u001b[0;34m\u001b[0m\u001b[0m\n\u001b[1;32m   1139\u001b[0m       \u001b[0mresults\u001b[0m \u001b[0;34m=\u001b[0m \u001b[0;34m[\u001b[0m\u001b[0;34m]\u001b[0m\u001b[0;34m\u001b[0m\u001b[0;34m\u001b[0m\u001b[0m\n",
      "\u001b[0;32m~/anaconda3/lib/python3.6/site-packages/tensorflow/python/client/session.py\u001b[0m in \u001b[0;36m_do_run\u001b[0;34m(self, handle, target_list, fetch_list, feed_dict, options, run_metadata)\u001b[0m\n\u001b[1;32m   1353\u001b[0m     \u001b[0;32mif\u001b[0m \u001b[0mhandle\u001b[0m \u001b[0;32mis\u001b[0m \u001b[0;32mNone\u001b[0m\u001b[0;34m:\u001b[0m\u001b[0;34m\u001b[0m\u001b[0;34m\u001b[0m\u001b[0m\n\u001b[1;32m   1354\u001b[0m       return self._do_call(_run_fn, self._session, feeds, fetches, targets,\n\u001b[0;32m-> 1355\u001b[0;31m                            options, run_metadata)\n\u001b[0m\u001b[1;32m   1356\u001b[0m     \u001b[0;32melse\u001b[0m\u001b[0;34m:\u001b[0m\u001b[0;34m\u001b[0m\u001b[0;34m\u001b[0m\u001b[0m\n\u001b[1;32m   1357\u001b[0m       \u001b[0;32mreturn\u001b[0m \u001b[0mself\u001b[0m\u001b[0;34m.\u001b[0m\u001b[0m_do_call\u001b[0m\u001b[0;34m(\u001b[0m\u001b[0m_prun_fn\u001b[0m\u001b[0;34m,\u001b[0m \u001b[0mself\u001b[0m\u001b[0;34m.\u001b[0m\u001b[0m_session\u001b[0m\u001b[0;34m,\u001b[0m \u001b[0mhandle\u001b[0m\u001b[0;34m,\u001b[0m \u001b[0mfeeds\u001b[0m\u001b[0;34m,\u001b[0m \u001b[0mfetches\u001b[0m\u001b[0;34m)\u001b[0m\u001b[0;34m\u001b[0m\u001b[0;34m\u001b[0m\u001b[0m\n",
      "\u001b[0;32m~/anaconda3/lib/python3.6/site-packages/tensorflow/python/client/session.py\u001b[0m in \u001b[0;36m_do_call\u001b[0;34m(self, fn, *args)\u001b[0m\n\u001b[1;32m   1359\u001b[0m   \u001b[0;32mdef\u001b[0m \u001b[0m_do_call\u001b[0m\u001b[0;34m(\u001b[0m\u001b[0mself\u001b[0m\u001b[0;34m,\u001b[0m \u001b[0mfn\u001b[0m\u001b[0;34m,\u001b[0m \u001b[0;34m*\u001b[0m\u001b[0margs\u001b[0m\u001b[0;34m)\u001b[0m\u001b[0;34m:\u001b[0m\u001b[0;34m\u001b[0m\u001b[0;34m\u001b[0m\u001b[0m\n\u001b[1;32m   1360\u001b[0m     \u001b[0;32mtry\u001b[0m\u001b[0;34m:\u001b[0m\u001b[0;34m\u001b[0m\u001b[0;34m\u001b[0m\u001b[0m\n\u001b[0;32m-> 1361\u001b[0;31m       \u001b[0;32mreturn\u001b[0m \u001b[0mfn\u001b[0m\u001b[0;34m(\u001b[0m\u001b[0;34m*\u001b[0m\u001b[0margs\u001b[0m\u001b[0;34m)\u001b[0m\u001b[0;34m\u001b[0m\u001b[0;34m\u001b[0m\u001b[0m\n\u001b[0m\u001b[1;32m   1362\u001b[0m     \u001b[0;32mexcept\u001b[0m \u001b[0merrors\u001b[0m\u001b[0;34m.\u001b[0m\u001b[0mOpError\u001b[0m \u001b[0;32mas\u001b[0m \u001b[0me\u001b[0m\u001b[0;34m:\u001b[0m\u001b[0;34m\u001b[0m\u001b[0;34m\u001b[0m\u001b[0m\n\u001b[1;32m   1363\u001b[0m       \u001b[0mmessage\u001b[0m \u001b[0;34m=\u001b[0m \u001b[0mcompat\u001b[0m\u001b[0;34m.\u001b[0m\u001b[0mas_text\u001b[0m\u001b[0;34m(\u001b[0m\u001b[0me\u001b[0m\u001b[0;34m.\u001b[0m\u001b[0mmessage\u001b[0m\u001b[0;34m)\u001b[0m\u001b[0;34m\u001b[0m\u001b[0;34m\u001b[0m\u001b[0m\n",
      "\u001b[0;32m~/anaconda3/lib/python3.6/site-packages/tensorflow/python/client/session.py\u001b[0m in \u001b[0;36m_run_fn\u001b[0;34m(session, feed_dict, fetch_list, target_list, options, run_metadata)\u001b[0m\n\u001b[1;32m   1338\u001b[0m         \u001b[0;32melse\u001b[0m\u001b[0;34m:\u001b[0m\u001b[0;34m\u001b[0m\u001b[0;34m\u001b[0m\u001b[0m\n\u001b[1;32m   1339\u001b[0m           return tf_session.TF_Run(session, options, feed_dict, fetch_list,\n\u001b[0;32m-> 1340\u001b[0;31m                                    target_list, status, run_metadata)\n\u001b[0m\u001b[1;32m   1341\u001b[0m \u001b[0;34m\u001b[0m\u001b[0m\n\u001b[1;32m   1342\u001b[0m     \u001b[0;32mdef\u001b[0m \u001b[0m_prun_fn\u001b[0m\u001b[0;34m(\u001b[0m\u001b[0msession\u001b[0m\u001b[0;34m,\u001b[0m \u001b[0mhandle\u001b[0m\u001b[0;34m,\u001b[0m \u001b[0mfeed_dict\u001b[0m\u001b[0;34m,\u001b[0m \u001b[0mfetch_list\u001b[0m\u001b[0;34m)\u001b[0m\u001b[0;34m:\u001b[0m\u001b[0;34m\u001b[0m\u001b[0;34m\u001b[0m\u001b[0m\n",
      "\u001b[0;31mKeyboardInterrupt\u001b[0m: "
     ]
    }
   ],
   "source": [
    "sparse_vectors, denoised = DeepMoD(X_train, y_train, config, library_1D, library_config, train_opts, output_opts)"
   ]
  },
  {
   "cell_type": "markdown",
   "metadata": {},
   "source": [
    "Show final result:"
   ]
  },
  {
   "cell_type": "code",
   "execution_count": 56,
   "metadata": {},
   "outputs": [
    {
     "name": "stdout",
     "output_type": "stream",
     "text": [
      "Inferred equation:\n",
      "u_t = 4.401u_{xx} + 1.222uu_{xx}\n"
     ]
    }
   ],
   "source": [
    "\n",
    "\n",
    "print('Inferred equation:')\n",
    "print_PDE(sparse_vectors[0], coeffs_list, PDE_term='u_t')"
   ]
  },
  {
   "cell_type": "markdown",
   "metadata": {},
   "source": [
    "Plot the 'Ground truth', 'Noisy' and 'Reconstructed/Denoised' solution"
   ]
  },
  {
   "cell_type": "code",
   "execution_count": 22,
   "metadata": {},
   "outputs": [],
   "source": [
    "X_predict = X[(X[:,0]==5.0) | (X[:,0]==9.0) | (X[:,0]==7.0), :]"
   ]
  },
  {
   "cell_type": "code",
   "execution_count": 23,
   "metadata": {},
   "outputs": [],
   "source": [
    "data_dict = {'x_grid': X[:,1],'y_grid': X[:,2], 't_grid': X[:,0], 'ground_truth': np.squeeze(y), 'noisy': np.squeeze(y_noisy)}\n",
    "df = pd.DataFrame(data_dict)\n",
    "for key in df:\n",
    "    df[key] = np.squeeze(df[key])\n",
    "data = pd.DataFrame(df)"
   ]
  },
  {
   "cell_type": "code",
   "execution_count": 24,
   "metadata": {},
   "outputs": [],
   "source": [
    "data_dict_denoised = {'x_grid': X[:,1],'y_grid': X[:,2], 't_grid': X[:,0], 'denoised': np.squeeze(denoised)}\n",
    "df_dn = pd.DataFrame(data_dict_denoised)\n",
    "for key in df_dn:\n",
    "    df_dn[key] = np.squeeze(df_dn[key])\n",
    "data_denoised = pd.DataFrame(df_dn)"
   ]
  },
  {
   "cell_type": "code",
   "execution_count": 31,
   "metadata": {},
   "outputs": [
    {
     "data": {
      "image/png": "[encoded data removed]",
      "text/plain": [
       "<Figure size 1080x288 with 4 Axes>"
      ]
     },
     "metadata": {
      "needs_background": "light"
     },
     "output_type": "display_data"
    }
   ],
   "source": [
    "time1 = 7.0\n",
    "\n",
    "vmin = np.min(data[data['t_grid'] == time1]['ground_truth'])\n",
    "vmax = np.max(data[data['t_grid'] == time1]['ground_truth'])\n",
    "\n",
    "fig, axes = plt.subplots(ncols=3, figsize=(15, 4))\n",
    "\n",
    "im1 = axes[0].contourf(pd.pivot_table(data[data['t_grid'] == time1],index='y_grid', columns='x_grid', values='ground_truth'), cmap='coolwarm',vmin=vmin, vmax=vmax)\n",
    "axes[0].set_xlabel('x')\n",
    "axes[0].set_ylabel('y')\n",
    "axes[0].set_title('Ground truth')\n",
    "\n",
    "im2 = axes[1].contourf(pd.pivot_table(data[data['t_grid'] == time1],index='y_grid', columns='x_grid', values='noisy'), cmap='coolwarm', vmin=vmin, vmax=vmax)\n",
    "axes[1].set_xlabel('x')\n",
    "axes[1].set_title('Noisy')\n",
    "\n",
    "im3 = axes[2].contourf(pd.pivot_table(data_denoised[data_denoised['t_grid'] == time1],index='y_grid', columns='x_grid', values='denoised'), cmap='coolwarm', vmin=vmin, vmax=vmax)\n",
    "axes[2].set_xlabel('x')\n",
    "axes[2].set_title('Sampled')\n",
    "\n",
    "fig.colorbar(im1, ax=axes.ravel().tolist())\n",
    "\n",
    "plt.show()"
   ]
  },
  {
   "cell_type": "code",
   "execution_count": null,
   "metadata": {},
   "outputs": [],
   "source": []
  }
 ],
 "metadata": {
  "kernelspec": {
   "display_name": "Python 3",
   "language": "python",
   "name": "python3"
  },
  "language_info": {
   "codemirror_mode": {
    "name": "ipython",
    "version": 3
   },
   "file_extension": ".py",
   "mimetype": "text/x-python",
   "name": "python",
   "nbconvert_exporter": "python",
   "pygments_lexer": "ipython3",
   "version": "3.6.8"
  }
 },
 "nbformat": 4,
 "nbformat_minor": 2
}
