{
 "cells": [
  {
   "cell_type": "code",
   "execution_count": 6,
   "metadata": {},
   "outputs": [],
   "source": [
    "import numpy as np\n",
    "\n",
    "from deepymod.DeepMoD import DeepMoD\n",
    "from deepymod.library_functions import library_1D\n",
    "from deepymod.utilities import library_matrix_mat, print_PDE\n",
    "\n",
    "import matplotlib.pyplot as plt\n",
    "plt.style.use('seaborn-notebook')\n",
    "\n",
    "np.random.seed(42)  # setting seed for randomisation"
   ]
  },
  {
   "cell_type": "code",
   "execution_count": 7,
   "metadata": {},
   "outputs": [],
   "source": [
    "noise_level = 0.05\n",
    "number_of_samples = 1000\n",
    "layers = [2, 20, 20, 20, 20, 20, 1]\n",
    "l1 = 10**-6"
   ]
  },
  {
   "cell_type": "code",
   "execution_count": 8,
   "metadata": {},
   "outputs": [],
   "source": [
    "# %%Importing and preparing data\n",
    "data = np.load('data/burgers.npy').item()\n",
    "\n",
    "X = np.transpose((data['x'].flatten(), data['t'].flatten()))\n",
    "y = np.real(data['u']).reshape((data['u'].size, 1))\n",
    "y_noisy = y + noise_level * np.std(y) * np.random.randn(y.size, 1)\n",
    "\n",
    "idx = np.random.permutation(y.size)\n",
    "X_train = X[idx, :][:number_of_samples]\n",
    "y_train = y[idx, :][:number_of_samples]"
   ]
  },
  {
   "cell_type": "code",
   "execution_count": 9,
   "metadata": {},
   "outputs": [],
   "source": [
    "config = {'layers': layers, 'lambda': l1}\n",
    "library_config = {'total_terms': 12, 'deriv_order': 3, 'poly_order': 2}\n",
    "train_opts = {'max_iterations': 10000, 'grad_tol':10**-7, 'learning_rate': 0.002, 'beta1': 0.99, 'beta2': 0.999, 'epsilon': 10**-8}\n",
    "output_opts = {'output_directory': 'burgers_output/', 'X_predict': X}"
   ]
  },
  {
   "cell_type": "code",
   "execution_count": 10,
   "metadata": {},
   "outputs": [
    {
     "name": "stderr",
     "output_type": "stream",
     "text": [
      "WARNING: Logging before flag parsing goes to stderr.\n",
      "W0405 12:01:16.570682 4383253952 deprecation.py:323] From /Users/gert-janboth/Documents/PhD/Software/DeePyMoD/src/deepymod/graphs.py:22: DatasetV1.make_initializable_iterator (from tensorflow.python.data.ops.dataset_ops) is deprecated and will be removed in a future version.\n",
      "Instructions for updating:\n",
      "Use `for ... in dataset:` to iterate over a dataset. If using `tf.estimator`, return the `Dataset` object directly from your input function. As a last resort, you can use `tf.compat.v1.data.make_initializable_iterator(dataset)`.\n",
      "W0405 12:01:16.579741 4383253952 deprecation.py:323] From /Users/gert-janboth/Documents/PhD/Software/DeePyMoD/src/deepymod/graphs.py:29: dense (from tensorflow.python.layers.core) is deprecated and will be removed in a future version.\n",
      "Instructions for updating:\n",
      "Use keras.layers.dense instead.\n",
      "W0405 12:01:18.539993 4383253952 deprecation.py:506] From /anaconda3/envs/tensorflow/lib/python3.7/site-packages/tensorflow/python/training/slot_creator.py:187: calling Zeros.__init__ (from tensorflow.python.ops.init_ops) with dtype is deprecated and will be removed in a future version.\n",
      "Instructions for updating:\n",
      "Call initializer instance with the dtype argument instead of passing it to the constructor\n"
     ]
    },
    {
     "name": "stdout",
     "output_type": "stream",
     "text": [
      "Epoch | Total loss | Loss gradient | MSE | PI | L1 \n",
      "0 [0.20951772, 0.00689468, 0.04203936, 0.16747703, 1.3283852e-06]\n",
      "500 [0.0023471161, 0.0007668776, 0.0013462023, 0.0009888678, 1.2045854e-05]\n",
      "1000 [0.00077232387, 0.00014665404, 0.00039132376, 0.00037083827, 1.0161846e-05]\n",
      "1500 [0.00037347092, 8.112131e-05, 0.00015941051, 0.00020560312, 8.457281e-06]\n",
      "2000 [0.00019763783, 8.8902154e-05, 7.380601e-05, 0.00011727144, 6.560381e-06]\n",
      "2500 [0.00012609403, 7.362064e-05, 4.3673597e-05, 7.7159246e-05, 5.261194e-06]\n",
      "3000 [7.954376e-05, 5.4599554e-05, 2.6628355e-05, 4.784828e-05, 5.067121e-06]\n",
      "3500 [5.2657877e-05, 3.6878617e-05, 1.9486133e-05, 2.8386456e-05, 4.785289e-06]\n",
      "4000 [3.5811947e-05, 2.9663634e-05, 1.3952622e-05, 1.7449696e-05, 4.4096264e-06]\n",
      "4500 [2.3359451e-05, 2.3950146e-05, 8.844946e-06, 1.0605192e-05, 3.9093147e-06]\n",
      "5000 [1.4849805e-05, 1.8475115e-05, 5.3093263e-06, 6.2059094e-06, 3.3345684e-06]\n",
      "5500 [9.510925e-06, 1.4998694e-05, 2.9867483e-06, 3.6885185e-06, 2.8356585e-06]\n",
      "6000 [5.9578288e-06, 1.0060183e-05, 1.4940799e-06, 2.0275763e-06, 2.4361727e-06]\n",
      "6500 [3.9071338e-06, 6.1484097e-06, 7.320172e-07, 1.0833177e-06, 2.091799e-06]\n",
      "7000 [2.829178e-06, 3.7189875e-06, 3.749342e-07, 6.32514e-07, 1.8217297e-06]\n",
      "7500 [2.3759362e-06, 3.0820418e-06, 2.9740914e-07, 4.470431e-07, 1.6314841e-06]\n",
      "8000 [2.1230455e-06, 2.783609e-06, 2.3075775e-07, 3.6462657e-07, 1.5276612e-06]\n",
      "8500 [2.0063894e-06, 5.1491747e-06, 2.1414799e-07, 3.0374522e-07, 1.4884962e-06]\n",
      "9000 [1.8408437e-06, 4.7603376e-06, 1.2361022e-07, 2.548853e-07, 1.4623481e-06]\n",
      "9500 [1.8143974e-06, 3.850945e-06, 1.4617548e-07, 2.1385345e-07, 1.4543684e-06]\n",
      "Current sparse vectors:\n",
      "[array([[ 0.        ],\n",
      "       [ 0.        ],\n",
      "       [ 0.09947792],\n",
      "       [ 0.        ],\n",
      "       [ 0.        ],\n",
      "       [-0.99364477],\n",
      "       [ 0.        ],\n",
      "       [ 0.        ],\n",
      "       [ 0.        ],\n",
      "       [ 0.        ],\n",
      "       [ 0.        ],\n",
      "       [ 0.        ]])]\n",
      "Epoch | Total loss | Loss gradient | MSE | PI | L1 \n",
      "0 [0.016091553, 0.000903815, 0.015784997, 0.00030548626, 1.0689376e-06]\n",
      "500 [3.3869903e-05, 7.737562e-05, 2.888427e-05, 3.949787e-06, 1.0358452e-06]\n",
      "1000 [2.758148e-06, 3.4139207e-06, 5.886654e-07, 1.1243393e-06, 1.0451433e-06]\n",
      "1500 [2.1808091e-06, 6.2686786e-07, 3.5088397e-07, 7.8488665e-07, 1.0450384e-06]\n",
      "2000 [1.869957e-06, 6.625042e-08, 2.3511227e-07, 5.896875e-07, 1.0451573e-06]\n",
      "Optimizer converged.\n",
      "Current sparse vectors:\n",
      "[array([[ 0.        ],\n",
      "       [ 0.        ],\n",
      "       [ 0.0994046 ],\n",
      "       [ 0.        ],\n",
      "       [ 0.        ],\n",
      "       [-0.99576896],\n",
      "       [ 0.        ],\n",
      "       [ 0.        ],\n",
      "       [ 0.        ],\n",
      "       [ 0.        ],\n",
      "       [ 0.        ],\n",
      "       [ 0.        ]])]\n",
      "Now running for the final time...\n",
      "Epoch | Total loss | Loss gradient | MSE | PI | L1 \n",
      "0 [0.00077059615, 0.00062128133, 0.00074084674, 2.9749388e-05, 0.0]\n",
      "500 [3.965306e-06, 2.4128607e-05, 2.6257133e-06, 1.3395928e-06, 0.0]\n",
      "1000 [1.0741835e-06, 5.3337712e-06, 3.2112933e-07, 7.5305417e-07, 0.0]\n",
      "1500 [6.552956e-07, 2.651384e-07, 1.7296759e-07, 4.82328e-07, 0.0]\n",
      "2000 [5.0097196e-07, 3.3095866e-08, 1.3845568e-07, 3.6251632e-07, 0.0]\n",
      "Optimizer converged.\n"
     ]
    },
    {
     "name": "stderr",
     "output_type": "stream",
     "text": [
      "W0405 12:03:44.251443 4383253952 deprecation.py:323] From /Users/gert-janboth/Documents/PhD/Software/DeePyMoD/src/deepymod/graphs.py:69: DatasetV1.make_one_shot_iterator (from tensorflow.python.data.ops.dataset_ops) is deprecated and will be removed in a future version.\n",
      "Instructions for updating:\n",
      "Use `for ... in dataset:` to iterate over a dataset. If using `tf.estimator`, return the `Dataset` object directly from your input function. As a last resort, you can use `tf.compat.v1.data.make_one_shot_iterator(dataset)`.\n"
     ]
    }
   ],
   "source": [
    "sparse_vectors, denoised = DeepMoD(X_train, y_train, config, library_1D, library_config, train_opts, output_opts)"
   ]
  },
  {
   "cell_type": "code",
   "execution_count": 11,
   "metadata": {},
   "outputs": [
    {
     "name": "stdout",
     "output_type": "stream",
     "text": [
      "Inferred equation:\n",
      "u_t = 0.100u_{xx} - 0.997uu_{x}\n"
     ]
    },
    {
     "data": {
      "text/plain": [
       "[None]"
      ]
     },
     "execution_count": 11,
     "metadata": {},
     "output_type": "execute_result"
    }
   ],
   "source": [
    "u = ['1', 'u', 'uˆ2']\n",
    "du = ['1', 'u_{x}', 'u_{xx}', 'u_{xxx}']\n",
    "coeffs_list = library_matrix_mat(u, du)\n",
    "\n",
    "print('Inferred equation:')\n",
    "(print_PDE(coeff, coeffs_list, PDE_term='u_t') for coeff in sparse_vectors)"
   ]
  },
  {
   "cell_type": "code",
   "execution_count": null,
   "metadata": {},
   "outputs": [],
   "source": []
  }
 ],
 "metadata": {
  "kernelspec": {
   "display_name": "Python 3",
   "language": "python",
   "name": "python3"
  },
  "language_info": {
   "codemirror_mode": {
    "name": "ipython",
    "version": 3
   },
   "file_extension": ".py",
   "mimetype": "text/x-python",
   "name": "python",
   "nbconvert_exporter": "python",
   "pygments_lexer": "ipython3",
   "version": "3.7.2"
  }
 },
 "nbformat": 4,
 "nbformat_minor": 2
}
