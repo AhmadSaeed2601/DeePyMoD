{
 "cells": [
  {
   "cell_type": "markdown",
   "metadata": {},
   "source": [
    "# Burgers' equation"
   ]
  },
  {
   "cell_type": "markdown",
   "metadata": {},
   "source": [
    "in this notebook we provide a simple example of the DeepMoD algorithm and apply it on the Burgers' equation. "
   ]
  },
  {
   "cell_type": "code",
   "execution_count": 1,
   "metadata": {},
   "outputs": [],
   "source": [
    "import numpy as np\n",
    "import pandas as pd \n",
    "\n",
    "from deepymod.DeepMoD import DeepMoD\n",
    "from deepymod.library_functions import library_1D\n",
    "from deepymod.utilities import library_matrix_mat, print_PDE\n",
    "\n",
    "import matplotlib.pyplot as plt\n",
    "plt.style.use('seaborn-notebook')\n",
    "\n",
    "np.random.seed(42)  # setting seed for randomisation"
   ]
  },
  {
   "cell_type": "markdown",
   "metadata": {},
   "source": [
    "## Prepare the data"
   ]
  },
  {
   "cell_type": "markdown",
   "metadata": {},
   "source": [
    "Set the noise level, number of samples"
   ]
  },
  {
   "cell_type": "code",
   "execution_count": 2,
   "metadata": {},
   "outputs": [],
   "source": [
    "noise_level = 0.05\n",
    "number_of_samples = 1000"
   ]
  },
  {
   "cell_type": "markdown",
   "metadata": {},
   "source": [
    "We import the ground truth data and add white noise to the solution. Next, we randomely select a pre-set number of samples.   "
   ]
  },
  {
   "cell_type": "code",
   "execution_count": 3,
   "metadata": {},
   "outputs": [],
   "source": [
    "# %%Importing and preparing data\n",
    "data = np.load('data/burgers.npy').item()\n",
    "\n",
    "X = np.transpose((data['x'].flatten(), data['t'].flatten()))\n",
    "y = np.real(data['u']).reshape((data['u'].size, 1))\n",
    "y_noisy = y + noise_level * np.std(y) * np.random.randn(y.size, 1)\n",
    "\n",
    "idx = np.random.permutation(y.size)\n",
    "X_train = X[idx, :][:number_of_samples]\n",
    "y_train = y[idx, :][:number_of_samples]"
   ]
  },
  {
   "cell_type": "markdown",
   "metadata": {},
   "source": [
    "## Configure the neural network"
   ]
  },
  {
   "cell_type": "markdown",
   "metadata": {},
   "source": [
    "Configure the neural network:\n",
    "- Define the architecture and set the strength of the $L_1$ term (Note that the number of input-layers (2) have to correspond to the amount of input dimensions of the problem (x,t) while the output layer has to equal the output dimension (u).\n",
    "- Set the training options of the neural network\n",
    "- Select the output directory for the TensorBoard files"
   ]
  },
  {
   "cell_type": "code",
   "execution_count": 4,
   "metadata": {},
   "outputs": [],
   "source": [
    "config = {'layers': [2, 20, 20, 20, 20, 20, 1], 'lambda': 10**-6}\n",
    "train_opts = {'max_iterations': 10000, 'grad_tol':10**-7, 'learning_rate': 0.002, 'beta1': 0.99, 'beta2': 0.999, 'epsilon': 10**-8}\n",
    "output_opts = {'output_directory': 'output/burgers/', 'X_predict': X}"
   ]
  },
  {
   "cell_type": "markdown",
   "metadata": {},
   "source": [
    "Configure DeepMoD and the library function: Set the number of terms in the library function (select max. order of derivative and polynomial). "
   ]
  },
  {
   "cell_type": "code",
   "execution_count": null,
   "metadata": {},
   "outputs": [],
   "source": [
    "library_config = {'total_terms': 12, 'deriv_order': 3, 'poly_order': 2}"
   ]
  },
  {
   "cell_type": "markdown",
   "metadata": {},
   "source": [
    "## Run DeepMoD "
   ]
  },
  {
   "cell_type": "markdown",
   "metadata": {},
   "source": [
    "Running DeepMoD using the 1D library:"
   ]
  },
  {
   "cell_type": "code",
   "execution_count": 5,
   "metadata": {},
   "outputs": [
    {
     "name": "stdout",
     "output_type": "stream",
     "text": [
      "Epoch | Total loss | Loss gradient | MSE | PI | L1 \n",
      "0 [0.20951772, 0.00689468, 0.04203936, 0.16747703, 1.3283853e-06]\n",
      "500 [0.0023471161, 0.0007668775, 0.0013462016, 0.0009888685, 1.2045856e-05]\n",
      "1000 [0.000772324, 0.00014665409, 0.00039132382, 0.0003708383, 1.0161845e-05]\n",
      "1500 [0.00037347083, 8.1122496e-05, 0.00015941059, 0.00020560298, 8.457281e-06]\n",
      "2000 [0.00019763787, 8.890311e-05, 7.3805946e-05, 0.00011727154, 6.560381e-06]\n",
      "2500 [0.00012609406, 7.3619034e-05, 4.3673655e-05, 7.71592e-05, 5.2611954e-06]\n",
      "3000 [7.954381e-05, 5.459908e-05, 2.662867e-05, 4.7848014e-05, 5.0671224e-06]\n",
      "3500 [5.2691143e-05, 3.6825186e-05, 1.9556384e-05, 2.834957e-05, 4.785189e-06]\n",
      "4000 [3.580764e-05, 2.9628836e-05, 1.3951982e-05, 1.7445815e-05, 4.409845e-06]\n",
      "4500 [2.3429851e-05, 2.5425936e-05, 8.830467e-06, 1.0689452e-05, 3.9099327e-06]\n",
      "5000 [1.4749257e-05, 1.87457e-05, 5.1957536e-06, 6.218108e-06, 3.3353954e-06]\n",
      "5500 [9.386076e-06, 1.4982693e-05, 2.8813338e-06, 3.668321e-06, 2.8364213e-06]\n",
      "6000 [6.0249245e-06, 1.050042e-05, 1.5847098e-06, 2.0031812e-06, 2.4370333e-06]\n",
      "6500 [4.0301693e-06, 7.2792304e-06, 8.67523e-07, 1.069978e-06, 2.0926682e-06]\n",
      "7000 [2.934899e-06, 4.7500985e-06, 4.855898e-07, 6.2689253e-07, 1.8224166e-06]\n",
      "7500 [2.5216239e-06, 4.0868717e-06, 4.4066135e-07, 4.4878422e-07, 1.6321783e-06]\n",
      "8000 [2.047364e-06, 1.1490017e-06, 1.5428611e-07, 3.6497732e-07, 1.5281005e-06]\n",
      "8500 [2.1341825e-06, 6.002481e-06, 3.403588e-07, 3.0456295e-07, 1.4892606e-06]\n",
      "9000 [1.9138542e-06, 3.9463866e-06, 1.9519217e-07, 2.563015e-07, 1.4623606e-06]\n",
      "9500 [1.8905508e-06, 5.004499e-06, 2.2295086e-07, 2.13856e-07, 1.453744e-06]\n",
      "Current sparse vectors:\n",
      "[array([[ 0.        ],\n",
      "       [ 0.        ],\n",
      "       [ 0.09943806],\n",
      "       [ 0.        ],\n",
      "       [ 0.        ],\n",
      "       [-0.99360603],\n",
      "       [ 0.        ],\n",
      "       [ 0.        ],\n",
      "       [ 0.        ],\n",
      "       [ 0.        ],\n",
      "       [ 0.        ],\n",
      "       [ 0.        ]])]\n",
      "Now running for the final time...\n",
      "Epoch | Total loss | Loss gradient | MSE | PI | L1 \n",
      "0 [0.016413532, 0.0007066792, 0.016207326, 0.0002062051, 0.0]\n",
      "500 [2.5073034e-05, 5.3536838e-05, 2.0102298e-05, 4.970735e-06, 0.0]\n",
      "1000 [2.5009751e-06, 7.9103365e-06, 8.105029e-07, 1.6904722e-06, 0.0]\n",
      "1500 [1.4460007e-06, 2.4143566e-07, 3.7042278e-07, 1.075578e-06, 0.0]\n",
      "2000 [9.979964e-07, 3.0508737e-08, 2.426414e-07, 7.55355e-07, 0.0]\n",
      "Optimizer converged.\n"
     ]
    }
   ],
   "source": [
    "sparse_vectors, denoised = DeepMoD(X_train, y_train, config, library_1D, library_config, train_opts, output_opts)"
   ]
  },
  {
   "cell_type": "markdown",
   "metadata": {},
   "source": [
    "## Analyse and plot the results  "
   ]
  },
  {
   "cell_type": "markdown",
   "metadata": {},
   "source": [
    "Show final result:"
   ]
  },
  {
   "cell_type": "code",
   "execution_count": 7,
   "metadata": {},
   "outputs": [
    {
     "name": "stdout",
     "output_type": "stream",
     "text": [
      "Inferred equation:\n",
      "u_t = 0.099u_{xx} - 0.996uu_{x}\n"
     ]
    }
   ],
   "source": [
    "u = ['1', 'u', 'uˆ2']\n",
    "du = ['1', 'u_{x}', 'u_{xx}', 'u_{xxx}']\n",
    "coeffs_list = library_matrix_mat(u, du)\n",
    "\n",
    "print('Inferred equation:')\n",
    "print_PDE(sparse_vectors[0], coeffs_list, PDE_term='u_t')"
   ]
  },
  {
   "cell_type": "markdown",
   "metadata": {},
   "source": [
    "Plot the 'Ground truth', 'Noisy' and 'Reconstructed/Denoised' solution"
   ]
  },
  {
   "cell_type": "code",
   "execution_count": 8,
   "metadata": {},
   "outputs": [],
   "source": [
    "data= {'x_grid': X[:, 0], 't_grid': X[:, 1], 'ground truth': y, 'noisy': y_noisy, 'inferred': denoised}\n",
    "for key in data:\n",
    "    data[key] = np.squeeze(data[key])\n",
    "data = pd.DataFrame(data)\n",
    "train_idx = np.random.permutation(data['t_grid'].size)[:number_of_samples]\n",
    "data['train set'] = [data['noisy'][index] if index in train_idx else None for index in np.arange(data['t_grid'].size)]"
   ]
  },
  {
   "cell_type": "code",
   "execution_count": 9,
   "metadata": {},
   "outputs": [
    {
     "data": {
      "text/plain": [
       "<matplotlib.colorbar.Colorbar at 0xb250de4a8>"
      ]
     },
     "execution_count": 9,
     "metadata": {},
     "output_type": "execute_result"
    },
    {
     "data": {
      "image/png": "[encoded data removed]",
      "text/plain": [
       "<Figure size 1080x360 with 4 Axes>"
      ]
     },
     "metadata": {
      "needs_background": "light"
     },
     "output_type": "display_data"
    }
   ],
   "source": [
    "vmin = data['ground truth'].min()\n",
    "vmax =data['ground truth'].max()\n",
    "\n",
    "fig, [ax1, ax2, ax3] = plt.subplots(ncols=3, nrows=1, figsize= (15, 5))\n",
    "np.count_nonzero(~np.isnan(data['train set']))\n",
    "\n",
    "im1 = ax1.contourf(data.pivot(index='t_grid', columns='x_grid', values='ground truth'), cmap='coolwarm',vmin=vmin, vmax=vmax)\n",
    "ax1.set_xticks([])\n",
    "ax1.set_yticks([])\n",
    "ax1.set_xlabel('x')\n",
    "ax1.set_ylabel('t')\n",
    "ax1.set_title('Ground truth')\n",
    "\n",
    "im2 = ax2.contourf(data.pivot(index='t_grid', columns='x_grid', values='noisy'), cmap='coolwarm', vmin=vmin, vmax=vmax)\n",
    "ax2.set_xticks([])\n",
    "ax2.set_yticks([])\n",
    "ax2.set_xlabel('x')\n",
    "ax2.set_title('Noisy')\n",
    "\n",
    "im3 = ax3.contourf(data.pivot(index='t_grid', columns='x_grid', values='inferred'), cmap='coolwarm', vmin=vmin, vmax=vmax)\n",
    "ax3.set_xticks([])\n",
    "ax3.set_yticks([])\n",
    "ax3.set_xlabel('x')\n",
    "ax3.set_title('Reconstructed')\n",
    "plt.colorbar(im3)"
   ]
  },
  {
   "cell_type": "code",
   "execution_count": null,
   "metadata": {},
   "outputs": [],
   "source": []
  }
 ],
 "metadata": {
  "kernelspec": {
   "display_name": "Python 3",
   "language": "python",
   "name": "python3"
  },
  "language_info": {
   "codemirror_mode": {
    "name": "ipython",
    "version": 3
   },
   "file_extension": ".py",
   "mimetype": "text/x-python",
   "name": "python",
   "nbconvert_exporter": "python",
   "pygments_lexer": "ipython3",
   "version": "3.6.8"
  }
 },
 "nbformat": 4,
 "nbformat_minor": 2
}
