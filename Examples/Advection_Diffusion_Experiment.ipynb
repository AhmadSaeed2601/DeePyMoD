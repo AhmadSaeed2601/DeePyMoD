{
 "cells": [
  {
   "cell_type": "markdown",
   "metadata": {},
   "source": [
    "# 2D Advection-Diffusion equation"
   ]
  },
  {
   "cell_type": "markdown",
   "metadata": {},
   "source": [
    "in this notebook we provide a simple example of the DeepMoD algorithm and apply it on the 2D advection-diffusion equation. "
   ]
  },
  {
   "cell_type": "code",
   "execution_count": 44,
   "metadata": {},
   "outputs": [],
   "source": [
    "import sys\n",
    "import numpy as np\n",
    "import pandas as pd \n",
    "\n",
    "sys.path.append('../src/deepymod/')\n",
    "\n",
    "from scipy.io import loadmat\n",
    "from DeepMoD import DeepMoD\n",
    "from library_functions import library_2Din_1Dout\n",
    "from deepymod.utilities import library_matrix_mat, print_PDE\n",
    "\n",
    "import matplotlib.pyplot as plt\n",
    "plt.style.use('seaborn-notebook')\n",
    "\n",
    "np.random.seed(40)  # setting seed for randomisation"
   ]
  },
  {
   "cell_type": "markdown",
   "metadata": {},
   "source": [
    "## Prepare the data"
   ]
  },
  {
   "cell_type": "markdown",
   "metadata": {},
   "source": [
    "Next, we prepare the dataset."
   ]
  },
  {
   "cell_type": "code",
   "execution_count": 103,
   "metadata": {},
   "outputs": [],
   "source": [
    "u_v = np.load('data/Diffusion29July/diffusion_advection_29longb.npy')\n",
    "u_v = np.moveaxis(u_v,0,-1)/10.0\n",
    "data = loadmat('data/Diffusion29July/Diffusion_advection_29long.mat')\n",
    "usol = np.real(data['Expression1'])\n",
    "usol= usol.reshape((150,300,43,3)) \n",
    "x_v= usol[:,:,:,0]\n",
    "y_v = usol[:,:,:,1]\n",
    "t_v = usol[:,:,:,2]"
   ]
  },
  {
   "cell_type": "code",
   "execution_count": 104,
   "metadata": {},
   "outputs": [
    {
     "data": {
      "text/plain": [
       "(150, 300, 43)"
      ]
     },
     "execution_count": 104,
     "metadata": {},
     "output_type": "execute_result"
    }
   ],
   "source": [
    "x_v.shape"
   ]
  },
  {
   "cell_type": "code",
   "execution_count": 105,
   "metadata": {},
   "outputs": [],
   "source": [
    "x_v = x_v[:,:250,5:]\n",
    "y_v = y_v[:,:250,5:]\n",
    "t_v = t_v[:,:250,5:]\n",
    "u_v = u_v[:,:250,5:]"
   ]
  },
  {
   "cell_type": "markdown",
   "metadata": {},
   "source": [
    "Next we plot the dataset for three different time-points"
   ]
  },
  {
   "cell_type": "code",
   "execution_count": 106,
   "metadata": {},
   "outputs": [
    {
     "data": {
      "image/png": "[encoded data removed]",
      "text/plain": [
       "<Figure size 1080x288 with 4 Axes>"
      ]
     },
     "metadata": {
      "needs_background": "light"
     },
     "output_type": "display_data"
    }
   ],
   "source": [
    "fig, axes = plt.subplots(ncols=3, figsize=(15, 4))\n",
    "\n",
    "im0 = axes[0].contourf(x_v[:,:,1], y_v[:,:,1], u_v[:,:,0], cmap='coolwarm')\n",
    "axes[0].set_xlabel('x')\n",
    "axes[0].set_ylabel('y')\n",
    "axes[0].set_title('t = 0')\n",
    "\n",
    "im1 = axes[1].contourf(x_v[:,:,1], y_v[:,:,1], u_v[:,:,15], cmap='coolwarm')\n",
    "axes[1].set_xlabel('x')\n",
    "axes[1].set_title('t = 10')\n",
    "\n",
    "im2 = axes[2].contourf(x_v[:,:,1], y_v[:,:,1], u_v[:,:,34], cmap='coolwarm')\n",
    "axes[2].set_xlabel('x')\n",
    "axes[2].set_title('t= 20')\n",
    "\n",
    "fig.colorbar(im1, ax=axes.ravel().tolist())\n",
    "\n",
    "plt.show()"
   ]
  },
  {
   "cell_type": "markdown",
   "metadata": {},
   "source": [
    "We flatten it to give it the right dimensions for feeding it to the network:"
   ]
  },
  {
   "cell_type": "code",
   "execution_count": 107,
   "metadata": {},
   "outputs": [],
   "source": [
    "X = np.transpose((t_v.flatten(),x_v.flatten(), y_v.flatten()))\n",
    "y = u_v.reshape((u_v.size, 1))"
   ]
  },
  {
   "cell_type": "markdown",
   "metadata": {},
   "source": [
    "We select the noise level we add to the data-set"
   ]
  },
  {
   "cell_type": "code",
   "execution_count": 108,
   "metadata": {},
   "outputs": [],
   "source": [
    "noise_level = 0."
   ]
  },
  {
   "cell_type": "code",
   "execution_count": 109,
   "metadata": {},
   "outputs": [],
   "source": [
    "y_noisy = y + noise_level * np.std(y) * np.random.randn(y.size, 1)"
   ]
  },
  {
   "cell_type": "markdown",
   "metadata": {},
   "source": [
    "Select the number of samples:"
   ]
  },
  {
   "cell_type": "code",
   "execution_count": 120,
   "metadata": {},
   "outputs": [],
   "source": [
    "number_of_samples = 5000"
   ]
  },
  {
   "cell_type": "code",
   "execution_count": 121,
   "metadata": {},
   "outputs": [],
   "source": [
    "idx = np.random.permutation(y.size)\n",
    "X_train = X[idx, :][:number_of_samples]\n",
    "y_train = y_noisy[idx, :][:number_of_samples]"
   ]
  },
  {
   "cell_type": "markdown",
   "metadata": {},
   "source": [
    "## Configure the neural network"
   ]
  },
  {
   "cell_type": "markdown",
   "metadata": {},
   "source": [
    "Next we define the architecture and strength of the $L_1$ penalty for the neural network.\n",
    "Note that in this example have three input channels in this example: {x,y,t}"
   ]
  },
  {
   "cell_type": "code",
   "execution_count": 122,
   "metadata": {},
   "outputs": [],
   "source": [
    "config = {'layers': [3, 20, 20, 20, 20, 1], 'lambda': 10**-5}"
   ]
  },
  {
   "cell_type": "markdown",
   "metadata": {},
   "source": [
    "DeepMoD accepts any arbitrary library function and any options for it can be given through *the library_config*. The library function for this example accepts a maximum order for the polynomial and derivative terms. DeepMoD also needs to know the total number of terms upfront. We can calculate that by making a list of the polynomial and derivative terms and getting all the terms by feeding them into the library_matrix_mat function. Its output will be used later to print the found PDE."
   ]
  },
  {
   "cell_type": "code",
   "execution_count": 123,
   "metadata": {},
   "outputs": [
    {
     "name": "stdout",
     "output_type": "stream",
     "text": [
      "['1', 'u_{x}', 'u_{y}', 'u_{xx}', 'u_{yy}', 'u_{xy}', 'u', 'uu_{x}', 'uu_{y}', 'uu_{xx}', 'uu_{yy}', 'uu_{xy}']\n"
     ]
    }
   ],
   "source": [
    "u = ['1','u']\n",
    "du = ['1', 'u_{x}', 'u_{y}','u_{xx}', 'u_{yy}','u_{xy}']\n",
    "coeffs_list = library_matrix_mat(u, du)\n",
    "print(coeffs_list)\n",
    "library_config = {'total_terms': 12, 'deriv_order': 2, 'poly_order': 1}"
   ]
  },
  {
   "cell_type": "markdown",
   "metadata": {},
   "source": [
    "Next we set the training options. Usually we only change the maximum iterations and the grad_tol, which sets the convergence criterion;"
   ]
  },
  {
   "cell_type": "code",
   "execution_count": 128,
   "metadata": {},
   "outputs": [],
   "source": [
    "train_opts = {'max_iterations': 80000, 'grad_tol':10**-7, 'learning_rate': 0.001, 'beta1': 0.9, 'beta2': 0.99, 'epsilon': 10**-8}"
   ]
  },
  {
   "cell_type": "markdown",
   "metadata": {},
   "source": [
    "The last configuration we need to fill is the ouput_opts. It contains an output_directory and X_predict field. We've build a custom tensorboard so you can follow the progress of the run.  Output_directory sets where the files are saved, then simply run \n",
    "\n",
    "`tensorboard --logdir $[OUTPUT_DIRECTORY]`\n",
    "\n",
    "in a terminal to open tensorboard. It shows the value of the coefficients, scaled coefficients and all possible costs. Note that the runs are timestamped in output_directory, so you'll have to add it! We can also use the output of tensorboard to analyze deepmod after. We show this below. The last option is X_predict. As DeepMoD also denoises the data, use this option to denoise some dataset X after DeepMoD has converged."
   ]
  },
  {
   "cell_type": "code",
   "execution_count": 129,
   "metadata": {},
   "outputs": [],
   "source": [
    "output_opts = {'output_directory': 'output/advection_diffusion_new_29b/', 'X_predict': X}"
   ]
  },
  {
   "cell_type": "markdown",
   "metadata": {},
   "source": [
    "## Run DeepMoD"
   ]
  },
  {
   "cell_type": "markdown",
   "metadata": {},
   "source": [
    "We can now run DeepMoD using all the options we have set and the training data. We also need to specify which library function we wish to use. You can build any library you want and just pass is through this command:"
   ]
  },
  {
   "cell_type": "code",
   "execution_count": null,
   "metadata": {},
   "outputs": [
    {
     "name": "stdout",
     "output_type": "stream",
     "text": [
      "Epoch | Total loss | Loss gradient | MSE | PI | L1 \n",
      "0 [4.6834216, 0.037903495, 4.445709, 0.23770256, 1.009016e-05]\n",
      "500 [1.998908, 0.021775281, 1.9625018, 0.03566953, 0.00073668716]\n",
      "1000 [1.5437078, 0.097816825, 1.4840018, 0.05852403, 0.0011821198]\n",
      "1500 [1.1721133, 0.044787012, 1.108389, 0.06255597, 0.0011683559]\n",
      "2000 [1.0881127, 0.16392869, 1.021656, 0.06521824, 0.0012384154]\n",
      "2500 [1.0332619, 0.22739796, 0.9726787, 0.059306867, 0.0012762414]\n",
      "3000 [0.9849683, 0.011806986, 0.9425459, 0.041107137, 0.0013152825]\n",
      "3500 [0.965791, 0.0978654, 0.92214286, 0.042316593, 0.001331521]\n",
      "4000 [0.94370896, 0.08148027, 0.9021378, 0.04020322, 0.0013679089]\n",
      "4500 [0.93732876, 0.12424183, 0.8912506, 0.044715192, 0.0013629892]\n",
      "5000 [0.9275225, 0.11402071, 0.879265, 0.046880327, 0.0013771639]\n",
      "5500 [0.9140219, 0.21679404, 0.8649572, 0.047652133, 0.001412575]\n",
      "6000 [0.90707594, 0.20010847, 0.85805196, 0.047601115, 0.0014228587]\n",
      "6500 [0.8893391, 0.14095873, 0.8493756, 0.03854628, 0.0014172023]\n",
      "7000 [0.89059013, 0.23306274, 0.84177285, 0.047376875, 0.0014404148]\n",
      "7500 [0.87303823, 0.11389684, 0.8353711, 0.03622878, 0.0014383603]\n",
      "8000 [0.86799026, 0.07975065, 0.8303125, 0.036234736, 0.0014430243]\n",
      "8500 [0.86411756, 0.09612545, 0.8257875, 0.036870223, 0.00145982]\n",
      "9000 [0.8720221, 0.26664588, 0.82151926, 0.049052563, 0.0014502946]\n",
      "9500 [0.8582405, 0.20376569, 0.81589615, 0.040874343, 0.001469956]\n",
      "10000 [0.8471779, 0.08293493, 0.8105543, 0.035144947, 0.0014786713]\n",
      "10500 [0.91758245, 0.35122165, 0.81626624, 0.099856354, 0.0014598428]\n",
      "11000 [0.83973074, 0.10875834, 0.80352485, 0.034721013, 0.0014848587]\n",
      "11500 [0.8367183, 0.1634356, 0.79983073, 0.035390966, 0.0014965875]\n",
      "12000 [0.8302999, 0.092888564, 0.7954294, 0.033361763, 0.001508793]\n",
      "12500 [0.8268716, 0.10008774, 0.793558, 0.031814534, 0.0014990479]\n",
      "13000 [0.82720876, 0.13341162, 0.7900963, 0.035607263, 0.0015052074]\n",
      "13500 [0.8602775, 0.24446751, 0.78862727, 0.07012082, 0.001529387]\n"
     ]
    }
   ],
   "source": [
    "sparse_vectors, denoised = DeepMoD(X_train, y_train, config, library_2Din_1Dout, library_config, train_opts, output_opts)"
   ]
  },
  {
   "cell_type": "markdown",
   "metadata": {},
   "source": [
    "# Show final result:"
   ]
  },
  {
   "cell_type": "code",
   "execution_count": 32,
   "metadata": {},
   "outputs": [
    {
     "name": "stdout",
     "output_type": "stream",
     "text": [
      "Inferred equation:\n",
      "u_t = 0.254u_{x} + 0.495u_{y} + 0.498u_{xx} + 0.522u_{yy}\n"
     ]
    }
   ],
   "source": [
    "u = ['1', 'u']\n",
    "du = ['1', 'u_{x}', 'u_{y}','u_{xx}', 'u_{yy}','u_{xy}']\n",
    "coeffs_list = library_matrix_mat(u, du)\n",
    "\n",
    "print('Inferred equation:')\n",
    "print_PDE(sparse_vectors[0], coeffs_list, PDE_term='u_t')"
   ]
  },
  {
   "cell_type": "markdown",
   "metadata": {},
   "source": [
    "Plot the 'Ground truth', 'Noisy' and 'Reconstructed/Denoised' solution"
   ]
  },
  {
   "cell_type": "code",
   "execution_count": 22,
   "metadata": {},
   "outputs": [],
   "source": [
    "X_predict = X[(X[:,0]==5.0) | (X[:,0]==9.0) | (X[:,0]==7.0), :]"
   ]
  },
  {
   "cell_type": "code",
   "execution_count": 23,
   "metadata": {},
   "outputs": [],
   "source": [
    "data_dict = {'x_grid': X[:,1],'y_grid': X[:,2], 't_grid': X[:,0], 'ground_truth': np.squeeze(y), 'noisy': np.squeeze(y_noisy)}\n",
    "df = pd.DataFrame(data_dict)\n",
    "for key in df:\n",
    "    df[key] = np.squeeze(df[key])\n",
    "data = pd.DataFrame(df)"
   ]
  },
  {
   "cell_type": "code",
   "execution_count": 24,
   "metadata": {},
   "outputs": [],
   "source": [
    "data_dict_denoised = {'x_grid': X[:,1],'y_grid': X[:,2], 't_grid': X[:,0], 'denoised': np.squeeze(denoised)}\n",
    "df_dn = pd.DataFrame(data_dict_denoised)\n",
    "for key in df_dn:\n",
    "    df_dn[key] = np.squeeze(df_dn[key])\n",
    "data_denoised = pd.DataFrame(df_dn)"
   ]
  },
  {
   "cell_type": "code",
   "execution_count": 31,
   "metadata": {},
   "outputs": [
    {
     "data": {
      "image/png": "[encoded data removed]",
      "text/plain": [
       "<Figure size 1080x288 with 4 Axes>"
      ]
     },
     "metadata": {
      "needs_background": "light"
     },
     "output_type": "display_data"
    }
   ],
   "source": [
    "time1 = 7.0\n",
    "\n",
    "vmin = np.min(data[data['t_grid'] == time1]['ground_truth'])\n",
    "vmax = np.max(data[data['t_grid'] == time1]['ground_truth'])\n",
    "\n",
    "fig, axes = plt.subplots(ncols=3, figsize=(15, 4))\n",
    "\n",
    "im1 = axes[0].contourf(pd.pivot_table(data[data['t_grid'] == time1],index='y_grid', columns='x_grid', values='ground_truth'), cmap='coolwarm',vmin=vmin, vmax=vmax)\n",
    "axes[0].set_xlabel('x')\n",
    "axes[0].set_ylabel('y')\n",
    "axes[0].set_title('Ground truth')\n",
    "\n",
    "im2 = axes[1].contourf(pd.pivot_table(data[data['t_grid'] == time1],index='y_grid', columns='x_grid', values='noisy'), cmap='coolwarm', vmin=vmin, vmax=vmax)\n",
    "axes[1].set_xlabel('x')\n",
    "axes[1].set_title('Noisy')\n",
    "\n",
    "im3 = axes[2].contourf(pd.pivot_table(data_denoised[data_denoised['t_grid'] == time1],index='y_grid', columns='x_grid', values='denoised'), cmap='coolwarm', vmin=vmin, vmax=vmax)\n",
    "axes[2].set_xlabel('x')\n",
    "axes[2].set_title('Sampled')\n",
    "\n",
    "fig.colorbar(im1, ax=axes.ravel().tolist())\n",
    "\n",
    "plt.show()"
   ]
  },
  {
   "cell_type": "code",
   "execution_count": null,
   "metadata": {},
   "outputs": [],
   "source": []
  }
 ],
 "metadata": {
  "kernelspec": {
   "display_name": "Python 3",
   "language": "python",
   "name": "python3"
  },
  "language_info": {
   "codemirror_mode": {
    "name": "ipython",
    "version": 3
   },
   "file_extension": ".py",
   "mimetype": "text/x-python",
   "name": "python",
   "nbconvert_exporter": "python",
   "pygments_lexer": "ipython3",
   "version": "3.6.8"
  }
 },
 "nbformat": 4,
 "nbformat_minor": 2
}
