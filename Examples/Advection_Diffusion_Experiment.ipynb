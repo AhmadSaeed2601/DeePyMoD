{
 "cells": [
  {
   "cell_type": "markdown",
   "metadata": {},
   "source": [
    "# 2D Advection-Diffusion equation"
   ]
  },
  {
   "cell_type": "markdown",
   "metadata": {},
   "source": [
    "in this notebook we provide a simple example of the DeepMoD algorithm and apply it on the 2D advection-diffusion equation. "
   ]
  },
  {
   "cell_type": "code",
   "execution_count": 1,
   "metadata": {},
   "outputs": [],
   "source": [
    "import numpy as np\n",
    "import pandas as pd \n",
    "\n",
    "from scipy.io import loadmat\n",
    "from deepymod.DeepMoD import DeepMoD\n",
    "from deepymod.library_functions import library_2Din_1Dout\n",
    "from deepymod.utilities import library_matrix_mat, print_PDE\n",
    "\n",
    "import matplotlib.pyplot as plt\n",
    "plt.style.use('seaborn-notebook')\n",
    "\n",
    "np.random.seed(40)  # setting seed for randomisation"
   ]
  },
  {
   "cell_type": "markdown",
   "metadata": {},
   "source": [
    "## Prepare the data"
   ]
  },
  {
   "cell_type": "markdown",
   "metadata": {},
   "source": [
    "Next, we prepare the dataset."
   ]
  },
  {
   "cell_type": "code",
   "execution_count": 2,
   "metadata": {},
   "outputs": [],
   "source": [
    "u_v = np.load('data/diffusion_advection.npy')\n",
    "u_v = np.moveaxis(u_v,0,-1)/10.0\n",
    "data = loadmat('data/xyt_diffusion_advection.mat')\n",
    "usol = np.real(data['Expression1'])\n",
    "usol= usol.reshape((150,250,25,3)) \n",
    "x_v= usol[:,:,:,0]\n",
    "y_v = usol[:,:,:,1]\n",
    "t_v = usol[:,:,:,2]"
   ]
  },
  {
   "cell_type": "code",
   "execution_count": 3,
   "metadata": {},
   "outputs": [],
   "source": [
    "x_v = x_v[:,150:,:7]\n",
    "y_v = y_v[:,150:,:7]\n",
    "t_v = t_v[:,150:,:7]\n",
    "u_v = u_v[:,150:,:7]"
   ]
  },
  {
   "cell_type": "markdown",
   "metadata": {},
   "source": [
    "Next we plot the dataset for three different time-points"
   ]
  },
  {
   "cell_type": "code",
   "execution_count": 4,
   "metadata": {},
   "outputs": [
    {
     "data": {
      "image/png": "[encoded data removed]",
      "text/plain": [
       "<Figure size 1080x288 with 4 Axes>"
      ]
     },
     "metadata": {
      "needs_background": "light"
     },
     "output_type": "display_data"
    }
   ],
   "source": [
    "fig, axes = plt.subplots(ncols=3, figsize=(15, 4))\n",
    "\n",
    "im0 = axes[0].contourf(x_v[:,:,1], y_v[:,:,1], u_v[:,:,0], cmap='coolwarm')\n",
    "axes[0].set_xlabel('x')\n",
    "axes[0].set_ylabel('y')\n",
    "axes[0].set_title('t = 0')\n",
    "\n",
    "im1 = axes[1].contourf(x_v[:,:,1], y_v[:,:,1], u_v[:,:,3], cmap='coolwarm')\n",
    "axes[1].set_xlabel('x')\n",
    "axes[1].set_title('t = 10')\n",
    "\n",
    "im2 = axes[2].contourf(x_v[:,:,1], y_v[:,:,1], u_v[:,:,6], cmap='coolwarm')\n",
    "axes[2].set_xlabel('x')\n",
    "axes[2].set_title('t= 20')\n",
    "\n",
    "fig.colorbar(im1, ax=axes.ravel().tolist())\n",
    "\n",
    "plt.show()"
   ]
  },
  {
   "cell_type": "markdown",
   "metadata": {},
   "source": [
    "We flatten it to give it the right dimensions for feeding it to the network:"
   ]
  },
  {
   "cell_type": "code",
   "execution_count": 5,
   "metadata": {},
   "outputs": [],
   "source": [
    "X = np.transpose((t_v.flatten(),x_v.flatten(), y_v.flatten()))\n",
    "y = u_v.reshape((u_v.size, 1))"
   ]
  },
  {
   "cell_type": "markdown",
   "metadata": {},
   "source": [
    "We select the noise level we add to the data-set"
   ]
  },
  {
   "cell_type": "code",
   "execution_count": 6,
   "metadata": {},
   "outputs": [],
   "source": [
    "noise_level = 0."
   ]
  },
  {
   "cell_type": "code",
   "execution_count": 7,
   "metadata": {},
   "outputs": [],
   "source": [
    "y_noisy = y + noise_level * np.std(y) * np.random.randn(y.size, 1)"
   ]
  },
  {
   "cell_type": "markdown",
   "metadata": {},
   "source": [
    "Select the number of samples:"
   ]
  },
  {
   "cell_type": "code",
   "execution_count": 38,
   "metadata": {},
   "outputs": [],
   "source": [
    "number_of_samples = 5000"
   ]
  },
  {
   "cell_type": "code",
   "execution_count": 39,
   "metadata": {},
   "outputs": [],
   "source": [
    "idx = np.random.permutation(y.size)\n",
    "X_train = X[idx, :][:number_of_samples]\n",
    "y_train = y_noisy[idx, :][:number_of_samples]"
   ]
  },
  {
   "cell_type": "markdown",
   "metadata": {},
   "source": [
    "## Configure the neural network"
   ]
  },
  {
   "cell_type": "markdown",
   "metadata": {},
   "source": [
    "Next we define the architecture and strength of the $L_1$ penalty for the neural network.\n",
    "Note that in this example have three input channels in this example: {x,y,t}"
   ]
  },
  {
   "cell_type": "code",
   "execution_count": 40,
   "metadata": {},
   "outputs": [],
   "source": [
    "config = {'layers': [3, 20, 20, 20,  20, 1], 'lambda': 5*10**-5}"
   ]
  },
  {
   "cell_type": "markdown",
   "metadata": {},
   "source": [
    "DeepMoD accepts any arbitrary library function and any options for it can be given through *the library_config*. The library function for this example accepts a maximum order for the polynomial and derivative terms. DeepMoD also needs to know the total number of terms upfront. We can calculate that by making a list of the polynomial and derivative terms and getting all the terms by feeding them into the library_matrix_mat function. Its output will be used later to print the found PDE."
   ]
  },
  {
   "cell_type": "code",
   "execution_count": 41,
   "metadata": {},
   "outputs": [
    {
     "name": "stdout",
     "output_type": "stream",
     "text": [
      "['1', 'u_{x}', 'u_{y}', 'u_{xx}', 'u_{yy}', 'u_{xy}']\n"
     ]
    }
   ],
   "source": [
    "u = ['1']\n",
    "du = ['1', 'u_{x}', 'u_{y}','u_{xx}', 'u_{yy}','u_{xy}']\n",
    "coeffs_list = library_matrix_mat(u, du)\n",
    "print(coeffs_list)\n",
    "library_config = {'total_terms': 6, 'deriv_order': 2, 'poly_order': 0}"
   ]
  },
  {
   "cell_type": "markdown",
   "metadata": {},
   "source": [
    "Next we set the training options. Usually we only change the maximum iterations and the grad_tol, which sets the convergence criterion;"
   ]
  },
  {
   "cell_type": "code",
   "execution_count": 42,
   "metadata": {},
   "outputs": [],
   "source": [
    "train_opts = {'max_iterations': 100000, 'grad_tol':10**-7, 'learning_rate': 0.001, 'beta1': 0.9, 'beta2': 0.99, 'epsilon': 10**-8}"
   ]
  },
  {
   "cell_type": "markdown",
   "metadata": {},
   "source": [
    "The last configuration we need to fill is the ouput_opts. It contains an output_directory and X_predict field. We've build a custom tensorboard so you can follow the progress of the run.  Output_directory sets where the files are saved, then simply run \n",
    "\n",
    "`tensorboard --logdir $[OUTPUT_DIRECTORY]`\n",
    "\n",
    "in a terminal to open tensorboard. It shows the value of the coefficients, scaled coefficients and all possible costs. Note that the runs are timestamped in output_directory, so you'll have to add it! We can also use the output of tensorboard to analyze deepmod after. We show this below. The last option is X_predict. As DeepMoD also denoises the data, use this option to denoise some dataset X after DeepMoD has converged."
   ]
  },
  {
   "cell_type": "code",
   "execution_count": 44,
   "metadata": {},
   "outputs": [],
   "source": [
    "output_opts = {'output_directory': 'output/advection_diffusion_fulle/', 'X_predict': X}"
   ]
  },
  {
   "cell_type": "markdown",
   "metadata": {},
   "source": [
    "## Run DeepMoD"
   ]
  },
  {
   "cell_type": "markdown",
   "metadata": {},
   "source": [
    "We can now run DeepMoD using all the options we have set and the training data. We also need to specify which library function we wish to use. You can build any library you want and just pass is through this command:"
   ]
  },
  {
   "cell_type": "code",
   "execution_count": null,
   "metadata": {},
   "outputs": [
    {
     "name": "stdout",
     "output_type": "stream",
     "text": [
      "u (?, 1, 1)\n",
      "du (?, 1, 6)\n",
      "Epoch | Total loss | Loss gradient | MSE | PI | L1 \n",
      "0 [12.556224, 0.011216959, 12.496008, 0.060176905, 3.896696e-05]\n",
      "500 [1.1488054, 0.034338728, 1.12153, 0.02663454, 0.000640709]\n",
      "1000 [0.0941836, 0.0020721008, 0.085603036, 0.008525671, 5.4895216e-05]\n",
      "1500 [0.07255674, 0.0010354125, 0.06441874, 0.00808119, 5.6810295e-05]\n",
      "2000 [0.070555486, 0.0016748917, 0.062411267, 0.008086967, 5.7249115e-05]\n",
      "2500 [0.06979407, 0.0023939617, 0.06165681, 0.0080796275, 5.76363e-05]\n",
      "3000 [0.069084205, 0.0018592345, 0.06093329, 0.008093177, 5.7741374e-05]\n",
      "3500 [0.06864832, 0.004505437, 0.06043219, 0.008158498, 5.7634166e-05]\n",
      "4000 [0.06849917, 0.0037260149, 0.06023872, 0.008202252, 5.8192967e-05]\n",
      "4500 [0.06786586, 0.0028330593, 0.059496015, 0.00831178, 5.8068905e-05]\n",
      "5000 [0.067332745, 0.0009798771, 0.05893385, 0.008340774, 5.8120448e-05]\n",
      "5500 [0.06705332, 0.001083528, 0.058627844, 0.008367343, 5.8126938e-05]\n",
      "6000 [0.066776626, 0.0012763264, 0.05833446, 0.008384019, 5.8150545e-05]\n",
      "6500 [0.06733681, 0.0055008815, 0.05878522, 0.008493711, 5.7880876e-05]\n",
      "7000 [0.06619773, 0.00062974467, 0.05769738, 0.008442218, 5.81268e-05]\n",
      "7500 [0.066561356, 0.004706814, 0.058063623, 0.008439269, 5.846114e-05]\n",
      "8000 [0.065717995, 0.00130855, 0.057203576, 0.008456201, 5.8220267e-05]\n",
      "8500 [0.065420024, 0.0027411464, 0.056889832, 0.008472113, 5.807454e-05]\n",
      "9000 [0.06518286, 0.002706318, 0.056676418, 0.0084482925, 5.8141617e-05]\n",
      "9500 [0.06672013, 0.011372191, 0.05801665, 0.008645906, 5.7570265e-05]\n",
      "10000 [0.0646473, 0.0016019655, 0.0561297, 0.008459323, 5.8277976e-05]\n",
      "10500 [0.06428263, 0.0032434384, 0.055768903, 0.00845561, 5.812455e-05]\n",
      "11000 [0.06380054, 0.00043389216, 0.05531468, 0.008427487, 5.83725e-05]\n",
      "11500 [0.06343292, 0.002365955, 0.054971643, 0.008402684, 5.859201e-05]\n",
      "12000 [0.06288402, 0.002486324, 0.0544536, 0.008371701, 5.8714955e-05]\n",
      "12500 [0.062026504, 0.0011885762, 0.05360508, 0.008362718, 5.8707312e-05]\n",
      "13000 [0.059100114, 0.00028227465, 0.051159453, 0.007881154, 5.9507183e-05]\n",
      "13500 [0.050643224, 0.0005485925, 0.047104474, 0.0034791683, 5.95829e-05]\n",
      "14000 [0.048311643, 0.0015347503, 0.046134416, 0.002117877, 5.935157e-05]\n",
      "14500 [0.04770517, 0.004507552, 0.04591145, 0.0017343311, 5.9389404e-05]\n",
      "15000 [0.047023274, 0.0037394261, 0.045433458, 0.0015299189, 5.9898946e-05]\n",
      "15500 [0.04674139, 0.0012560451, 0.045287233, 0.0013945372, 5.96191e-05]\n",
      "16000 [0.046553213, 0.0028542846, 0.045178022, 0.0013154075, 5.9784816e-05]\n",
      "16500 [0.046332065, 0.0030496977, 0.045027006, 0.0012451034, 5.9953323e-05]\n",
      "17000 [0.0461753, 0.0019090738, 0.044918317, 0.0011971666, 5.9816968e-05]\n",
      "17500 [0.046065323, 0.0028822073, 0.044841554, 0.0011640438, 5.9725153e-05]\n",
      "18000 [0.046077136, 0.008274099, 0.044835705, 0.0011811935, 6.023971e-05]\n",
      "18500 [0.045963645, 0.002143128, 0.044796403, 0.0011075829, 5.9655315e-05]\n",
      "19000 [0.045769982, 0.0006516335, 0.044638336, 0.0010719147, 5.973088e-05]\n",
      "19500 [0.04617322, 0.0041187364, 0.045055725, 0.0010575295, 5.996644e-05]\n",
      "20000 [0.04813025, 0.009808589, 0.04697486, 0.0010950194, 6.0371374e-05]\n",
      "20500 [0.045571197, 0.0007609378, 0.044499867, 0.0010116297, 5.9702634e-05]\n",
      "21000 [0.04602507, 0.0044916333, 0.044938378, 0.0010273097, 5.9384358e-05]\n",
      "21500 [0.04578921, 0.0036360812, 0.04474312, 0.0009861748, 5.9914502e-05]\n",
      "22000 [0.04715602, 0.008153334, 0.046080854, 0.0010149099, 6.025828e-05]\n",
      "22500 [0.04536678, 0.0028307107, 0.044338427, 0.00096890354, 5.9447513e-05]\n",
      "23000 [0.045329135, 0.002646643, 0.04430849, 0.0009611013, 5.954281e-05]\n",
      "23500 [0.04545043, 0.0027359563, 0.04443016, 0.00096086226, 5.9405487e-05]\n",
      "24000 [0.045262497, 0.004053502, 0.04424662, 0.0009559252, 5.995235e-05]\n",
      "24500 [0.045406967, 0.0037624233, 0.044392418, 0.0009552073, 5.9344326e-05]\n",
      "25000 [0.045190196, 0.0008055913, 0.04419666, 0.0009338754, 5.9659633e-05]\n",
      "25500 [0.045152012, 0.0017486648, 0.04416279, 0.0009295957, 5.9628008e-05]\n",
      "26000 [0.045225978, 0.002144115, 0.044232305, 0.00093406375, 5.9606526e-05]\n",
      "26500 [0.04509751, 0.0023000597, 0.04410856, 0.00092914427, 5.9807924e-05]\n",
      "27000 [0.045069255, 0.0011275957, 0.044087004, 0.00092245504, 5.9794358e-05]\n",
      "27500 [0.045230556, 0.007872506, 0.044196855, 0.0009736713, 6.0029557e-05]\n",
      "28000 [0.04502599, 0.00056803337, 0.044047277, 0.00091900356, 5.970956e-05]\n",
      "28500 [0.045055423, 0.001752931, 0.04407612, 0.00091945066, 5.9852544e-05]\n",
      "29000 [0.04504954, 0.0076385904, 0.044027735, 0.000961458, 6.035059e-05]\n",
      "29500 [0.044960845, 0.0014162996, 0.043982152, 0.000918989, 5.970508e-05]\n",
      "30000 [0.044943936, 0.0023898778, 0.04396308, 0.00092096865, 5.988633e-05]\n",
      "30500 [0.045078196, 0.0047239363, 0.04408598, 0.00093203166, 6.01862e-05]\n",
      "31000 [0.045060173, 0.0041432176, 0.044062927, 0.00093796465, 5.9280246e-05]\n",
      "31500 [0.044933833, 0.0014606427, 0.043953996, 0.00092024554, 5.959014e-05]\n",
      "32000 [0.04493749, 0.003282656, 0.043949377, 0.0009285234, 5.9590708e-05]\n",
      "32500 [0.0456664, 0.006066037, 0.044661358, 0.0009449416, 6.009907e-05]\n",
      "33000 [0.04484061, 0.0030304117, 0.04385797, 0.0009226551, 5.998727e-05]\n",
      "33500 [0.045055885, 0.002623749, 0.044064555, 0.0009319815, 5.9348546e-05]\n",
      "34000 [0.04480519, 0.002293962, 0.0438259, 0.000919458, 5.9834234e-05]\n",
      "34500 [0.044784345, 0.00063266593, 0.043809697, 0.0009149749, 5.966989e-05]\n",
      "35000 [0.044750676, 0.0007090297, 0.04377733, 0.00091363624, 5.9708225e-05]\n",
      "35500 [0.045199793, 0.0044669854, 0.044199135, 0.00094128284, 5.9373695e-05]\n",
      "36000 [0.04483081, 0.0022194884, 0.04385622, 0.00091482734, 5.976394e-05]\n",
      "36500 [0.045007523, 0.0034968362, 0.044024505, 0.0009230063, 6.0011294e-05]\n",
      "37000 [0.045013327, 0.0040656375, 0.044020243, 0.00093336456, 5.9719947e-05]\n",
      "37500 [0.04476332, 0.0019728988, 0.0437804, 0.0009233763, 5.954268e-05]\n",
      "38000 [0.044675782, 0.00082495465, 0.043699376, 0.00091677543, 5.963025e-05]\n",
      "38500 [0.04467159, 0.00093729835, 0.04369191, 0.0009200964, 5.9587088e-05]\n",
      "39000 [0.045255575, 0.0068126796, 0.044223774, 0.0009721344, 5.9666156e-05]\n",
      "39500 [0.04466308, 0.0012806699, 0.04367915, 0.0009243881, 5.9538957e-05]\n",
      "40000 [0.04467601, 0.0017770341, 0.04369508, 0.0009211414, 5.9785834e-05]\n",
      "40500 [0.044586275, 0.00095178816, 0.04360346, 0.0009231632, 5.9649203e-05]\n",
      "41000 [0.044809334, 0.0039085806, 0.043815263, 0.00093449256, 5.95771e-05]\n",
      "41500 [0.04469688, 0.0035732456, 0.043704495, 0.00093241443, 5.9971157e-05]\n"
     ]
    }
   ],
   "source": [
    "sparse_vectors, denoised = DeepMoD(X_train, y_train, config, library_2Din_1Dout, library_config, train_opts, output_opts)"
   ]
  },
  {
   "cell_type": "markdown",
   "metadata": {},
   "source": [
    "Show final result:"
   ]
  },
  {
   "cell_type": "code",
   "execution_count": 32,
   "metadata": {},
   "outputs": [
    {
     "name": "stdout",
     "output_type": "stream",
     "text": [
      "Inferred equation:\n",
      "u_t = 0.254u_{x} + 0.495u_{y} + 0.498u_{xx} + 0.522u_{yy}\n"
     ]
    }
   ],
   "source": [
    "u = ['1', 'u']\n",
    "du = ['1', 'u_{x}', 'u_{y}','u_{xx}', 'u_{yy}','u_{xy}']\n",
    "coeffs_list = library_matrix_mat(u, du)\n",
    "\n",
    "print('Inferred equation:')\n",
    "print_PDE(sparse_vectors[0], coeffs_list, PDE_term='u_t')"
   ]
  },
  {
   "cell_type": "markdown",
   "metadata": {},
   "source": [
    "Plot the 'Ground truth', 'Noisy' and 'Reconstructed/Denoised' solution"
   ]
  },
  {
   "cell_type": "code",
   "execution_count": 22,
   "metadata": {},
   "outputs": [],
   "source": [
    "X_predict = X[(X[:,0]==5.0) | (X[:,0]==9.0) | (X[:,0]==7.0), :]"
   ]
  },
  {
   "cell_type": "code",
   "execution_count": 23,
   "metadata": {},
   "outputs": [],
   "source": [
    "data_dict = {'x_grid': X[:,1],'y_grid': X[:,2], 't_grid': X[:,0], 'ground_truth': np.squeeze(y), 'noisy': np.squeeze(y_noisy)}\n",
    "df = pd.DataFrame(data_dict)\n",
    "for key in df:\n",
    "    df[key] = np.squeeze(df[key])\n",
    "data = pd.DataFrame(df)"
   ]
  },
  {
   "cell_type": "code",
   "execution_count": 24,
   "metadata": {},
   "outputs": [],
   "source": [
    "data_dict_denoised = {'x_grid': X[:,1],'y_grid': X[:,2], 't_grid': X[:,0], 'denoised': np.squeeze(denoised)}\n",
    "df_dn = pd.DataFrame(data_dict_denoised)\n",
    "for key in df_dn:\n",
    "    df_dn[key] = np.squeeze(df_dn[key])\n",
    "data_denoised = pd.DataFrame(df_dn)"
   ]
  },
  {
   "cell_type": "code",
   "execution_count": 31,
   "metadata": {},
   "outputs": [
    {
     "data": {
      "image/png": "[encoded data removed]",
      "text/plain": [
       "<Figure size 1080x288 with 4 Axes>"
      ]
     },
     "metadata": {
      "needs_background": "light"
     },
     "output_type": "display_data"
    }
   ],
   "source": [
    "time1 = 7.0\n",
    "\n",
    "vmin = np.min(data[data['t_grid'] == time1]['ground_truth'])\n",
    "vmax = np.max(data[data['t_grid'] == time1]['ground_truth'])\n",
    "\n",
    "fig, axes = plt.subplots(ncols=3, figsize=(15, 4))\n",
    "\n",
    "im1 = axes[0].contourf(pd.pivot_table(data[data['t_grid'] == time1],index='y_grid', columns='x_grid', values='ground_truth'), cmap='coolwarm',vmin=vmin, vmax=vmax)\n",
    "axes[0].set_xlabel('x')\n",
    "axes[0].set_ylabel('y')\n",
    "axes[0].set_title('Ground truth')\n",
    "\n",
    "im2 = axes[1].contourf(pd.pivot_table(data[data['t_grid'] == time1],index='y_grid', columns='x_grid', values='noisy'), cmap='coolwarm', vmin=vmin, vmax=vmax)\n",
    "axes[1].set_xlabel('x')\n",
    "axes[1].set_title('Noisy')\n",
    "\n",
    "im3 = axes[2].contourf(pd.pivot_table(data_denoised[data_denoised['t_grid'] == time1],index='y_grid', columns='x_grid', values='denoised'), cmap='coolwarm', vmin=vmin, vmax=vmax)\n",
    "axes[2].set_xlabel('x')\n",
    "axes[2].set_title('Sampled')\n",
    "\n",
    "fig.colorbar(im1, ax=axes.ravel().tolist())\n",
    "\n",
    "plt.show()"
   ]
  },
  {
   "cell_type": "code",
   "execution_count": null,
   "metadata": {},
   "outputs": [],
   "source": []
  }
 ],
 "metadata": {
  "kernelspec": {
   "display_name": "Python 3",
   "language": "python",
   "name": "python3"
  },
  "language_info": {
   "codemirror_mode": {
    "name": "ipython",
    "version": 3
   },
   "file_extension": ".py",
   "mimetype": "text/x-python",
   "name": "python",
   "nbconvert_exporter": "python",
   "pygments_lexer": "ipython3",
   "version": "3.6.8"
  }
 },
 "nbformat": 4,
 "nbformat_minor": 2
}
