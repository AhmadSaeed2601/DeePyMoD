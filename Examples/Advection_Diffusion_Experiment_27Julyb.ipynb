{
 "cells": [
  {
   "cell_type": "markdown",
   "metadata": {},
   "source": [
    "# 2D Advection-Diffusion equation"
   ]
  },
  {
   "cell_type": "markdown",
   "metadata": {},
   "source": [
    "in this notebook we provide a simple example of the DeepMoD algorithm and apply it on the 2D advection-diffusion equation. "
   ]
  },
  {
   "cell_type": "code",
   "execution_count": 1,
   "metadata": {},
   "outputs": [],
   "source": [
    "import sys\n",
    "import numpy as np\n",
    "import pandas as pd \n",
    "\n",
    "sys.path.append('../src/deepymod/')\n",
    "\n",
    "from scipy.io import loadmat\n",
    "from DeepMoD import DeepMoD\n",
    "from library_functions import library_2Din_1Dout\n",
    "from deepymod.utilities import library_matrix_mat, print_PDE\n",
    "\n",
    "import matplotlib.pyplot as plt\n",
    "plt.style.use('seaborn-notebook')\n",
    "\n",
    "np.random.seed(40)  # setting seed for randomisation"
   ]
  },
  {
   "cell_type": "markdown",
   "metadata": {},
   "source": [
    "## Prepare the data"
   ]
  },
  {
   "cell_type": "markdown",
   "metadata": {},
   "source": [
    "Next, we prepare the dataset."
   ]
  },
  {
   "cell_type": "code",
   "execution_count": 2,
   "metadata": {},
   "outputs": [],
   "source": [
    "u_v = np.load('data/Diffusion27July/diffusion_advection_27_b.npy')\n",
    "u_v = np.moveaxis(u_v,0,-1)/10.0\n",
    "data = loadmat('data/Diffusion27July/Diffusion_advection_27.mat')\n",
    "usol = np.real(data['Expression1'])\n",
    "usol= usol.reshape((150,300,55,3)) \n",
    "x_v= usol[:,:,:,0]\n",
    "y_v = usol[:,:,:,1]\n",
    "t_v = usol[:,:,:,2]"
   ]
  },
  {
   "cell_type": "code",
   "execution_count": 3,
   "metadata": {},
   "outputs": [
    {
     "data": {
      "text/plain": [
       "(150, 300, 55)"
      ]
     },
     "execution_count": 3,
     "metadata": {},
     "output_type": "execute_result"
    }
   ],
   "source": [
    "x_v.shape"
   ]
  },
  {
   "cell_type": "code",
   "execution_count": 4,
   "metadata": {},
   "outputs": [],
   "source": [
    "x_v = x_v[:,:250,5:]\n",
    "y_v = y_v[:,:250,5:]\n",
    "t_v = t_v[:,:250,5:]\n",
    "u_v = u_v[:,:250,5:]"
   ]
  },
  {
   "cell_type": "markdown",
   "metadata": {},
   "source": [
    "Next we plot the dataset for three different time-points"
   ]
  },
  {
   "cell_type": "code",
   "execution_count": 5,
   "metadata": {},
   "outputs": [
    {
     "data": {
      "image/png": "[encoded data removed]",
      "text/plain": [
       "<Figure size 1080x288 with 4 Axes>"
      ]
     },
     "metadata": {
      "needs_background": "light"
     },
     "output_type": "display_data"
    }
   ],
   "source": [
    "fig, axes = plt.subplots(ncols=3, figsize=(15, 4))\n",
    "\n",
    "im0 = axes[0].contourf(x_v[:,:,1], y_v[:,:,1], u_v[:,:,0], cmap='coolwarm')\n",
    "axes[0].set_xlabel('x')\n",
    "axes[0].set_ylabel('y')\n",
    "axes[0].set_title('t = 0')\n",
    "\n",
    "im1 = axes[1].contourf(x_v[:,:,1], y_v[:,:,1], u_v[:,:,4], cmap='coolwarm')\n",
    "axes[1].set_xlabel('x')\n",
    "axes[1].set_title('t = 10')\n",
    "\n",
    "im2 = axes[2].contourf(x_v[:,:,1], y_v[:,:,1], u_v[:,:,10], cmap='coolwarm')\n",
    "axes[2].set_xlabel('x')\n",
    "axes[2].set_title('t= 20')\n",
    "\n",
    "fig.colorbar(im1, ax=axes.ravel().tolist())\n",
    "\n",
    "plt.show()"
   ]
  },
  {
   "cell_type": "markdown",
   "metadata": {},
   "source": [
    "We flatten it to give it the right dimensions for feeding it to the network:"
   ]
  },
  {
   "cell_type": "code",
   "execution_count": 6,
   "metadata": {},
   "outputs": [],
   "source": [
    "X = np.transpose((t_v.flatten(),x_v.flatten(), y_v.flatten()))\n",
    "y = u_v.reshape((u_v.size, 1))"
   ]
  },
  {
   "cell_type": "markdown",
   "metadata": {},
   "source": [
    "We select the noise level we add to the data-set"
   ]
  },
  {
   "cell_type": "code",
   "execution_count": 7,
   "metadata": {},
   "outputs": [],
   "source": [
    "noise_level = 0."
   ]
  },
  {
   "cell_type": "code",
   "execution_count": 8,
   "metadata": {},
   "outputs": [],
   "source": [
    "y_noisy = y + noise_level * np.std(y) * np.random.randn(y.size, 1)"
   ]
  },
  {
   "cell_type": "markdown",
   "metadata": {},
   "source": [
    "Select the number of samples:"
   ]
  },
  {
   "cell_type": "code",
   "execution_count": 18,
   "metadata": {},
   "outputs": [],
   "source": [
    "number_of_samples = 5000"
   ]
  },
  {
   "cell_type": "code",
   "execution_count": 19,
   "metadata": {},
   "outputs": [],
   "source": [
    "idx = np.random.permutation(y.size)\n",
    "X_train = X[idx, :][:number_of_samples]\n",
    "y_train = y_noisy[idx, :][:number_of_samples]"
   ]
  },
  {
   "cell_type": "markdown",
   "metadata": {},
   "source": [
    "## Configure the neural network"
   ]
  },
  {
   "cell_type": "markdown",
   "metadata": {},
   "source": [
    "Next we define the architecture and strength of the $L_1$ penalty for the neural network.\n",
    "Note that in this example have three input channels in this example: {x,y,t}"
   ]
  },
  {
   "cell_type": "code",
   "execution_count": 20,
   "metadata": {},
   "outputs": [],
   "source": [
    "config = {'layers': [3, 20, 20, 20, 1], 'lambda': 10**-5}"
   ]
  },
  {
   "cell_type": "markdown",
   "metadata": {},
   "source": [
    "DeepMoD accepts any arbitrary library function and any options for it can be given through *the library_config*. The library function for this example accepts a maximum order for the polynomial and derivative terms. DeepMoD also needs to know the total number of terms upfront. We can calculate that by making a list of the polynomial and derivative terms and getting all the terms by feeding them into the library_matrix_mat function. Its output will be used later to print the found PDE."
   ]
  },
  {
   "cell_type": "code",
   "execution_count": 21,
   "metadata": {},
   "outputs": [
    {
     "name": "stdout",
     "output_type": "stream",
     "text": [
      "['1', 'u_{x}', 'u_{y}', 'u_{xx}', 'u_{yy}', 'u_{xy}', 'u', 'uu_{x}', 'uu_{y}', 'uu_{xx}', 'uu_{yy}', 'uu_{xy}']\n"
     ]
    }
   ],
   "source": [
    "u = ['1','u']\n",
    "du = ['1', 'u_{x}', 'u_{y}','u_{xx}', 'u_{yy}','u_{xy}']\n",
    "coeffs_list = library_matrix_mat(u, du)\n",
    "print(coeffs_list)\n",
    "library_config = {'total_terms': 12, 'deriv_order': 2, 'poly_order': 1}"
   ]
  },
  {
   "cell_type": "markdown",
   "metadata": {},
   "source": [
    "Next we set the training options. Usually we only change the maximum iterations and the grad_tol, which sets the convergence criterion;"
   ]
  },
  {
   "cell_type": "code",
   "execution_count": 23,
   "metadata": {},
   "outputs": [],
   "source": [
    "train_opts = {'max_iterations': 50000, 'grad_tol':10**-7, 'learning_rate': 0.001, 'beta1': 0.9, 'beta2': 0.99, 'epsilon': 10**-8}"
   ]
  },
  {
   "cell_type": "markdown",
   "metadata": {},
   "source": [
    "The last configuration we need to fill is the ouput_opts. It contains an output_directory and X_predict field. We've build a custom tensorboard so you can follow the progress of the run.  Output_directory sets where the files are saved, then simply run \n",
    "\n",
    "`tensorboard --logdir $[OUTPUT_DIRECTORY]`\n",
    "\n",
    "in a terminal to open tensorboard. It shows the value of the coefficients, scaled coefficients and all possible costs. Note that the runs are timestamped in output_directory, so you'll have to add it! We can also use the output of tensorboard to analyze deepmod after. We show this below. The last option is X_predict. As DeepMoD also denoises the data, use this option to denoise some dataset X after DeepMoD has converged."
   ]
  },
  {
   "cell_type": "code",
   "execution_count": 24,
   "metadata": {},
   "outputs": [],
   "source": [
    "output_opts = {'output_directory': 'output/27_a_seed_40_xysmall/', 'X_predict': X}"
   ]
  },
  {
   "cell_type": "markdown",
   "metadata": {},
   "source": [
    "## Run DeepMoD"
   ]
  },
  {
   "cell_type": "markdown",
   "metadata": {},
   "source": [
    "We can now run DeepMoD using all the options we have set and the training data. We also need to specify which library function we wish to use. You can build any library you want and just pass is through this command:"
   ]
  },
  {
   "cell_type": "code",
   "execution_count": 25,
   "metadata": {},
   "outputs": [
    {
     "name": "stdout",
     "output_type": "stream",
     "text": [
      "Epoch | Total loss | Loss gradient | MSE | PI | L1 \n",
      "0 [4.412612, 0.0018421061, 4.407247, 0.005310486, 5.4250017e-05]\n",
      "500 [2.2959037, 0.0020832198, 2.2939897, 0.001321645, 0.0005925719]\n",
      "1000 [1.7241601, 0.08134167, 1.7013364, 0.01574921, 0.0070745037]\n",
      "1500 [1.6818017, 0.10775316, 1.659566, 0.01282374, 0.009411921]\n",
      "2000 [1.664485, 0.03336097, 1.6489099, 0.00563614, 0.009938939]\n",
      "2500 [1.6573842, 0.053997386, 1.6426356, 0.0047307685, 0.010017711]\n",
      "3000 [1.6522106, 0.030573376, 1.6387554, 0.0034762032, 0.009978871]\n",
      "3500 [1.6490266, 0.047751952, 1.6355865, 0.0034760472, 0.0099641485]\n",
      "4000 [1.6475693, 0.067499414, 1.6336786, 0.004043575, 0.009847214]\n",
      "4500 [1.6444641, 0.008708712, 1.6322024, 0.0025695232, 0.009692133]\n",
      "5000 [1.6424947, 0.062992066, 1.6288936, 0.0036949853, 0.009905997]\n",
      "5500 [1.6503519, 0.17361389, 1.6297183, 0.011017795, 0.009615789]\n",
      "6000 [1.6425585, 0.12205876, 1.626175, 0.0064858277, 0.009897631]\n",
      "6500 [1.6405666, 0.12600431, 1.6237693, 0.0067077605, 0.010089463]\n",
      "7000 [1.6380626, 0.099536404, 1.6228453, 0.00514943, 0.010067801]\n",
      "7500 [1.6505376, 0.23369151, 1.623199, 0.017390618, 0.009947963]\n",
      "8000 [1.6482899, 0.25488016, 1.6194749, 0.018489065, 0.010325857]\n",
      "8500 [1.6428841, 0.21032748, 1.6190009, 0.013597171, 0.01028608]\n",
      "9000 [1.6595545, 0.34675726, 1.6174269, 0.03169216, 0.010435505]\n",
      "9500 [1.6314703, 0.086096734, 1.6169679, 0.0041261027, 0.010376281]\n",
      "10000 [1.6309674, 0.093954295, 1.6161168, 0.004450468, 0.010400136]\n",
      "10500 [1.6423372, 0.24595475, 1.6148888, 0.01696817, 0.010480254]\n",
      "11000 [1.626453, 0.0031500375, 1.6134166, 0.0024227605, 0.010613655]\n",
      "11500 [1.6809021, 0.4829017, 1.6130146, 0.057318114, 0.010569467]\n",
      "12000 [1.6425489, 0.2656953, 1.6130406, 0.019035015, 0.01047332]\n",
      "12500 [1.6259898, 0.04063806, 1.6129801, 0.0025874462, 0.010422217]\n",
      "13000 [1.6247948, 0.04008991, 1.6118275, 0.0024851314, 0.010482228]\n",
      "13500 [1.6338948, 0.18980207, 1.6125867, 0.01097395, 0.010334189]\n",
      "14000 [1.6247188, 0.004384403, 1.6122861, 0.0021435851, 0.01028911]\n",
      "14500 [1.6262319, 0.10348319, 1.611401, 0.004532644, 0.010298204]\n",
      "15000 [1.6227072, 0.0553649, 1.6094679, 0.0027936522, 0.010445656]\n",
      "15500 [1.6402941, 0.26242366, 1.6112549, 0.018830623, 0.01020853]\n",
      "16000 [1.6569602, 0.39597443, 1.6091588, 0.037487347, 0.010314097]\n",
      "16500 [1.6304667, 0.214618, 1.6080409, 0.012012126, 0.010413645]\n",
      "17000 [1.6263256, 0.1474186, 1.609257, 0.0068868147, 0.010181804]\n",
      "17500 [1.6252033, 0.091941305, 1.6111351, 0.0040911804, 0.009976968]\n",
      "18000 [1.6329234, 0.22062844, 1.6093494, 0.01349615, 0.010077864]\n",
      "18500 [1.8066493, 0.9532095, 1.606183, 0.19012783, 0.010338405]\n",
      "19000 [1.641058, 0.3321406, 1.6059769, 0.024793444, 0.010287623]\n",
      "19500 [1.646163, 0.37061822, 1.6057107, 0.030185662, 0.010266509]\n",
      "20000 [1.6417251, 0.31975418, 1.6071352, 0.024601117, 0.00998881]\n",
      "20500 [1.6227927, 0.14206502, 1.606572, 0.00617031, 0.010050393]\n",
      "21000 [1.6226678, 0.14662287, 1.6061513, 0.006494713, 0.010021671]\n",
      "21500 [1.6292725, 0.25025243, 1.6044644, 0.014680925, 0.010127065]\n",
      "22000 [1.6291941, 0.24670964, 1.60461, 0.01453077, 0.010053374]\n",
      "22500 [1.6321431, 0.2458574, 1.6065578, 0.015741587, 0.00984371]\n",
      "23000 [1.681923, 0.5123856, 1.6092124, 0.06307046, 0.009640217]\n",
      "23500 [1.711251, 0.6972353, 1.6032566, 0.097998865, 0.009995627]\n",
      "24000 [1.6239761, 0.18372765, 1.6050931, 0.0091065075, 0.009776477]\n",
      "24500 [1.6165583, 0.100089036, 1.6027017, 0.0039016327, 0.009955011]\n",
      "25000 [1.6149867, 0.008725789, 1.6034243, 0.001777, 0.009785349]\n",
      "25500 [1.6161783, 0.09747155, 1.6026424, 0.0037035034, 0.009832384]\n",
      "26000 [1.6153542, 0.011265224, 1.6038091, 0.0018250054, 0.0097200805]\n",
      "26500 [1.6147779, 0.06613709, 1.602366, 0.0026471543, 0.009764742]\n",
      "27000 [1.6157856, 0.031051656, 1.6041094, 0.0020609226, 0.009615351]\n",
      "27500 [1.6503859, 0.42731056, 1.6020175, 0.038645215, 0.009723022]\n",
      "28000 [1.6148579, 0.069931164, 1.6024648, 0.0027430917, 0.009650006]\n",
      "28500 [1.6371607, 0.34580475, 1.6016617, 0.025827752, 0.00967117]\n",
      "29000 [1.6295127, 0.29289508, 1.600858, 0.018911641, 0.009743145]\n",
      "29500 [1.612317, 0.051571433, 1.6002201, 0.0023598887, 0.009736957]\n",
      "30000 [1.6742579, 0.55582565, 1.6009121, 0.06370961, 0.009636206]\n",
      "30500 [1.6125332, 0.039920144, 1.6008898, 0.0020760114, 0.009567438]\n",
      "31000 [1.6147833, 0.13053373, 1.6000439, 0.0051172446, 0.009622062]\n",
      "31500 [1.6253421, 0.26864237, 1.5995938, 0.016092636, 0.00965571]\n",
      "32000 [1.6116414, 0.07260702, 1.5991514, 0.0028573342, 0.009632752]\n",
      "32500 [1.6180649, 0.1085205, 1.6036141, 0.0050634407, 0.009387345]\n",
      "33000 [1.6124095, 0.076098554, 1.5997881, 0.0030917625, 0.00952955]\n",
      "33500 [1.6101539, 0.033012167, 1.5984902, 0.0020841493, 0.009579489]\n",
      "34000 [1.609696, 0.02001358, 1.5981394, 0.0019770064, 0.009579714]\n",
      "34500 [1.7671686, 0.90774053, 1.5988289, 0.15879813, 0.00954161]\n",
      "35000 [1.6113883, 0.10897409, 1.5976708, 0.0041501955, 0.009567396]\n",
      "35500 [1.6505301, 0.47481316, 1.5970219, 0.04390398, 0.009604158]\n",
      "36000 [1.6091003, 0.007497467, 1.5977556, 0.0018805206, 0.009464323]\n",
      "36500 [1.6089729, 0.0506535, 1.5970111, 0.0024385394, 0.009523222]\n",
      "37000 [1.6415461, 0.41173413, 1.5974087, 0.034684315, 0.009453163]\n",
      "37500 [1.616279, 0.21272989, 1.5963289, 0.010398611, 0.009551532]\n",
      "38000 [1.6089942, 0.091265656, 1.5958812, 0.0035416326, 0.00957149]\n",
      "38500 [1.6773946, 0.6180087, 1.5954145, 0.07234903, 0.009631013]\n",
      "39000 [1.6380187, 0.3772539, 1.5976127, 0.031027578, 0.009378487]\n",
      "39500 [1.6144011, 0.1601762, 1.5976489, 0.007390927, 0.009361223]\n",
      "40000 [1.6104014, 0.09435586, 1.5972424, 0.0038023063, 0.009356754]\n",
      "40500 [1.6722531, 0.59147525, 1.5949568, 0.067769654, 0.009526771]\n",
      "41000 [1.6070501, 0.06770403, 1.5947043, 0.0028035433, 0.009542265]\n",
      "41500 [1.6067197, 0.047151145, 1.5948652, 0.0024287144, 0.009425751]\n",
      "42000 [1.6082206, 0.0972807, 1.5950224, 0.0038038346, 0.009394314]\n",
      "42500 [1.611447, 0.14453463, 1.59585, 0.0062495796, 0.009347431]\n",
      "43000 [1.6109259, 0.17776668, 1.593649, 0.0078088287, 0.009468038]\n",
      "43500 [1.6075165, 0.10984189, 1.5938358, 0.0042426963, 0.009438016]\n",
      "44000 [1.6259329, 0.3347089, 1.5935729, 0.022934962, 0.00942521]\n",
      "44500 [1.6062056, 0.05009205, 1.5943763, 0.0025249831, 0.009304256]\n",
      "45000 [1.6056129, 0.08072931, 1.5928893, 0.0032967217, 0.009426786]\n",
      "45500 [1.6108795, 0.14311428, 1.595175, 0.0064699766, 0.009234495]\n",
      "46000 [1.609146, 0.125479, 1.5945663, 0.0052914415, 0.009288236]\n",
      "46500 [1.6231878, 0.31349847, 1.5930957, 0.020748768, 0.009343435]\n",
      "47000 [1.6173894, 0.27328584, 1.5922468, 0.01573791, 0.009404816]\n",
      "47500 [1.6039084, 0.04139882, 1.5921774, 0.0023374588, 0.00939356]\n",
      "48000 [1.6055766, 0.051445443, 1.5934855, 0.0028261158, 0.009265061]\n",
      "48500 [1.6225386, 0.30678794, 1.5929086, 0.020345764, 0.009284101]\n",
      "49000 [1.6040925, 0.0035418693, 1.5927976, 0.0020487935, 0.009246035]\n",
      "49500 [1.6048002, 0.08055634, 1.5922484, 0.0032587387, 0.009293054]\n",
      "Current sparse vectors:\n",
      "[array([[-1.24845183],\n",
      "       [ 0.03298544],\n",
      "       [-0.50136948],\n",
      "       [ 0.0204768 ],\n",
      "       [-0.30224276],\n",
      "       [ 0.66773802],\n",
      "       [-0.94464028],\n",
      "       [ 0.44317234],\n",
      "       [-0.10597228],\n",
      "       [-0.6853869 ],\n",
      "       [-0.23480386],\n",
      "       [ 0.83669686]])]\n",
      "Now running for the final time...\n",
      "Epoch | Total loss | Loss gradient | MSE | PI | L1 \n",
      "0 [17.01372, 8.684505, 1.5994046, 15.414315, 0.0]\n",
      "500 [1.5940745, 0.012272241, 1.5920001, 0.002074375, 0.0]\n",
      "1000 [1.8874304, 1.2251595, 1.5905352, 0.29689527, 0.0]\n",
      "1500 [1.5990489, 0.18137279, 1.5901207, 0.008928138, 0.0]\n",
      "2000 [1.6411673, 0.49800992, 1.5884221, 0.05274519, 0.0]\n",
      "2500 [1.5953774, 0.15533346, 1.5883201, 0.0070573334, 0.0]\n",
      "3000 [1.5898316, 0.01180826, 1.5878922, 0.0019393684, 0.0]\n",
      "3500 [1.5916903, 0.019299159, 1.5895938, 0.0020965901, 0.0]\n",
      "4000 [1.6018019, 0.2410778, 1.5872222, 0.0145796435, 0.0]\n",
      "4500 [1.636755, 0.42138863, 1.5904361, 0.04631888, 0.0]\n",
      "5000 [1.5897712, 0.016670575, 1.5877944, 0.0019767627, 0.0]\n",
      "5500 [1.6083044, 0.27870944, 1.5880626, 0.020241726, 0.0]\n",
      "6000 [1.5938374, 0.1434949, 1.5871705, 0.006666886, 0.0]\n",
      "6500 [1.5892161, 0.011080312, 1.5872738, 0.0019422282, 0.0]\n",
      "7000 [1.6046335, 0.22208282, 1.5897436, 0.014889854, 0.0]\n",
      "7500 [1.5891222, 0.057664342, 1.5864098, 0.0027124123, 0.0]\n",
      "8000 [1.5901363, 0.01377628, 1.5878338, 0.0023025386, 0.0]\n",
      "8500 [1.5876471, 0.008998106, 1.5856396, 0.0020075294, 0.0]\n",
      "9000 [1.591198, 0.10049661, 1.5867356, 0.0044624098, 0.0]\n",
      "9500 [1.5894219, 0.07559381, 1.5861155, 0.0033064135, 0.0]\n",
      "10000 [1.5913502, 0.11430932, 1.5861908, 0.0051594046, 0.0]\n",
      "10500 [1.5885892, 0.05829457, 1.5858651, 0.0027240159, 0.0]\n",
      "11000 [1.587271, 0.011407701, 1.5852891, 0.001981912, 0.0]\n",
      "11500 [1.5934051, 0.10117235, 1.588314, 0.005091082, 0.0]\n",
      "12000 [1.5890712, 0.055069245, 1.586052, 0.0030192512, 0.0]\n",
      "12500 [1.587021, 0.014697487, 1.5850326, 0.0019884373, 0.0]\n",
      "13000 [1.5864831, 0.00965033, 1.5845028, 0.0019802812, 0.0]\n",
      "13500 [1.5924377, 0.14216556, 1.585531, 0.006906769, 0.0]\n",
      "14000 [1.6045024, 0.2631662, 1.5852541, 0.019248402, 0.0]\n",
      "14500 [1.7456046, 0.7754226, 1.5876473, 0.1579573, 0.0]\n",
      "15000 [1.5983433, 0.22301775, 1.5842348, 0.0141083775, 0.0]\n",
      "15500 [1.6086514, 0.28891045, 1.5851611, 0.023490304, 0.0]\n",
      "16000 [1.5858315, 0.021340301, 1.583749, 0.0020824887, 0.0]\n",
      "16500 [1.5859851, 0.048043255, 1.5834605, 0.0025245575, 0.0]\n",
      "17000 [1.5877162, 0.09726775, 1.5834551, 0.004261139, 0.0]\n",
      "17500 [1.5854106, 0.031456508, 1.5831615, 0.0022491738, 0.0]\n",
      "18000 [1.5971986, 0.22538455, 1.5829338, 0.014264778, 0.0]\n",
      "18500 [1.5869465, 0.040523887, 1.5845667, 0.0023797485, 0.0]\n",
      "19000 [1.5875291, 0.03879934, 1.5851291, 0.0023999717, 0.0]\n",
      "19500 [1.5868052, 0.07755411, 1.5833884, 0.003416809, 0.0]\n",
      "20000 [1.6482143, 0.5082299, 1.5824891, 0.065725155, 0.0]\n",
      "20500 [1.5872016, 0.11415269, 1.5820066, 0.0051949853, 0.0]\n",
      "21000 [1.5893937, 0.143891, 1.5822723, 0.0071214386, 0.0]\n",
      "21500 [1.6296282, 0.41049352, 1.5839812, 0.04564704, 0.0]\n",
      "22000 [1.58496, 0.021762144, 1.582942, 0.002017994, 0.0]\n",
      "22500 [1.5869977, 0.09478246, 1.5828234, 0.0041743475, 0.0]\n",
      "23000 [1.6014911, 0.24392428, 1.5832055, 0.018285627, 0.0]\n"
     ]
    },
    {
     "ename": "KeyboardInterrupt",
     "evalue": "",
     "output_type": "error",
     "traceback": [
      "\u001b[0;31m---------------------------------------------------------------------------\u001b[0m",
      "\u001b[0;31mKeyboardInterrupt\u001b[0m                         Traceback (most recent call last)",
      "\u001b[0;32m<ipython-input-25-20a3d59fb98a>\u001b[0m in \u001b[0;36m<module>\u001b[0;34m\u001b[0m\n\u001b[0;32m----> 1\u001b[0;31m \u001b[0msparse_vectors\u001b[0m\u001b[0;34m,\u001b[0m \u001b[0mdenoised\u001b[0m \u001b[0;34m=\u001b[0m \u001b[0mDeepMoD\u001b[0m\u001b[0;34m(\u001b[0m\u001b[0mX_train\u001b[0m\u001b[0;34m,\u001b[0m \u001b[0my_train\u001b[0m\u001b[0;34m,\u001b[0m \u001b[0mconfig\u001b[0m\u001b[0;34m,\u001b[0m \u001b[0mlibrary_2Din_1Dout\u001b[0m\u001b[0;34m,\u001b[0m \u001b[0mlibrary_config\u001b[0m\u001b[0;34m,\u001b[0m \u001b[0mtrain_opts\u001b[0m\u001b[0;34m,\u001b[0m \u001b[0moutput_opts\u001b[0m\u001b[0;34m)\u001b[0m\u001b[0;34m\u001b[0m\u001b[0;34m\u001b[0m\u001b[0m\n\u001b[0m",
      "\u001b[0;32m~/Documents/GitHub/DeePyMoD/src/deepymod/DeepMoD.py\u001b[0m in \u001b[0;36mDeepMoD\u001b[0;34m(data, target, config, library_function, library_config, train_opts, output_opts)\u001b[0m\n\u001b[1;32m     41\u001b[0m     \u001b[0mprint\u001b[0m\u001b[0;34m(\u001b[0m\u001b[0;34m'Now running for the final time...'\u001b[0m\u001b[0;34m)\u001b[0m\u001b[0;34m\u001b[0m\u001b[0;34m\u001b[0m\u001b[0m\n\u001b[1;32m     42\u001b[0m     \u001b[0minternal_config\u001b[0m\u001b[0;34m[\u001b[0m\u001b[0;34m'lambda'\u001b[0m\u001b[0;34m]\u001b[0m \u001b[0;34m=\u001b[0m \u001b[0;36m0\u001b[0m\u001b[0;34m\u001b[0m\u001b[0;34m\u001b[0m\u001b[0m\n\u001b[0;32m---> 43\u001b[0;31m     \u001b[0mcoeff_list\u001b[0m\u001b[0;34m,\u001b[0m \u001b[0m_\u001b[0m\u001b[0;34m,\u001b[0m \u001b[0mweights\u001b[0m\u001b[0;34m,\u001b[0m \u001b[0mbiases\u001b[0m \u001b[0;34m=\u001b[0m \u001b[0mPINN\u001b[0m\u001b[0;34m(\u001b[0m\u001b[0mdata\u001b[0m\u001b[0;34m,\u001b[0m \u001b[0mtarget\u001b[0m\u001b[0;34m,\u001b[0m \u001b[0mmask\u001b[0m\u001b[0;34m,\u001b[0m \u001b[0minternal_config\u001b[0m\u001b[0;34m,\u001b[0m \u001b[0mlibrary_function\u001b[0m\u001b[0;34m,\u001b[0m \u001b[0mlibrary_config\u001b[0m\u001b[0;34m,\u001b[0m \u001b[0mtrain_opts\u001b[0m\u001b[0;34m,\u001b[0m \u001b[0moutput_opts\u001b[0m\u001b[0;34m)\u001b[0m\u001b[0;34m\u001b[0m\u001b[0;34m\u001b[0m\u001b[0m\n\u001b[0m\u001b[1;32m     44\u001b[0m \u001b[0;34m\u001b[0m\u001b[0m\n\u001b[1;32m     45\u001b[0m     \u001b[0;32mif\u001b[0m \u001b[0;34m'X_predict'\u001b[0m \u001b[0;32min\u001b[0m \u001b[0moutput_opts\u001b[0m\u001b[0;34m.\u001b[0m\u001b[0mkeys\u001b[0m\u001b[0;34m(\u001b[0m\u001b[0;34m)\u001b[0m\u001b[0;34m:\u001b[0m\u001b[0;34m\u001b[0m\u001b[0;34m\u001b[0m\u001b[0m\n",
      "\u001b[0;32m~/Documents/GitHub/DeepMoD_mechanical/DeePyMoD_Internal/src/deepymod/PINN.py\u001b[0m in \u001b[0;36mPINN\u001b[0;34m(data, target, mask, config, library_function, library_config, train_opts, output_opts)\u001b[0m\n\u001b[1;32m     26\u001b[0m         \u001b[0mprint\u001b[0m\u001b[0;34m(\u001b[0m\u001b[0;34m'Epoch | Total loss | Loss gradient | MSE | PI | L1 '\u001b[0m\u001b[0;34m)\u001b[0m\u001b[0;34m\u001b[0m\u001b[0;34m\u001b[0m\u001b[0m\n\u001b[1;32m     27\u001b[0m         \u001b[0;32mfor\u001b[0m \u001b[0miteration\u001b[0m \u001b[0;32min\u001b[0m \u001b[0mnp\u001b[0m\u001b[0;34m.\u001b[0m\u001b[0marange\u001b[0m\u001b[0;34m(\u001b[0m\u001b[0mtrain_opts\u001b[0m\u001b[0;34m[\u001b[0m\u001b[0;34m'max_iterations'\u001b[0m\u001b[0;34m]\u001b[0m\u001b[0;34m)\u001b[0m\u001b[0;34m:\u001b[0m\u001b[0;34m\u001b[0m\u001b[0;34m\u001b[0m\u001b[0m\n\u001b[0;32m---> 28\u001b[0;31m             \u001b[0msess\u001b[0m\u001b[0;34m.\u001b[0m\u001b[0mrun\u001b[0m\u001b[0;34m(\u001b[0m\u001b[0mtrain_op\u001b[0m\u001b[0;34m)\u001b[0m\u001b[0;34m\u001b[0m\u001b[0;34m\u001b[0m\u001b[0m\n\u001b[0m\u001b[1;32m     29\u001b[0m             \u001b[0;32mif\u001b[0m \u001b[0miteration\u001b[0m \u001b[0;34m%\u001b[0m \u001b[0;36m50\u001b[0m \u001b[0;34m==\u001b[0m \u001b[0;36m0\u001b[0m\u001b[0;34m:\u001b[0m\u001b[0;34m\u001b[0m\u001b[0;34m\u001b[0m\u001b[0m\n\u001b[1;32m     30\u001b[0m                 \u001b[0msummary\u001b[0m \u001b[0;34m=\u001b[0m \u001b[0msess\u001b[0m\u001b[0;34m.\u001b[0m\u001b[0mrun\u001b[0m\u001b[0;34m(\u001b[0m\u001b[0mmerged_summary\u001b[0m\u001b[0;34m)\u001b[0m\u001b[0;34m\u001b[0m\u001b[0;34m\u001b[0m\u001b[0m\n",
      "\u001b[0;32m~/anaconda3/lib/python3.6/site-packages/tensorflow/python/client/session.py\u001b[0m in \u001b[0;36mrun\u001b[0;34m(self, fetches, feed_dict, options, run_metadata)\u001b[0m\n\u001b[1;32m    903\u001b[0m     \u001b[0;32mtry\u001b[0m\u001b[0;34m:\u001b[0m\u001b[0;34m\u001b[0m\u001b[0;34m\u001b[0m\u001b[0m\n\u001b[1;32m    904\u001b[0m       result = self._run(None, fetches, feed_dict, options_ptr,\n\u001b[0;32m--> 905\u001b[0;31m                          run_metadata_ptr)\n\u001b[0m\u001b[1;32m    906\u001b[0m       \u001b[0;32mif\u001b[0m \u001b[0mrun_metadata\u001b[0m\u001b[0;34m:\u001b[0m\u001b[0;34m\u001b[0m\u001b[0;34m\u001b[0m\u001b[0m\n\u001b[1;32m    907\u001b[0m         \u001b[0mproto_data\u001b[0m \u001b[0;34m=\u001b[0m \u001b[0mtf_session\u001b[0m\u001b[0;34m.\u001b[0m\u001b[0mTF_GetBuffer\u001b[0m\u001b[0;34m(\u001b[0m\u001b[0mrun_metadata_ptr\u001b[0m\u001b[0;34m)\u001b[0m\u001b[0;34m\u001b[0m\u001b[0;34m\u001b[0m\u001b[0m\n",
      "\u001b[0;32m~/anaconda3/lib/python3.6/site-packages/tensorflow/python/client/session.py\u001b[0m in \u001b[0;36m_run\u001b[0;34m(self, handle, fetches, feed_dict, options, run_metadata)\u001b[0m\n\u001b[1;32m   1135\u001b[0m     \u001b[0;32mif\u001b[0m \u001b[0mfinal_fetches\u001b[0m \u001b[0;32mor\u001b[0m \u001b[0mfinal_targets\u001b[0m \u001b[0;32mor\u001b[0m \u001b[0;34m(\u001b[0m\u001b[0mhandle\u001b[0m \u001b[0;32mand\u001b[0m \u001b[0mfeed_dict_tensor\u001b[0m\u001b[0;34m)\u001b[0m\u001b[0;34m:\u001b[0m\u001b[0;34m\u001b[0m\u001b[0;34m\u001b[0m\u001b[0m\n\u001b[1;32m   1136\u001b[0m       results = self._do_run(handle, final_targets, final_fetches,\n\u001b[0;32m-> 1137\u001b[0;31m                              feed_dict_tensor, options, run_metadata)\n\u001b[0m\u001b[1;32m   1138\u001b[0m     \u001b[0;32melse\u001b[0m\u001b[0;34m:\u001b[0m\u001b[0;34m\u001b[0m\u001b[0;34m\u001b[0m\u001b[0m\n\u001b[1;32m   1139\u001b[0m       \u001b[0mresults\u001b[0m \u001b[0;34m=\u001b[0m \u001b[0;34m[\u001b[0m\u001b[0;34m]\u001b[0m\u001b[0;34m\u001b[0m\u001b[0;34m\u001b[0m\u001b[0m\n",
      "\u001b[0;32m~/anaconda3/lib/python3.6/site-packages/tensorflow/python/client/session.py\u001b[0m in \u001b[0;36m_do_run\u001b[0;34m(self, handle, target_list, fetch_list, feed_dict, options, run_metadata)\u001b[0m\n\u001b[1;32m   1353\u001b[0m     \u001b[0;32mif\u001b[0m \u001b[0mhandle\u001b[0m \u001b[0;32mis\u001b[0m \u001b[0;32mNone\u001b[0m\u001b[0;34m:\u001b[0m\u001b[0;34m\u001b[0m\u001b[0;34m\u001b[0m\u001b[0m\n\u001b[1;32m   1354\u001b[0m       return self._do_call(_run_fn, self._session, feeds, fetches, targets,\n\u001b[0;32m-> 1355\u001b[0;31m                            options, run_metadata)\n\u001b[0m\u001b[1;32m   1356\u001b[0m     \u001b[0;32melse\u001b[0m\u001b[0;34m:\u001b[0m\u001b[0;34m\u001b[0m\u001b[0;34m\u001b[0m\u001b[0m\n\u001b[1;32m   1357\u001b[0m       \u001b[0;32mreturn\u001b[0m \u001b[0mself\u001b[0m\u001b[0;34m.\u001b[0m\u001b[0m_do_call\u001b[0m\u001b[0;34m(\u001b[0m\u001b[0m_prun_fn\u001b[0m\u001b[0;34m,\u001b[0m \u001b[0mself\u001b[0m\u001b[0;34m.\u001b[0m\u001b[0m_session\u001b[0m\u001b[0;34m,\u001b[0m \u001b[0mhandle\u001b[0m\u001b[0;34m,\u001b[0m \u001b[0mfeeds\u001b[0m\u001b[0;34m,\u001b[0m \u001b[0mfetches\u001b[0m\u001b[0;34m)\u001b[0m\u001b[0;34m\u001b[0m\u001b[0;34m\u001b[0m\u001b[0m\n",
      "\u001b[0;32m~/anaconda3/lib/python3.6/site-packages/tensorflow/python/client/session.py\u001b[0m in \u001b[0;36m_do_call\u001b[0;34m(self, fn, *args)\u001b[0m\n\u001b[1;32m   1359\u001b[0m   \u001b[0;32mdef\u001b[0m \u001b[0m_do_call\u001b[0m\u001b[0;34m(\u001b[0m\u001b[0mself\u001b[0m\u001b[0;34m,\u001b[0m \u001b[0mfn\u001b[0m\u001b[0;34m,\u001b[0m \u001b[0;34m*\u001b[0m\u001b[0margs\u001b[0m\u001b[0;34m)\u001b[0m\u001b[0;34m:\u001b[0m\u001b[0;34m\u001b[0m\u001b[0;34m\u001b[0m\u001b[0m\n\u001b[1;32m   1360\u001b[0m     \u001b[0;32mtry\u001b[0m\u001b[0;34m:\u001b[0m\u001b[0;34m\u001b[0m\u001b[0;34m\u001b[0m\u001b[0m\n\u001b[0;32m-> 1361\u001b[0;31m       \u001b[0;32mreturn\u001b[0m \u001b[0mfn\u001b[0m\u001b[0;34m(\u001b[0m\u001b[0;34m*\u001b[0m\u001b[0margs\u001b[0m\u001b[0;34m)\u001b[0m\u001b[0;34m\u001b[0m\u001b[0;34m\u001b[0m\u001b[0m\n\u001b[0m\u001b[1;32m   1362\u001b[0m     \u001b[0;32mexcept\u001b[0m \u001b[0merrors\u001b[0m\u001b[0;34m.\u001b[0m\u001b[0mOpError\u001b[0m \u001b[0;32mas\u001b[0m \u001b[0me\u001b[0m\u001b[0;34m:\u001b[0m\u001b[0;34m\u001b[0m\u001b[0;34m\u001b[0m\u001b[0m\n\u001b[1;32m   1363\u001b[0m       \u001b[0mmessage\u001b[0m \u001b[0;34m=\u001b[0m \u001b[0mcompat\u001b[0m\u001b[0;34m.\u001b[0m\u001b[0mas_text\u001b[0m\u001b[0;34m(\u001b[0m\u001b[0me\u001b[0m\u001b[0;34m.\u001b[0m\u001b[0mmessage\u001b[0m\u001b[0;34m)\u001b[0m\u001b[0;34m\u001b[0m\u001b[0;34m\u001b[0m\u001b[0m\n",
      "\u001b[0;32m~/anaconda3/lib/python3.6/site-packages/tensorflow/python/client/session.py\u001b[0m in \u001b[0;36m_run_fn\u001b[0;34m(session, feed_dict, fetch_list, target_list, options, run_metadata)\u001b[0m\n\u001b[1;32m   1338\u001b[0m         \u001b[0;32melse\u001b[0m\u001b[0;34m:\u001b[0m\u001b[0;34m\u001b[0m\u001b[0;34m\u001b[0m\u001b[0m\n\u001b[1;32m   1339\u001b[0m           return tf_session.TF_Run(session, options, feed_dict, fetch_list,\n\u001b[0;32m-> 1340\u001b[0;31m                                    target_list, status, run_metadata)\n\u001b[0m\u001b[1;32m   1341\u001b[0m \u001b[0;34m\u001b[0m\u001b[0m\n\u001b[1;32m   1342\u001b[0m     \u001b[0;32mdef\u001b[0m \u001b[0m_prun_fn\u001b[0m\u001b[0;34m(\u001b[0m\u001b[0msession\u001b[0m\u001b[0;34m,\u001b[0m \u001b[0mhandle\u001b[0m\u001b[0;34m,\u001b[0m \u001b[0mfeed_dict\u001b[0m\u001b[0;34m,\u001b[0m \u001b[0mfetch_list\u001b[0m\u001b[0;34m)\u001b[0m\u001b[0;34m:\u001b[0m\u001b[0;34m\u001b[0m\u001b[0;34m\u001b[0m\u001b[0m\n",
      "\u001b[0;31mKeyboardInterrupt\u001b[0m: "
     ]
    }
   ],
   "source": [
    "sparse_vectors, denoised = DeepMoD(X_train, y_train, config, library_2Din_1Dout, library_config, train_opts, output_opts)"
   ]
  },
  {
   "cell_type": "markdown",
   "metadata": {},
   "source": [
    "Show final result:"
   ]
  },
  {
   "cell_type": "code",
   "execution_count": 16,
   "metadata": {},
   "outputs": [
    {
     "name": "stdout",
     "output_type": "stream",
     "text": [
      "Inferred equation:\n",
      "u_t = 0.308u_{y} + 0.008u_{xx} + 0.008u_{yy} - 0.027u\n"
     ]
    }
   ],
   "source": [
    "u = ['1', 'u']\n",
    "du = ['1', 'u_{x}', 'u_{y}','u_{xx}', 'u_{yy}','u_{xy}']\n",
    "coeffs_list = library_matrix_mat(u, du)\n",
    "\n",
    "print('Inferred equation:')\n",
    "print_PDE(sparse_vectors[0], coeffs_list, PDE_term='u_t')"
   ]
  },
  {
   "cell_type": "markdown",
   "metadata": {},
   "source": [
    "Plot the 'Ground truth', 'Noisy' and 'Reconstructed/Denoised' solution"
   ]
  },
  {
   "cell_type": "code",
   "execution_count": 22,
   "metadata": {},
   "outputs": [],
   "source": [
    "X_predict = X[(X[:,0]==5.0) | (X[:,0]==9.0) | (X[:,0]==7.0), :]"
   ]
  },
  {
   "cell_type": "code",
   "execution_count": 23,
   "metadata": {},
   "outputs": [],
   "source": [
    "data_dict = {'x_grid': X[:,1],'y_grid': X[:,2], 't_grid': X[:,0], 'ground_truth': np.squeeze(y), 'noisy': np.squeeze(y_noisy)}\n",
    "df = pd.DataFrame(data_dict)\n",
    "for key in df:\n",
    "    df[key] = np.squeeze(df[key])\n",
    "data = pd.DataFrame(df)"
   ]
  },
  {
   "cell_type": "code",
   "execution_count": 24,
   "metadata": {},
   "outputs": [],
   "source": [
    "data_dict_denoised = {'x_grid': X[:,1],'y_grid': X[:,2], 't_grid': X[:,0], 'denoised': np.squeeze(denoised)}\n",
    "df_dn = pd.DataFrame(data_dict_denoised)\n",
    "for key in df_dn:\n",
    "    df_dn[key] = np.squeeze(df_dn[key])\n",
    "data_denoised = pd.DataFrame(df_dn)"
   ]
  },
  {
   "cell_type": "code",
   "execution_count": 31,
   "metadata": {},
   "outputs": [
    {
     "data": {
      "image/png": "[encoded data removed]",
      "text/plain": [
       "<Figure size 1080x288 with 4 Axes>"
      ]
     },
     "metadata": {
      "needs_background": "light"
     },
     "output_type": "display_data"
    }
   ],
   "source": [
    "time1 = 7.0\n",
    "\n",
    "vmin = np.min(data[data['t_grid'] == time1]['ground_truth'])\n",
    "vmax = np.max(data[data['t_grid'] == time1]['ground_truth'])\n",
    "\n",
    "fig, axes = plt.subplots(ncols=3, figsize=(15, 4))\n",
    "\n",
    "im1 = axes[0].contourf(pd.pivot_table(data[data['t_grid'] == time1],index='y_grid', columns='x_grid', values='ground_truth'), cmap='coolwarm',vmin=vmin, vmax=vmax)\n",
    "axes[0].set_xlabel('x')\n",
    "axes[0].set_ylabel('y')\n",
    "axes[0].set_title('Ground truth')\n",
    "\n",
    "im2 = axes[1].contourf(pd.pivot_table(data[data['t_grid'] == time1],index='y_grid', columns='x_grid', values='noisy'), cmap='coolwarm', vmin=vmin, vmax=vmax)\n",
    "axes[1].set_xlabel('x')\n",
    "axes[1].set_title('Noisy')\n",
    "\n",
    "im3 = axes[2].contourf(pd.pivot_table(data_denoised[data_denoised['t_grid'] == time1],index='y_grid', columns='x_grid', values='denoised'), cmap='coolwarm', vmin=vmin, vmax=vmax)\n",
    "axes[2].set_xlabel('x')\n",
    "axes[2].set_title('Sampled')\n",
    "\n",
    "fig.colorbar(im1, ax=axes.ravel().tolist())\n",
    "\n",
    "plt.show()"
   ]
  },
  {
   "cell_type": "code",
   "execution_count": null,
   "metadata": {},
   "outputs": [],
   "source": []
  }
 ],
 "metadata": {
  "kernelspec": {
   "display_name": "Python 3",
   "language": "python",
   "name": "python3"
  },
  "language_info": {
   "codemirror_mode": {
    "name": "ipython",
    "version": 3
   },
   "file_extension": ".py",
   "mimetype": "text/x-python",
   "name": "python",
   "nbconvert_exporter": "python",
   "pygments_lexer": "ipython3",
   "version": "3.6.8"
  }
 },
 "nbformat": 4,
 "nbformat_minor": 2
}
