{
 "cells": [
  {
   "cell_type": "code",
   "execution_count": 2,
   "metadata": {},
   "outputs": [],
   "source": [
    "import numpy as np\n",
    "import pandas as pd \n",
    "\n",
    "from scipy.io import loadmat\n",
    "from deepymod.DeepMoD import DeepMoD\n",
    "from deepymod.library_functions import library_2Din_1Dout\n",
    "from deepymod.utilities import library_matrix_mat, print_PDE\n",
    "\n",
    "import matplotlib.pyplot as plt\n",
    "plt.style.use('seaborn-notebook')\n",
    "\n",
    "np.random.seed(42)  # setting seed for randomisation"
   ]
  },
  {
   "cell_type": "markdown",
   "metadata": {},
   "source": [
    "## Prepare the data"
   ]
  },
  {
   "cell_type": "markdown",
   "metadata": {},
   "source": [
    "Next, we prepare the dataset."
   ]
  },
  {
   "cell_type": "code",
   "execution_count": 18,
   "metadata": {},
   "outputs": [
    {
     "name": "stdout",
     "output_type": "stream",
     "text": [
      "Collecting scikit-video\n",
      "\u001b[?25l  Downloading https://files.pythonhosted.org/packages/b1/a6/c69cad508139a342810ae46e946ebb3256aa6e42f690d901bb68f50582e3/scikit_video-1.1.11-py2.py3-none-any.whl (2.3MB)\n",
      "\u001b[K     |████████████████████████████████| 2.3MB 4.0MB/s \n",
      "\u001b[?25hRequirement already satisfied: numpy in /Users/remykusters/.local/lib/python3.6/site-packages (from scikit-video) (1.16.2)\n",
      "Requirement already satisfied: scipy in /Users/remykusters/anaconda3/lib/python3.6/site-packages (from scikit-video) (1.1.0)\n",
      "Requirement already satisfied: pillow in /Users/remykusters/anaconda3/lib/python3.6/site-packages (from scikit-video) (5.3.0)\n",
      "Installing collected packages: scikit-video\n",
      "Successfully installed scikit-video-1.1.11\n"
     ]
    }
   ],
   "source": [
    "!pip install scikit-video"
   ]
  },
  {
   "cell_type": "code",
   "execution_count": 19,
   "metadata": {},
   "outputs": [],
   "source": [
    "import skvideo.io"
   ]
  },
  {
   "cell_type": "code",
   "execution_count": 20,
   "metadata": {},
   "outputs": [],
   "source": [
    "videodata = skvideo.io.vread('data/P3.mov')"
   ]
  },
  {
   "cell_type": "code",
   "execution_count": 21,
   "metadata": {},
   "outputs": [
    {
     "data": {
      "text/plain": [
       "(8176, 1024, 512, 3)"
      ]
     },
     "execution_count": 21,
     "metadata": {},
     "output_type": "execute_result"
    }
   ],
   "source": [
    "videodata.shape"
   ]
  },
  {
   "cell_type": "code",
   "execution_count": 22,
   "metadata": {},
   "outputs": [],
   "source": [
    "import av\n",
    "v = av.open('data/P3.mov')"
   ]
  },
  {
   "cell_type": "code",
   "execution_count": 23,
   "metadata": {},
   "outputs": [],
   "source": [
    "frames = 0\n",
    "for packet in v.demux():\n",
    "    for frame in packet.decode():\n",
    "        frames += 1"
   ]
  },
  {
   "cell_type": "code",
   "execution_count": 24,
   "metadata": {},
   "outputs": [
    {
     "data": {
      "text/plain": [
       "8176"
      ]
     },
     "execution_count": 24,
     "metadata": {},
     "output_type": "execute_result"
    }
   ],
   "source": [
    "frames"
   ]
  },
  {
   "cell_type": "code",
   "execution_count": 17,
   "metadata": {},
   "outputs": [
    {
     "ename": "AVError",
     "evalue": "[Errno 541478725] End of file",
     "output_type": "error",
     "traceback": [
      "\u001b[0;31m---------------------------------------------------------------------------\u001b[0m",
      "\u001b[0;31mAVError\u001b[0m                                   Traceback (most recent call last)",
      "\u001b[0;32m<ipython-input-17-ef8206fb8493>\u001b[0m in \u001b[0;36m<module>\u001b[0;34m\u001b[0m\n\u001b[1;32m      1\u001b[0m \u001b[0mfull_arr\u001b[0m\u001b[0;34m=\u001b[0m\u001b[0;34m(\u001b[0m\u001b[0;34m)\u001b[0m\u001b[0;34m\u001b[0m\u001b[0;34m\u001b[0m\u001b[0m\n\u001b[1;32m      2\u001b[0m \u001b[0;32mfor\u001b[0m \u001b[0mpacket\u001b[0m \u001b[0;32min\u001b[0m \u001b[0mv\u001b[0m\u001b[0;34m.\u001b[0m\u001b[0mdemux\u001b[0m\u001b[0;34m(\u001b[0m\u001b[0;34m)\u001b[0m\u001b[0;34m:\u001b[0m\u001b[0;34m\u001b[0m\u001b[0;34m\u001b[0m\u001b[0m\n\u001b[0;32m----> 3\u001b[0;31m     \u001b[0;32mfor\u001b[0m \u001b[0mframe\u001b[0m \u001b[0;32min\u001b[0m \u001b[0mpacket\u001b[0m\u001b[0;34m.\u001b[0m\u001b[0mdecode\u001b[0m\u001b[0;34m(\u001b[0m\u001b[0;34m)\u001b[0m\u001b[0;34m:\u001b[0m\u001b[0;34m\u001b[0m\u001b[0;34m\u001b[0m\u001b[0m\n\u001b[0m\u001b[1;32m      4\u001b[0m         \u001b[0mimg\u001b[0m \u001b[0;34m=\u001b[0m \u001b[0mframe\u001b[0m\u001b[0;34m.\u001b[0m\u001b[0mto_image\u001b[0m\u001b[0;34m(\u001b[0m\u001b[0;34m)\u001b[0m  \u001b[0;31m# PIL/Pillow image\u001b[0m\u001b[0;34m\u001b[0m\u001b[0;34m\u001b[0m\u001b[0m\n\u001b[1;32m      5\u001b[0m         \u001b[0marr\u001b[0m \u001b[0;34m=\u001b[0m \u001b[0mnp\u001b[0m\u001b[0;34m.\u001b[0m\u001b[0masarray\u001b[0m\u001b[0;34m(\u001b[0m\u001b[0mimg\u001b[0m\u001b[0;34m)\u001b[0m  \u001b[0;31m# numpy array\u001b[0m\u001b[0;34m\u001b[0m\u001b[0;34m\u001b[0m\u001b[0m\n",
      "\u001b[0;32mav/packet.pyx\u001b[0m in \u001b[0;36mav.packet.Packet.decode\u001b[0;34m()\u001b[0m\n",
      "\u001b[0;32mav/stream.pyx\u001b[0m in \u001b[0;36mav.stream.Stream.decode\u001b[0;34m()\u001b[0m\n",
      "\u001b[0;32mav/codec/context.pyx\u001b[0m in \u001b[0;36mav.codec.context.CodecContext.decode\u001b[0;34m()\u001b[0m\n",
      "\u001b[0;32mav/codec/context.pyx\u001b[0m in \u001b[0;36mav.codec.context.CodecContext._send_packet_and_recv\u001b[0;34m()\u001b[0m\n",
      "\u001b[0;32mav/utils.pyx\u001b[0m in \u001b[0;36mav.utils.err_check\u001b[0;34m()\u001b[0m\n",
      "\u001b[0;31mAVError\u001b[0m: [Errno 541478725] End of file"
     ]
    }
   ],
   "source": [
    "\n",
    "for packet in v.demux():\n",
    "    for frame in packet.decode():\n",
    "        img = frame.to_image()  # PIL/Pillow image\n",
    "        arr = np.asarray(img)  # numpy array\n",
    "        full_arr.append(arr)"
   ]
  },
  {
   "cell_type": "code",
   "execution_count": 16,
   "metadata": {},
   "outputs": [
    {
     "ename": "AttributeError",
     "evalue": "'list' object has no attribute 'shape'",
     "output_type": "error",
     "traceback": [
      "\u001b[0;31m---------------------------------------------------------------------------\u001b[0m",
      "\u001b[0;31mAttributeError\u001b[0m                            Traceback (most recent call last)",
      "\u001b[0;32m<ipython-input-16-3557a69972f4>\u001b[0m in \u001b[0;36m<module>\u001b[0;34m\u001b[0m\n\u001b[0;32m----> 1\u001b[0;31m \u001b[0mfull_arr\u001b[0m\u001b[0;34m.\u001b[0m\u001b[0mshape\u001b[0m\u001b[0;34m\u001b[0m\u001b[0;34m\u001b[0m\u001b[0m\n\u001b[0m",
      "\u001b[0;31mAttributeError\u001b[0m: 'list' object has no attribute 'shape'"
     ]
    }
   ],
   "source": [
    "full_arr.shape"
   ]
  },
  {
   "cell_type": "code",
   "execution_count": 14,
   "metadata": {},
   "outputs": [],
   "source": [
    "np.save('test.npy',arr)"
   ]
  },
  {
   "cell_type": "code",
   "execution_count": null,
   "metadata": {},
   "outputs": [],
   "source": [
    "if frame.type == 'video':\n",
    "            img = frame.to_image()  # PIL/Pillow image\n",
    "            arr = np.asarray(img)  # numpy array\n",
    "            print(arr.shape)\n",
    "            # Do something!"
   ]
  },
  {
   "cell_type": "code",
   "execution_count": null,
   "metadata": {},
   "outputs": [],
   "source": []
  },
  {
   "cell_type": "code",
   "execution_count": 18,
   "metadata": {},
   "outputs": [
    {
     "ename": "TypeError",
     "evalue": "list indices must be integers or slices, not av.video.stream.VideoStream",
     "output_type": "error",
     "traceback": [
      "\u001b[0;31m---------------------------------------------------------------------------\u001b[0m",
      "\u001b[0;31mTypeError\u001b[0m                                 Traceback (most recent call last)",
      "\u001b[0;32m<ipython-input-18-28b6ed8d444e>\u001b[0m in \u001b[0;36m<module>\u001b[0;34m\u001b[0m\n\u001b[1;32m      1\u001b[0m \u001b[0;32mimport\u001b[0m \u001b[0mpims\u001b[0m\u001b[0;34m\u001b[0m\u001b[0;34m\u001b[0m\u001b[0m\n\u001b[0;32m----> 2\u001b[0;31m \u001b[0mv\u001b[0m \u001b[0;34m=\u001b[0m \u001b[0mpims\u001b[0m\u001b[0;34m.\u001b[0m\u001b[0mVideo\u001b[0m\u001b[0;34m(\u001b[0m\u001b[0;34m'data/P3.mov'\u001b[0m\u001b[0;34m)\u001b[0m\u001b[0;34m\u001b[0m\u001b[0;34m\u001b[0m\u001b[0m\n\u001b[0m",
      "\u001b[0;32m~/anaconda3/lib/python3.6/site-packages/pims/pyav_reader.py\u001b[0m in \u001b[0;36m__init__\u001b[0;34m(self, filename, cache_size, fast_forward_thresh, stream_index)\u001b[0m\n\u001b[1;32m    137\u001b[0m         \u001b[0;31m# obtain first frame to get first time point\u001b[0m\u001b[0;34m\u001b[0m\u001b[0;34m\u001b[0m\u001b[0;34m\u001b[0m\u001b[0m\n\u001b[1;32m    138\u001b[0m         \u001b[0;31m# also tests for the presence of timestamps\u001b[0m\u001b[0;34m\u001b[0m\u001b[0;34m\u001b[0m\u001b[0;34m\u001b[0m\u001b[0m\n\u001b[0;32m--> 139\u001b[0;31m         \u001b[0mframe\u001b[0m \u001b[0;34m=\u001b[0m \u001b[0mnext\u001b[0m\u001b[0;34m(\u001b[0m\u001b[0m_gen_frames\u001b[0m\u001b[0;34m(\u001b[0m\u001b[0mdemuxer\u001b[0m\u001b[0;34m,\u001b[0m \u001b[0mself\u001b[0m\u001b[0;34m.\u001b[0m\u001b[0m_stream\u001b[0m\u001b[0;34m.\u001b[0m\u001b[0mtime_base\u001b[0m\u001b[0;34m)\u001b[0m\u001b[0;34m)\u001b[0m\u001b[0;34m\u001b[0m\u001b[0;34m\u001b[0m\u001b[0m\n\u001b[0m\u001b[1;32m    140\u001b[0m         \u001b[0mself\u001b[0m\u001b[0;34m.\u001b[0m\u001b[0m_first_pts\u001b[0m \u001b[0;34m=\u001b[0m \u001b[0mframe\u001b[0m\u001b[0;34m.\u001b[0m\u001b[0mmetadata\u001b[0m\u001b[0;34m[\u001b[0m\u001b[0;34m'timestamp'\u001b[0m\u001b[0;34m]\u001b[0m\u001b[0;34m\u001b[0m\u001b[0;34m\u001b[0m\u001b[0m\n\u001b[1;32m    141\u001b[0m \u001b[0;34m\u001b[0m\u001b[0m\n",
      "\u001b[0;32m~/anaconda3/lib/python3.6/site-packages/pims/pyav_reader.py\u001b[0m in \u001b[0;36m_gen_frames\u001b[0;34m(demuxer, time_base, frame_rate, first_pts)\u001b[0m\n\u001b[1;32m     52\u001b[0m \u001b[0;34m\u001b[0m\u001b[0m\n\u001b[1;32m     53\u001b[0m \u001b[0;32mdef\u001b[0m \u001b[0m_gen_frames\u001b[0m\u001b[0;34m(\u001b[0m\u001b[0mdemuxer\u001b[0m\u001b[0;34m,\u001b[0m \u001b[0mtime_base\u001b[0m\u001b[0;34m,\u001b[0m \u001b[0mframe_rate\u001b[0m\u001b[0;34m=\u001b[0m\u001b[0;36m1.\u001b[0m\u001b[0;34m,\u001b[0m \u001b[0mfirst_pts\u001b[0m\u001b[0;34m=\u001b[0m\u001b[0;36m0\u001b[0m\u001b[0;34m)\u001b[0m\u001b[0;34m:\u001b[0m\u001b[0;34m\u001b[0m\u001b[0;34m\u001b[0m\u001b[0m\n\u001b[0;32m---> 54\u001b[0;31m     \u001b[0;32mfor\u001b[0m \u001b[0mpacket\u001b[0m \u001b[0;32min\u001b[0m \u001b[0mdemuxer\u001b[0m\u001b[0;34m:\u001b[0m\u001b[0;34m\u001b[0m\u001b[0;34m\u001b[0m\u001b[0m\n\u001b[0m\u001b[1;32m     55\u001b[0m         \u001b[0;32mfor\u001b[0m \u001b[0mframe\u001b[0m \u001b[0;32min\u001b[0m \u001b[0mpacket\u001b[0m\u001b[0;34m.\u001b[0m\u001b[0mdecode\u001b[0m\u001b[0;34m(\u001b[0m\u001b[0;34m)\u001b[0m\u001b[0;34m:\u001b[0m\u001b[0;34m\u001b[0m\u001b[0;34m\u001b[0m\u001b[0m\n\u001b[1;32m     56\u001b[0m             \u001b[0;31m# learn timestamp\u001b[0m\u001b[0;34m\u001b[0m\u001b[0;34m\u001b[0m\u001b[0;34m\u001b[0m\u001b[0m\n",
      "\u001b[0;32mav/container/input.pyx\u001b[0m in \u001b[0;36mdemux\u001b[0;34m()\u001b[0m\n",
      "\u001b[0;32mav/container/streams.pyx\u001b[0m in \u001b[0;36m_flatten\u001b[0;34m()\u001b[0m\n",
      "\u001b[0;31mTypeError\u001b[0m: list indices must be integers or slices, not av.video.stream.VideoStream"
     ]
    }
   ],
   "source": [
    "import pims\n",
    "v = pims.Video('data/P3.mov')\n"
   ]
  },
  {
   "cell_type": "code",
   "execution_count": 12,
   "metadata": {},
   "outputs": [
    {
     "ename": "HTTPError",
     "evalue": "HTTP Error 404: Not Found",
     "output_type": "error",
     "traceback": [
      "\u001b[0;31m---------------------------------------------------------------------------\u001b[0m",
      "\u001b[0;31mHTTPError\u001b[0m                                 Traceback (most recent call last)",
      "\u001b[0;32m<ipython-input-12-902b1530a87b>\u001b[0m in \u001b[0;36m<module>\u001b[0;34m\u001b[0m\n\u001b[1;32m      6\u001b[0m \u001b[0;34m\u001b[0m\u001b[0m\n\u001b[1;32m      7\u001b[0m \u001b[0;34m\u001b[0m\u001b[0m\n\u001b[0;32m----> 8\u001b[0;31m \u001b[0mcontainer\u001b[0m \u001b[0;34m=\u001b[0m \u001b[0mav\u001b[0m\u001b[0;34m.\u001b[0m\u001b[0mopen\u001b[0m\u001b[0;34m(\u001b[0m\u001b[0mav\u001b[0m\u001b[0;34m.\u001b[0m\u001b[0mdatasets\u001b[0m\u001b[0;34m.\u001b[0m\u001b[0mcurated\u001b[0m\u001b[0;34m(\u001b[0m\u001b[0;34m'data/P3.mov'\u001b[0m\u001b[0;34m)\u001b[0m\u001b[0;34m)\u001b[0m\u001b[0;34m\u001b[0m\u001b[0;34m\u001b[0m\u001b[0m\n\u001b[0m\u001b[1;32m      9\u001b[0m \u001b[0mcontainer\u001b[0m\u001b[0;34m.\u001b[0m\u001b[0mstreams\u001b[0m\u001b[0;34m.\u001b[0m\u001b[0mvideo\u001b[0m\u001b[0;34m[\u001b[0m\u001b[0;36m0\u001b[0m\u001b[0;34m]\u001b[0m\u001b[0;34m.\u001b[0m\u001b[0mthread_type\u001b[0m \u001b[0;34m=\u001b[0m \u001b[0;34m'AUTO'\u001b[0m  \u001b[0;31m# Go faster!\u001b[0m\u001b[0;34m\u001b[0m\u001b[0;34m\u001b[0m\u001b[0m\n\u001b[1;32m     10\u001b[0m \u001b[0;34m\u001b[0m\u001b[0m\n",
      "\u001b[0;32m~/anaconda3/lib/python3.6/site-packages/av/datasets.py\u001b[0m in \u001b[0;36mcurated\u001b[0;34m(name)\u001b[0m\n\u001b[1;32m    125\u001b[0m     \"\"\"\n\u001b[1;32m    126\u001b[0m     return cached_download('https://docs.mikeboers.com/pyav/samples/' + name,\n\u001b[0;32m--> 127\u001b[0;31m                            os.path.join('pyav-curated', name.replace('/', os.path.sep)))\n\u001b[0m",
      "\u001b[0;32m~/anaconda3/lib/python3.6/site-packages/av/datasets.py\u001b[0m in \u001b[0;36mcached_download\u001b[0;34m(url, name)\u001b[0m\n\u001b[1;32m     81\u001b[0m     \u001b[0mlog\u001b[0m\u001b[0;34m.\u001b[0m\u001b[0minfo\u001b[0m\u001b[0;34m(\u001b[0m\u001b[0;34m\"Downloading {} to {}\"\u001b[0m\u001b[0;34m.\u001b[0m\u001b[0mformat\u001b[0m\u001b[0;34m(\u001b[0m\u001b[0murl\u001b[0m\u001b[0;34m,\u001b[0m \u001b[0mpath\u001b[0m\u001b[0;34m)\u001b[0m\u001b[0;34m)\u001b[0m\u001b[0;34m\u001b[0m\u001b[0;34m\u001b[0m\u001b[0m\n\u001b[1;32m     82\u001b[0m \u001b[0;34m\u001b[0m\u001b[0m\n\u001b[0;32m---> 83\u001b[0;31m     \u001b[0mresponse\u001b[0m \u001b[0;34m=\u001b[0m \u001b[0murlopen\u001b[0m\u001b[0;34m(\u001b[0m\u001b[0murl\u001b[0m\u001b[0;34m)\u001b[0m\u001b[0;34m\u001b[0m\u001b[0;34m\u001b[0m\u001b[0m\n\u001b[0m\u001b[1;32m     84\u001b[0m     \u001b[0;32mif\u001b[0m \u001b[0mresponse\u001b[0m\u001b[0;34m.\u001b[0m\u001b[0mgetcode\u001b[0m\u001b[0;34m(\u001b[0m\u001b[0;34m)\u001b[0m \u001b[0;34m!=\u001b[0m \u001b[0;36m200\u001b[0m\u001b[0;34m:\u001b[0m\u001b[0;34m\u001b[0m\u001b[0;34m\u001b[0m\u001b[0m\n\u001b[1;32m     85\u001b[0m         \u001b[0;32mraise\u001b[0m \u001b[0mValueError\u001b[0m\u001b[0;34m(\u001b[0m\u001b[0;34m\"HTTP {}\"\u001b[0m\u001b[0;34m.\u001b[0m\u001b[0mformat\u001b[0m\u001b[0;34m(\u001b[0m\u001b[0mresponse\u001b[0m\u001b[0;34m.\u001b[0m\u001b[0mgetcode\u001b[0m\u001b[0;34m(\u001b[0m\u001b[0;34m)\u001b[0m\u001b[0;34m)\u001b[0m\u001b[0;34m)\u001b[0m\u001b[0;34m\u001b[0m\u001b[0;34m\u001b[0m\u001b[0m\n",
      "\u001b[0;32m~/anaconda3/lib/python3.6/urllib/request.py\u001b[0m in \u001b[0;36murlopen\u001b[0;34m(url, data, timeout, cafile, capath, cadefault, context)\u001b[0m\n\u001b[1;32m    221\u001b[0m     \u001b[0;32melse\u001b[0m\u001b[0;34m:\u001b[0m\u001b[0;34m\u001b[0m\u001b[0;34m\u001b[0m\u001b[0m\n\u001b[1;32m    222\u001b[0m         \u001b[0mopener\u001b[0m \u001b[0;34m=\u001b[0m \u001b[0m_opener\u001b[0m\u001b[0;34m\u001b[0m\u001b[0;34m\u001b[0m\u001b[0m\n\u001b[0;32m--> 223\u001b[0;31m     \u001b[0;32mreturn\u001b[0m \u001b[0mopener\u001b[0m\u001b[0;34m.\u001b[0m\u001b[0mopen\u001b[0m\u001b[0;34m(\u001b[0m\u001b[0murl\u001b[0m\u001b[0;34m,\u001b[0m \u001b[0mdata\u001b[0m\u001b[0;34m,\u001b[0m \u001b[0mtimeout\u001b[0m\u001b[0;34m)\u001b[0m\u001b[0;34m\u001b[0m\u001b[0;34m\u001b[0m\u001b[0m\n\u001b[0m\u001b[1;32m    224\u001b[0m \u001b[0;34m\u001b[0m\u001b[0m\n\u001b[1;32m    225\u001b[0m \u001b[0;32mdef\u001b[0m \u001b[0minstall_opener\u001b[0m\u001b[0;34m(\u001b[0m\u001b[0mopener\u001b[0m\u001b[0;34m)\u001b[0m\u001b[0;34m:\u001b[0m\u001b[0;34m\u001b[0m\u001b[0;34m\u001b[0m\u001b[0m\n",
      "\u001b[0;32m~/anaconda3/lib/python3.6/urllib/request.py\u001b[0m in \u001b[0;36mopen\u001b[0;34m(self, fullurl, data, timeout)\u001b[0m\n\u001b[1;32m    530\u001b[0m         \u001b[0;32mfor\u001b[0m \u001b[0mprocessor\u001b[0m \u001b[0;32min\u001b[0m \u001b[0mself\u001b[0m\u001b[0;34m.\u001b[0m\u001b[0mprocess_response\u001b[0m\u001b[0;34m.\u001b[0m\u001b[0mget\u001b[0m\u001b[0;34m(\u001b[0m\u001b[0mprotocol\u001b[0m\u001b[0;34m,\u001b[0m \u001b[0;34m[\u001b[0m\u001b[0;34m]\u001b[0m\u001b[0;34m)\u001b[0m\u001b[0;34m:\u001b[0m\u001b[0;34m\u001b[0m\u001b[0;34m\u001b[0m\u001b[0m\n\u001b[1;32m    531\u001b[0m             \u001b[0mmeth\u001b[0m \u001b[0;34m=\u001b[0m \u001b[0mgetattr\u001b[0m\u001b[0;34m(\u001b[0m\u001b[0mprocessor\u001b[0m\u001b[0;34m,\u001b[0m \u001b[0mmeth_name\u001b[0m\u001b[0;34m)\u001b[0m\u001b[0;34m\u001b[0m\u001b[0;34m\u001b[0m\u001b[0m\n\u001b[0;32m--> 532\u001b[0;31m             \u001b[0mresponse\u001b[0m \u001b[0;34m=\u001b[0m \u001b[0mmeth\u001b[0m\u001b[0;34m(\u001b[0m\u001b[0mreq\u001b[0m\u001b[0;34m,\u001b[0m \u001b[0mresponse\u001b[0m\u001b[0;34m)\u001b[0m\u001b[0;34m\u001b[0m\u001b[0;34m\u001b[0m\u001b[0m\n\u001b[0m\u001b[1;32m    533\u001b[0m \u001b[0;34m\u001b[0m\u001b[0m\n\u001b[1;32m    534\u001b[0m         \u001b[0;32mreturn\u001b[0m \u001b[0mresponse\u001b[0m\u001b[0;34m\u001b[0m\u001b[0;34m\u001b[0m\u001b[0m\n",
      "\u001b[0;32m~/anaconda3/lib/python3.6/urllib/request.py\u001b[0m in \u001b[0;36mhttp_response\u001b[0;34m(self, request, response)\u001b[0m\n\u001b[1;32m    640\u001b[0m         \u001b[0;32mif\u001b[0m \u001b[0;32mnot\u001b[0m \u001b[0;34m(\u001b[0m\u001b[0;36m200\u001b[0m \u001b[0;34m<=\u001b[0m \u001b[0mcode\u001b[0m \u001b[0;34m<\u001b[0m \u001b[0;36m300\u001b[0m\u001b[0;34m)\u001b[0m\u001b[0;34m:\u001b[0m\u001b[0;34m\u001b[0m\u001b[0;34m\u001b[0m\u001b[0m\n\u001b[1;32m    641\u001b[0m             response = self.parent.error(\n\u001b[0;32m--> 642\u001b[0;31m                 'http', request, response, code, msg, hdrs)\n\u001b[0m\u001b[1;32m    643\u001b[0m \u001b[0;34m\u001b[0m\u001b[0m\n\u001b[1;32m    644\u001b[0m         \u001b[0;32mreturn\u001b[0m \u001b[0mresponse\u001b[0m\u001b[0;34m\u001b[0m\u001b[0;34m\u001b[0m\u001b[0m\n",
      "\u001b[0;32m~/anaconda3/lib/python3.6/urllib/request.py\u001b[0m in \u001b[0;36merror\u001b[0;34m(self, proto, *args)\u001b[0m\n\u001b[1;32m    568\u001b[0m         \u001b[0;32mif\u001b[0m \u001b[0mhttp_err\u001b[0m\u001b[0;34m:\u001b[0m\u001b[0;34m\u001b[0m\u001b[0;34m\u001b[0m\u001b[0m\n\u001b[1;32m    569\u001b[0m             \u001b[0margs\u001b[0m \u001b[0;34m=\u001b[0m \u001b[0;34m(\u001b[0m\u001b[0mdict\u001b[0m\u001b[0;34m,\u001b[0m \u001b[0;34m'default'\u001b[0m\u001b[0;34m,\u001b[0m \u001b[0;34m'http_error_default'\u001b[0m\u001b[0;34m)\u001b[0m \u001b[0;34m+\u001b[0m \u001b[0morig_args\u001b[0m\u001b[0;34m\u001b[0m\u001b[0;34m\u001b[0m\u001b[0m\n\u001b[0;32m--> 570\u001b[0;31m             \u001b[0;32mreturn\u001b[0m \u001b[0mself\u001b[0m\u001b[0;34m.\u001b[0m\u001b[0m_call_chain\u001b[0m\u001b[0;34m(\u001b[0m\u001b[0;34m*\u001b[0m\u001b[0margs\u001b[0m\u001b[0;34m)\u001b[0m\u001b[0;34m\u001b[0m\u001b[0;34m\u001b[0m\u001b[0m\n\u001b[0m\u001b[1;32m    571\u001b[0m \u001b[0;34m\u001b[0m\u001b[0m\n\u001b[1;32m    572\u001b[0m \u001b[0;31m# XXX probably also want an abstract factory that knows when it makes\u001b[0m\u001b[0;34m\u001b[0m\u001b[0;34m\u001b[0m\u001b[0;34m\u001b[0m\u001b[0m\n",
      "\u001b[0;32m~/anaconda3/lib/python3.6/urllib/request.py\u001b[0m in \u001b[0;36m_call_chain\u001b[0;34m(self, chain, kind, meth_name, *args)\u001b[0m\n\u001b[1;32m    502\u001b[0m         \u001b[0;32mfor\u001b[0m \u001b[0mhandler\u001b[0m \u001b[0;32min\u001b[0m \u001b[0mhandlers\u001b[0m\u001b[0;34m:\u001b[0m\u001b[0;34m\u001b[0m\u001b[0;34m\u001b[0m\u001b[0m\n\u001b[1;32m    503\u001b[0m             \u001b[0mfunc\u001b[0m \u001b[0;34m=\u001b[0m \u001b[0mgetattr\u001b[0m\u001b[0;34m(\u001b[0m\u001b[0mhandler\u001b[0m\u001b[0;34m,\u001b[0m \u001b[0mmeth_name\u001b[0m\u001b[0;34m)\u001b[0m\u001b[0;34m\u001b[0m\u001b[0;34m\u001b[0m\u001b[0m\n\u001b[0;32m--> 504\u001b[0;31m             \u001b[0mresult\u001b[0m \u001b[0;34m=\u001b[0m \u001b[0mfunc\u001b[0m\u001b[0;34m(\u001b[0m\u001b[0;34m*\u001b[0m\u001b[0margs\u001b[0m\u001b[0;34m)\u001b[0m\u001b[0;34m\u001b[0m\u001b[0;34m\u001b[0m\u001b[0m\n\u001b[0m\u001b[1;32m    505\u001b[0m             \u001b[0;32mif\u001b[0m \u001b[0mresult\u001b[0m \u001b[0;32mis\u001b[0m \u001b[0;32mnot\u001b[0m \u001b[0;32mNone\u001b[0m\u001b[0;34m:\u001b[0m\u001b[0;34m\u001b[0m\u001b[0;34m\u001b[0m\u001b[0m\n\u001b[1;32m    506\u001b[0m                 \u001b[0;32mreturn\u001b[0m \u001b[0mresult\u001b[0m\u001b[0;34m\u001b[0m\u001b[0;34m\u001b[0m\u001b[0m\n",
      "\u001b[0;32m~/anaconda3/lib/python3.6/urllib/request.py\u001b[0m in \u001b[0;36mhttp_error_default\u001b[0;34m(self, req, fp, code, msg, hdrs)\u001b[0m\n\u001b[1;32m    648\u001b[0m \u001b[0;32mclass\u001b[0m \u001b[0mHTTPDefaultErrorHandler\u001b[0m\u001b[0;34m(\u001b[0m\u001b[0mBaseHandler\u001b[0m\u001b[0;34m)\u001b[0m\u001b[0;34m:\u001b[0m\u001b[0;34m\u001b[0m\u001b[0;34m\u001b[0m\u001b[0m\n\u001b[1;32m    649\u001b[0m     \u001b[0;32mdef\u001b[0m \u001b[0mhttp_error_default\u001b[0m\u001b[0;34m(\u001b[0m\u001b[0mself\u001b[0m\u001b[0;34m,\u001b[0m \u001b[0mreq\u001b[0m\u001b[0;34m,\u001b[0m \u001b[0mfp\u001b[0m\u001b[0;34m,\u001b[0m \u001b[0mcode\u001b[0m\u001b[0;34m,\u001b[0m \u001b[0mmsg\u001b[0m\u001b[0;34m,\u001b[0m \u001b[0mhdrs\u001b[0m\u001b[0;34m)\u001b[0m\u001b[0;34m:\u001b[0m\u001b[0;34m\u001b[0m\u001b[0;34m\u001b[0m\u001b[0m\n\u001b[0;32m--> 650\u001b[0;31m         \u001b[0;32mraise\u001b[0m \u001b[0mHTTPError\u001b[0m\u001b[0;34m(\u001b[0m\u001b[0mreq\u001b[0m\u001b[0;34m.\u001b[0m\u001b[0mfull_url\u001b[0m\u001b[0;34m,\u001b[0m \u001b[0mcode\u001b[0m\u001b[0;34m,\u001b[0m \u001b[0mmsg\u001b[0m\u001b[0;34m,\u001b[0m \u001b[0mhdrs\u001b[0m\u001b[0;34m,\u001b[0m \u001b[0mfp\u001b[0m\u001b[0;34m)\u001b[0m\u001b[0;34m\u001b[0m\u001b[0;34m\u001b[0m\u001b[0m\n\u001b[0m\u001b[1;32m    651\u001b[0m \u001b[0;34m\u001b[0m\u001b[0m\n\u001b[1;32m    652\u001b[0m \u001b[0;32mclass\u001b[0m \u001b[0mHTTPRedirectHandler\u001b[0m\u001b[0;34m(\u001b[0m\u001b[0mBaseHandler\u001b[0m\u001b[0;34m)\u001b[0m\u001b[0;34m:\u001b[0m\u001b[0;34m\u001b[0m\u001b[0;34m\u001b[0m\u001b[0m\n",
      "\u001b[0;31mHTTPError\u001b[0m: HTTP Error 404: Not Found"
     ]
    }
   ],
   "source": [
    "import numpy as np\n",
    "from PIL import Image\n",
    "\n",
    "import av\n",
    "import av.datasets\n",
    "\n",
    "\n",
    "container = av.open(av.datasets.curated('data/P3.mov'))\n",
    "container.streams.video[0].thread_type = 'AUTO'  # Go faster!\n",
    "\n",
    "columns = []\n",
    "for frame in container.decode(video=0):\n",
    "\n",
    "    print(frame)\n",
    "    array = frame.to_ndarray(format='rgb24')\n",
    "\n",
    "    # Collapse down to a column.\n",
    "    column = array.mean(axis=1)\n",
    "\n",
    "    # Convert to bytes, as the `mean` turned our array into floats.\n",
    "    column = column.clip(0, 255).astype('uint8')\n",
    "\n",
    "    # Get us in the right shape for the `hstack` below.\n",
    "    column = column.reshape(-1, 1, 3)\n",
    "\n",
    "    columns.append(column)"
   ]
  },
  {
   "cell_type": "code",
   "execution_count": 7,
   "metadata": {},
   "outputs": [
    {
     "ename": "AttributeError",
     "evalue": "'av.video.frame.VideoFrame' object has no attribute 'type'",
     "output_type": "error",
     "traceback": [
      "\u001b[0;31m---------------------------------------------------------------------------\u001b[0m",
      "\u001b[0;31mAttributeError\u001b[0m                            Traceback (most recent call last)",
      "\u001b[0;32m<ipython-input-7-3a2a0538e895>\u001b[0m in \u001b[0;36m<module>\u001b[0;34m\u001b[0m\n\u001b[1;32m      1\u001b[0m \u001b[0;32mfor\u001b[0m \u001b[0mpacket\u001b[0m \u001b[0;32min\u001b[0m \u001b[0mcontainer\u001b[0m\u001b[0;34m.\u001b[0m\u001b[0mdemux\u001b[0m\u001b[0;34m(\u001b[0m\u001b[0;34m)\u001b[0m\u001b[0;34m:\u001b[0m\u001b[0;34m\u001b[0m\u001b[0;34m\u001b[0m\u001b[0m\n\u001b[1;32m      2\u001b[0m     \u001b[0;32mfor\u001b[0m \u001b[0mframe\u001b[0m \u001b[0;32min\u001b[0m \u001b[0mpacket\u001b[0m\u001b[0;34m.\u001b[0m\u001b[0mdecode\u001b[0m\u001b[0;34m(\u001b[0m\u001b[0;34m)\u001b[0m\u001b[0;34m:\u001b[0m\u001b[0;34m\u001b[0m\u001b[0;34m\u001b[0m\u001b[0m\n\u001b[0;32m----> 3\u001b[0;31m         \u001b[0;32mif\u001b[0m \u001b[0mframe\u001b[0m\u001b[0;34m.\u001b[0m\u001b[0mtype\u001b[0m \u001b[0;34m==\u001b[0m \u001b[0;34m'video'\u001b[0m\u001b[0;34m:\u001b[0m\u001b[0;34m\u001b[0m\u001b[0;34m\u001b[0m\u001b[0m\n\u001b[0m\u001b[1;32m      4\u001b[0m             \u001b[0mimg\u001b[0m \u001b[0;34m=\u001b[0m \u001b[0mframe\u001b[0m\u001b[0;34m.\u001b[0m\u001b[0mto_image\u001b[0m\u001b[0;34m(\u001b[0m\u001b[0;34m)\u001b[0m  \u001b[0;31m# PIL/Pillow image\u001b[0m\u001b[0;34m\u001b[0m\u001b[0;34m\u001b[0m\u001b[0m\n\u001b[1;32m      5\u001b[0m             \u001b[0marr\u001b[0m \u001b[0;34m=\u001b[0m \u001b[0mnp\u001b[0m\u001b[0;34m.\u001b[0m\u001b[0masarray\u001b[0m\u001b[0;34m(\u001b[0m\u001b[0mimg\u001b[0m\u001b[0;34m)\u001b[0m  \u001b[0;31m# numpy array\u001b[0m\u001b[0;34m\u001b[0m\u001b[0;34m\u001b[0m\u001b[0m\n",
      "\u001b[0;31mAttributeError\u001b[0m: 'av.video.frame.VideoFrame' object has no attribute 'type'"
     ]
    }
   ],
   "source": [
    "for packet in container.demux():\n",
    "    for frame in packet.decode():\n",
    "        if frame.type == 'video':\n",
    "            \n",
    "            # Do something!"
   ]
  },
  {
   "cell_type": "code",
   "execution_count": 6,
   "metadata": {},
   "outputs": [],
   "source": [
    "import skimage.io as io\n",
    "import imageio"
   ]
  },
  {
   "cell_type": "code",
   "execution_count": 8,
   "metadata": {},
   "outputs": [],
   "source": [
    "images = io.imread('data/P3.tiff').astype(np.float)"
   ]
  },
  {
   "cell_type": "code",
   "execution_count": 9,
   "metadata": {},
   "outputs": [
    {
     "data": {
      "text/plain": [
       "(300, 1024, 512, 2)"
      ]
     },
     "execution_count": 9,
     "metadata": {},
     "output_type": "execute_result"
    }
   ],
   "source": [
    "images.shape"
   ]
  },
  {
   "cell_type": "code",
   "execution_count": 51,
   "metadata": {},
   "outputs": [],
   "source": [
    "selection_1=images[130:180,170:370,100:400,0]"
   ]
  },
  {
   "cell_type": "code",
   "execution_count": 119,
   "metadata": {},
   "outputs": [
    {
     "data": {
      "text/plain": [
       "(300, 1024, 512, 2)"
      ]
     },
     "execution_count": 119,
     "metadata": {},
     "output_type": "execute_result"
    }
   ],
   "source": [
    "images.shape"
   ]
  },
  {
   "cell_type": "code",
   "execution_count": 133,
   "metadata": {},
   "outputs": [
    {
     "data": {
      "text/plain": [
       "<matplotlib.image.AxesImage at 0x1ce2cbd240>"
      ]
     },
     "execution_count": 133,
     "metadata": {},
     "output_type": "execute_result"
    },
    {
     "data": {
      "image/png": "[encoded data removed]",
      "text/plain": [
       "<Figure size 720x720 with 1 Axes>"
      ]
     },
     "metadata": {
      "needs_background": "light"
     },
     "output_type": "display_data"
    }
   ],
   "source": [
    "plt.figure(figsize=(10,10))\n",
    "plt.imshow(images[10,:,100:400,0].T, cmap='gray')"
   ]
  },
  {
   "cell_type": "code",
   "execution_count": 2,
   "metadata": {},
   "outputs": [],
   "source": [
    "data = loadmat('data/Advection_diffusion.mat')\n",
    "usol = np.real(data['Expression1'])\n",
    "usol= usol.reshape((51,51,61,4))\n",
    "\n",
    "x_v= usol[:,:,:,0]\n",
    "y_v = usol[:,:,:,1]\n",
    "t_v = usol[:,:,:,2]\n",
    "u_v = usol[:,:,:,3]"
   ]
  },
  {
   "cell_type": "markdown",
   "metadata": {},
   "source": [
    "Next we plot the dataset for three different time-points"
   ]
  },
  {
   "cell_type": "code",
   "execution_count": 3,
   "metadata": {},
   "outputs": [
    {
     "data": {
      "image/png": "[encoded data removed]",
      "text/plain": [
       "<Figure size 1080x288 with 4 Axes>"
      ]
     },
     "metadata": {
      "needs_background": "light"
     },
     "output_type": "display_data"
    }
   ],
   "source": [
    "fig, axes = plt.subplots(ncols=3, figsize=(15, 4))\n",
    "\n",
    "im0 = axes[0].contourf(x_v[:,:,0], y_v[:,:,0], u_v[:,:,0], cmap='coolwarm')\n",
    "axes[0].set_xlabel('x')\n",
    "axes[0].set_ylabel('y')\n",
    "axes[0].set_title('t = 0')\n",
    "\n",
    "im1 = axes[1].contourf(x_v[:,:,10], y_v[:,:,10], u_v[:,:,10], cmap='coolwarm')\n",
    "axes[1].set_xlabel('x')\n",
    "axes[1].set_title('t = 10')\n",
    "\n",
    "im2 = axes[2].contourf(x_v[:,:,20], y_v[:,:,20], u_v[:,:,20], cmap='coolwarm')\n",
    "axes[2].set_xlabel('x')\n",
    "axes[2].set_title('t= 20')\n",
    "\n",
    "fig.colorbar(im1, ax=axes.ravel().tolist())\n",
    "\n",
    "plt.show()"
   ]
  },
  {
   "cell_type": "markdown",
   "metadata": {},
   "source": [
    "We flatten it to give it the right dimensions for feeding it to the network:"
   ]
  },
  {
   "cell_type": "code",
   "execution_count": 4,
   "metadata": {},
   "outputs": [],
   "source": [
    "X = np.transpose((t_v.flatten(),x_v.flatten(), y_v.flatten()))\n",
    "y = u_v.reshape((u_v.size, 1))"
   ]
  },
  {
   "cell_type": "markdown",
   "metadata": {},
   "source": [
    "We select the noise level we add to the data-set"
   ]
  },
  {
   "cell_type": "code",
   "execution_count": 5,
   "metadata": {},
   "outputs": [],
   "source": [
    "noise_level = 0.1"
   ]
  },
  {
   "cell_type": "code",
   "execution_count": 6,
   "metadata": {},
   "outputs": [],
   "source": [
    "y_noisy = y + noise_level * np.std(y) * np.random.randn(y.size, 1)"
   ]
  },
  {
   "cell_type": "markdown",
   "metadata": {},
   "source": [
    "Select the number of samples:"
   ]
  },
  {
   "cell_type": "code",
   "execution_count": 14,
   "metadata": {},
   "outputs": [],
   "source": [
    "number_of_samples = 2000"
   ]
  },
  {
   "cell_type": "code",
   "execution_count": 15,
   "metadata": {},
   "outputs": [],
   "source": [
    "idx = np.random.permutation(y.size)\n",
    "X_train = X[idx, :][:number_of_samples]\n",
    "y_train = y_noisy[idx, :][:number_of_samples]"
   ]
  },
  {
   "cell_type": "markdown",
   "metadata": {},
   "source": [
    "## Configure the neural network"
   ]
  },
  {
   "cell_type": "markdown",
   "metadata": {},
   "source": [
    "Next we define the architecture and strength of the $L_1$ penalty for the neural network.\n",
    "Note that in this example have three input channels in this example: {x,y,t}"
   ]
  },
  {
   "cell_type": "code",
   "execution_count": 16,
   "metadata": {},
   "outputs": [],
   "source": [
    "config = {'layers': [3, 20, 20, 20, 20, 20, 1], 'lambda': 10**-6}"
   ]
  },
  {
   "cell_type": "markdown",
   "metadata": {},
   "source": [
    "DeepMoD accepts any arbitrary library function and any options for it can be given through *the library_config*. The library function for this example accepts a maximum order for the polynomial and derivative terms. DeepMoD also needs to know the total number of terms upfront. We can calculate that by making a list of the polynomial and derivative terms and getting all the terms by feeding them into the library_matrix_mat function. Its output will be used later to print the found PDE."
   ]
  },
  {
   "cell_type": "code",
   "execution_count": 17,
   "metadata": {},
   "outputs": [
    {
     "name": "stdout",
     "output_type": "stream",
     "text": [
      "['1', 'u_{x}', 'u_{y}', 'u_{xx}', 'u_{yy}', 'u_{xy}', 'u', 'uu_{x}', 'uu_{y}', 'uu_{xx}', 'uu_{yy}', 'uu_{xy}']\n"
     ]
    }
   ],
   "source": [
    "u = ['1', 'u']\n",
    "du = ['1', 'u_{x}', 'u_{y}','u_{xx}', 'u_{yy}','u_{xy}']\n",
    "coeffs_list = library_matrix_mat(u, du)\n",
    "print(coeffs_list)\n",
    "library_config = {'total_terms': 12, 'deriv_order': 2, 'poly_order': 1}"
   ]
  },
  {
   "cell_type": "markdown",
   "metadata": {},
   "source": [
    "Next we set the training options. Usually we only change the maximum iterations and the grad_tol, which sets the convergence criterion;"
   ]
  },
  {
   "cell_type": "code",
   "execution_count": 18,
   "metadata": {},
   "outputs": [],
   "source": [
    "train_opts = {'max_iterations': 50000, 'grad_tol':10**-7, 'learning_rate': 0.002, 'beta1': 0.99, 'beta2': 0.999, 'epsilon': 10**-8}"
   ]
  },
  {
   "cell_type": "markdown",
   "metadata": {},
   "source": [
    "The last configuration we need to fill is the ouput_opts. It contains an output_directory and X_predict field. We've build a custom tensorboard so you can follow the progress of the run.  Output_directory sets where the files are saved, then simply run \n",
    "\n",
    "`tensorboard --logdir $[OUTPUT_DIRECTORY]`\n",
    "\n",
    "in a terminal to open tensorboard. It shows the value of the coefficients, scaled coefficients and all possible costs. Note that the runs are timestamped in output_directory, so you'll have to add it! We can also use the output of tensorboard to analyze deepmod after. We show this below. The last option is X_predict. As DeepMoD also denoises the data, use this option to denoise some dataset X after DeepMoD has converged."
   ]
  },
  {
   "cell_type": "code",
   "execution_count": 19,
   "metadata": {},
   "outputs": [],
   "source": [
    "output_opts = {'output_directory': 'output/AD/', 'X_predict': X}"
   ]
  },
  {
   "cell_type": "markdown",
   "metadata": {},
   "source": [
    "## Run DeepMoD"
   ]
  },
  {
   "cell_type": "markdown",
   "metadata": {},
   "source": [
    "We can now run DeepMoD using all the options we have set and the training data. We also need to specify which library function we wish to use. You can build any library you want and just pass is through this command:"
   ]
  },
  {
   "cell_type": "code",
   "execution_count": 20,
   "metadata": {},
   "outputs": [
    {
     "name": "stdout",
     "output_type": "stream",
     "text": [
      "Epoch | Total loss | Loss gradient | MSE | PI | L1 \n",
      "0 [0.6593459, 0.0046862564, 0.44291213, 0.21642527, 8.5108695e-06]\n",
      "500 [0.017847514, 0.008489036, 0.012486025, 0.0053546075, 6.8822583e-06]\n",
      "1000 [0.007624976, 0.002521414, 0.005711712, 0.0019071312, 6.132989e-06]\n",
      "1500 [0.004391544, 0.0013907211, 0.0036640374, 0.0007229427, 4.5637894e-06]\n",
      "2000 [0.0031209611, 0.0008210218, 0.0028167781, 0.00030024798, 3.9351603e-06]\n",
      "2500 [0.002600971, 0.00036740233, 0.0024965932, 0.000101119906, 3.2578196e-06]\n",
      "3000 [0.0024599223, 0.00017162364, 0.0024095601, 4.7353435e-05, 3.0089411e-06]\n",
      "3500 [0.0024121318, 9.847269e-05, 0.0023771466, 3.2198153e-05, 2.7869635e-06]\n",
      "4000 [0.002388063, 5.711915e-05, 0.0023593518, 2.6148555e-05, 2.5626073e-06]\n",
      "4500 [0.002376226, 3.57227e-05, 0.0023507562, 2.3113762e-05, 2.3561163e-06]\n",
      "5000 [0.0023678131, 2.2681548e-05, 0.0023441603, 2.1471866e-05, 2.180967e-06]\n",
      "5500 [0.002362449, 1.5532938e-05, 0.0023393922, 2.100791e-05, 2.048895e-06]\n",
      "6000 [0.002358321, 8.684065e-06, 0.0023355074, 2.0839167e-05, 1.9743486e-06]\n",
      "6500 [0.0023554114, 7.751487e-06, 0.0023323216, 2.1148717e-05, 1.9410127e-06]\n",
      "7000 [0.0023501145, 2.7872125e-06, 0.0023267933, 2.1389977e-05, 1.9313827e-06]\n",
      "7500 [0.0023484468, 6.5981403e-06, 0.00232486, 2.1659169e-05, 1.9275808e-06]\n",
      "8000 [0.002347048, 1.0129937e-05, 0.0023231073, 2.2014638e-05, 1.9260629e-06]\n",
      "8500 [0.002342434, 3.5099063e-06, 0.0023179473, 2.2560855e-05, 1.9256497e-06]\n",
      "9000 [0.002342486, 1.0569085e-05, 0.0023173448, 2.3215742e-05, 1.925575e-06]\n",
      "9500 [0.002337382, 5.819258e-07, 0.0023116323, 2.382338e-05, 1.9262607e-06]\n",
      "10000 [0.0023379177, 1.2388375e-05, 0.0023116672, 2.4320207e-05, 1.9303016e-06]\n",
      "10500 [0.00233275, 1.9343743e-06, 0.0023061037, 2.4706795e-05, 1.9395197e-06]\n",
      "11000 [0.0023306545, 9.800292e-07, 0.0023038015, 2.4902762e-05, 1.950157e-06]\n",
      "11500 [0.0023287886, 2.9293765e-06, 0.0023017784, 2.5048952e-05, 1.961442e-06]\n",
      "12000 [0.0023270352, 4.268168e-06, 0.0022998995, 2.5163237e-05, 1.9726167e-06]\n",
      "12500 [0.0023251, 3.606108e-06, 0.0022978063, 2.5307976e-05, 1.9856598e-06]\n",
      "13000 [0.0023237304, 5.750065e-06, 0.0022963122, 2.542019e-05, 1.9978957e-06]\n",
      "13500 [0.0023236114, 9.952794e-06, 0.0022959928, 2.5607518e-05, 2.0112795e-06]\n",
      "14000 [0.0023217378, 9.67784e-06, 0.002293973, 2.5743515e-05, 2.021145e-06]\n",
      "14500 [0.0023201862, 9.021525e-06, 0.002292225, 2.5930392e-05, 2.0310474e-06]\n",
      "15000 [0.002316446, 9.628943e-07, 0.0022882782, 2.612785e-05, 2.0399896e-06]\n",
      "15500 [0.0023162956, 7.5272974e-06, 0.0022879306, 2.6318055e-05, 2.0470468e-06]\n",
      "16000 [0.0023166845, 1.0158696e-05, 0.0022881373, 2.6494667e-05, 2.0522932e-06]\n",
      "16500 [0.0023136954, 7.923965e-06, 0.0022849923, 2.6647489e-05, 2.0556208e-06]\n",
      "17000 [0.0023109978, 2.4149135e-06, 0.0022821485, 2.6791555e-05, 2.0577997e-06]\n",
      "17500 [0.0023103529, 5.778677e-06, 0.002281376, 2.6918033e-05, 2.0589232e-06]\n",
      "18000 [0.0023101687, 9.343914e-06, 0.0022810989, 2.7009986e-05, 2.059849e-06]\n",
      "18500 [0.0023093605, 1.0498733e-05, 0.0022802462, 2.7053442e-05, 2.060786e-06]\n",
      "19000 [0.002308857, 1.22482315e-05, 0.0022797403, 2.7054808e-05, 2.0617708e-06]\n",
      "19500 [0.002307788, 1.243968e-05, 0.002278693, 2.7032067e-05, 2.062929e-06]\n",
      "20000 [0.002307106, 1.3442545e-05, 0.0022780336, 2.7008336e-05, 2.0640564e-06]\n",
      "20500 [0.0023064425, 1.4437461e-05, 0.0022773785, 2.699893e-05, 2.065074e-06]\n",
      "21000 [0.0023049016, 1.3437283e-05, 0.0022758225, 2.7012911e-05, 2.0660295e-06]\n",
      "21500 [0.0023026424, 1.0202121e-05, 0.002273521, 2.7054422e-05, 2.0670198e-06]\n",
      "22000 [0.002300991, 8.199055e-06, 0.0022718008, 2.7122143e-05, 2.0679909e-06]\n",
      "22500 [0.002299947, 8.312614e-06, 0.0022706592, 2.7218768e-05, 2.0688813e-06]\n",
      "23000 [0.002298221, 5.1467646e-06, 0.0022688103, 2.7340784e-05, 2.0698346e-06]\n",
      "23500 [0.002296725, 5.596593e-07, 0.002267165, 2.7489375e-05, 2.0706298e-06]\n",
      "24000 [0.0022956515, 2.4465287e-06, 0.0022659148, 2.7665894e-05, 2.070814e-06]\n",
      "24500 [0.0022958696, 1.0439242e-05, 0.0022659216, 2.787767e-05, 2.0702669e-06]\n",
      "25000 [0.0022964878, 1.582569e-05, 0.0022662992, 2.8119248e-05, 2.0693174e-06]\n",
      "25500 [0.002293476, 1.1133378e-05, 0.0022630256, 2.8381994e-05, 2.0682223e-06]\n",
      "26000 [0.0022910892, 6.39179e-06, 0.0022603518, 2.8670258e-05, 2.067144e-06]\n",
      "26500 [0.0022925858, 1.600352e-05, 0.002261529, 2.8991271e-05, 2.0654768e-06]\n",
      "27000 [0.0022887997, 8.28765e-06, 0.0022574062, 2.9330484e-05, 2.0631658e-06]\n",
      "27500 [0.0022871455, 6.1159067e-06, 0.0022553892, 2.9695484e-05, 2.0607404e-06]\n",
      "28000 [0.0022883506, 1.3709325e-05, 0.0022562332, 3.0058747e-05, 2.0586044e-06]\n",
      "28500 [0.0022858814, 1.0170708e-05, 0.002253443, 3.0381543e-05, 2.0567252e-06]\n",
      "29000 [0.002283151, 3.4510276e-06, 0.0022504167, 3.06791e-05, 2.0551317e-06]\n",
      "29500 [0.0022851794, 1.3249159e-05, 0.0022521296, 3.099624e-05, 2.0535877e-06]\n",
      "30000 [0.0022807906, 6.8734346e-07, 0.0022473794, 3.1359687e-05, 2.0514863e-06]\n",
      "30500 [0.0022831017, 1.26354835e-05, 0.00224931, 3.1741845e-05, 2.0498355e-06]\n",
      "31000 [0.002278835, 1.2883075e-06, 0.0022447787, 3.200721e-05, 2.0491198e-06]\n",
      "31500 [0.002281174, 1.25356555e-05, 0.002246855, 3.2270287e-05, 2.048793e-06]\n",
      "32000 [0.0022769684, 1.3127698e-06, 0.002242324, 3.259626e-05, 2.0481336e-06]\n",
      "32500 [0.0022790337, 1.1846965e-05, 0.0022440415, 3.2944434e-05, 2.047683e-06]\n",
      "33000 [0.0022771878, 9.807295e-06, 0.0022419572, 3.318259e-05, 2.0478712e-06]\n",
      "33500 [0.00227459, 4.2201073e-06, 0.0022392035, 3.3338092e-05, 2.0483603e-06]\n",
      "34000 [0.0022766243, 1.2258887e-05, 0.0022410722, 3.350326e-05, 2.048801e-06]\n",
      "34500 [0.0022741558, 9.707831e-06, 0.0022384066, 3.370022e-05, 2.0490884e-06]\n",
      "35000 [0.0022725498, 8.918311e-06, 0.0022365688, 3.3931763e-05, 2.0491505e-06]\n",
      "35500 [0.0022739258, 1.4112379e-05, 0.0022377372, 3.413915e-05, 2.0493699e-06]\n",
      "36000 [0.0022706625, 4.465868e-06, 0.0022343956, 3.4217304e-05, 2.049575e-06]\n",
      "36500 [0.0022711027, 6.6976036e-06, 0.002234691, 3.4362132e-05, 2.0495681e-06]\n",
      "37000 [0.0022713512, 1.3028995e-05, 0.002234643, 3.465876e-05, 2.0493624e-06]\n",
      "37500 [0.0022681323, 5.2393366e-06, 0.0022313115, 3.4771307e-05, 2.0492687e-06]\n",
      "38000 [0.002270208, 8.655961e-06, 0.0022333073, 3.485182e-05, 2.0489827e-06]\n",
      "38500 [0.0022664117, 5.563065e-06, 0.002229221, 3.514173e-05, 2.0488346e-06]\n",
      "39000 [0.002267342, 8.989547e-06, 0.0022299422, 3.535083e-05, 2.0489742e-06]\n",
      "39500 [0.0022662615, 7.5202556e-06, 0.0022288156, 3.5396934e-05, 2.0488137e-06]\n",
      "40000 [0.002264405, 6.7831575e-06, 0.0022267592, 3.5596302e-05, 2.0492946e-06]\n",
      "40500 [0.002264356, 8.458457e-06, 0.0022263783, 3.5927722e-05, 2.0501802e-06]\n",
      "41000 [0.0022623332, 8.852894e-06, 0.0022241864, 3.609603e-05, 2.0508835e-06]\n",
      "41500 [0.0022620365, 8.574223e-06, 0.0022238279, 3.6157347e-05, 2.0512714e-06]\n",
      "42000 [0.002259698, 7.188082e-06, 0.0022212751, 3.637053e-05, 2.05238e-06]\n",
      "42500 [0.0022588482, 8.691311e-06, 0.0022200851, 3.6709018e-05, 2.0539987e-06]\n",
      "43000 [0.002258588, 1.1959799e-05, 0.0022195755, 3.695687e-05, 2.0555565e-06]\n",
      "43500 [0.002254713, 4.109491e-06, 0.002215532, 3.712458e-05, 2.0565683e-06]\n",
      "44000 [0.0022553033, 9.201708e-06, 0.0022159196, 3.7326266e-05, 2.0574628e-06]\n",
      "44500 [0.0022550628, 1.1312604e-05, 0.0022154043, 3.7600075e-05, 2.0584855e-06]\n",
      "45000 [0.002252887, 1.238408e-05, 0.0022129226, 3.790509e-05, 2.0594377e-06]\n",
      "45500 [0.0022490232, 4.865187e-06, 0.0022086774, 3.8285532e-05, 2.0602577e-06]\n",
      "46000 [0.0022484362, 1.04158735e-05, 0.0022076634, 3.8712347e-05, 2.060609e-06]\n",
      "46500 [0.0022483922, 1.48178915e-05, 0.0022071938, 3.91381e-05, 2.0602704e-06]\n",
      "47000 [0.0022478618, 1.3514581e-05, 0.0022062436, 3.9558745e-05, 2.0594314e-06]\n",
      "47500 [0.0022463528, 1.8979228e-05, 0.0022042848, 4.0010043e-05, 2.058056e-06]\n",
      "48000 [0.0022449195, 1.5883536e-05, 0.0022024203, 4.0442705e-05, 2.056496e-06]\n",
      "48500 [0.0022435542, 1.702139e-05, 0.002200617, 4.0882554e-05, 2.0547789e-06]\n",
      "49000 [0.002241195, 1.6843736e-05, 0.0021978277, 4.13144e-05, 2.0529303e-06]\n",
      "49500 [0.0022383528, 1.40340235e-05, 0.0021945734, 4.172844e-05, 2.051029e-06]\n",
      "Current sparse vectors:\n",
      "[array([[0.        ],\n",
      "       [0.23685676],\n",
      "       [0.4574976 ],\n",
      "       [0.41017011],\n",
      "       [0.44168493],\n",
      "       [0.        ],\n",
      "       [0.        ],\n",
      "       [0.        ],\n",
      "       [0.        ],\n",
      "       [0.        ],\n",
      "       [0.        ],\n",
      "       [0.        ]])]\n",
      "Now running for the final time...\n",
      "Epoch | Total loss | Loss gradient | MSE | PI | L1 \n",
      "0 [0.089149505, 0.012092508, 0.08468605, 0.004463459, 0.0]\n",
      "500 [0.0025410282, 0.00015548721, 0.0023900631, 0.00015096515, 0.0]\n",
      "1000 [0.0023419117, 1.9292098e-05, 0.002269058, 7.285371e-05, 0.0]\n",
      "1500 [0.002301082, 3.938705e-06, 0.00224797, 5.3111933e-05, 0.0]\n",
      "2000 [0.002280426, 1.1975444e-06, 0.0022347914, 4.563465e-05, 0.0]\n",
      "2500 [0.0022684801, 3.8609875e-07, 0.0022258735, 4.2606498e-05, 0.0]\n",
      "3000 [0.00226089, 1.7553903e-07, 0.0022194157, 4.14744e-05, 0.0]\n",
      "3500 [0.0022555983, 1.3997989e-07, 0.0022143007, 4.129768e-05, 0.0]\n",
      "4000 [0.0022515599, 7.744925e-08, 0.0022099263, 4.1633644e-05, 0.0]\n",
      "Optimizer converged.\n"
     ]
    }
   ],
   "source": [
    "sparse_vectors, denoised = DeepMoD(X_train, y_train, config, library_2Din_1Dout, library_config, train_opts, output_opts)"
   ]
  },
  {
   "cell_type": "markdown",
   "metadata": {},
   "source": [
    "Show final result:"
   ]
  },
  {
   "cell_type": "code",
   "execution_count": 32,
   "metadata": {},
   "outputs": [
    {
     "name": "stdout",
     "output_type": "stream",
     "text": [
      "Inferred equation:\n",
      "u_t = 0.254u_{x} + 0.495u_{y} + 0.498u_{xx} + 0.522u_{yy}\n"
     ]
    }
   ],
   "source": [
    "u = ['1', 'u']\n",
    "du = ['1', 'u_{x}', 'u_{y}','u_{xx}', 'u_{yy}','u_{xy}']\n",
    "coeffs_list = library_matrix_mat(u, du)\n",
    "\n",
    "print('Inferred equation:')\n",
    "print_PDE(sparse_vectors[0], coeffs_list, PDE_term='u_t')"
   ]
  },
  {
   "cell_type": "markdown",
   "metadata": {},
   "source": [
    "Plot the 'Ground truth', 'Noisy' and 'Reconstructed/Denoised' solution"
   ]
  },
  {
   "cell_type": "code",
   "execution_count": 22,
   "metadata": {},
   "outputs": [],
   "source": [
    "X_predict = X[(X[:,0]==5.0) | (X[:,0]==9.0) | (X[:,0]==7.0), :]"
   ]
  },
  {
   "cell_type": "code",
   "execution_count": 23,
   "metadata": {},
   "outputs": [],
   "source": [
    "data_dict = {'x_grid': X[:,1],'y_grid': X[:,2], 't_grid': X[:,0], 'ground_truth': np.squeeze(y), 'noisy': np.squeeze(y_noisy)}\n",
    "df = pd.DataFrame(data_dict)\n",
    "for key in df:\n",
    "    df[key] = np.squeeze(df[key])\n",
    "data = pd.DataFrame(df)"
   ]
  },
  {
   "cell_type": "code",
   "execution_count": 24,
   "metadata": {},
   "outputs": [],
   "source": [
    "data_dict_denoised = {'x_grid': X[:,1],'y_grid': X[:,2], 't_grid': X[:,0], 'denoised': np.squeeze(denoised)}\n",
    "df_dn = pd.DataFrame(data_dict_denoised)\n",
    "for key in df_dn:\n",
    "    df_dn[key] = np.squeeze(df_dn[key])\n",
    "data_denoised = pd.DataFrame(df_dn)"
   ]
  },
  {
   "cell_type": "code",
   "execution_count": 31,
   "metadata": {},
   "outputs": [
    {
     "data": {
      "image/png": "[encoded data removed]",
      "text/plain": [
       "<Figure size 1080x288 with 4 Axes>"
      ]
     },
     "metadata": {
      "needs_background": "light"
     },
     "output_type": "display_data"
    }
   ],
   "source": [
    "time1 = 7.0\n",
    "\n",
    "vmin = np.min(data[data['t_grid'] == time1]['ground_truth'])\n",
    "vmax = np.max(data[data['t_grid'] == time1]['ground_truth'])\n",
    "\n",
    "fig, axes = plt.subplots(ncols=3, figsize=(15, 4))\n",
    "\n",
    "im1 = axes[0].contourf(pd.pivot_table(data[data['t_grid'] == time1],index='y_grid', columns='x_grid', values='ground_truth'), cmap='coolwarm',vmin=vmin, vmax=vmax)\n",
    "axes[0].set_xlabel('x')\n",
    "axes[0].set_ylabel('y')\n",
    "axes[0].set_title('Ground truth')\n",
    "\n",
    "im2 = axes[1].contourf(pd.pivot_table(data[data['t_grid'] == time1],index='y_grid', columns='x_grid', values='noisy'), cmap='coolwarm', vmin=vmin, vmax=vmax)\n",
    "axes[1].set_xlabel('x')\n",
    "axes[1].set_title('Noisy')\n",
    "\n",
    "im3 = axes[2].contourf(pd.pivot_table(data_denoised[data_denoised['t_grid'] == time1],index='y_grid', columns='x_grid', values='denoised'), cmap='coolwarm', vmin=vmin, vmax=vmax)\n",
    "axes[2].set_xlabel('x')\n",
    "axes[2].set_title('Sampled')\n",
    "\n",
    "fig.colorbar(im1, ax=axes.ravel().tolist())\n",
    "\n",
    "plt.show()"
   ]
  },
  {
   "cell_type": "code",
   "execution_count": null,
   "metadata": {},
   "outputs": [],
   "source": []
  }
 ],
 "metadata": {
  "kernelspec": {
   "display_name": "Python 3",
   "language": "python",
   "name": "python3"
  },
  "language_info": {
   "codemirror_mode": {
    "name": "ipython",
    "version": 3
   },
   "file_extension": ".py",
   "mimetype": "text/x-python",
   "name": "python",
   "nbconvert_exporter": "python",
   "pygments_lexer": "ipython3",
   "version": "3.6.8"
  }
 },
 "nbformat": 4,
 "nbformat_minor": 2
}
