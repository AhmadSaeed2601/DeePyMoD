{
 "cells": [
  {
   "cell_type": "markdown",
   "metadata": {},
   "source": [
    "# 2D Advection-Diffusion equation"
   ]
  },
  {
   "cell_type": "markdown",
   "metadata": {},
   "source": [
    "in this notebook we provide a simple example of the DeepMoD algorithm and apply it on the 2D advection-diffusion equation. "
   ]
  },
  {
   "cell_type": "code",
   "execution_count": 1,
   "metadata": {},
   "outputs": [],
   "source": [
    "import sys\n",
    "import numpy as np\n",
    "import pandas as pd \n",
    "\n",
    "sys.path.append('../src/deepymod/')\n",
    "\n",
    "from scipy.io import loadmat\n",
    "from DeepMoD import DeepMoD\n",
    "from library_functions import library_2Din_1Dout\n",
    "from deepymod.utilities import library_matrix_mat, print_PDE\n",
    "\n",
    "import matplotlib.pyplot as plt\n",
    "plt.style.use('seaborn-notebook')\n",
    "\n",
    "np.random.seed(40)  # setting seed for randomisation"
   ]
  },
  {
   "cell_type": "markdown",
   "metadata": {},
   "source": [
    "## Prepare the data"
   ]
  },
  {
   "cell_type": "markdown",
   "metadata": {},
   "source": [
    "Next, we prepare the dataset."
   ]
  },
  {
   "cell_type": "code",
   "execution_count": 29,
   "metadata": {},
   "outputs": [],
   "source": [
    "u_v = np.load('data/Diffusion29July/diffusion_advection_29longb.npy')\n",
    "u_v = np.moveaxis(u_v,0,-1)/10.0\n",
    "data = loadmat('data/Diffusion29July/Diffusion_advection_29long.mat')\n",
    "usol = np.real(data['Expression1'])\n",
    "usol= usol.reshape((150,300,43,3)) \n",
    "x_v= usol[:,:,:,0]\n",
    "y_v = usol[:,:,:,1]\n",
    "t_v = usol[:,:,:,2]"
   ]
  },
  {
   "cell_type": "code",
   "execution_count": 30,
   "metadata": {},
   "outputs": [
    {
     "data": {
      "text/plain": [
       "(150, 300, 43)"
      ]
     },
     "execution_count": 30,
     "metadata": {},
     "output_type": "execute_result"
    }
   ],
   "source": [
    "x_v.shape"
   ]
  },
  {
   "cell_type": "code",
   "execution_count": 31,
   "metadata": {},
   "outputs": [],
   "source": [
    "x_v = x_v[:,:250,5:]\n",
    "y_v = y_v[:,:250,5:]\n",
    "t_v = t_v[:,:250,5:]\n",
    "u_v = u_v[:,:250,5:]"
   ]
  },
  {
   "cell_type": "markdown",
   "metadata": {},
   "source": [
    "Next we plot the dataset for three different time-points"
   ]
  },
  {
   "cell_type": "code",
   "execution_count": 32,
   "metadata": {},
   "outputs": [
    {
     "data": {
      "image/png": "[encoded data removed]",
      "text/plain": [
       "<Figure size 1080x288 with 4 Axes>"
      ]
     },
     "metadata": {
      "needs_background": "light"
     },
     "output_type": "display_data"
    }
   ],
   "source": [
    "fig, axes = plt.subplots(ncols=3, figsize=(15, 4))\n",
    "\n",
    "im0 = axes[0].contourf(x_v[:,:,1], y_v[:,:,1], u_v[:,:,0], cmap='coolwarm')\n",
    "axes[0].set_xlabel('x')\n",
    "axes[0].set_ylabel('y')\n",
    "axes[0].set_title('t = 0')\n",
    "\n",
    "im1 = axes[1].contourf(x_v[:,:,1], y_v[:,:,1], u_v[:,:,15], cmap='coolwarm')\n",
    "axes[1].set_xlabel('x')\n",
    "axes[1].set_title('t = 10')\n",
    "\n",
    "im2 = axes[2].contourf(x_v[:,:,1], y_v[:,:,1], u_v[:,:,34], cmap='coolwarm')\n",
    "axes[2].set_xlabel('x')\n",
    "axes[2].set_title('t= 20')\n",
    "\n",
    "fig.colorbar(im1, ax=axes.ravel().tolist())\n",
    "\n",
    "plt.show()"
   ]
  },
  {
   "cell_type": "markdown",
   "metadata": {},
   "source": [
    "We flatten it to give it the right dimensions for feeding it to the network:"
   ]
  },
  {
   "cell_type": "code",
   "execution_count": 33,
   "metadata": {},
   "outputs": [],
   "source": [
    "X = np.transpose((t_v.flatten(),x_v.flatten(), y_v.flatten()))\n",
    "y = u_v.reshape((u_v.size, 1))"
   ]
  },
  {
   "cell_type": "markdown",
   "metadata": {},
   "source": [
    "We select the noise level we add to the data-set"
   ]
  },
  {
   "cell_type": "code",
   "execution_count": 34,
   "metadata": {},
   "outputs": [],
   "source": [
    "noise_level = 0."
   ]
  },
  {
   "cell_type": "code",
   "execution_count": 35,
   "metadata": {},
   "outputs": [],
   "source": [
    "y_noisy = y + noise_level * np.std(y) * np.random.randn(y.size, 1)"
   ]
  },
  {
   "cell_type": "markdown",
   "metadata": {},
   "source": [
    "Select the number of samples:"
   ]
  },
  {
   "cell_type": "code",
   "execution_count": 36,
   "metadata": {},
   "outputs": [],
   "source": [
    "number_of_samples = 5000"
   ]
  },
  {
   "cell_type": "code",
   "execution_count": 37,
   "metadata": {},
   "outputs": [],
   "source": [
    "idx = np.random.permutation(y.size)\n",
    "X_train = X[idx, :][:number_of_samples]\n",
    "y_train = y_noisy[idx, :][:number_of_samples]"
   ]
  },
  {
   "cell_type": "markdown",
   "metadata": {},
   "source": [
    "## Configure the neural network"
   ]
  },
  {
   "cell_type": "markdown",
   "metadata": {},
   "source": [
    "Next we define the architecture and strength of the $L_1$ penalty for the neural network.\n",
    "Note that in this example have three input channels in this example: {x,y,t}"
   ]
  },
  {
   "cell_type": "code",
   "execution_count": 38,
   "metadata": {},
   "outputs": [],
   "source": [
    "config = {'layers': [3, 20, 20, 20, 20, 1], 'lambda': 10**-3}"
   ]
  },
  {
   "cell_type": "markdown",
   "metadata": {},
   "source": [
    "DeepMoD accepts any arbitrary library function and any options for it can be given through *the library_config*. The library function for this example accepts a maximum order for the polynomial and derivative terms. DeepMoD also needs to know the total number of terms upfront. We can calculate that by making a list of the polynomial and derivative terms and getting all the terms by feeding them into the library_matrix_mat function. Its output will be used later to print the found PDE."
   ]
  },
  {
   "cell_type": "code",
   "execution_count": 39,
   "metadata": {},
   "outputs": [
    {
     "name": "stdout",
     "output_type": "stream",
     "text": [
      "['1', 'u_{x}', 'u_{y}', 'u_{xx}', 'u_{yy}', 'u_{xy}', 'u', 'uu_{x}', 'uu_{y}', 'uu_{xx}', 'uu_{yy}', 'uu_{xy}']\n"
     ]
    }
   ],
   "source": [
    "u = ['1','u']\n",
    "du = ['1', 'u_{x}', 'u_{y}','u_{xx}', 'u_{yy}','u_{xy}']\n",
    "coeffs_list = library_matrix_mat(u, du)\n",
    "print(coeffs_list)\n",
    "library_config = {'total_terms': 12, 'deriv_order': 2, 'poly_order': 1}"
   ]
  },
  {
   "cell_type": "markdown",
   "metadata": {},
   "source": [
    "Next we set the training options. Usually we only change the maximum iterations and the grad_tol, which sets the convergence criterion;"
   ]
  },
  {
   "cell_type": "code",
   "execution_count": 40,
   "metadata": {},
   "outputs": [],
   "source": [
    "train_opts = {'max_iterations': 80000, 'grad_tol':10**-7, 'learning_rate': 0.0015, 'beta1': 0.9, 'beta2': 0.99, 'epsilon': 10**-8}"
   ]
  },
  {
   "cell_type": "markdown",
   "metadata": {},
   "source": [
    "The last configuration we need to fill is the ouput_opts. It contains an output_directory and X_predict field. We've build a custom tensorboard so you can follow the progress of the run.  Output_directory sets where the files are saved, then simply run \n",
    "\n",
    "`tensorboard --logdir $[OUTPUT_DIRECTORY]`\n",
    "\n",
    "in a terminal to open tensorboard. It shows the value of the coefficients, scaled coefficients and all possible costs. Note that the runs are timestamped in output_directory, so you'll have to add it! We can also use the output of tensorboard to analyze deepmod after. We show this below. The last option is X_predict. As DeepMoD also denoises the data, use this option to denoise some dataset X after DeepMoD has converged."
   ]
  },
  {
   "cell_type": "code",
   "execution_count": 42,
   "metadata": {},
   "outputs": [],
   "source": [
    "output_opts = {'output_directory': 'output/advection_diffusion_new_29h/', 'X_predict': X}"
   ]
  },
  {
   "cell_type": "markdown",
   "metadata": {},
   "source": [
    "## Run DeepMoD"
   ]
  },
  {
   "cell_type": "markdown",
   "metadata": {},
   "source": [
    "We can now run DeepMoD using all the options we have set and the training data. We also need to specify which library function we wish to use. You can build any library you want and just pass is through this command:"
   ]
  },
  {
   "cell_type": "code",
   "execution_count": 43,
   "metadata": {},
   "outputs": [
    {
     "name": "stdout",
     "output_type": "stream",
     "text": [
      "Epoch | Total loss | Loss gradient | MSE | PI | L1 \n",
      "0 [5.640235, 0.012899006, 5.4578815, 0.17696655, 0.0053869784]\n",
      "500 [1.6826985, 0.035249706, 1.5583462, 0.08282959, 0.041522723]\n",
      "1000 [0.782177, 0.07746136, 0.6822889, 0.08626231, 0.013625773]\n",
      "1500 [0.21903668, 0.033680893, 0.20271753, 0.014812527, 0.0015066233]\n",
      "2000 [0.09967407, 0.026729954, 0.09060549, 0.007499574, 0.0015690038]\n",
      "2500 [0.09339935, 0.10454852, 0.08437711, 0.0075294785, 0.0014927641]\n",
      "3000 [0.0819999, 0.060080525, 0.07546191, 0.0050813965, 0.0014565921]\n",
      "3500 [0.07807262, 0.013590077, 0.072540164, 0.0041095694, 0.0014228883]\n",
      "4000 [0.078275464, 0.062798485, 0.07261576, 0.004232414, 0.0014272963]\n",
      "4500 [0.082306035, 0.1354818, 0.07526469, 0.0056121345, 0.00142921]\n",
      "5000 [0.076518, 0.07271956, 0.0713294, 0.0037515527, 0.001437043]\n",
      "5500 [0.079526305, 0.11982945, 0.07351948, 0.0045829313, 0.001423889]\n",
      "6000 [0.07371493, 0.026562987, 0.06945881, 0.002819804, 0.0014363066]\n",
      "6500 [0.07692639, 0.1182864, 0.071116775, 0.0043698484, 0.0014397642]\n",
      "7000 [0.07262236, 0.01054427, 0.06872209, 0.002467423, 0.0014328447]\n",
      "7500 [0.072562285, 0.030338975, 0.06863495, 0.0024911622, 0.0014361712]\n",
      "8000 [0.07207252, 0.021087358, 0.06831101, 0.0023222968, 0.0014392171]\n",
      "8500 [0.076080054, 0.12782986, 0.0703596, 0.004271144, 0.0014493063]\n",
      "9000 [0.073056884, 0.07082525, 0.068812855, 0.0027847984, 0.0014592315]\n",
      "9500 [0.07451622, 0.074570075, 0.069971584, 0.0030893558, 0.0014552866]\n",
      "10000 [0.07133531, 0.007830544, 0.06781909, 0.0020705285, 0.0014456916]\n",
      "10500 [0.071947716, 0.0590327, 0.06809757, 0.0024083282, 0.0014418184]\n",
      "11000 [0.072167106, 0.057809215, 0.06828211, 0.0024316157, 0.0014533757]\n",
      "11500 [0.07243132, 0.049135182, 0.06875503, 0.0022249187, 0.0014513637]\n",
      "12000 [0.07197246, 0.08276644, 0.067820996, 0.0027048306, 0.0014466324]\n",
      "12500 [0.07089043, 0.02104675, 0.06750336, 0.0019360542, 0.0014510104]\n",
      "13000 [0.07110838, 0.010696038, 0.06777392, 0.0018784176, 0.001456035]\n",
      "13500 [0.07102065, 0.049062297, 0.06746392, 0.00210918, 0.0014475484]\n",
      "14000 [0.07063891, 0.022118565, 0.067308694, 0.0018780915, 0.0014521265]\n",
      "14500 [0.07316647, 0.03330946, 0.069618076, 0.002088271, 0.001460118]\n",
      "15000 [0.070995465, 0.0511527, 0.06747059, 0.002074614, 0.001450262]\n",
      "15500 [0.07057924, 0.03731044, 0.06719874, 0.0019223877, 0.0014581066]\n",
      "16000 [0.07227417, 0.10040984, 0.06785823, 0.0029701702, 0.0014457754]\n",
      "16500 [0.07190023, 0.049794212, 0.068219826, 0.002212885, 0.0014675247]\n",
      "17000 [0.07164958, 0.09589719, 0.06732151, 0.0028640241, 0.0014640471]\n",
      "17500 [0.07025791, 0.010683086, 0.067070656, 0.0017306694, 0.0014565802]\n",
      "18000 [0.07017022, 0.008854682, 0.066996254, 0.0017158107, 0.0014581603]\n",
      "18500 [0.07028701, 0.008398166, 0.06715002, 0.0016769829, 0.0014600102]\n",
      "19000 [0.071779154, 0.040690828, 0.06840845, 0.0019027237, 0.001467984]\n",
      "19500 [0.07106038, 0.061883304, 0.067444846, 0.0021561645, 0.0014593711]\n",
      "20000 [0.070171624, 0.013803204, 0.06699867, 0.0017060003, 0.0014669617]\n",
      "20500 [0.07073696, 0.06599766, 0.067122616, 0.0021524797, 0.0014618665]\n",
      "21000 [0.06997767, 0.013844659, 0.06681886, 0.0016891146, 0.0014696935]\n",
      "21500 [0.07042706, 0.04482211, 0.06709233, 0.0018623306, 0.0014723991]\n",
      "22000 [0.07097923, 0.0868841, 0.06697882, 0.0025254507, 0.0014749644]\n",
      "22500 [0.06999743, 0.024864912, 0.06677684, 0.0017481179, 0.0014724717]\n",
      "23000 [0.07382667, 0.1465638, 0.0678985, 0.004441334, 0.0014868401]\n",
      "23500 [0.070142865, 0.02898667, 0.06693733, 0.0017286183, 0.0014769246]\n",
      "24000 [0.07441242, 0.16581826, 0.06808281, 0.004845048, 0.0014845636]\n",
      "24500 [0.07213251, 0.122721784, 0.067309335, 0.0033379917, 0.0014851866]\n",
      "25000 [0.070418105, 0.058552556, 0.06697109, 0.001970736, 0.0014762699]\n",
      "25500 [0.069869675, 0.013280872, 0.06682781, 0.001561223, 0.0014806386]\n",
      "26000 [0.07011093, 0.038109265, 0.06683043, 0.0017964236, 0.0014840786]\n",
      "26500 [0.07101975, 0.08859526, 0.06705699, 0.0024823926, 0.001480362]\n",
      "27000 [0.069793455, 0.032613974, 0.06665804, 0.0016536438, 0.0014817682]\n",
      "27500 [0.06987543, 0.03381715, 0.066750966, 0.0016431427, 0.0014813206]\n",
      "28000 [0.07160315, 0.11016253, 0.06714307, 0.002967624, 0.0014924579]\n",
      "28500 [0.07399829, 0.1533249, 0.06812118, 0.0043835156, 0.0014935912]\n",
      "29000 [0.069722004, 0.03761729, 0.066505216, 0.0017278995, 0.0014888895]\n",
      "29500 [0.07037088, 0.065969504, 0.06685319, 0.0020337927, 0.0014839047]\n",
      "30000 [0.06988255, 0.04217004, 0.06666844, 0.0017215826, 0.0014925229]\n",
      "30500 [0.071861915, 0.12664841, 0.06697996, 0.0033988648, 0.0014830921]\n",
      "31000 [0.06978996, 0.048571646, 0.06653889, 0.0017547024, 0.0014963644]\n",
      "31500 [0.06980911, 0.03773027, 0.066665344, 0.0016464798, 0.0014972816]\n",
      "32000 [0.07084522, 0.09891136, 0.06672293, 0.0026165375, 0.0015057473]\n",
      "32500 [0.07040856, 0.073787555, 0.06675546, 0.0021441304, 0.0015089738]\n",
      "33000 [0.07007836, 0.06851988, 0.0665323, 0.0020474053, 0.0014986536]\n",
      "33500 [0.07096541, 0.09256459, 0.066945754, 0.0025074212, 0.0015122392]\n",
      "34000 [0.069972605, 0.05866933, 0.066567644, 0.0018926754, 0.0015122844]\n",
      "34500 [0.07018533, 0.07681479, 0.06645233, 0.0022129044, 0.0015200997]\n",
      "35000 [0.06940994, 0.016788308, 0.06639119, 0.0015071675, 0.0015115743]\n",
      "35500 [0.069272436, 0.004535479, 0.06630923, 0.0014539785, 0.0015092258]\n",
      "36000 [0.06973617, 0.057474293, 0.06638574, 0.0018416254, 0.0015088059]\n",
      "36500 [0.06951548, 0.04162681, 0.06629726, 0.0016994282, 0.0015187939]\n",
      "37000 [0.07061847, 0.097438455, 0.06648948, 0.0026151345, 0.0015138589]\n",
      "37500 [0.069480754, 0.046749383, 0.06626355, 0.0017046307, 0.0015125689]\n",
      "38000 [0.069502465, 0.035317365, 0.06637971, 0.0016013321, 0.001521423]\n",
      "38500 [0.06930954, 0.026648853, 0.06625456, 0.0015340762, 0.0015209027]\n",
      "39000 [0.06918985, 0.0063831136, 0.0662108, 0.0014562367, 0.0015228108]\n",
      "39500 [0.06965998, 0.012232069, 0.06664784, 0.001489492, 0.0015226442]\n",
      "40000 [0.069337405, 0.036693197, 0.066218905, 0.0015949701, 0.0015235348]\n",
      "40500 [0.06972359, 0.06509447, 0.06624501, 0.0019572326, 0.0015213519]\n",
      "41000 [0.072593525, 0.12610683, 0.0676511, 0.0034137592, 0.0015286667]\n",
      "41500 [0.069182396, 0.009914318, 0.06620401, 0.001454477, 0.001523902]\n",
      "42000 [0.06969155, 0.06415259, 0.06625843, 0.0018944023, 0.0015387272]\n",
      "42500 [0.06933598, 0.025759665, 0.066288844, 0.0015199741, 0.0015271674]\n",
      "43000 [0.06966535, 0.06925177, 0.06614498, 0.0019926713, 0.0015276959]\n",
      "43500 [0.069448404, 0.053979773, 0.066121146, 0.0017959183, 0.0015313426]\n",
      "44000 [0.069028415, 0.0040187966, 0.066044204, 0.0014518412, 0.00153237]\n",
      "44500 [0.06948225, 0.06043928, 0.06605709, 0.0018974319, 0.0015277282]\n",
      "45000 [0.06904319, 0.019458722, 0.06602426, 0.0014826567, 0.0015362708]\n",
      "45500 [0.069078565, 0.01992769, 0.0660535, 0.0014879969, 0.0015370606]\n",
      "46000 [0.06912872, 0.02584502, 0.066048324, 0.0015426531, 0.0015377513]\n",
      "46500 [0.069016345, 0.019253049, 0.06599236, 0.0014884867, 0.001535499]\n",
      "47000 [0.06904734, 0.019369505, 0.06602008, 0.0014840347, 0.001543221]\n",
      "47500 [0.07069719, 0.10162084, 0.06647052, 0.0026772302, 0.0015494346]\n",
      "48000 [0.07042671, 0.08520883, 0.06656932, 0.0023137263, 0.0015436641]\n",
      "48500 [0.06916921, 0.039975144, 0.066014126, 0.0016144266, 0.0015406526]\n",
      "49000 [0.069453485, 0.055243004, 0.0661032, 0.0018045167, 0.0015457745]\n",
      "49500 [0.069968805, 0.0435586, 0.066782266, 0.0016459794, 0.0015405566]\n",
      "50000 [0.06963022, 0.07045887, 0.0660769, 0.0020136517, 0.0015396697]\n",
      "50500 [0.071167454, 0.04050294, 0.067891575, 0.0017279527, 0.001547926]\n",
      "51000 [0.06889866, 0.018037206, 0.06588534, 0.0014696391, 0.001543681]\n",
      "51500 [0.06921742, 0.02771793, 0.066086605, 0.0015812693, 0.0015495486]\n",
      "52000 [0.06987657, 0.07233117, 0.06612425, 0.0021972973, 0.0015550184]\n",
      "52500 [0.07255489, 0.16292113, 0.06646482, 0.004550789, 0.0015392776]\n",
      "53000 [0.06925979, 0.022394042, 0.06621526, 0.0014910997, 0.0015534277]\n",
      "53500 [0.07047971, 0.025542436, 0.067438096, 0.0014839164, 0.001557703]\n",
      "54000 [0.07234561, 0.16103856, 0.066213034, 0.004570649, 0.0015619218]\n",
      "54500 [0.06963236, 0.08051398, 0.06586393, 0.0022158676, 0.0015525579]\n",
      "55000 [0.06915913, 0.049776606, 0.06586023, 0.0017401457, 0.0015587579]\n",
      "55500 [0.06891776, 0.033608153, 0.065771334, 0.0015943839, 0.0015520409]\n",
      "56000 [0.069448754, 0.054175053, 0.06602054, 0.0018763157, 0.001551898]\n",
      "56500 [0.06906474, 0.025307914, 0.066003725, 0.0015041375, 0.0015568732]\n",
      "57000 [0.071915224, 0.10745841, 0.06753332, 0.0028197037, 0.0015622017]\n",
      "57500 [0.069222994, 0.06415978, 0.065750316, 0.0019107262, 0.0015619571]\n",
      "58000 [0.06926136, 0.057902284, 0.06583336, 0.0018644772, 0.0015635203]\n",
      "58500 [0.06872067, 0.012301593, 0.06570845, 0.0014550715, 0.001557149]\n",
      "59000 [0.06890638, 0.028888853, 0.0657485, 0.0015979076, 0.0015599721]\n",
      "59500 [0.06959378, 0.083395205, 0.06580489, 0.0022345642, 0.0015543263]\n",
      "60000 [0.06870917, 0.009822061, 0.06571448, 0.0014344254, 0.0015602688]\n",
      "60500 [0.0689307, 0.021181356, 0.06587154, 0.0014938789, 0.0015652871]\n",
      "61000 [0.06873452, 0.020916851, 0.06566811, 0.0015063314, 0.0015600795]\n",
      "61500 [0.06944502, 0.016383722, 0.066407554, 0.0014764782, 0.0015609844]\n",
      "62000 [0.06867171, 0.015106086, 0.06565522, 0.0014509676, 0.0015655265]\n",
      "62500 [0.06902009, 0.022965292, 0.06594105, 0.0015181688, 0.0015608777]\n",
      "63000 [0.068959646, 0.051427417, 0.06567097, 0.0017278583, 0.0015608189]\n",
      "63500 [0.06865178, 0.0071343915, 0.06564863, 0.0014388396, 0.0015643063]\n",
      "64000 [0.06900094, 0.021116974, 0.065948844, 0.0014822686, 0.0015698213]\n",
      "64500 [0.07054763, 0.08221118, 0.06632722, 0.002637558, 0.0015828522]\n",
      "65000 [0.06979433, 0.093802996, 0.06575355, 0.0024681198, 0.0015726627]\n",
      "65500 [0.069159634, 0.026816623, 0.065985285, 0.0016004705, 0.0015738757]\n",
      "66000 [0.069032624, 0.011593717, 0.06607145, 0.0013916711, 0.0015694991]\n",
      "66500 [0.06860978, 0.006192812, 0.06563536, 0.0014041321, 0.0015702883]\n",
      "67000 [0.06975898, 0.07572464, 0.06612978, 0.002065621, 0.0015635766]\n",
      "67500 [0.06949932, 0.039887358, 0.06631471, 0.0016131882, 0.0015714207]\n",
      "68000 [0.06915064, 0.065057516, 0.065649204, 0.0019353604, 0.0015660764]\n",
      "68500 [0.06942062, 0.048594967, 0.06609466, 0.0017477657, 0.0015782]\n",
      "69000 [0.06978784, 0.08289209, 0.06599376, 0.0022269036, 0.0015671703]\n",
      "69500 [0.06931138, 0.06892733, 0.0657163, 0.0020165276, 0.0015785517]\n",
      "70000 [0.06867258, 0.017770346, 0.06565314, 0.0014421587, 0.001577288]\n",
      "70500 [0.07250779, 0.17685702, 0.06583192, 0.0050896076, 0.0015862607]\n",
      "71000 [0.069602355, 0.06828188, 0.065910324, 0.0021061555, 0.0015858815]\n",
      "71500 [0.06870194, 0.030592622, 0.06559306, 0.0015337225, 0.0015751601]\n",
      "72000 [0.06878656, 0.04263088, 0.065569535, 0.001643736, 0.0015732875]\n",
      "72500 [0.06908812, 0.058794133, 0.06570245, 0.0018138784, 0.001571779]\n",
      "73000 [0.06955072, 0.069380336, 0.06588544, 0.0020823716, 0.0015829145]\n",
      "73500 [0.06860663, 0.010085588, 0.06562749, 0.0014028819, 0.0015762529]\n",
      "74000 [0.06897894, 0.059113674, 0.06557286, 0.0018247949, 0.0015812893]\n",
      "74500 [0.068781815, 0.03947575, 0.06560488, 0.0015963932, 0.0015805436]\n",
      "75000 [0.06890719, 0.050931923, 0.06557432, 0.0017573347, 0.0015755392]\n",
      "75500 [0.06848529, 0.00825056, 0.06549319, 0.0014119053, 0.0015801913]\n",
      "76000 [0.06891965, 0.029890746, 0.06582144, 0.0015216917, 0.001576519]\n",
      "76500 [0.069118045, 0.02054327, 0.066058874, 0.001480752, 0.0015784178]\n",
      "77000 [0.068820186, 0.039171524, 0.06563429, 0.0016101951, 0.0015756979]\n",
      "77500 [0.06851561, 0.015795328, 0.06549501, 0.0014439137, 0.0015766952]\n",
      "78000 [0.06923114, 0.07425713, 0.0655803, 0.0020651314, 0.0015857049]\n",
      "78500 [0.06858988, 0.025517413, 0.065517135, 0.0014872963, 0.0015854465]\n",
      "79000 [0.0684303, 0.008861724, 0.06544906, 0.0014024532, 0.0015787861]\n",
      "79500 [0.068701126, 0.050515536, 0.06543031, 0.0016870929, 0.0015837186]\n",
      "Current sparse vectors:\n",
      "[array([[ 0.        ],\n",
      "       [ 0.        ],\n",
      "       [ 0.3080816 ],\n",
      "       [ 0.00508139],\n",
      "       [ 0.00747631],\n",
      "       [ 0.        ],\n",
      "       [-0.03162277],\n",
      "       [ 0.        ],\n",
      "       [ 0.        ],\n",
      "       [ 0.00065316],\n",
      "       [-0.00065041],\n",
      "       [ 0.        ]])]\n",
      "Now running for the final time...\n",
      "Epoch | Total loss | Loss gradient | MSE | PI | L1 \n",
      "0 [0.7454361, 1.9785001, 0.2461702, 0.49926588, 0.0]\n",
      "500 [0.06751011, 0.01689713, 0.06569346, 0.0018166539, 0.0]\n",
      "1000 [0.068001635, 0.048610408, 0.065995954, 0.002005678, 0.0]\n",
      "1500 [0.0675145, 0.021347063, 0.06575603, 0.0017584709, 0.0]\n",
      "2000 [0.067692794, 0.05069589, 0.06572037, 0.0019724243, 0.0]\n",
      "2500 [0.06748363, 0.025901848, 0.0657135, 0.0017701233, 0.0]\n",
      "3000 [0.06835058, 0.08050373, 0.065917335, 0.0024332446, 0.0]\n",
      "3500 [0.06755, 0.019052409, 0.06582385, 0.0017261513, 0.0]\n",
      "4000 [0.0674592, 0.026400624, 0.065718494, 0.0017407095, 0.0]\n",
      "4500 [0.06742755, 0.00507815, 0.06575459, 0.0016729592, 0.0]\n",
      "5000 [0.067948185, 0.068504594, 0.065746315, 0.0022018666, 0.0]\n",
      "5500 [0.06734194, 0.011263342, 0.06568295, 0.0016589878, 0.0]\n",
      "6000 [0.06736725, 0.003213992, 0.06570268, 0.0016645698, 0.0]\n",
      "6500 [0.06755433, 0.0436925, 0.065709695, 0.0018446373, 0.0]\n",
      "7000 [0.06730894, 0.017192645, 0.06563191, 0.0016770265, 0.0]\n",
      "7500 [0.0673172, 0.013305878, 0.065644704, 0.0016725007, 0.0]\n",
      "8000 [0.067387275, 0.02828789, 0.065664016, 0.0017232614, 0.0]\n",
      "8500 [0.067507334, 0.018411877, 0.06585864, 0.0016486932, 0.0]\n",
      "9000 [0.07131587, 0.18192613, 0.06586759, 0.0054482804, 0.0]\n",
      "9500 [0.06775887, 0.058042206, 0.06570719, 0.002051678, 0.0]\n",
      "10000 [0.06724986, 0.006346974, 0.0656173, 0.0016325599, 0.0]\n",
      "10500 [0.06724959, 0.016876444, 0.065585755, 0.0016638355, 0.0]\n",
      "11000 [0.067289814, 0.0053943233, 0.06563901, 0.0016508049, 0.0]\n",
      "11500 [0.06865828, 0.092814215, 0.06599785, 0.0026604284, 0.0]\n",
      "12000 [0.06743168, 0.018934147, 0.06575929, 0.0016723955, 0.0]\n",
      "12500 [0.06759666, 0.044359874, 0.0656941, 0.0019025588, 0.0]\n",
      "13000 [0.06730995, 0.010571952, 0.06569014, 0.0016198131, 0.0]\n",
      "13500 [0.06724471, 0.0063050594, 0.06559893, 0.0016457802, 0.0]\n",
      "14000 [0.06721547, 0.013967061, 0.06558319, 0.0016322796, 0.0]\n",
      "14500 [0.06754132, 0.05454593, 0.06557824, 0.0019630836, 0.0]\n",
      "15000 [0.06718557, 0.01744846, 0.06551424, 0.0016713352, 0.0]\n",
      "15500 [0.06713273, 0.0070038056, 0.06550503, 0.0016276971, 0.0]\n"
     ]
    },
    {
     "ename": "KeyboardInterrupt",
     "evalue": "",
     "output_type": "error",
     "traceback": [
      "\u001b[0;31m---------------------------------------------------------------------------\u001b[0m",
      "\u001b[0;31mKeyboardInterrupt\u001b[0m                         Traceback (most recent call last)",
      "\u001b[0;32m<ipython-input-43-20a3d59fb98a>\u001b[0m in \u001b[0;36m<module>\u001b[0;34m\u001b[0m\n\u001b[0;32m----> 1\u001b[0;31m \u001b[0msparse_vectors\u001b[0m\u001b[0;34m,\u001b[0m \u001b[0mdenoised\u001b[0m \u001b[0;34m=\u001b[0m \u001b[0mDeepMoD\u001b[0m\u001b[0;34m(\u001b[0m\u001b[0mX_train\u001b[0m\u001b[0;34m,\u001b[0m \u001b[0my_train\u001b[0m\u001b[0;34m,\u001b[0m \u001b[0mconfig\u001b[0m\u001b[0;34m,\u001b[0m \u001b[0mlibrary_2Din_1Dout\u001b[0m\u001b[0;34m,\u001b[0m \u001b[0mlibrary_config\u001b[0m\u001b[0;34m,\u001b[0m \u001b[0mtrain_opts\u001b[0m\u001b[0;34m,\u001b[0m \u001b[0moutput_opts\u001b[0m\u001b[0;34m)\u001b[0m\u001b[0;34m\u001b[0m\u001b[0;34m\u001b[0m\u001b[0m\n\u001b[0m",
      "\u001b[0;32m~/Documents/GitHub/DeePyMoD/src/deepymod/DeepMoD.py\u001b[0m in \u001b[0;36mDeepMoD\u001b[0;34m(data, target, config, library_function, library_config, train_opts, output_opts)\u001b[0m\n\u001b[1;32m     41\u001b[0m     \u001b[0mprint\u001b[0m\u001b[0;34m(\u001b[0m\u001b[0;34m'Now running for the final time...'\u001b[0m\u001b[0;34m)\u001b[0m\u001b[0;34m\u001b[0m\u001b[0;34m\u001b[0m\u001b[0m\n\u001b[1;32m     42\u001b[0m     \u001b[0minternal_config\u001b[0m\u001b[0;34m[\u001b[0m\u001b[0;34m'lambda'\u001b[0m\u001b[0;34m]\u001b[0m \u001b[0;34m=\u001b[0m \u001b[0;36m0\u001b[0m\u001b[0;34m\u001b[0m\u001b[0;34m\u001b[0m\u001b[0m\n\u001b[0;32m---> 43\u001b[0;31m     \u001b[0mcoeff_list\u001b[0m\u001b[0;34m,\u001b[0m \u001b[0m_\u001b[0m\u001b[0;34m,\u001b[0m \u001b[0mweights\u001b[0m\u001b[0;34m,\u001b[0m \u001b[0mbiases\u001b[0m \u001b[0;34m=\u001b[0m \u001b[0mPINN\u001b[0m\u001b[0;34m(\u001b[0m\u001b[0mdata\u001b[0m\u001b[0;34m,\u001b[0m \u001b[0mtarget\u001b[0m\u001b[0;34m,\u001b[0m \u001b[0mmask\u001b[0m\u001b[0;34m,\u001b[0m \u001b[0minternal_config\u001b[0m\u001b[0;34m,\u001b[0m \u001b[0mlibrary_function\u001b[0m\u001b[0;34m,\u001b[0m \u001b[0mlibrary_config\u001b[0m\u001b[0;34m,\u001b[0m \u001b[0mtrain_opts\u001b[0m\u001b[0;34m,\u001b[0m \u001b[0moutput_opts\u001b[0m\u001b[0;34m)\u001b[0m\u001b[0;34m\u001b[0m\u001b[0;34m\u001b[0m\u001b[0m\n\u001b[0m\u001b[1;32m     44\u001b[0m \u001b[0;34m\u001b[0m\u001b[0m\n\u001b[1;32m     45\u001b[0m     \u001b[0;32mif\u001b[0m \u001b[0;34m'X_predict'\u001b[0m \u001b[0;32min\u001b[0m \u001b[0moutput_opts\u001b[0m\u001b[0;34m.\u001b[0m\u001b[0mkeys\u001b[0m\u001b[0;34m(\u001b[0m\u001b[0;34m)\u001b[0m\u001b[0;34m:\u001b[0m\u001b[0;34m\u001b[0m\u001b[0;34m\u001b[0m\u001b[0m\n",
      "\u001b[0;32m~/Documents/GitHub/DeepMoD_mechanical/DeePyMoD_Internal/src/deepymod/PINN.py\u001b[0m in \u001b[0;36mPINN\u001b[0;34m(data, target, mask, config, library_function, library_config, train_opts, output_opts)\u001b[0m\n\u001b[1;32m     26\u001b[0m         \u001b[0mprint\u001b[0m\u001b[0;34m(\u001b[0m\u001b[0;34m'Epoch | Total loss | Loss gradient | MSE | PI | L1 '\u001b[0m\u001b[0;34m)\u001b[0m\u001b[0;34m\u001b[0m\u001b[0;34m\u001b[0m\u001b[0m\n\u001b[1;32m     27\u001b[0m         \u001b[0;32mfor\u001b[0m \u001b[0miteration\u001b[0m \u001b[0;32min\u001b[0m \u001b[0mnp\u001b[0m\u001b[0;34m.\u001b[0m\u001b[0marange\u001b[0m\u001b[0;34m(\u001b[0m\u001b[0mtrain_opts\u001b[0m\u001b[0;34m[\u001b[0m\u001b[0;34m'max_iterations'\u001b[0m\u001b[0;34m]\u001b[0m\u001b[0;34m)\u001b[0m\u001b[0;34m:\u001b[0m\u001b[0;34m\u001b[0m\u001b[0;34m\u001b[0m\u001b[0m\n\u001b[0;32m---> 28\u001b[0;31m             \u001b[0msess\u001b[0m\u001b[0;34m.\u001b[0m\u001b[0mrun\u001b[0m\u001b[0;34m(\u001b[0m\u001b[0mtrain_op\u001b[0m\u001b[0;34m)\u001b[0m\u001b[0;34m\u001b[0m\u001b[0;34m\u001b[0m\u001b[0m\n\u001b[0m\u001b[1;32m     29\u001b[0m             \u001b[0;32mif\u001b[0m \u001b[0miteration\u001b[0m \u001b[0;34m%\u001b[0m \u001b[0;36m50\u001b[0m \u001b[0;34m==\u001b[0m \u001b[0;36m0\u001b[0m\u001b[0;34m:\u001b[0m\u001b[0;34m\u001b[0m\u001b[0;34m\u001b[0m\u001b[0m\n\u001b[1;32m     30\u001b[0m                 \u001b[0msummary\u001b[0m \u001b[0;34m=\u001b[0m \u001b[0msess\u001b[0m\u001b[0;34m.\u001b[0m\u001b[0mrun\u001b[0m\u001b[0;34m(\u001b[0m\u001b[0mmerged_summary\u001b[0m\u001b[0;34m)\u001b[0m\u001b[0;34m\u001b[0m\u001b[0;34m\u001b[0m\u001b[0m\n",
      "\u001b[0;32m~/anaconda3/lib/python3.6/site-packages/tensorflow/python/client/session.py\u001b[0m in \u001b[0;36mrun\u001b[0;34m(self, fetches, feed_dict, options, run_metadata)\u001b[0m\n\u001b[1;32m    903\u001b[0m     \u001b[0;32mtry\u001b[0m\u001b[0;34m:\u001b[0m\u001b[0;34m\u001b[0m\u001b[0;34m\u001b[0m\u001b[0m\n\u001b[1;32m    904\u001b[0m       result = self._run(None, fetches, feed_dict, options_ptr,\n\u001b[0;32m--> 905\u001b[0;31m                          run_metadata_ptr)\n\u001b[0m\u001b[1;32m    906\u001b[0m       \u001b[0;32mif\u001b[0m \u001b[0mrun_metadata\u001b[0m\u001b[0;34m:\u001b[0m\u001b[0;34m\u001b[0m\u001b[0;34m\u001b[0m\u001b[0m\n\u001b[1;32m    907\u001b[0m         \u001b[0mproto_data\u001b[0m \u001b[0;34m=\u001b[0m \u001b[0mtf_session\u001b[0m\u001b[0;34m.\u001b[0m\u001b[0mTF_GetBuffer\u001b[0m\u001b[0;34m(\u001b[0m\u001b[0mrun_metadata_ptr\u001b[0m\u001b[0;34m)\u001b[0m\u001b[0;34m\u001b[0m\u001b[0;34m\u001b[0m\u001b[0m\n",
      "\u001b[0;32m~/anaconda3/lib/python3.6/site-packages/tensorflow/python/client/session.py\u001b[0m in \u001b[0;36m_run\u001b[0;34m(self, handle, fetches, feed_dict, options, run_metadata)\u001b[0m\n\u001b[1;32m   1135\u001b[0m     \u001b[0;32mif\u001b[0m \u001b[0mfinal_fetches\u001b[0m \u001b[0;32mor\u001b[0m \u001b[0mfinal_targets\u001b[0m \u001b[0;32mor\u001b[0m \u001b[0;34m(\u001b[0m\u001b[0mhandle\u001b[0m \u001b[0;32mand\u001b[0m \u001b[0mfeed_dict_tensor\u001b[0m\u001b[0;34m)\u001b[0m\u001b[0;34m:\u001b[0m\u001b[0;34m\u001b[0m\u001b[0;34m\u001b[0m\u001b[0m\n\u001b[1;32m   1136\u001b[0m       results = self._do_run(handle, final_targets, final_fetches,\n\u001b[0;32m-> 1137\u001b[0;31m                              feed_dict_tensor, options, run_metadata)\n\u001b[0m\u001b[1;32m   1138\u001b[0m     \u001b[0;32melse\u001b[0m\u001b[0;34m:\u001b[0m\u001b[0;34m\u001b[0m\u001b[0;34m\u001b[0m\u001b[0m\n\u001b[1;32m   1139\u001b[0m       \u001b[0mresults\u001b[0m \u001b[0;34m=\u001b[0m \u001b[0;34m[\u001b[0m\u001b[0;34m]\u001b[0m\u001b[0;34m\u001b[0m\u001b[0;34m\u001b[0m\u001b[0m\n",
      "\u001b[0;32m~/anaconda3/lib/python3.6/site-packages/tensorflow/python/client/session.py\u001b[0m in \u001b[0;36m_do_run\u001b[0;34m(self, handle, target_list, fetch_list, feed_dict, options, run_metadata)\u001b[0m\n\u001b[1;32m   1353\u001b[0m     \u001b[0;32mif\u001b[0m \u001b[0mhandle\u001b[0m \u001b[0;32mis\u001b[0m \u001b[0;32mNone\u001b[0m\u001b[0;34m:\u001b[0m\u001b[0;34m\u001b[0m\u001b[0;34m\u001b[0m\u001b[0m\n\u001b[1;32m   1354\u001b[0m       return self._do_call(_run_fn, self._session, feeds, fetches, targets,\n\u001b[0;32m-> 1355\u001b[0;31m                            options, run_metadata)\n\u001b[0m\u001b[1;32m   1356\u001b[0m     \u001b[0;32melse\u001b[0m\u001b[0;34m:\u001b[0m\u001b[0;34m\u001b[0m\u001b[0;34m\u001b[0m\u001b[0m\n\u001b[1;32m   1357\u001b[0m       \u001b[0;32mreturn\u001b[0m \u001b[0mself\u001b[0m\u001b[0;34m.\u001b[0m\u001b[0m_do_call\u001b[0m\u001b[0;34m(\u001b[0m\u001b[0m_prun_fn\u001b[0m\u001b[0;34m,\u001b[0m \u001b[0mself\u001b[0m\u001b[0;34m.\u001b[0m\u001b[0m_session\u001b[0m\u001b[0;34m,\u001b[0m \u001b[0mhandle\u001b[0m\u001b[0;34m,\u001b[0m \u001b[0mfeeds\u001b[0m\u001b[0;34m,\u001b[0m \u001b[0mfetches\u001b[0m\u001b[0;34m)\u001b[0m\u001b[0;34m\u001b[0m\u001b[0;34m\u001b[0m\u001b[0m\n",
      "\u001b[0;32m~/anaconda3/lib/python3.6/site-packages/tensorflow/python/client/session.py\u001b[0m in \u001b[0;36m_do_call\u001b[0;34m(self, fn, *args)\u001b[0m\n\u001b[1;32m   1359\u001b[0m   \u001b[0;32mdef\u001b[0m \u001b[0m_do_call\u001b[0m\u001b[0;34m(\u001b[0m\u001b[0mself\u001b[0m\u001b[0;34m,\u001b[0m \u001b[0mfn\u001b[0m\u001b[0;34m,\u001b[0m \u001b[0;34m*\u001b[0m\u001b[0margs\u001b[0m\u001b[0;34m)\u001b[0m\u001b[0;34m:\u001b[0m\u001b[0;34m\u001b[0m\u001b[0;34m\u001b[0m\u001b[0m\n\u001b[1;32m   1360\u001b[0m     \u001b[0;32mtry\u001b[0m\u001b[0;34m:\u001b[0m\u001b[0;34m\u001b[0m\u001b[0;34m\u001b[0m\u001b[0m\n\u001b[0;32m-> 1361\u001b[0;31m       \u001b[0;32mreturn\u001b[0m \u001b[0mfn\u001b[0m\u001b[0;34m(\u001b[0m\u001b[0;34m*\u001b[0m\u001b[0margs\u001b[0m\u001b[0;34m)\u001b[0m\u001b[0;34m\u001b[0m\u001b[0;34m\u001b[0m\u001b[0m\n\u001b[0m\u001b[1;32m   1362\u001b[0m     \u001b[0;32mexcept\u001b[0m \u001b[0merrors\u001b[0m\u001b[0;34m.\u001b[0m\u001b[0mOpError\u001b[0m \u001b[0;32mas\u001b[0m \u001b[0me\u001b[0m\u001b[0;34m:\u001b[0m\u001b[0;34m\u001b[0m\u001b[0;34m\u001b[0m\u001b[0m\n\u001b[1;32m   1363\u001b[0m       \u001b[0mmessage\u001b[0m \u001b[0;34m=\u001b[0m \u001b[0mcompat\u001b[0m\u001b[0;34m.\u001b[0m\u001b[0mas_text\u001b[0m\u001b[0;34m(\u001b[0m\u001b[0me\u001b[0m\u001b[0;34m.\u001b[0m\u001b[0mmessage\u001b[0m\u001b[0;34m)\u001b[0m\u001b[0;34m\u001b[0m\u001b[0;34m\u001b[0m\u001b[0m\n",
      "\u001b[0;32m~/anaconda3/lib/python3.6/site-packages/tensorflow/python/client/session.py\u001b[0m in \u001b[0;36m_run_fn\u001b[0;34m(session, feed_dict, fetch_list, target_list, options, run_metadata)\u001b[0m\n\u001b[1;32m   1338\u001b[0m         \u001b[0;32melse\u001b[0m\u001b[0;34m:\u001b[0m\u001b[0;34m\u001b[0m\u001b[0;34m\u001b[0m\u001b[0m\n\u001b[1;32m   1339\u001b[0m           return tf_session.TF_Run(session, options, feed_dict, fetch_list,\n\u001b[0;32m-> 1340\u001b[0;31m                                    target_list, status, run_metadata)\n\u001b[0m\u001b[1;32m   1341\u001b[0m \u001b[0;34m\u001b[0m\u001b[0m\n\u001b[1;32m   1342\u001b[0m     \u001b[0;32mdef\u001b[0m \u001b[0m_prun_fn\u001b[0m\u001b[0;34m(\u001b[0m\u001b[0msession\u001b[0m\u001b[0;34m,\u001b[0m \u001b[0mhandle\u001b[0m\u001b[0;34m,\u001b[0m \u001b[0mfeed_dict\u001b[0m\u001b[0;34m,\u001b[0m \u001b[0mfetch_list\u001b[0m\u001b[0;34m)\u001b[0m\u001b[0;34m:\u001b[0m\u001b[0;34m\u001b[0m\u001b[0;34m\u001b[0m\u001b[0m\n",
      "\u001b[0;31mKeyboardInterrupt\u001b[0m: "
     ]
    }
   ],
   "source": [
    "sparse_vectors, denoised = DeepMoD(X_train, y_train, config, library_2Din_1Dout, library_config, train_opts, output_opts)"
   ]
  },
  {
   "cell_type": "markdown",
   "metadata": {},
   "source": [
    "# Show final result:"
   ]
  },
  {
   "cell_type": "code",
   "execution_count": 28,
   "metadata": {},
   "outputs": [
    {
     "name": "stdout",
     "output_type": "stream",
     "text": [
      "Inferred equation:\n",
      "u_t = 0.006u_{x} + 0.274u_{y} + 0.010u_{xx} + 0.012u_{yy} - 0.015u - 0.000uu_{yy} - 0.001uu_{xy}\n"
     ]
    }
   ],
   "source": [
    "u = ['1','u']\n",
    "du = ['1', 'u_{x}', 'u_{y}','u_{xx}', 'u_{yy}','u_{xy}']\n",
    "coeffs_list = library_matrix_mat(u, du)\n",
    "\n",
    "print('Inferred equation:')\n",
    "print_PDE(sparse_vectors[0], coeffs_list, PDE_term='u_t')"
   ]
  },
  {
   "cell_type": "markdown",
   "metadata": {},
   "source": [
    "Plot the 'Ground truth', 'Noisy' and 'Reconstructed/Denoised' solution"
   ]
  },
  {
   "cell_type": "code",
   "execution_count": 22,
   "metadata": {},
   "outputs": [],
   "source": [
    "X_predict = X[(X[:,0]==5.0) | (X[:,0]==9.0) | (X[:,0]==7.0), :]"
   ]
  },
  {
   "cell_type": "code",
   "execution_count": 23,
   "metadata": {},
   "outputs": [],
   "source": [
    "data_dict = {'x_grid': X[:,1],'y_grid': X[:,2], 't_grid': X[:,0], 'ground_truth': np.squeeze(y), 'noisy': np.squeeze(y_noisy)}\n",
    "df = pd.DataFrame(data_dict)\n",
    "for key in df:\n",
    "    df[key] = np.squeeze(df[key])\n",
    "data = pd.DataFrame(df)"
   ]
  },
  {
   "cell_type": "code",
   "execution_count": 24,
   "metadata": {},
   "outputs": [],
   "source": [
    "data_dict_denoised = {'x_grid': X[:,1],'y_grid': X[:,2], 't_grid': X[:,0], 'denoised': np.squeeze(denoised)}\n",
    "df_dn = pd.DataFrame(data_dict_denoised)\n",
    "for key in df_dn:\n",
    "    df_dn[key] = np.squeeze(df_dn[key])\n",
    "data_denoised = pd.DataFrame(df_dn)"
   ]
  },
  {
   "cell_type": "code",
   "execution_count": 31,
   "metadata": {},
   "outputs": [
    {
     "data": {
      "image/png": "[encoded data removed]",
      "text/plain": [
       "<Figure size 1080x288 with 4 Axes>"
      ]
     },
     "metadata": {
      "needs_background": "light"
     },
     "output_type": "display_data"
    }
   ],
   "source": [
    "time1 = 7.0\n",
    "\n",
    "vmin = np.min(data[data['t_grid'] == time1]['ground_truth'])\n",
    "vmax = np.max(data[data['t_grid'] == time1]['ground_truth'])\n",
    "\n",
    "fig, axes = plt.subplots(ncols=3, figsize=(15, 4))\n",
    "\n",
    "im1 = axes[0].contourf(pd.pivot_table(data[data['t_grid'] == time1],index='y_grid', columns='x_grid', values='ground_truth'), cmap='coolwarm',vmin=vmin, vmax=vmax)\n",
    "axes[0].set_xlabel('x')\n",
    "axes[0].set_ylabel('y')\n",
    "axes[0].set_title('Ground truth')\n",
    "\n",
    "im2 = axes[1].contourf(pd.pivot_table(data[data['t_grid'] == time1],index='y_grid', columns='x_grid', values='noisy'), cmap='coolwarm', vmin=vmin, vmax=vmax)\n",
    "axes[1].set_xlabel('x')\n",
    "axes[1].set_title('Noisy')\n",
    "\n",
    "im3 = axes[2].contourf(pd.pivot_table(data_denoised[data_denoised['t_grid'] == time1],index='y_grid', columns='x_grid', values='denoised'), cmap='coolwarm', vmin=vmin, vmax=vmax)\n",
    "axes[2].set_xlabel('x')\n",
    "axes[2].set_title('Sampled')\n",
    "\n",
    "fig.colorbar(im1, ax=axes.ravel().tolist())\n",
    "\n",
    "plt.show()"
   ]
  },
  {
   "cell_type": "code",
   "execution_count": null,
   "metadata": {},
   "outputs": [],
   "source": []
  }
 ],
 "metadata": {
  "kernelspec": {
   "display_name": "Python 3",
   "language": "python",
   "name": "python3"
  },
  "language_info": {
   "codemirror_mode": {
    "name": "ipython",
    "version": 3
   },
   "file_extension": ".py",
   "mimetype": "text/x-python",
   "name": "python",
   "nbconvert_exporter": "python",
   "pygments_lexer": "ipython3",
   "version": "3.6.8"
  }
 },
 "nbformat": 4,
 "nbformat_minor": 2
}
