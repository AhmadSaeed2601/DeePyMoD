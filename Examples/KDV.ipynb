{
 "cells": [
  {
   "cell_type": "markdown",
   "metadata": {},
   "source": [
    "# Korteweg-de Vries equation"
   ]
  },
  {
   "cell_type": "markdown",
   "metadata": {},
   "source": [
    "in this notebook we provide a simple example of the DeepMoD algorithm and apply it on the Korteweg-de Vries equation. "
   ]
  },
  {
   "cell_type": "markdown",
   "metadata": {},
   "source": [
    "Set the noise level, number of samples, architecture and strength of the $L_1$ Penalty"
   ]
  },
  {
   "cell_type": "code",
   "execution_count": 1,
   "metadata": {},
   "outputs": [],
   "source": [
    "import numpy as np\n",
    "import pandas as pd \n",
    "\n",
    "from deepymod.DeepMoD import DeepMoD\n",
    "from deepymod.library_functions import library_1D\n",
    "from deepymod.utilities import library_matrix_mat, print_PDE\n",
    "\n",
    "import matplotlib.pyplot as plt\n",
    "plt.style.use('seaborn-notebook')\n",
    "\n",
    "np.random.seed(42)  # setting seed for randomisation"
   ]
  },
  {
   "cell_type": "markdown",
   "metadata": {},
   "source": [
    "Set the noise level, number of samples, architecture and strength of the $L_1$ Penalty"
   ]
  },
  {
   "cell_type": "code",
   "execution_count": 2,
   "metadata": {},
   "outputs": [],
   "source": [
    "noise_level = 0.1\n",
    "number_of_samples = 1000\n",
    "layers = [2, 20, 20, 20, 20, 20, 1]\n",
    "l1 = 10**-6"
   ]
  },
  {
   "cell_type": "markdown",
   "metadata": {},
   "source": [
    "We import the ground truth data and add white noise to the solution. Next, we randomely select a pre-set number of samples.   "
   ]
  },
  {
   "cell_type": "code",
   "execution_count": 3,
   "metadata": {},
   "outputs": [],
   "source": [
    "# %%Importing and preparing data\n",
    "data = np.load('data/kdv.npy').item()\n",
    "\n",
    "X = np.transpose((data['x'].flatten(), data['t'].flatten()))\n",
    "y = np.real(data['u']).reshape((data['u'].size, 1))\n",
    "y_noisy = y + noise_level * np.std(y) * np.random.randn(y.size, 1)\n",
    "\n",
    "idx = np.random.permutation(y.size)\n",
    "X_train = X[idx, :][:number_of_samples]\n",
    "y_train = y[idx, :][:number_of_samples]"
   ]
  },
  {
   "cell_type": "markdown",
   "metadata": {},
   "source": [
    "Configure DeepMoD and the library function. \n",
    "- Set the number of terms in the library function (select max. order of derivative and polynomial). \n",
    "- Set the training options \n",
    "- Select the output directory for the TensorBoard files"
   ]
  },
  {
   "cell_type": "code",
   "execution_count": 4,
   "metadata": {},
   "outputs": [],
   "source": [
    "config = {'layers': layers, 'lambda': l1}\n",
    "library_config = {'total_terms': 12, 'deriv_order': 3, 'poly_order': 2}\n",
    "train_opts = {'max_iterations': 50000, 'grad_tol':10**-7, 'learning_rate': 0.002, 'beta1': 0.99, 'beta2': 0.999, 'epsilon': 10**-8}\n",
    "output_opts = {'output_directory': 'output/kdv/', 'X_predict': X}"
   ]
  },
  {
   "cell_type": "markdown",
   "metadata": {},
   "source": [
    "Running DeepMoD using the 1D library:"
   ]
  },
  {
   "cell_type": "code",
   "execution_count": 5,
   "metadata": {},
   "outputs": [
    {
     "name": "stdout",
     "output_type": "stream",
     "text": [
      "Epoch | Total loss | Loss gradient | MSE | PI | L1 \n",
      "0 [0.3738098, 0.009035587, 0.034543417, 0.33926037, 6.025783e-06]\n",
      "500 [0.0069807805, 0.0003295963, 0.006015573, 0.0009557361, 9.471095e-06]\n",
      "1000 [0.005125937, 0.0005962962, 0.004086756, 0.0010316925, 7.488498e-06]\n",
      "1500 [0.004372843, 0.0005894068, 0.0034781494, 0.0008880222, 6.671633e-06]\n",
      "2000 [0.003848418, 0.0005365397, 0.003130825, 0.00071151264, 6.080375e-06]\n",
      "2500 [0.0033291583, 0.00045421463, 0.0028214168, 0.00050237664, 5.364955e-06]\n",
      "3000 [0.0023596971, 0.00034169297, 0.0020362206, 0.00031910316, 4.373183e-06]\n",
      "3500 [0.00029459686, 0.00020414381, 0.00013638783, 0.00015443655, 3.7724633e-06]\n",
      "4000 [0.0001246324, 0.000100197925, 5.532926e-05, 6.514147e-05, 4.161678e-06]\n",
      "4500 [6.0171416e-05, 7.1961105e-05, 2.2517188e-05, 3.316699e-05, 4.4872395e-06]\n",
      "5000 [4.2077154e-05, 0.00011437548, 1.3410911e-05, 2.3909233e-05, 4.757009e-06]\n",
      "5500 [3.8839476e-05, 0.0001561103, 1.3194047e-05, 2.086688e-05, 4.77855e-06]\n",
      "6000 [2.674256e-05, 6.0788017e-05, 7.47109e-06, 1.4664504e-05, 4.606966e-06]\n",
      "6500 [2.8128872e-05, 0.00013740882, 8.907635e-06, 1.4643921e-05, 4.577317e-06]\n",
      "7000 [1.9005895e-05, 2.3725213e-05, 4.6017003e-06, 9.952284e-06, 4.4519097e-06]\n",
      "7500 [2.2606928e-05, 0.0001448044, 7.2947796e-06, 1.09670755e-05, 4.3450727e-06]\n",
      "8000 [1.4420829e-05, 4.1708066e-05, 3.220365e-06, 6.8643717e-06, 4.3360924e-06]\n",
      "8500 [1.6255042e-05, 0.00011915788, 4.712836e-06, 7.324993e-06, 4.2172123e-06]\n",
      "9000 [1.0418141e-05, 1.2959493e-05, 1.9863455e-06, 4.2734328e-06, 4.1583626e-06]\n",
      "9500 [9.2250075e-06, 3.2944023e-05, 1.6421517e-06, 3.5805517e-06, 4.002304e-06]\n",
      "10000 [7.937351e-06, 2.2786031e-05, 1.3508112e-06, 2.727347e-06, 3.8591934e-06]\n",
      "10500 [1.0912974e-05, 0.00011619561, 3.052426e-06, 4.2377224e-06, 3.6228262e-06]\n",
      "11000 [9.464975e-06, 0.00010618889, 2.524252e-06, 3.4920347e-06, 3.4486886e-06]\n",
      "11500 [7.0656297e-06, 7.1851195e-05, 1.4000178e-06, 2.388896e-06, 3.276716e-06]\n",
      "12000 [5.1770253e-06, 3.83489e-06, 6.589899e-07, 1.4169062e-06, 3.101129e-06]\n",
      "12500 [6.5433273e-06, 7.776791e-05, 1.6972741e-06, 1.9418706e-06, 2.9041826e-06]\n",
      "13000 [6.588588e-06, 8.610412e-05, 1.84931e-06, 1.9852976e-06, 2.7539802e-06]\n",
      "13500 [5.3757785e-06, 6.213631e-05, 9.3686987e-07, 1.7186325e-06, 2.720276e-06]\n",
      "14000 [5.146579e-06, 5.9387916e-05, 8.49662e-07, 1.5678894e-06, 2.7290275e-06]\n",
      "14500 [5.506872e-06, 6.998963e-05, 1.2994176e-06, 1.4383763e-06, 2.769078e-06]\n",
      "15000 [3.99525e-06, 9.991567e-06, 3.7075648e-07, 8.621721e-07, 2.7623219e-06]\n",
      "15500 [4.1719136e-06, 3.210019e-05, 4.8822506e-07, 9.2383806e-07, 2.7598505e-06]\n",
      "16000 [5.3341646e-06, 7.3682466e-05, 1.2459317e-06, 1.2953104e-06, 2.7929227e-06]\n",
      "16500 [5.1344405e-06, 7.057392e-05, 9.862778e-07, 1.3841873e-06, 2.7639755e-06]\n",
      "17000 [3.8428243e-06, 2.6259535e-05, 3.9408104e-07, 6.535061e-07, 2.795237e-06]\n",
      "17500 [3.7082825e-06, 1.9861945e-05, 3.390382e-07, 5.78225e-07, 2.7910194e-06]\n",
      "18000 [3.5353498e-06, 2.386107e-06, 2.3646412e-07, 4.971145e-07, 2.8017712e-06]\n",
      "18500 [3.46542e-06, 2.6435714e-06, 2.1129475e-07, 4.4694852e-07, 2.8071765e-06]\n",
      "19000 [3.405149e-06, 6.299467e-06, 1.9385757e-07, 3.9667862e-07, 2.8146128e-06]\n",
      "19500 [3.3866454e-06, 5.6298964e-06, 2.1325309e-07, 3.560773e-07, 2.8173151e-06]\n",
      "20000 [3.3733759e-06, 5.687819e-06, 2.3079345e-07, 3.179149e-07, 2.8246675e-06]\n",
      "20500 [3.6253293e-06, 3.3096767e-05, 3.2798957e-07, 4.781749e-07, 2.8191648e-06]\n",
      "21000 [3.954511e-06, 4.9257025e-05, 5.646935e-07, 5.461788e-07, 2.8436389e-06]\n",
      "21500 [3.748722e-06, 4.3956974e-05, 3.9876775e-07, 5.256253e-07, 2.824329e-06]\n",
      "22000 [3.8876587e-06, 4.8793587e-05, 5.416254e-07, 4.946875e-07, 2.851346e-06]\n",
      "22500 [3.7649038e-06, 4.5623263e-05, 4.1883527e-07, 5.1547994e-07, 2.8305885e-06]\n",
      "23000 [3.2351495e-06, 1.7626426e-05, 1.4420768e-07, 2.5038995e-07, 2.8405518e-06]\n",
      "23500 [3.21048e-06, 6.990789e-06, 1.7657145e-07, 1.8792095e-07, 2.8459876e-06]\n",
      "24000 [3.5703376e-06, 4.071551e-05, 3.2611115e-07, 4.0494498e-07, 2.8392815e-06]\n",
      "24500 [3.5960006e-06, 4.0871044e-05, 3.8726813e-07, 3.4745048e-07, 2.861282e-06]\n",
      "25000 [3.1502118e-06, 1.3250572e-05, 1.2942918e-07, 1.6347309e-07, 2.8573095e-06]\n",
      "25500 [3.384431e-06, 3.2719265e-05, 2.540795e-07, 2.8389795e-07, 2.8464535e-06]\n",
      "26000 [3.3975307e-06, 3.443381e-05, 2.7179183e-07, 2.6518077e-07, 2.860558e-06]\n",
      "26500 [3.1589184e-06, 1.3575125e-05, 1.5693546e-07, 1.4168333e-07, 2.8602997e-06]\n",
      "27000 [3.3460096e-06, 3.3366377e-05, 2.2466855e-07, 2.737137e-07, 2.8476272e-06]\n",
      "27500 [3.2445553e-06, 2.4730462e-05, 2.0640474e-07, 1.8071573e-07, 2.8574348e-06]\n",
      "28000 [3.258282e-06, 3.6686413e-06, 2.6371302e-07, 1.4235718e-07, 2.8522118e-06]\n",
      "28500 [3.27418e-06, 1.7904373e-05, 2.730898e-07, 1.5780927e-07, 2.843281e-06]\n",
      "29000 [3.2781943e-06, 2.6319958e-05, 2.308723e-07, 2.0633766e-07, 2.8409843e-06]\n",
      "29500 [3.13669e-06, 1.31425295e-05, 1.7087726e-07, 1.1058786e-07, 2.855225e-06]\n",
      "30000 [3.1176762e-06, 3.6631493e-06, 1.6728038e-07, 1.0104106e-07, 2.8493548e-06]\n",
      "30500 [3.11272e-06, 1.3816605e-05, 1.4486731e-07, 1.2551526e-07, 2.8423374e-06]\n",
      "31000 [3.2355415e-06, 5.968763e-06, 3.0002195e-07, 9.5882235e-08, 2.8396373e-06]\n",
      "31500 [3.2587989e-06, 4.3710575e-06, 3.35578e-07, 9.016413e-08, 2.8330567e-06]\n",
      "32000 [3.2297755e-06, 2.2798073e-05, 2.519524e-07, 1.3366e-07, 2.8441632e-06]\n",
      "32500 [3.2089658e-06, 7.80612e-06, 2.893645e-07, 9.370517e-08, 2.8258962e-06]\n",
      "33000 [3.058344e-06, 1.24907365e-05, 1.3094402e-07, 9.7059285e-08, 2.8303407e-06]\n",
      "33500 [3.152314e-06, 6.983966e-06, 2.3965677e-07, 7.952418e-08, 2.833133e-06]\n",
      "34000 [3.180011e-06, 4.046584e-06, 2.7087628e-07, 8.1506904e-08, 2.8276277e-06]\n",
      "34500 [3.0152082e-06, 1.09447155e-05, 1.0372414e-07, 9.098497e-08, 2.820499e-06]\n",
      "35000 [3.2073585e-06, 1.2726154e-05, 3.0325086e-07, 8.626154e-08, 2.817846e-06]\n",
      "35500 [3.2433709e-06, 1.2676174e-05, 3.3430004e-07, 9.312805e-08, 2.8159427e-06]\n",
      "36000 [3.1083089e-06, 1.1426877e-05, 2.2282268e-07, 7.674686e-08, 2.8087393e-06]\n",
      "36500 [3.1649724e-06, 1.1579908e-05, 2.6542745e-07, 9.3719166e-08, 2.8058257e-06]\n",
      "37000 [3.1706413e-06, 9.611752e-06, 2.996366e-07, 7.428447e-08, 2.7967203e-06]\n",
      "37500 [2.9259022e-06, 5.829995e-06, 6.6428214e-08, 6.074054e-08, 2.7987335e-06]\n",
      "38000 [3.1752609e-06, 6.122629e-06, 2.953059e-07, 8.903114e-08, 2.7909239e-06]\n",
      "38500 [3.05841e-06, 9.382849e-06, 2.0514685e-07, 6.175728e-08, 2.7915057e-06]\n",
      "39000 [2.884707e-06, 3.7781645e-06, 4.3663626e-08, 6.05179e-08, 2.7805256e-06]\n",
      "39500 [2.9730113e-06, 3.9583306e-06, 1.4057142e-07, 5.571801e-08, 2.7767219e-06]\n",
      "40000 [3.0623396e-06, 1.3704528e-05, 2.1206095e-07, 7.659503e-08, 2.7736837e-06]\n",
      "40500 [3.1161512e-06, 5.8897667e-06, 2.7375467e-07, 7.993207e-08, 2.7624644e-06]\n",
      "41000 [2.8635711e-06, 7.210467e-06, 5.233279e-08, 5.3608797e-08, 2.7576295e-06]\n",
      "41500 [3.0927783e-06, 4.6045125e-06, 2.878566e-07, 5.607979e-08, 2.748842e-06]\n",
      "42000 [3.082e-06, 1.4471361e-05, 2.499181e-07, 8.493514e-08, 2.7471467e-06]\n",
      "42500 [2.9909665e-06, 1.2463416e-05, 1.8879649e-07, 6.991449e-08, 2.7322556e-06]\n",
      "43000 [2.831164e-06, 4.1082203e-06, 4.6137778e-08, 5.5782184e-08, 2.729244e-06]\n",
      "43500 [2.8719628e-06, 2.841597e-06, 9.2393414e-08, 6.132781e-08, 2.7182416e-06]\n",
      "44000 [2.8862635e-06, 1.4412558e-05, 9.449542e-08, 7.466216e-08, 2.7171059e-06]\n",
      "44500 [3.0183326e-06, 1.3378967e-05, 2.4641037e-07, 6.545349e-08, 2.7064686e-06]\n",
      "45000 [3.017042e-06, 1.0206346e-05, 2.4630953e-07, 6.5536646e-08, 2.7051958e-06]\n",
      "45500 [2.8471316e-06, 4.5975994e-06, 1.08089694e-07, 4.3980517e-08, 2.6950613e-06]\n",
      "46000 [2.889101e-06, 3.2303028e-06, 1.5810144e-07, 4.828733e-08, 2.6827124e-06]\n",
      "46500 [2.82977e-06, 6.0149277e-06, 9.060989e-08, 6.0848194e-08, 2.6783118e-06]\n",
      "47000 [2.9794774e-06, 8.228608e-06, 2.4833926e-07, 5.4855423e-08, 2.6762827e-06]\n",
      "47500 [2.768995e-06, 1.4554281e-06, 6.129181e-08, 4.192476e-08, 2.6657785e-06]\n",
      "48000 [2.791164e-06, 3.6702108e-06, 8.315714e-08, 5.5411128e-08, 2.6525956e-06]\n",
      "48500 [2.8548216e-06, 4.899229e-06, 1.6046947e-07, 5.0016382e-08, 2.6443356e-06]\n",
      "49000 [2.8954332e-06, 5.936906e-06, 2.06338e-07, 5.13864e-08, 2.6377088e-06]\n",
      "49500 [2.9761593e-06, 7.3550164e-06, 2.9117345e-07, 4.7058382e-08, 2.6379275e-06]\n",
      "Current sparse vectors:\n",
      "[array([[ 0.        ],\n",
      "       [ 0.        ],\n",
      "       [ 0.        ],\n",
      "       [-0.96863377],\n",
      "       [ 0.        ],\n",
      "       [-5.51450062],\n",
      "       [ 0.        ],\n",
      "       [ 0.        ],\n",
      "       [ 0.        ],\n",
      "       [ 0.        ],\n",
      "       [ 0.        ],\n",
      "       [ 0.        ]])]\n",
      "Now running for the final time...\n",
      "Epoch | Total loss | Loss gradient | MSE | PI | L1 \n",
      "0 [0.01442182, 0.009685693, 0.009221072, 0.0052007474, 0.0]\n",
      "500 [2.7228569e-05, 0.00013749342, 1.9981973e-05, 7.246596e-06, 0.0]\n",
      "1000 [4.6573023e-06, 3.8231687e-05, 1.5581527e-06, 3.0991494e-06, 0.0]\n",
      "1500 [2.457024e-06, 2.7194521e-05, 7.5336834e-07, 1.7036558e-06, 0.0]\n",
      "2000 [1.3973431e-06, 1.7936236e-05, 4.173154e-07, 9.800277e-07, 0.0]\n",
      "2500 [8.058979e-07, 1.0660438e-05, 2.4182003e-07, 5.640779e-07, 0.0]\n",
      "3000 [4.927487e-07, 5.5705395e-06, 1.5412793e-07, 3.3862077e-07, 0.0]\n",
      "3500 [3.3240548e-07, 2.482976e-06, 1.1077265e-07, 2.2163282e-07, 0.0]\n",
      "4000 [2.4160417e-07, 9.4986e-07, 8.499631e-08, 1.5660785e-07, 0.0]\n",
      "4500 [1.8218347e-07, 3.5289574e-07, 6.7440126e-08, 1.1474334e-07, 0.0]\n",
      "5000 [1.3978362e-07, 1.5594495e-07, 5.452358e-08, 8.526004e-08, 0.0]\n",
      "5500 [1.08805494e-07, 8.362992e-08, 4.471841e-08, 6.408708e-08, 0.0]\n",
      "Optimizer converged.\n"
     ]
    }
   ],
   "source": [
    "sparse_vectors, denoised = DeepMoD(X_train, y_train, config, library_1D, library_config, train_opts, output_opts)"
   ]
  },
  {
   "cell_type": "markdown",
   "metadata": {},
   "source": [
    "Show final result:"
   ]
  },
  {
   "cell_type": "code",
   "execution_count": 10,
   "metadata": {},
   "outputs": [
    {
     "name": "stdout",
     "output_type": "stream",
     "text": [
      "Inferred equation:\n",
      "u_t = 0.997u_{xxx} - 5.992uu_{x}\n"
     ]
    }
   ],
   "source": [
    "u = ['1', 'u', 'uˆ2']\n",
    "du = ['1', 'u_{x}', 'u_{xx}', 'u_{xxx}']\n",
    "coeffs_list = library_matrix_mat(u, du)\n",
    "\n",
    "print('Inferred equation:')\n",
    "print_PDE(sparse_vectors[0], coeffs_list, PDE_term='u_t')"
   ]
  },
  {
   "cell_type": "markdown",
   "metadata": {},
   "source": [
    "Plot the 'Ground truth', 'Noisy' and 'Reconstructed/Denoised' solution"
   ]
  },
  {
   "cell_type": "code",
   "execution_count": 11,
   "metadata": {},
   "outputs": [],
   "source": [
    "data= {'x_grid': X[:, 0], 't_grid': X[:, 1], 'ground truth': y, 'noisy': y_noisy, 'inferred': denoised}\n",
    "for key in data:\n",
    "    data[key] = np.squeeze(data[key])\n",
    "data = pd.DataFrame(data)\n",
    "train_idx = np.random.permutation(data['t_grid'].size)[:number_of_samples]\n",
    "data['train set'] = [data['noisy'][index] if index in train_idx else None for index in np.arange(data['t_grid'].size)]"
   ]
  },
  {
   "cell_type": "code",
   "execution_count": 12,
   "metadata": {},
   "outputs": [
    {
     "data": {
      "text/plain": [
       "<matplotlib.colorbar.Colorbar at 0xb2c006940>"
      ]
     },
     "execution_count": 12,
     "metadata": {},
     "output_type": "execute_result"
    },
    {
     "data": {
      "image/png": "[encoded data removed]",
      "text/plain": [
       "<Figure size 864x360 with 4 Axes>"
      ]
     },
     "metadata": {
      "needs_background": "light"
     },
     "output_type": "display_data"
    }
   ],
   "source": [
    "vmin = data['ground truth'].min()\n",
    "vmax =data['ground truth'].max()\n",
    "\n",
    "fig, [ax1, ax2, ax3] = plt.subplots(ncols=3, nrows=1, figsize= (12, 5))\n",
    "np.count_nonzero(~np.isnan(data['train set']))\n",
    "\n",
    "im1 = ax1.contourf(data.pivot(index='t_grid', columns='x_grid', values='ground truth'), cmap='coolwarm',vmin=vmin, vmax=vmax)\n",
    "ax1.set_xticks([])\n",
    "ax1.set_yticks([])\n",
    "ax1.set_xlabel('x')\n",
    "ax1.set_ylabel('t')\n",
    "ax1.set_title('Ground truth')\n",
    "\n",
    "im2 = ax2.contourf(data.pivot(index='t_grid', columns='x_grid', values='noisy'), cmap='coolwarm', vmin=vmin, vmax=vmax)\n",
    "ax2.set_xticks([])\n",
    "ax2.set_yticks([])\n",
    "ax2.set_xlabel('x')\n",
    "ax2.set_title('Noisy')\n",
    "\n",
    "im3 = ax3.contourf(data.pivot(index='t_grid', columns='x_grid', values='inferred'), cmap='coolwarm', vmin=vmin, vmax=vmax)\n",
    "ax3.set_xticks([])\n",
    "ax3.set_yticks([])\n",
    "ax3.set_xlabel('x')\n",
    "ax3.set_title('Reconstructed')\n",
    "plt.colorbar(im3)"
   ]
  },
  {
   "cell_type": "code",
   "execution_count": null,
   "metadata": {},
   "outputs": [],
   "source": []
  }
 ],
 "metadata": {
  "kernelspec": {
   "display_name": "Python 3",
   "language": "python",
   "name": "python3"
  },
  "language_info": {
   "codemirror_mode": {
    "name": "ipython",
    "version": 3
   },
   "file_extension": ".py",
   "mimetype": "text/x-python",
   "name": "python",
   "nbconvert_exporter": "python",
   "pygments_lexer": "ipython3",
   "version": "3.6.8"
  }
 },
 "nbformat": 4,
 "nbformat_minor": 2
}
