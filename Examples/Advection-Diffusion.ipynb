{
 "cells": [
  {
   "cell_type": "markdown",
   "metadata": {},
   "source": [
    "# 2D Advection-Diffusion equation"
   ]
  },
  {
   "cell_type": "markdown",
   "metadata": {},
   "source": [
    "in this notebook we provide a simple example of the DeepMoD algorithm and apply it on the 2D advection-diffusion equation. "
   ]
  },
  {
   "cell_type": "code",
   "execution_count": 8,
   "metadata": {},
   "outputs": [],
   "source": [
    "import numpy as np\n",
    "import pandas as pd \n",
    "\n",
    "from scipy.io import loadmat\n",
    "from deepymod.DeepMoD import DeepMoD\n",
    "from deepymod.library_functions import library_2Din_1Dout\n",
    "from deepymod.utilities import library_matrix_mat, print_PDE\n",
    "\n",
    "import matplotlib.pyplot as plt\n",
    "plt.style.use('seaborn-notebook')\n",
    "\n",
    "np.random.seed(42)  # setting seed for randomisation"
   ]
  },
  {
   "cell_type": "markdown",
   "metadata": {},
   "source": [
    "Set the noise level, number of samples, architecture and strength of the $L_1$ penalty.\n",
    "Note that we have three input channels in this example: {x,y,t}"
   ]
  },
  {
   "cell_type": "code",
   "execution_count": 11,
   "metadata": {},
   "outputs": [],
   "source": [
    "noise_level = 0.1\n",
    "number_of_samples = 1000\n",
    "layers = [3, 20, 20, 20, 20, 20, 1]\n",
    "l1 = 10**-6"
   ]
  },
  {
   "cell_type": "code",
   "execution_count": 12,
   "metadata": {},
   "outputs": [],
   "source": [
    "# %%Importing and preparing data\n",
    "\n",
    "data = loadmat('data/Advection_diffusion.mat')\n",
    "usol = np.real(data['Expression1'])\n",
    "usol= usol.reshape((51,51,61,4))\n",
    "\n",
    "x_v= usol[:,:,:,0]\n",
    "y_v = usol[:,:,:,1]\n",
    "t_v = usol[:,:,:,2]\n",
    "u_v = usol[:,:,:,3]\n",
    "\n",
    "X = np.transpose((t_v.flatten(),x_v.flatten(), y_v.flatten()))\n",
    "y = u_v.reshape((u_v.size, 1))\n",
    "y_noisy = y + noise_level * np.std(y) * np.random.randn(y.size, 1)\n",
    "\n",
    "idx = np.random.permutation(y.size)\n",
    "X_train = X[idx, :][:number_of_samples]\n",
    "y_train = y[idx, :][:number_of_samples]"
   ]
  },
  {
   "cell_type": "code",
   "execution_count": 13,
   "metadata": {},
   "outputs": [],
   "source": [
    "config = {'layers': layers, 'lambda': l1}\n",
    "library_config = {'total_terms': 12, 'deriv_order': 2, 'poly_order': 1}\n",
    "train_opts = {'max_iterations': 50000, 'grad_tol':10**-7, 'learning_rate': 0.002, 'beta1': 0.99, 'beta2': 0.999, 'epsilon': 10**-8}\n",
    "output_opts = {'output_directory': 'output/AD/', 'X_predict': X}"
   ]
  },
  {
   "cell_type": "markdown",
   "metadata": {},
   "source": [
    "Running DeepMoD"
   ]
  },
  {
   "cell_type": "markdown",
   "metadata": {},
   "source": [
    "Configure DeepMoD: Note we have a 2D+1 input so the 2Din_1Dout library has te be selected "
   ]
  },
  {
   "cell_type": "code",
   "execution_count": 14,
   "metadata": {},
   "outputs": [
    {
     "name": "stdout",
     "output_type": "stream",
     "text": [
      "Epoch | Total loss | Loss gradient | MSE | PI | L1 \n",
      "0 [0.30983734, 0.011058755, 0.25312775, 0.056700896, 8.701146e-06]\n",
      "500 [0.017407766, 0.00908428, 0.012386838, 0.005017042, 3.886367e-06]\n",
      "1000 [0.0014680729, 0.0006059256, 0.000923538, 0.0005421901, 2.3448092e-06]\n",
      "1500 [0.0004367726, 0.00024096196, 0.00025027175, 0.00018456085, 1.9400127e-06]\n",
      "2000 [0.00021153172, 0.0001605865, 0.00011707905, 9.261835e-05, 1.8343057e-06]\n",
      "2500 [0.00011838312, 9.894276e-05, 5.914698e-05, 5.7424306e-05, 1.8118305e-06]\n",
      "3000 [7.42896e-05, 4.8020353e-05, 3.3196222e-05, 3.9301278e-05, 1.7921058e-06]\n",
      "3500 [5.0630853e-05, 3.155696e-05, 2.0393842e-05, 2.8434579e-05, 1.8024313e-06]\n",
      "4000 [3.5893376e-05, 1.8521478e-05, 1.3266613e-05, 2.081618e-05, 1.8105825e-06]\n",
      "4500 [2.5747135e-05, 9.543028e-06, 8.840548e-06, 1.5094853e-05, 1.8117328e-06]\n",
      "5000 [1.871908e-05, 4.6087225e-06, 6.009928e-06, 1.0899613e-05, 1.8095405e-06]\n",
      "5500 [1.4336093e-05, 7.3029955e-06, 4.451963e-06, 8.077699e-06, 1.8064312e-06]\n",
      "6000 [1.1686357e-05, 1.557066e-05, 3.8242656e-06, 6.0602856e-06, 1.8018053e-06]\n",
      "6500 [9.26737e-06, 1.09606035e-05, 2.8052161e-06, 4.665681e-06, 1.796473e-06]\n",
      "7000 [8.724707e-06, 2.0927508e-05, 3.2103335e-06, 3.723061e-06, 1.7913128e-06]\n",
      "7500 [6.691932e-06, 9.710739e-06, 1.8549032e-06, 3.0503343e-06, 1.7866948e-06]\n",
      "8000 [5.6417475e-06, 1.5224158e-06, 1.2932783e-06, 2.565716e-06, 1.7827531e-06]\n",
      "8500 [5.245186e-06, 7.579586e-06, 1.2613987e-06, 2.204304e-06, 1.7794831e-06]\n",
      "9000 [5.3877347e-06, 1.5611622e-05, 1.6830903e-06, 1.927892e-06, 1.7767524e-06]\n",
      "9500 [4.8711145e-06, 1.3313515e-05, 1.3839402e-06, 1.7113072e-06, 1.7758671e-06]\n",
      "10000 [4.1995254e-06, 7.4768777e-06, 8.862276e-07, 1.5379665e-06, 1.7753315e-06]\n",
      "10500 [5.2870582e-06, 2.1664515e-05, 2.0996242e-06, 1.4123909e-06, 1.775043e-06]\n",
      "11000 [5.016761e-06, 2.0937674e-05, 1.9481665e-06, 1.2929808e-06, 1.7756138e-06]\n",
      "11500 [4.453691e-06, 1.8085027e-05, 1.4826147e-06, 1.1948973e-06, 1.7761789e-06]\n",
      "12000 [4.5343704e-06, 1.8364199e-05, 1.6430029e-06, 1.1144173e-06, 1.7769505e-06]\n",
      "12500 [3.4637894e-06, 8.122164e-06, 6.4912103e-07, 1.03769e-06, 1.7769784e-06]\n",
      "13000 [4.337613e-06, 2.0613723e-05, 1.5768446e-06, 9.835962e-07, 1.7771723e-06]\n",
      "13500 [4.178898e-06, 1.9555815e-05, 1.4711802e-06, 9.303034e-07, 1.7774147e-06]\n",
      "14000 [3.946935e-06, 1.700142e-05, 1.2905703e-06, 8.7908796e-07, 1.7772767e-06]\n",
      "14500 [4.631098e-06, 2.5242904e-05, 2.0067807e-06, 8.466538e-07, 1.7776636e-06]\n",
      "15000 [3.1606846e-06, 8.730974e-06, 5.89035e-07, 7.9414656e-07, 1.7775031e-06]\n",
      "15500 [2.9695989e-06, 6.789763e-06, 4.3233956e-07, 7.595441e-07, 1.7777152e-06]\n",
      "16000 [2.853686e-06, 1.7423027e-06, 3.496674e-07, 7.262125e-07, 1.7778061e-06]\n",
      "16500 [3.02006e-06, 8.01811e-06, 5.4340063e-07, 6.990526e-07, 1.7776067e-06]\n",
      "17000 [3.7698892e-06, 1.9520125e-05, 1.31034e-06, 6.818713e-07, 1.777678e-06]\n",
      "17500 [3.5872972e-06, 1.8126037e-05, 1.1561593e-06, 6.534813e-07, 1.7776564e-06]\n",
      "18000 [3.959265e-06, 2.1961774e-05, 1.5453712e-06, 6.361593e-07, 1.7777345e-06]\n",
      "18500 [4.23198e-06, 2.3209901e-05, 1.841313e-06, 6.133923e-07, 1.7772745e-06]\n",
      "19000 [4.2669876e-06, 2.5011921e-05, 1.8892232e-06, 6.0022586e-07, 1.7775385e-06]\n",
      "19500 [4.201096e-06, 2.4285879e-05, 1.8455521e-06, 5.7804533e-07, 1.7774985e-06]\n",
      "20000 [4.1377184e-06, 2.307389e-05, 1.7997339e-06, 5.602855e-07, 1.777699e-06]\n",
      "20500 [4.1075427e-06, 2.3111943e-05, 1.7864448e-06, 5.437932e-07, 1.7773049e-06]\n",
      "21000 [4.0735076e-06, 2.304674e-05, 1.7670293e-06, 5.2884593e-07, 1.7776325e-06]\n",
      "21500 [3.8415424e-06, 2.1977656e-05, 1.5497774e-06, 5.1445e-07, 1.777315e-06]\n",
      "22000 [3.759527e-06, 2.1104288e-05, 1.4825091e-06, 4.996754e-07, 1.7773425e-06]\n",
      "22500 [3.7879586e-06, 2.1762515e-05, 1.5231789e-06, 4.876725e-07, 1.7771073e-06]\n",
      "23000 [3.4117952e-06, 1.9154306e-05, 1.1607561e-06, 4.7388045e-07, 1.7771584e-06]\n",
      "23500 [3.111178e-06, 1.6178152e-05, 8.7466117e-07, 4.5949255e-07, 1.7770245e-06]\n",
      "24000 [2.879332e-06, 1.32988625e-05, 6.547959e-07, 4.4762e-07, 1.7769162e-06]\n",
      "24500 [3.1368309e-06, 1.5361684e-05, 9.2312484e-07, 4.3706027e-07, 1.7766456e-06]\n",
      "25000 [3.2216035e-06, 1.8272473e-05, 1.0154648e-06, 4.2926678e-07, 1.7768717e-06]\n",
      "25500 [3.4718864e-06, 1.9701534e-05, 1.2750357e-06, 4.202922e-07, 1.7765585e-06]\n",
      "26000 [3.656928e-06, 2.1372503e-05, 1.4664294e-06, 4.13728e-07, 1.7767705e-06]\n",
      "26500 [3.7087893e-06, 2.3233937e-05, 1.5264162e-06, 4.0574182e-07, 1.7766312e-06]\n",
      "27000 [3.6307895e-06, 2.183041e-05, 1.4584806e-06, 3.9558168e-07, 1.7767272e-06]\n",
      "27500 [3.5471235e-06, 2.1531423e-05, 1.3834681e-06, 3.872366e-07, 1.7764187e-06]\n",
      "28000 [3.6167216e-06, 2.3237384e-05, 1.4578974e-06, 3.8251036e-07, 1.776314e-06]\n",
      "28500 [3.7771015e-06, 2.2200918e-05, 1.6282386e-06, 3.7265087e-07, 1.7762121e-06]\n",
      "29000 [3.843632e-06, 2.5100106e-05, 1.6974227e-06, 3.6999808e-07, 1.776211e-06]\n",
      "29500 [3.4188406e-06, 1.9525527e-05, 1.2875784e-06, 3.552654e-07, 1.775997e-06]\n",
      "30000 [2.669876e-06, 1.1567892e-05, 5.481241e-07, 3.4572395e-07, 1.7760281e-06]\n",
      "30500 [2.2965e-06, 2.2461913e-06, 1.8573934e-07, 3.3496676e-07, 1.7757941e-06]\n",
      "31000 [2.497099e-06, 8.889259e-06, 3.9183365e-07, 3.294033e-07, 1.7758621e-06]\n",
      "31500 [3.457242e-06, 2.1810063e-05, 1.3489439e-06, 3.3248827e-07, 1.7758098e-06]\n",
      "32000 [3.7456916e-06, 2.2478203e-05, 1.6456909e-06, 3.2452354e-07, 1.7754771e-06]\n",
      "32500 [3.295771e-06, 1.9568872e-05, 1.2027884e-06, 3.1725193e-07, 1.7757308e-06]\n",
      "33000 [2.3735427e-06, 5.6019694e-06, 2.9344912e-07, 3.0479595e-07, 1.7752976e-06]\n",
      "33500 [2.3716239e-06, 6.9551247e-06, 2.969375e-07, 2.9927784e-07, 1.7754086e-06]\n",
      "34000 [3.3028862e-06, 2.0925387e-05, 1.2227556e-06, 3.0483403e-07, 1.7752966e-06]\n",
      "34500 [3.7085078e-06, 2.4330566e-05, 1.6325176e-06, 3.0084078e-07, 1.7751496e-06]\n",
      "35000 [3.4583845e-06, 2.2340231e-05, 1.3865389e-06, 2.9691006e-07, 1.7749355e-06]\n",
      "35500 [2.5509046e-06, 1.2069008e-05, 4.950139e-07, 2.808504e-07, 1.7750402e-06]\n",
      "36000 [2.2232623e-06, 3.4379793e-06, 1.7408954e-07, 2.7440947e-07, 1.7747633e-06]\n",
      "36500 [2.8596319e-06, 1.5364538e-05, 8.100068e-07, 2.7461928e-07, 1.7750057e-06]\n",
      "37000 [3.6266688e-06, 2.2265114e-05, 1.5783035e-06, 2.7393173e-07, 1.7744337e-06]\n",
      "37500 [2.8975662e-06, 1.7249748e-05, 8.5546293e-07, 2.6740767e-07, 1.7746956e-06]\n",
      "38000 [2.1837518e-06, 2.6929977e-06, 1.5207888e-07, 2.5722235e-07, 1.7744505e-06]\n",
      "38500 [2.8994577e-06, 1.6989121e-05, 8.6750913e-07, 2.576008e-07, 1.7743478e-06]\n",
      "39000 [3.5835842e-06, 2.3732984e-05, 1.5471811e-06, 2.6199436e-07, 1.7744086e-06]\n",
      "39500 [2.863207e-06, 1.6230832e-05, 8.3887466e-07, 2.5007563e-07, 1.7742567e-06]\n",
      "40000 [2.1474561e-06, 3.7262719e-06, 1.3181783e-07, 2.4140613e-07, 1.7742323e-06]\n",
      "40500 [2.8957506e-06, 1.6630069e-05, 8.781311e-07, 2.4335282e-07, 1.7742666e-06]\n",
      "41000 [3.519176e-06, 2.409084e-05, 1.5003271e-06, 2.4509964e-07, 1.7737494e-06]\n",
      "41500 [2.6305106e-06, 1.4263543e-05, 6.203668e-07, 2.3635612e-07, 1.7737877e-06]\n",
      "42000 [2.150963e-06, 2.201572e-06, 1.492632e-07, 2.2777209e-07, 1.7739276e-06]\n",
      "42500 [3.0960978e-06, 1.8878634e-05, 1.0919166e-06, 2.3083513e-07, 1.7733461e-06]\n",
      "43000 [3.5021496e-06, 2.1628153e-05, 1.496375e-06, 2.3213198e-07, 1.7736427e-06]\n",
      "43500 [2.7316269e-06, 1.5545382e-05, 7.3524274e-07, 2.2305981e-07, 1.7733245e-06]\n",
      "44000 [2.1226651e-06, 2.9140117e-06, 1.3281975e-07, 2.1664992e-07, 1.7731954e-06]\n",
      "44500 [2.8807858e-06, 1.6300282e-05, 8.8828216e-07, 2.1904502e-07, 1.7734585e-06]\n",
      "45000 [3.477408e-06, 2.2362265e-05, 1.4848106e-06, 2.1966491e-07, 1.7729326e-06]\n",
      "45500 [2.8590914e-06, 1.7534632e-05, 8.7019214e-07, 2.1582501e-07, 1.7730742e-06]\n",
      "46000 [2.1472147e-06, 4.9502246e-06, 1.6782863e-07, 2.0648231e-07, 1.7729036e-06]\n",
      "46500 [3.1103282e-06, 2.0085496e-05, 1.1269119e-06, 2.1058243e-07, 1.7728337e-06]\n",
      "47000 [3.4433524e-06, 2.3039127e-05, 1.4592246e-06, 2.1119098e-07, 1.7729369e-06]\n",
      "47500 [2.5974082e-06, 1.22062265e-05, 6.2452744e-07, 2.0046122e-07, 1.7724195e-06]\n",
      "48000 [2.296385e-06, 9.129397e-06, 3.2571103e-07, 1.9799073e-07, 1.7726833e-06]\n",
      "48500 [2.1388912e-06, 2.8152667e-06, 1.7254254e-07, 1.936244e-07, 1.7727242e-06]\n",
      "49000 [3.00258e-06, 1.8277246e-05, 1.0330833e-06, 1.9721745e-07, 1.772279e-06]\n",
      "49500 [3.4033978e-06, 2.3781173e-05, 1.4287004e-06, 2.0228845e-07, 1.7724088e-06]\n",
      "Current sparse vectors:\n",
      "[array([[0.        ],\n",
      "       [0.24966629],\n",
      "       [0.49824405],\n",
      "       [0.49990022],\n",
      "       [0.49974114],\n",
      "       [0.        ],\n",
      "       [0.        ],\n",
      "       [0.        ],\n",
      "       [0.        ],\n",
      "       [0.        ],\n",
      "       [0.        ],\n",
      "       [0.        ]])]\n",
      "Now running for the final time...\n",
      "Epoch | Total loss | Loss gradient | MSE | PI | L1 \n",
      "0 [0.09603186, 0.0013308284, 0.09560193, 0.00042993182, 0.0]\n",
      "500 [0.00022987675, 0.00054680655, 0.00018998311, 3.9893643e-05, 0.0]\n",
      "1000 [2.0718913e-05, 1.7867262e-05, 7.87818e-06, 1.2840733e-05, 0.0]\n",
      "1500 [9.36805e-06, 1.964375e-06, 3.1414795e-06, 6.2265703e-06, 0.0]\n",
      "2000 [5.8323676e-06, 9.990223e-08, 2.0161654e-06, 3.816202e-06, 0.0]\n",
      "Optimizer converged.\n"
     ]
    }
   ],
   "source": [
    "sparse_vectors, denoised = DeepMoD(X_train, y_train, config, library_2Din_1Dout, library_config, train_opts, output_opts)"
   ]
  },
  {
   "cell_type": "markdown",
   "metadata": {},
   "source": [
    "Show final result:"
   ]
  },
  {
   "cell_type": "code",
   "execution_count": 15,
   "metadata": {},
   "outputs": [
    {
     "name": "stdout",
     "output_type": "stream",
     "text": [
      "Inferred equation:\n",
      "u_t = 0.249u_{x} + 0.500u_{y} + 0.495u_{xx} + 0.502u_{yy}\n"
     ]
    }
   ],
   "source": [
    "u = ['1', 'u']\n",
    "du = ['1', 'u_{x}', 'u_{y}','u_{xx}', 'u_{yy}','u_{xy}']\n",
    "coeffs_list = library_matrix_mat(u, du)\n",
    "\n",
    "print('Inferred equation:')\n",
    "print_PDE(sparse_vectors[0], coeffs_list, PDE_term='u_t')"
   ]
  },
  {
   "cell_type": "markdown",
   "metadata": {},
   "source": [
    "Plot the 'Ground truth', 'Noisy' and 'Reconstructed/Denoised' solution"
   ]
  },
  {
   "cell_type": "code",
   "execution_count": 35,
   "metadata": {},
   "outputs": [],
   "source": [
    "X_predict = X[(X[:,0]==5.0) | (X[:,0]==9.0) | (X[:,0]==7.0), :]"
   ]
  },
  {
   "cell_type": "code",
   "execution_count": 33,
   "metadata": {},
   "outputs": [],
   "source": [
    "data_dict = {'x_grid': X[:,1],'y_grid': X[:,2], 't_grid': X[:,0], 'ground_truth': np.squeeze(y), 'noisy': np.squeeze(y_noisy)}\n",
    "df = pd.DataFrame(data_dict)\n",
    "for key in df:\n",
    "    df[key] = np.squeeze(df[key])\n",
    "data = pd.DataFrame(df)"
   ]
  },
  {
   "cell_type": "code",
   "execution_count": 40,
   "metadata": {},
   "outputs": [],
   "source": [
    "data_dict_denoised = {'x_grid': X[:,1],'y_grid': X[:,2], 't_grid': X[:,0], 'denoised': np.squeeze(denoised)}\n",
    "df_dn = pd.DataFrame(data_dict_denoised)\n",
    "for key in df_dn:\n",
    "    df_dn[key] = np.squeeze(df_dn[key])\n",
    "data_denoised = pd.DataFrame(df_dn)"
   ]
  },
  {
   "cell_type": "code",
   "execution_count": 47,
   "metadata": {},
   "outputs": [
    {
     "data": {
      "image/png": "[encoded data removed]",
      "text/plain": [
       "<Figure size 1080x360 with 4 Axes>"
      ]
     },
     "metadata": {
      "needs_background": "light"
     },
     "output_type": "display_data"
    }
   ],
   "source": [
    "time1 = 7.0\n",
    "\n",
    "vmin = np.min(data[data['t_grid'] == time1]['ground_truth'])\n",
    "vmax = np.max(data[data['t_grid'] == time1]['ground_truth'])\n",
    "\n",
    "#%%\n",
    "fig, [ax1, ax2, ax3] = plt.subplots(ncols=3, nrows=1, figsize= (15, 5))\n",
    "im1 = ax1.contourf(pd.pivot_table(data[data['t_grid'] == time1],index='y_grid', columns='x_grid', values='ground_truth'), cmap='coolwarm',vmin=vmin, vmax=vmax)\n",
    "ax1.set_xticks([])\n",
    "ax1.set_yticks([])\n",
    "ax1.set_xlabel('x')\n",
    "ax1.set_ylabel('y')\n",
    "ax1.set_title('Ground truth')\n",
    "\n",
    "im2 = ax2.contourf(pd.pivot_table(data[data['t_grid'] == time1],index='y_grid', columns='x_grid', values='noisy'), cmap='coolwarm', vmin=vmin, vmax=vmax)\n",
    "ax2.set_xticks([])\n",
    "ax2.set_yticks([])\n",
    "ax2.set_xlabel('x')\n",
    "ax2.set_title('Noisy')\n",
    "\n",
    "im3 = ax3.contourf(pd.pivot_table(data_denoised[data_denoised['t_grid'] == time1],index='y_grid', columns='x_grid', values='denoised'), cmap='coolwarm', vmin=vmin, vmax=vmax)\n",
    "ax3.set_xticks([])\n",
    "ax3.set_yticks([])\n",
    "ax3.set_xlabel('x')\n",
    "ax3.set_title('Reconstructed')\n",
    "plt.colorbar(im3)\n",
    "\n",
    "plt.tight_layout()\n"
   ]
  },
  {
   "cell_type": "code",
   "execution_count": null,
   "metadata": {},
   "outputs": [],
   "source": []
  }
 ],
 "metadata": {
  "kernelspec": {
   "display_name": "Python 3",
   "language": "python",
   "name": "python3"
  },
  "language_info": {
   "codemirror_mode": {
    "name": "ipython",
    "version": 3
   },
   "file_extension": ".py",
   "mimetype": "text/x-python",
   "name": "python",
   "nbconvert_exporter": "python",
   "pygments_lexer": "ipython3",
   "version": "3.6.8"
  }
 },
 "nbformat": 4,
 "nbformat_minor": 2
}
