{
 "cells": [
  {
   "cell_type": "markdown",
   "metadata": {},
   "source": [
    "# 2D Advection-Diffusion equation"
   ]
  },
  {
   "cell_type": "markdown",
   "metadata": {},
   "source": [
    "in this notebook we provide a simple example of the DeepMoD algorithm and apply it on the 2D advection-diffusion equation. "
   ]
  },
  {
   "cell_type": "code",
   "execution_count": 1,
   "metadata": {},
   "outputs": [],
   "source": [
    "import sys\n",
    "import numpy as np\n",
    "import pandas as pd \n",
    "\n",
    "sys.path.append('../src/deepymod/')\n",
    "\n",
    "from scipy.io import loadmat\n",
    "from DeepMoD import DeepMoD\n",
    "from library_functions import library_2Din_1Dout\n",
    "from deepymod.utilities import library_matrix_mat, print_PDE\n",
    "\n",
    "import matplotlib.pyplot as plt\n",
    "plt.style.use('seaborn-notebook')\n",
    "\n",
    "np.random.seed(41)  # setting seed for randomisation"
   ]
  },
  {
   "cell_type": "markdown",
   "metadata": {},
   "source": [
    "## Prepare the data"
   ]
  },
  {
   "cell_type": "markdown",
   "metadata": {},
   "source": [
    "Next, we prepare the dataset."
   ]
  },
  {
   "cell_type": "code",
   "execution_count": 2,
   "metadata": {},
   "outputs": [],
   "source": [
    "u_v = np.load('data/Diffusion27July/diffusion_advection_27_a.npy')\n",
    "u_v = np.moveaxis(u_v,0,-1)/10.0\n",
    "data = loadmat('data/Diffusion27July/Diffusion_advection_27.mat')\n",
    "usol = np.real(data['Expression1'])\n",
    "usol= usol.reshape((150,300,55,3)) \n",
    "x_v= usol[:,:,:,0]\n",
    "y_v = usol[:,:,:,1]\n",
    "t_v = usol[:,:,:,2]"
   ]
  },
  {
   "cell_type": "code",
   "execution_count": 3,
   "metadata": {},
   "outputs": [
    {
     "data": {
      "text/plain": [
       "(150, 300, 55)"
      ]
     },
     "execution_count": 3,
     "metadata": {},
     "output_type": "execute_result"
    }
   ],
   "source": [
    "x_v.shape"
   ]
  },
  {
   "cell_type": "code",
   "execution_count": 38,
   "metadata": {},
   "outputs": [],
   "source": [
    "x_v = x_v[:,:250,5:]\n",
    "y_v = y_v[:,:250,5:]\n",
    "t_v = t_v[:,:250,5:]\n",
    "u_v = u_v[:,:250,5:]"
   ]
  },
  {
   "cell_type": "code",
   "execution_count": 39,
   "metadata": {},
   "outputs": [
    {
     "data": {
      "text/plain": [
       "(150, 250, 50)"
      ]
     },
     "execution_count": 39,
     "metadata": {},
     "output_type": "execute_result"
    }
   ],
   "source": [
    "x_v.shape"
   ]
  },
  {
   "cell_type": "markdown",
   "metadata": {},
   "source": [
    "Next we plot the dataset for three different time-points"
   ]
  },
  {
   "cell_type": "code",
   "execution_count": 40,
   "metadata": {},
   "outputs": [
    {
     "data": {
      "image/png": "[encoded data removed]",
      "text/plain": [
       "<Figure size 1080x288 with 4 Axes>"
      ]
     },
     "metadata": {
      "needs_background": "light"
     },
     "output_type": "display_data"
    }
   ],
   "source": [
    "fig, axes = plt.subplots(ncols=3, figsize=(15, 4))\n",
    "\n",
    "im0 = axes[0].contourf(x_v[:,:,1], y_v[:,:,1], u_v[:,:,0], cmap='coolwarm')\n",
    "axes[0].set_xlabel('x')\n",
    "axes[0].set_ylabel('y')\n",
    "axes[0].set_title('t = 0')\n",
    "\n",
    "im1 = axes[1].contourf(x_v[:,:,1], y_v[:,:,1], u_v[:,:,4], cmap='coolwarm')\n",
    "axes[1].set_xlabel('x')\n",
    "axes[1].set_title('t = 10')\n",
    "\n",
    "im2 = axes[2].contourf(x_v[:,:,1], y_v[:,:,1], u_v[:,:,10], cmap='coolwarm')\n",
    "axes[2].set_xlabel('x')\n",
    "axes[2].set_title('t= 20')\n",
    "\n",
    "fig.colorbar(im1, ax=axes.ravel().tolist())\n",
    "\n",
    "plt.show()"
   ]
  },
  {
   "cell_type": "markdown",
   "metadata": {},
   "source": [
    "We flatten it to give it the right dimensions for feeding it to the network:"
   ]
  },
  {
   "cell_type": "code",
   "execution_count": 41,
   "metadata": {},
   "outputs": [],
   "source": [
    "X = np.transpose((t_v.flatten(),x_v.flatten(), y_v.flatten()))\n",
    "y = u_v.reshape((u_v.size, 1))"
   ]
  },
  {
   "cell_type": "markdown",
   "metadata": {},
   "source": [
    "We select the noise level we add to the data-set"
   ]
  },
  {
   "cell_type": "code",
   "execution_count": 42,
   "metadata": {},
   "outputs": [],
   "source": [
    "noise_level = 0."
   ]
  },
  {
   "cell_type": "code",
   "execution_count": 43,
   "metadata": {},
   "outputs": [],
   "source": [
    "y_noisy = y + noise_level * np.std(y) * np.random.randn(y.size, 1)"
   ]
  },
  {
   "cell_type": "markdown",
   "metadata": {},
   "source": [
    "Select the number of samples:"
   ]
  },
  {
   "cell_type": "code",
   "execution_count": 44,
   "metadata": {},
   "outputs": [],
   "source": [
    "number_of_samples = 5000"
   ]
  },
  {
   "cell_type": "code",
   "execution_count": 45,
   "metadata": {},
   "outputs": [],
   "source": [
    "idx = np.random.permutation(y.size)\n",
    "X_train = X[idx, :][:number_of_samples]\n",
    "y_train = y_noisy[idx, :][:number_of_samples]"
   ]
  },
  {
   "cell_type": "markdown",
   "metadata": {},
   "source": [
    "## Configure the neural network"
   ]
  },
  {
   "cell_type": "markdown",
   "metadata": {},
   "source": [
    "Next we define the architecture and strength of the $L_1$ penalty for the neural network.\n",
    "Note that in this example have three input channels in this example: {x,y,t}"
   ]
  },
  {
   "cell_type": "code",
   "execution_count": 77,
   "metadata": {},
   "outputs": [],
   "source": [
    "config = {'layers': [3, 60, 60, 60, 1], 'lambda': 10**-5}"
   ]
  },
  {
   "cell_type": "markdown",
   "metadata": {},
   "source": [
    "DeepMoD accepts any arbitrary library function and any options for it can be given through *the library_config*. The library function for this example accepts a maximum order for the polynomial and derivative terms. DeepMoD also needs to know the total number of terms upfront. We can calculate that by making a list of the polynomial and derivative terms and getting all the terms by feeding them into the library_matrix_mat function. Its output will be used later to print the found PDE."
   ]
  },
  {
   "cell_type": "code",
   "execution_count": 78,
   "metadata": {},
   "outputs": [
    {
     "name": "stdout",
     "output_type": "stream",
     "text": [
      "['1', 'u_{x}', 'u_{y}', 'u_{xx}', 'u_{yy}', 'u_{xy}', 'u', 'uu_{x}', 'uu_{y}', 'uu_{xx}', 'uu_{yy}', 'uu_{xy}']\n"
     ]
    }
   ],
   "source": [
    "u = ['1','u']\n",
    "du = ['1', 'u_{x}', 'u_{y}','u_{xx}', 'u_{yy}','u_{xy}']\n",
    "coeffs_list = library_matrix_mat(u, du)\n",
    "print(coeffs_list)\n",
    "library_config = {'total_terms': 12, 'deriv_order': 2, 'poly_order': 1}"
   ]
  },
  {
   "cell_type": "markdown",
   "metadata": {},
   "source": [
    "Next we set the training options. Usually we only change the maximum iterations and the grad_tol, which sets the convergence criterion;"
   ]
  },
  {
   "cell_type": "code",
   "execution_count": 79,
   "metadata": {},
   "outputs": [],
   "source": [
    "train_opts = {'max_iterations': 50000, 'grad_tol':10**-7, 'learning_rate': 0.001, 'beta1': 0.9, 'beta2': 0.99, 'epsilon': 10**-8}"
   ]
  },
  {
   "cell_type": "markdown",
   "metadata": {},
   "source": [
    "The last configuration we need to fill is the ouput_opts. It contains an output_directory and X_predict field. We've build a custom tensorboard so you can follow the progress of the run.  Output_directory sets where the files are saved, then simply run \n",
    "\n",
    "`tensorboard --logdir $[OUTPUT_DIRECTORY]`\n",
    "\n",
    "in a terminal to open tensorboard. It shows the value of the coefficients, scaled coefficients and all possible costs. Note that the runs are timestamped in output_directory, so you'll have to add it! We can also use the output of tensorboard to analyze deepmod after. We show this below. The last option is X_predict. As DeepMoD also denoises the data, use this option to denoise some dataset X after DeepMoD has converged."
   ]
  },
  {
   "cell_type": "code",
   "execution_count": 80,
   "metadata": {},
   "outputs": [],
   "source": [
    "output_opts = {'output_directory': 'output/27_a_seed_41_numLayer3_60/', 'X_predict': X}"
   ]
  },
  {
   "cell_type": "markdown",
   "metadata": {},
   "source": [
    "## Run DeepMoD"
   ]
  },
  {
   "cell_type": "markdown",
   "metadata": {},
   "source": [
    "We can now run DeepMoD using all the options we have set and the training data. We also need to specify which library function we wish to use. You can build any library you want and just pass is through this command:"
   ]
  },
  {
   "cell_type": "code",
   "execution_count": 81,
   "metadata": {},
   "outputs": [
    {
     "name": "stdout",
     "output_type": "stream",
     "text": [
      "Epoch | Total loss | Loss gradient | MSE | PI | L1 \n",
      "0 [4.8829217, 0.003463274, 4.879967, 0.0028946025, 5.9934875e-05]\n",
      "500 [2.0965014, 0.012740613, 2.0681124, 0.028237475, 0.00015145857]\n",
      "1000 [1.5890762, 0.04695403, 1.5642834, 0.024437912, 0.0003548883]\n",
      "1500 [1.5162529, 0.016301207, 1.493834, 0.021996731, 0.00042217216]\n",
      "2000 [1.4487728, 0.18413432, 1.4210379, 0.027263913, 0.00047096412]\n",
      "2500 [1.3464589, 0.08554465, 1.3209404, 0.025008332, 0.0005101719]\n",
      "3000 [1.2551914, 0.1408608, 1.2229164, 0.031731054, 0.00054412324]\n",
      "3500 [1.1741143, 0.022889463, 1.1421577, 0.03140579, 0.00055088877]\n",
      "4000 [1.0989233, 0.18313132, 1.0594296, 0.03892051, 0.0005731554]\n",
      "4500 [1.01153, 0.050335553, 0.9817918, 0.02911745, 0.0006208961]\n",
      "5000 [0.967788, 0.26281765, 0.924866, 0.042252075, 0.00066988525]\n",
      "5500 [0.9118814, 0.10600656, 0.88015175, 0.031004291, 0.00072531594]\n",
      "6000 [0.8788014, 0.092351265, 0.84686446, 0.031166967, 0.00076999015]\n",
      "6500 [0.8606975, 0.30232334, 0.81530994, 0.044578776, 0.000808791]\n",
      "7000 [0.8255408, 0.2219325, 0.790989, 0.033706408, 0.00084538356]\n",
      "7500 [0.8253127, 0.43580878, 0.76760066, 0.05682716, 0.0008848041]\n",
      "8000 [0.8274874, 0.3885756, 0.7523951, 0.07417527, 0.0009170424]\n",
      "8500 [0.7875972, 0.40237966, 0.7277118, 0.058936108, 0.00094926666]\n",
      "9000 [0.7731189, 0.4828844, 0.711474, 0.060684413, 0.0009605535]\n",
      "9500 [0.71989, 0.13843726, 0.6946241, 0.024288034, 0.0009777956]\n",
      "10000 [0.7126901, 0.25339723, 0.6819208, 0.029785901, 0.0009833784]\n",
      "10500 [0.686983, 0.029785067, 0.66719073, 0.018792078, 0.0010001867]\n",
      "11000 [0.7049376, 0.4012725, 0.6579032, 0.046036553, 0.0009978533]\n",
      "11500 [0.67675066, 0.23947239, 0.64648837, 0.02926424, 0.000998088]\n",
      "12000 [0.66472554, 0.27161145, 0.6330218, 0.03069618, 0.0010076041]\n",
      "12500 [0.64326376, 0.07939709, 0.623125, 0.019117849, 0.0010208989]\n",
      "13000 [0.6307391, 0.056915462, 0.61228603, 0.017432766, 0.0010203074]\n",
      "13500 [0.6256981, 0.14878255, 0.60422444, 0.020457672, 0.0010159713]\n",
      "14000 [0.6170246, 0.14504379, 0.5941029, 0.021900928, 0.0010207568]\n",
      "14500 [0.611108, 0.17701419, 0.5870678, 0.02301068, 0.0010295254]\n",
      "15000 [0.6927965, 0.7153753, 0.57845247, 0.11332544, 0.0010186629]\n",
      "15500 [0.6827152, 0.71885526, 0.57354814, 0.10812606, 0.0010409851]\n",
      "16000 [0.5838218, 0.0914017, 0.5648646, 0.017917285, 0.0010399019]\n",
      "16500 [0.7605481, 1.001949, 0.556845, 0.20266889, 0.0010342011]\n",
      "17000 [0.6309662, 0.57127887, 0.5522762, 0.07765762, 0.0010323556]\n",
      "17500 [0.5663235, 0.10746016, 0.5463669, 0.01891303, 0.0010436175]\n",
      "18000 [0.5637923, 0.13279231, 0.5416141, 0.02113568, 0.0010425043]\n",
      "18500 [0.6471929, 0.694185, 0.5378239, 0.10834751, 0.0010214224]\n",
      "19000 [0.551479, 0.0956406, 0.53131557, 0.019122021, 0.0010414204]\n",
      "19500 [0.58008546, 0.43251842, 0.52743936, 0.051614355, 0.0010317437]\n",
      "20000 [0.54918957, 0.21408686, 0.52219534, 0.025958154, 0.001036074]\n",
      "20500 [0.5347519, 0.04634857, 0.5175757, 0.01613593, 0.0010402608]\n",
      "21000 [0.5323577, 0.09934787, 0.51316357, 0.018156545, 0.0010375974]\n",
      "21500 [0.52632856, 0.06691001, 0.50869256, 0.016594512, 0.001041488]\n",
      "22000 [0.5810273, 0.5602558, 0.5046344, 0.07535841, 0.001034537]\n",
      "22500 [0.5487176, 0.40447766, 0.50227606, 0.04540379, 0.0010377915]\n",
      "23000 [0.5132985, 0.058469012, 0.4968076, 0.015447925, 0.0010429467]\n",
      "23500 [0.50913155, 0.01740287, 0.4935123, 0.014579527, 0.0010397369]\n",
      "24000 [0.5051259, 0.019844972, 0.48974532, 0.0143358065, 0.0010447359]\n",
      "24500 [0.506753, 0.13654459, 0.48716676, 0.018555, 0.0010313068]\n",
      "25000 [0.507702, 0.22057195, 0.48318744, 0.023477944, 0.0010365754]\n",
      "25500 [0.5000488, 0.15685317, 0.48062685, 0.01838634, 0.001035646]\n",
      "26000 [0.51148814, 0.28865916, 0.47719395, 0.03325877, 0.0010353698]\n",
      "26500 [0.5044416, 0.27229282, 0.4743329, 0.029087653, 0.0010210921]\n",
      "27000 [0.49938115, 0.24330391, 0.4721795, 0.026163125, 0.0010385102]\n",
      "27500 [0.4865, 0.12591453, 0.46917003, 0.016301474, 0.0010284715]\n",
      "28000 [0.49613574, 0.2818914, 0.46628574, 0.028828375, 0.0010216173]\n",
      "28500 [0.47938, 0.06884652, 0.46381113, 0.0145407375, 0.001028139]\n",
      "29000 [0.4812961, 0.18146619, 0.4614669, 0.018813832, 0.0010153769]\n",
      "29500 [0.47720304, 0.15403518, 0.45956308, 0.016625943, 0.0010140197]\n",
      "30000 [0.4804466, 0.15024415, 0.45751715, 0.021909641, 0.0010197915]\n",
      "30500 [0.4694488, 0.070534885, 0.45515084, 0.013286485, 0.0010114905]\n",
      "31000 [0.5337599, 0.60741454, 0.45351163, 0.079235904, 0.0010124054]\n",
      "31500 [0.46607253, 0.032586902, 0.45084208, 0.014227045, 0.0010034274]\n",
      "32000 [0.47003403, 0.08340668, 0.44945982, 0.019574134, 0.0010000829]\n",
      "32500 [0.4652694, 0.18109481, 0.44653192, 0.017738152, 0.0009993106]\n",
      "33000 [0.47319335, 0.30016765, 0.4436371, 0.028559994, 0.0009962552]\n",
      "33500 [0.45503056, 0.03340701, 0.44206274, 0.011974284, 0.000993546]\n",
      "34000 [0.45615184, 0.1265548, 0.44045165, 0.0147112245, 0.0009889521]\n",
      "34500 [0.46526596, 0.2757916, 0.43791348, 0.026367808, 0.0009846764]\n",
      "35000 [0.4510445, 0.110021226, 0.4361209, 0.013941031, 0.000982568]\n",
      "35500 [0.47994828, 0.41135827, 0.43419942, 0.04477643, 0.0009724268]\n",
      "36000 [0.48435634, 0.46676597, 0.4323384, 0.051043604, 0.0009743662]\n",
      "36500 [0.4440445, 0.07609097, 0.4308276, 0.012242755, 0.0009741342]\n",
      "37000 [0.4673243, 0.25286004, 0.43180233, 0.034546442, 0.00097551604]\n",
      "37500 [0.4774093, 0.42492464, 0.42822257, 0.04822916, 0.0009575665]\n",
      "38000 [0.4410701, 0.11804421, 0.4256128, 0.014497766, 0.00095955486]\n",
      "38500 [0.45112762, 0.14881591, 0.42550948, 0.024655728, 0.00096239935]\n",
      "39000 [0.49874786, 0.5918564, 0.42299083, 0.074798085, 0.0009589629]\n",
      "39500 [0.4755643, 0.46433717, 0.4219941, 0.052628417, 0.0009417957]\n",
      "40000 [0.47681126, 0.4783374, 0.41905972, 0.05681461, 0.0009369365]\n",
      "40500 [0.4323259, 0.089610845, 0.41736582, 0.014021506, 0.0009385542]\n",
      "41000 [0.42899483, 0.114924245, 0.41494003, 0.013121318, 0.0009334962]\n",
      "41500 [0.47955123, 0.5222668, 0.41407138, 0.06455384, 0.0009259737]\n",
      "42000 [0.42450202, 0.081882335, 0.41150996, 0.012068057, 0.00092398236]\n",
      "42500 [0.4222345, 0.09211034, 0.40930074, 0.012016367, 0.00091740285]\n",
      "43000 [0.41965348, 0.06298674, 0.40761438, 0.011133437, 0.00090565806]\n",
      "43500 [0.41756424, 0.045137405, 0.40576178, 0.010895791, 0.00090668775]\n",
      "44000 [0.41883048, 0.15160228, 0.40351695, 0.014407779, 0.0009057527]\n",
      "44500 [0.4153602, 0.106459714, 0.4023201, 0.012139069, 0.00090105145]\n",
      "45000 [0.4210186, 0.24259259, 0.40050304, 0.01961016, 0.0009053997]\n",
      "45500 [0.40943325, 0.039537147, 0.39857888, 0.009953958, 0.0009004315]\n",
      "46000 [0.40930006, 0.098081075, 0.39695457, 0.011445114, 0.0009003782]\n",
      "46500 [0.40878993, 0.057487942, 0.3959155, 0.011979253, 0.0008951692]\n",
      "47000 [0.4106412, 0.1364836, 0.39481887, 0.014931206, 0.00089112227]\n",
      "47500 [0.404407, 0.10344147, 0.39224344, 0.011270408, 0.0008931531]\n",
      "48000 [0.40254533, 0.091594934, 0.390481, 0.011172941, 0.0008913921]\n",
      "48500 [0.4187921, 0.33393067, 0.3888624, 0.029048376, 0.00088130764]\n",
      "49000 [0.39942226, 0.09168961, 0.38730836, 0.011229226, 0.00088467763]\n",
      "49500 [0.39686832, 0.07740237, 0.38564467, 0.010343955, 0.0008796699]\n",
      "Current sparse vectors:\n",
      "[array([[ 0.14523692],\n",
      "       [ 0.69705075],\n",
      "       [ 0.479375  ],\n",
      "       [ 0.50576365],\n",
      "       [-0.03476226],\n",
      "       [-0.1797955 ],\n",
      "       [ 3.51685214],\n",
      "       [ 0.40399909],\n",
      "       [ 0.22812237],\n",
      "       [ 0.32381517],\n",
      "       [-0.33823028],\n",
      "       [ 0.0268252 ]])]\n",
      "Now running for the final time...\n",
      "Epoch | Total loss | Loss gradient | MSE | PI | L1 \n",
      "0 [16.26142, 9.775068, 0.5792624, 15.682157, 0.0]\n",
      "500 [0.3927114, 0.020851672, 0.38391405, 0.00879735, 0.0]\n",
      "1000 [0.3981319, 0.16977675, 0.38287184, 0.015260056, 0.0]\n",
      "1500 [0.38921386, 0.01548681, 0.38053584, 0.008678025, 0.0]\n",
      "2000 [0.39155293, 0.06960237, 0.37951037, 0.012042537, 0.0]\n",
      "2500 [0.39176622, 0.18157707, 0.3773117, 0.014454512, 0.0]\n",
      "3000 [0.3851872, 0.07686993, 0.37572587, 0.009461348, 0.0]\n"
     ]
    },
    {
     "ename": "KeyboardInterrupt",
     "evalue": "",
     "output_type": "error",
     "traceback": [
      "\u001b[0;31m---------------------------------------------------------------------------\u001b[0m",
      "\u001b[0;31mKeyboardInterrupt\u001b[0m                         Traceback (most recent call last)",
      "\u001b[0;32m<ipython-input-81-20a3d59fb98a>\u001b[0m in \u001b[0;36m<module>\u001b[0;34m\u001b[0m\n\u001b[0;32m----> 1\u001b[0;31m \u001b[0msparse_vectors\u001b[0m\u001b[0;34m,\u001b[0m \u001b[0mdenoised\u001b[0m \u001b[0;34m=\u001b[0m \u001b[0mDeepMoD\u001b[0m\u001b[0;34m(\u001b[0m\u001b[0mX_train\u001b[0m\u001b[0;34m,\u001b[0m \u001b[0my_train\u001b[0m\u001b[0;34m,\u001b[0m \u001b[0mconfig\u001b[0m\u001b[0;34m,\u001b[0m \u001b[0mlibrary_2Din_1Dout\u001b[0m\u001b[0;34m,\u001b[0m \u001b[0mlibrary_config\u001b[0m\u001b[0;34m,\u001b[0m \u001b[0mtrain_opts\u001b[0m\u001b[0;34m,\u001b[0m \u001b[0moutput_opts\u001b[0m\u001b[0;34m)\u001b[0m\u001b[0;34m\u001b[0m\u001b[0;34m\u001b[0m\u001b[0m\n\u001b[0m",
      "\u001b[0;32m~/Documents/GitHub/DeePyMoD/src/deepymod/DeepMoD.py\u001b[0m in \u001b[0;36mDeepMoD\u001b[0;34m(data, target, config, library_function, library_config, train_opts, output_opts)\u001b[0m\n\u001b[1;32m     41\u001b[0m     \u001b[0mprint\u001b[0m\u001b[0;34m(\u001b[0m\u001b[0;34m'Now running for the final time...'\u001b[0m\u001b[0;34m)\u001b[0m\u001b[0;34m\u001b[0m\u001b[0;34m\u001b[0m\u001b[0m\n\u001b[1;32m     42\u001b[0m     \u001b[0minternal_config\u001b[0m\u001b[0;34m[\u001b[0m\u001b[0;34m'lambda'\u001b[0m\u001b[0;34m]\u001b[0m \u001b[0;34m=\u001b[0m \u001b[0;36m0\u001b[0m\u001b[0;34m\u001b[0m\u001b[0;34m\u001b[0m\u001b[0m\n\u001b[0;32m---> 43\u001b[0;31m     \u001b[0mcoeff_list\u001b[0m\u001b[0;34m,\u001b[0m \u001b[0m_\u001b[0m\u001b[0;34m,\u001b[0m \u001b[0mweights\u001b[0m\u001b[0;34m,\u001b[0m \u001b[0mbiases\u001b[0m \u001b[0;34m=\u001b[0m \u001b[0mPINN\u001b[0m\u001b[0;34m(\u001b[0m\u001b[0mdata\u001b[0m\u001b[0;34m,\u001b[0m \u001b[0mtarget\u001b[0m\u001b[0;34m,\u001b[0m \u001b[0mmask\u001b[0m\u001b[0;34m,\u001b[0m \u001b[0minternal_config\u001b[0m\u001b[0;34m,\u001b[0m \u001b[0mlibrary_function\u001b[0m\u001b[0;34m,\u001b[0m \u001b[0mlibrary_config\u001b[0m\u001b[0;34m,\u001b[0m \u001b[0mtrain_opts\u001b[0m\u001b[0;34m,\u001b[0m \u001b[0moutput_opts\u001b[0m\u001b[0;34m)\u001b[0m\u001b[0;34m\u001b[0m\u001b[0;34m\u001b[0m\u001b[0m\n\u001b[0m\u001b[1;32m     44\u001b[0m \u001b[0;34m\u001b[0m\u001b[0m\n\u001b[1;32m     45\u001b[0m     \u001b[0;32mif\u001b[0m \u001b[0;34m'X_predict'\u001b[0m \u001b[0;32min\u001b[0m \u001b[0moutput_opts\u001b[0m\u001b[0;34m.\u001b[0m\u001b[0mkeys\u001b[0m\u001b[0;34m(\u001b[0m\u001b[0;34m)\u001b[0m\u001b[0;34m:\u001b[0m\u001b[0;34m\u001b[0m\u001b[0;34m\u001b[0m\u001b[0m\n",
      "\u001b[0;32m~/Documents/GitHub/DeepMoD_mechanical/DeePyMoD_Internal/src/deepymod/PINN.py\u001b[0m in \u001b[0;36mPINN\u001b[0;34m(data, target, mask, config, library_function, library_config, train_opts, output_opts)\u001b[0m\n\u001b[1;32m     26\u001b[0m         \u001b[0mprint\u001b[0m\u001b[0;34m(\u001b[0m\u001b[0;34m'Epoch | Total loss | Loss gradient | MSE | PI | L1 '\u001b[0m\u001b[0;34m)\u001b[0m\u001b[0;34m\u001b[0m\u001b[0;34m\u001b[0m\u001b[0m\n\u001b[1;32m     27\u001b[0m         \u001b[0;32mfor\u001b[0m \u001b[0miteration\u001b[0m \u001b[0;32min\u001b[0m \u001b[0mnp\u001b[0m\u001b[0;34m.\u001b[0m\u001b[0marange\u001b[0m\u001b[0;34m(\u001b[0m\u001b[0mtrain_opts\u001b[0m\u001b[0;34m[\u001b[0m\u001b[0;34m'max_iterations'\u001b[0m\u001b[0;34m]\u001b[0m\u001b[0;34m)\u001b[0m\u001b[0;34m:\u001b[0m\u001b[0;34m\u001b[0m\u001b[0;34m\u001b[0m\u001b[0m\n\u001b[0;32m---> 28\u001b[0;31m             \u001b[0msess\u001b[0m\u001b[0;34m.\u001b[0m\u001b[0mrun\u001b[0m\u001b[0;34m(\u001b[0m\u001b[0mtrain_op\u001b[0m\u001b[0;34m)\u001b[0m\u001b[0;34m\u001b[0m\u001b[0;34m\u001b[0m\u001b[0m\n\u001b[0m\u001b[1;32m     29\u001b[0m             \u001b[0;32mif\u001b[0m \u001b[0miteration\u001b[0m \u001b[0;34m%\u001b[0m \u001b[0;36m50\u001b[0m \u001b[0;34m==\u001b[0m \u001b[0;36m0\u001b[0m\u001b[0;34m:\u001b[0m\u001b[0;34m\u001b[0m\u001b[0;34m\u001b[0m\u001b[0m\n\u001b[1;32m     30\u001b[0m                 \u001b[0msummary\u001b[0m \u001b[0;34m=\u001b[0m \u001b[0msess\u001b[0m\u001b[0;34m.\u001b[0m\u001b[0mrun\u001b[0m\u001b[0;34m(\u001b[0m\u001b[0mmerged_summary\u001b[0m\u001b[0;34m)\u001b[0m\u001b[0;34m\u001b[0m\u001b[0;34m\u001b[0m\u001b[0m\n",
      "\u001b[0;32m~/anaconda3/lib/python3.6/site-packages/tensorflow/python/client/session.py\u001b[0m in \u001b[0;36mrun\u001b[0;34m(self, fetches, feed_dict, options, run_metadata)\u001b[0m\n\u001b[1;32m    903\u001b[0m     \u001b[0;32mtry\u001b[0m\u001b[0;34m:\u001b[0m\u001b[0;34m\u001b[0m\u001b[0;34m\u001b[0m\u001b[0m\n\u001b[1;32m    904\u001b[0m       result = self._run(None, fetches, feed_dict, options_ptr,\n\u001b[0;32m--> 905\u001b[0;31m                          run_metadata_ptr)\n\u001b[0m\u001b[1;32m    906\u001b[0m       \u001b[0;32mif\u001b[0m \u001b[0mrun_metadata\u001b[0m\u001b[0;34m:\u001b[0m\u001b[0;34m\u001b[0m\u001b[0;34m\u001b[0m\u001b[0m\n\u001b[1;32m    907\u001b[0m         \u001b[0mproto_data\u001b[0m \u001b[0;34m=\u001b[0m \u001b[0mtf_session\u001b[0m\u001b[0;34m.\u001b[0m\u001b[0mTF_GetBuffer\u001b[0m\u001b[0;34m(\u001b[0m\u001b[0mrun_metadata_ptr\u001b[0m\u001b[0;34m)\u001b[0m\u001b[0;34m\u001b[0m\u001b[0;34m\u001b[0m\u001b[0m\n",
      "\u001b[0;32m~/anaconda3/lib/python3.6/site-packages/tensorflow/python/client/session.py\u001b[0m in \u001b[0;36m_run\u001b[0;34m(self, handle, fetches, feed_dict, options, run_metadata)\u001b[0m\n\u001b[1;32m   1135\u001b[0m     \u001b[0;32mif\u001b[0m \u001b[0mfinal_fetches\u001b[0m \u001b[0;32mor\u001b[0m \u001b[0mfinal_targets\u001b[0m \u001b[0;32mor\u001b[0m \u001b[0;34m(\u001b[0m\u001b[0mhandle\u001b[0m \u001b[0;32mand\u001b[0m \u001b[0mfeed_dict_tensor\u001b[0m\u001b[0;34m)\u001b[0m\u001b[0;34m:\u001b[0m\u001b[0;34m\u001b[0m\u001b[0;34m\u001b[0m\u001b[0m\n\u001b[1;32m   1136\u001b[0m       results = self._do_run(handle, final_targets, final_fetches,\n\u001b[0;32m-> 1137\u001b[0;31m                              feed_dict_tensor, options, run_metadata)\n\u001b[0m\u001b[1;32m   1138\u001b[0m     \u001b[0;32melse\u001b[0m\u001b[0;34m:\u001b[0m\u001b[0;34m\u001b[0m\u001b[0;34m\u001b[0m\u001b[0m\n\u001b[1;32m   1139\u001b[0m       \u001b[0mresults\u001b[0m \u001b[0;34m=\u001b[0m \u001b[0;34m[\u001b[0m\u001b[0;34m]\u001b[0m\u001b[0;34m\u001b[0m\u001b[0;34m\u001b[0m\u001b[0m\n",
      "\u001b[0;32m~/anaconda3/lib/python3.6/site-packages/tensorflow/python/client/session.py\u001b[0m in \u001b[0;36m_do_run\u001b[0;34m(self, handle, target_list, fetch_list, feed_dict, options, run_metadata)\u001b[0m\n\u001b[1;32m   1353\u001b[0m     \u001b[0;32mif\u001b[0m \u001b[0mhandle\u001b[0m \u001b[0;32mis\u001b[0m \u001b[0;32mNone\u001b[0m\u001b[0;34m:\u001b[0m\u001b[0;34m\u001b[0m\u001b[0;34m\u001b[0m\u001b[0m\n\u001b[1;32m   1354\u001b[0m       return self._do_call(_run_fn, self._session, feeds, fetches, targets,\n\u001b[0;32m-> 1355\u001b[0;31m                            options, run_metadata)\n\u001b[0m\u001b[1;32m   1356\u001b[0m     \u001b[0;32melse\u001b[0m\u001b[0;34m:\u001b[0m\u001b[0;34m\u001b[0m\u001b[0;34m\u001b[0m\u001b[0m\n\u001b[1;32m   1357\u001b[0m       \u001b[0;32mreturn\u001b[0m \u001b[0mself\u001b[0m\u001b[0;34m.\u001b[0m\u001b[0m_do_call\u001b[0m\u001b[0;34m(\u001b[0m\u001b[0m_prun_fn\u001b[0m\u001b[0;34m,\u001b[0m \u001b[0mself\u001b[0m\u001b[0;34m.\u001b[0m\u001b[0m_session\u001b[0m\u001b[0;34m,\u001b[0m \u001b[0mhandle\u001b[0m\u001b[0;34m,\u001b[0m \u001b[0mfeeds\u001b[0m\u001b[0;34m,\u001b[0m \u001b[0mfetches\u001b[0m\u001b[0;34m)\u001b[0m\u001b[0;34m\u001b[0m\u001b[0;34m\u001b[0m\u001b[0m\n",
      "\u001b[0;32m~/anaconda3/lib/python3.6/site-packages/tensorflow/python/client/session.py\u001b[0m in \u001b[0;36m_do_call\u001b[0;34m(self, fn, *args)\u001b[0m\n\u001b[1;32m   1359\u001b[0m   \u001b[0;32mdef\u001b[0m \u001b[0m_do_call\u001b[0m\u001b[0;34m(\u001b[0m\u001b[0mself\u001b[0m\u001b[0;34m,\u001b[0m \u001b[0mfn\u001b[0m\u001b[0;34m,\u001b[0m \u001b[0;34m*\u001b[0m\u001b[0margs\u001b[0m\u001b[0;34m)\u001b[0m\u001b[0;34m:\u001b[0m\u001b[0;34m\u001b[0m\u001b[0;34m\u001b[0m\u001b[0m\n\u001b[1;32m   1360\u001b[0m     \u001b[0;32mtry\u001b[0m\u001b[0;34m:\u001b[0m\u001b[0;34m\u001b[0m\u001b[0;34m\u001b[0m\u001b[0m\n\u001b[0;32m-> 1361\u001b[0;31m       \u001b[0;32mreturn\u001b[0m \u001b[0mfn\u001b[0m\u001b[0;34m(\u001b[0m\u001b[0;34m*\u001b[0m\u001b[0margs\u001b[0m\u001b[0;34m)\u001b[0m\u001b[0;34m\u001b[0m\u001b[0;34m\u001b[0m\u001b[0m\n\u001b[0m\u001b[1;32m   1362\u001b[0m     \u001b[0;32mexcept\u001b[0m \u001b[0merrors\u001b[0m\u001b[0;34m.\u001b[0m\u001b[0mOpError\u001b[0m \u001b[0;32mas\u001b[0m \u001b[0me\u001b[0m\u001b[0;34m:\u001b[0m\u001b[0;34m\u001b[0m\u001b[0;34m\u001b[0m\u001b[0m\n\u001b[1;32m   1363\u001b[0m       \u001b[0mmessage\u001b[0m \u001b[0;34m=\u001b[0m \u001b[0mcompat\u001b[0m\u001b[0;34m.\u001b[0m\u001b[0mas_text\u001b[0m\u001b[0;34m(\u001b[0m\u001b[0me\u001b[0m\u001b[0;34m.\u001b[0m\u001b[0mmessage\u001b[0m\u001b[0;34m)\u001b[0m\u001b[0;34m\u001b[0m\u001b[0;34m\u001b[0m\u001b[0m\n",
      "\u001b[0;32m~/anaconda3/lib/python3.6/site-packages/tensorflow/python/client/session.py\u001b[0m in \u001b[0;36m_run_fn\u001b[0;34m(session, feed_dict, fetch_list, target_list, options, run_metadata)\u001b[0m\n\u001b[1;32m   1338\u001b[0m         \u001b[0;32melse\u001b[0m\u001b[0;34m:\u001b[0m\u001b[0;34m\u001b[0m\u001b[0;34m\u001b[0m\u001b[0m\n\u001b[1;32m   1339\u001b[0m           return tf_session.TF_Run(session, options, feed_dict, fetch_list,\n\u001b[0;32m-> 1340\u001b[0;31m                                    target_list, status, run_metadata)\n\u001b[0m\u001b[1;32m   1341\u001b[0m \u001b[0;34m\u001b[0m\u001b[0m\n\u001b[1;32m   1342\u001b[0m     \u001b[0;32mdef\u001b[0m \u001b[0m_prun_fn\u001b[0m\u001b[0;34m(\u001b[0m\u001b[0msession\u001b[0m\u001b[0;34m,\u001b[0m \u001b[0mhandle\u001b[0m\u001b[0;34m,\u001b[0m \u001b[0mfeed_dict\u001b[0m\u001b[0;34m,\u001b[0m \u001b[0mfetch_list\u001b[0m\u001b[0;34m)\u001b[0m\u001b[0;34m:\u001b[0m\u001b[0;34m\u001b[0m\u001b[0;34m\u001b[0m\u001b[0m\n",
      "\u001b[0;31mKeyboardInterrupt\u001b[0m: "
     ]
    }
   ],
   "source": [
    "sparse_vectors, denoised = DeepMoD(X_train, y_train, config, library_2Din_1Dout, library_config, train_opts, output_opts)"
   ]
  },
  {
   "cell_type": "markdown",
   "metadata": {},
   "source": [
    "Show final result:"
   ]
  },
  {
   "cell_type": "code",
   "execution_count": 71,
   "metadata": {},
   "outputs": [
    {
     "name": "stdout",
     "output_type": "stream",
     "text": [
      "Inferred equation:\n",
      "u_t = 0.1881 + 0.308u_{y} - 0.156u\n"
     ]
    }
   ],
   "source": [
    "u = ['1', 'u']\n",
    "du = ['1', 'u_{x}', 'u_{y}','u_{xx}', 'u_{yy}','u_{xy}']\n",
    "coeffs_list = library_matrix_mat(u, du)\n",
    "\n",
    "print('Inferred equation:')\n",
    "print_PDE(sparse_vectors[0], coeffs_list, PDE_term='u_t')"
   ]
  },
  {
   "cell_type": "markdown",
   "metadata": {},
   "source": [
    "Plot the 'Ground truth', 'Noisy' and 'Reconstructed/Denoised' solution"
   ]
  },
  {
   "cell_type": "code",
   "execution_count": 22,
   "metadata": {},
   "outputs": [],
   "source": [
    "X_predict = X[(X[:,0]==5.0) | (X[:,0]==9.0) | (X[:,0]==7.0), :]"
   ]
  },
  {
   "cell_type": "code",
   "execution_count": 23,
   "metadata": {},
   "outputs": [],
   "source": [
    "data_dict = {'x_grid': X[:,1],'y_grid': X[:,2], 't_grid': X[:,0], 'ground_truth': np.squeeze(y), 'noisy': np.squeeze(y_noisy)}\n",
    "df = pd.DataFrame(data_dict)\n",
    "for key in df:\n",
    "    df[key] = np.squeeze(df[key])\n",
    "data = pd.DataFrame(df)"
   ]
  },
  {
   "cell_type": "code",
   "execution_count": 24,
   "metadata": {},
   "outputs": [],
   "source": [
    "data_dict_denoised = {'x_grid': X[:,1],'y_grid': X[:,2], 't_grid': X[:,0], 'denoised': np.squeeze(denoised)}\n",
    "df_dn = pd.DataFrame(data_dict_denoised)\n",
    "for key in df_dn:\n",
    "    df_dn[key] = np.squeeze(df_dn[key])\n",
    "data_denoised = pd.DataFrame(df_dn)"
   ]
  },
  {
   "cell_type": "code",
   "execution_count": 31,
   "metadata": {},
   "outputs": [
    {
     "data": {
      "image/png": "[encoded data removed]",
      "text/plain": [
       "<Figure size 1080x288 with 4 Axes>"
      ]
     },
     "metadata": {
      "needs_background": "light"
     },
     "output_type": "display_data"
    }
   ],
   "source": [
    "time1 = 7.0\n",
    "\n",
    "vmin = np.min(data[data['t_grid'] == time1]['ground_truth'])\n",
    "vmax = np.max(data[data['t_grid'] == time1]['ground_truth'])\n",
    "\n",
    "fig, axes = plt.subplots(ncols=3, figsize=(15, 4))\n",
    "\n",
    "im1 = axes[0].contourf(pd.pivot_table(data[data['t_grid'] == time1],index='y_grid', columns='x_grid', values='ground_truth'), cmap='coolwarm',vmin=vmin, vmax=vmax)\n",
    "axes[0].set_xlabel('x')\n",
    "axes[0].set_ylabel('y')\n",
    "axes[0].set_title('Ground truth')\n",
    "\n",
    "im2 = axes[1].contourf(pd.pivot_table(data[data['t_grid'] == time1],index='y_grid', columns='x_grid', values='noisy'), cmap='coolwarm', vmin=vmin, vmax=vmax)\n",
    "axes[1].set_xlabel('x')\n",
    "axes[1].set_title('Noisy')\n",
    "\n",
    "im3 = axes[2].contourf(pd.pivot_table(data_denoised[data_denoised['t_grid'] == time1],index='y_grid', columns='x_grid', values='denoised'), cmap='coolwarm', vmin=vmin, vmax=vmax)\n",
    "axes[2].set_xlabel('x')\n",
    "axes[2].set_title('Sampled')\n",
    "\n",
    "fig.colorbar(im1, ax=axes.ravel().tolist())\n",
    "\n",
    "plt.show()"
   ]
  },
  {
   "cell_type": "code",
   "execution_count": null,
   "metadata": {},
   "outputs": [],
   "source": []
  }
 ],
 "metadata": {
  "kernelspec": {
   "display_name": "Python 3",
   "language": "python",
   "name": "python3"
  },
  "language_info": {
   "codemirror_mode": {
    "name": "ipython",
    "version": 3
   },
   "file_extension": ".py",
   "mimetype": "text/x-python",
   "name": "python",
   "nbconvert_exporter": "python",
   "pygments_lexer": "ipython3",
   "version": "3.6.8"
  }
 },
 "nbformat": 4,
 "nbformat_minor": 2
}
