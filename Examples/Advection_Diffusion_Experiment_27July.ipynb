{
 "cells": [
  {
   "cell_type": "markdown",
   "metadata": {},
   "source": [
    "# 2D Advection-Diffusion equation"
   ]
  },
  {
   "cell_type": "markdown",
   "metadata": {},
   "source": [
    "in this notebook we provide a simple example of the DeepMoD algorithm and apply it on the 2D advection-diffusion equation. "
   ]
  },
  {
   "cell_type": "code",
   "execution_count": 6,
   "metadata": {},
   "outputs": [],
   "source": [
    "import sys\n",
    "import numpy as np\n",
    "import pandas as pd \n",
    "\n",
    "sys.path.append('../src/deepymod/')\n",
    "\n",
    "from scipy.io import loadmat\n",
    "from DeepMoD import DeepMoD\n",
    "from library_functions import library_2Din_1Dout\n",
    "from deepymod.utilities import library_matrix_mat, print_PDE\n",
    "\n",
    "import matplotlib.pyplot as plt\n",
    "plt.style.use('seaborn-notebook')\n",
    "\n",
    "np.random.seed(41)  # setting seed for randomisation"
   ]
  },
  {
   "cell_type": "markdown",
   "metadata": {},
   "source": [
    "## Prepare the data"
   ]
  },
  {
   "cell_type": "markdown",
   "metadata": {},
   "source": [
    "Next, we prepare the dataset."
   ]
  },
  {
   "cell_type": "code",
   "execution_count": null,
   "metadata": {},
   "outputs": [],
   "source": [
    "u_v = np.load('data/Diffusion27July/diffusion_advection_27_a.npy')\n",
    "u_v = np.moveaxis(u_v,0,-1)/10.0\n",
    "data = loadmat('data/Diffusion27July/Diffusion_advection_27.mat')\n",
    "usol = np.real(data['Expression1'])\n",
    "usol= usol.reshape((150,300,55,3)) \n",
    "x_v= usol[:,:,:,0]\n",
    "y_v = usol[:,:,:,1]\n",
    "t_v = usol[:,:,:,2]"
   ]
  },
  {
   "cell_type": "code",
   "execution_count": null,
   "metadata": {},
   "outputs": [],
   "source": [
    "x_v.shape"
   ]
  },
  {
   "cell_type": "code",
   "execution_count": null,
   "metadata": {},
   "outputs": [],
   "source": [
    "x_v = x_v[:,:250,5:]\n",
    "y_v = y_v[:,:250,5:]\n",
    "t_v = t_v[:,:250,5:]\n",
    "u_v = u_v[:,:250,5:]"
   ]
  },
  {
   "cell_type": "code",
   "execution_count": 10,
   "metadata": {},
   "outputs": [
    {
     "data": {
      "text/plain": [
       "(150, 250, 50)"
      ]
     },
     "execution_count": 10,
     "metadata": {},
     "output_type": "execute_result"
    }
   ],
   "source": [
    "x_v.shape"
   ]
  },
  {
   "cell_type": "markdown",
   "metadata": {},
   "source": [
    "Next we plot the dataset for three different time-points"
   ]
  },
  {
   "cell_type": "code",
   "execution_count": 11,
   "metadata": {},
   "outputs": [
    {
     "data": {
      "image/png": "[encoded data removed]",
      "text/plain": [
       "<Figure size 1080x288 with 4 Axes>"
      ]
     },
     "metadata": {
      "needs_background": "light"
     },
     "output_type": "display_data"
    }
   ],
   "source": [
    "fig, axes = plt.subplots(ncols=3, figsize=(15, 4))\n",
    "\n",
    "im0 = axes[0].contourf(x_v[:,:,1], y_v[:,:,1], u_v[:,:,0], cmap='coolwarm')\n",
    "axes[0].set_xlabel('x')\n",
    "axes[0].set_ylabel('y')\n",
    "axes[0].set_title('t = 0')\n",
    "\n",
    "im1 = axes[1].contourf(x_v[:,:,1], y_v[:,:,1], u_v[:,:,4], cmap='coolwarm')\n",
    "axes[1].set_xlabel('x')\n",
    "axes[1].set_title('t = 10')\n",
    "\n",
    "im2 = axes[2].contourf(x_v[:,:,1], y_v[:,:,1], u_v[:,:,10], cmap='coolwarm')\n",
    "axes[2].set_xlabel('x')\n",
    "axes[2].set_title('t= 20')\n",
    "\n",
    "fig.colorbar(im1, ax=axes.ravel().tolist())\n",
    "\n",
    "plt.show()"
   ]
  },
  {
   "cell_type": "markdown",
   "metadata": {},
   "source": [
    "We flatten it to give it the right dimensions for feeding it to the network:"
   ]
  },
  {
   "cell_type": "code",
   "execution_count": 12,
   "metadata": {},
   "outputs": [],
   "source": [
    "X = np.transpose((t_v.flatten(),x_v.flatten(), y_v.flatten()))\n",
    "y = u_v.reshape((u_v.size, 1))"
   ]
  },
  {
   "cell_type": "markdown",
   "metadata": {},
   "source": [
    "We select the noise level we add to the data-set"
   ]
  },
  {
   "cell_type": "code",
   "execution_count": 13,
   "metadata": {},
   "outputs": [],
   "source": [
    "noise_level = 0."
   ]
  },
  {
   "cell_type": "code",
   "execution_count": 14,
   "metadata": {},
   "outputs": [],
   "source": [
    "y_noisy = y + noise_level * np.std(y) * np.random.randn(y.size, 1)"
   ]
  },
  {
   "cell_type": "markdown",
   "metadata": {},
   "source": [
    "Select the number of samples:"
   ]
  },
  {
   "cell_type": "code",
   "execution_count": 15,
   "metadata": {},
   "outputs": [],
   "source": [
    "number_of_samples = 5000"
   ]
  },
  {
   "cell_type": "code",
   "execution_count": 16,
   "metadata": {},
   "outputs": [],
   "source": [
    "idx = np.random.permutation(y.size)\n",
    "X_train = X[idx, :][:number_of_samples]\n",
    "y_train = y_noisy[idx, :][:number_of_samples]"
   ]
  },
  {
   "cell_type": "markdown",
   "metadata": {},
   "source": [
    "## Configure the neural network"
   ]
  },
  {
   "cell_type": "markdown",
   "metadata": {},
   "source": [
    "Next we define the architecture and strength of the $L_1$ penalty for the neural network.\n",
    "Note that in this example have three input channels in this example: {x,y,t}"
   ]
  },
  {
   "cell_type": "code",
   "execution_count": 20,
   "metadata": {},
   "outputs": [],
   "source": [
    "config = {'layers': [3, 40, 40, 40, 1], 'lambda': 10**-5}"
   ]
  },
  {
   "cell_type": "markdown",
   "metadata": {},
   "source": [
    "DeepMoD accepts any arbitrary library function and any options for it can be given through *the library_config*. The library function for this example accepts a maximum order for the polynomial and derivative terms. DeepMoD also needs to know the total number of terms upfront. We can calculate that by making a list of the polynomial and derivative terms and getting all the terms by feeding them into the library_matrix_mat function. Its output will be used later to print the found PDE."
   ]
  },
  {
   "cell_type": "code",
   "execution_count": 21,
   "metadata": {},
   "outputs": [
    {
     "name": "stdout",
     "output_type": "stream",
     "text": [
      "['1', 'u_{x}', 'u_{y}', 'u_{xx}', 'u_{yy}', 'u_{xy}', 'u', 'uu_{x}', 'uu_{y}', 'uu_{xx}', 'uu_{yy}', 'uu_{xy}']\n"
     ]
    }
   ],
   "source": [
    "u = ['1','u']\n",
    "du = ['1', 'u_{x}', 'u_{y}','u_{xx}', 'u_{yy}','u_{xy}']\n",
    "coeffs_list = library_matrix_mat(u, du)\n",
    "print(coeffs_list)\n",
    "library_config = {'total_terms': 12, 'deriv_order': 2, 'poly_order': 1}"
   ]
  },
  {
   "cell_type": "markdown",
   "metadata": {},
   "source": [
    "Next we set the training options. Usually we only change the maximum iterations and the grad_tol, which sets the convergence criterion;"
   ]
  },
  {
   "cell_type": "code",
   "execution_count": 22,
   "metadata": {},
   "outputs": [],
   "source": [
    "train_opts = {'max_iterations': 50000, 'grad_tol':10**-7, 'learning_rate': 0.001, 'beta1': 0.9, 'beta2': 0.99, 'epsilon': 10**-8}"
   ]
  },
  {
   "cell_type": "markdown",
   "metadata": {},
   "source": [
    "The last configuration we need to fill is the ouput_opts. It contains an output_directory and X_predict field. We've build a custom tensorboard so you can follow the progress of the run.  Output_directory sets where the files are saved, then simply run \n",
    "\n",
    "`tensorboard --logdir $[OUTPUT_DIRECTORY]`\n",
    "\n",
    "in a terminal to open tensorboard. It shows the value of the coefficients, scaled coefficients and all possible costs. Note that the runs are timestamped in output_directory, so you'll have to add it! We can also use the output of tensorboard to analyze deepmod after. We show this below. The last option is X_predict. As DeepMoD also denoises the data, use this option to denoise some dataset X after DeepMoD has converged."
   ]
  },
  {
   "cell_type": "code",
   "execution_count": 23,
   "metadata": {},
   "outputs": [],
   "source": [
    "output_opts = {'output_directory': 'output/27_a_seed_41_Layer40/', 'X_predict': X}"
   ]
  },
  {
   "cell_type": "markdown",
   "metadata": {},
   "source": [
    "## Run DeepMoD"
   ]
  },
  {
   "cell_type": "markdown",
   "metadata": {},
   "source": [
    "We can now run DeepMoD using all the options we have set and the training data. We also need to specify which library function we wish to use. You can build any library you want and just pass is through this command:"
   ]
  },
  {
   "cell_type": "code",
   "execution_count": null,
   "metadata": {},
   "outputs": [
    {
     "name": "stdout",
     "output_type": "stream",
     "text": [
      "Epoch | Total loss | Loss gradient | MSE | PI | L1 \n",
      "0 [5.2264957, 0.038143713, 5.086202, 0.14027108, 2.2439493e-05]\n",
      "500 [2.2107055, 0.026002651, 2.1657681, 0.044824418, 0.000113094524]\n",
      "1000 [0.6906545, 0.09807481, 0.626994, 0.06361934, 4.1203482e-05]\n",
      "1500 [0.11605042, 0.02167189, 0.10689317, 0.009141807, 1.5442773e-05]\n",
      "2000 [0.0945578, 0.0873436, 0.08633031, 0.008211005, 1.6488317e-05]\n",
      "2500 [0.08040976, 0.01504726, 0.07471401, 0.005679985, 1.576044e-05]\n",
      "3000 [0.07779401, 0.05852751, 0.07261723, 0.00516146, 1.5321086e-05]\n",
      "3500 [0.07288497, 0.005508765, 0.069203466, 0.0036662514, 1.5251965e-05]\n",
      "4000 [0.07216664, 0.04216585, 0.068648934, 0.0035022171, 1.5478827e-05]\n",
      "4500 [0.07107813, 0.038013928, 0.06785266, 0.00320987, 1.5603757e-05]\n",
      "5000 [0.07102971, 0.047564436, 0.06773017, 0.0032838346, 1.5696154e-05]\n",
      "5500 [0.072174124, 0.07508581, 0.068421744, 0.003736634, 1.5743539e-05]\n",
      "6000 [0.06935519, 0.02651565, 0.066598535, 0.002740926, 1.572628e-05]\n",
      "6500 [0.069189824, 0.032197736, 0.06638287, 0.0027911554, 1.5798438e-05]\n",
      "7000 [0.068465926, 0.0044518556, 0.06590918, 0.0025409388, 1.5808579e-05]\n",
      "7500 [0.06824528, 0.0057792263, 0.06574854, 0.0024809167, 1.5818256e-05]\n",
      "8000 [0.06815199, 0.0134435315, 0.06569343, 0.0024427378, 1.582027e-05]\n",
      "8500 [0.06984733, 0.06895396, 0.06678198, 0.0030495343, 1.5810998e-05]\n",
      "9000 [0.06787151, 0.0293036, 0.065362744, 0.0024928986, 1.586723e-05]\n",
      "9500 [0.06759402, 0.009318127, 0.06521666, 0.0023614692, 1.5888696e-05]\n",
      "10000 [0.067640245, 0.031695835, 0.06518617, 0.002438205, 1.5869484e-05]\n",
      "10500 [0.06737433, 0.009595317, 0.06504128, 0.0023171166, 1.5928124e-05]\n",
      "11000 [0.06725663, 0.005901783, 0.06496488, 0.0022757861, 1.5962838e-05]\n",
      "11500 [0.06721365, 0.013955841, 0.064902805, 0.002294831, 1.6013557e-05]\n",
      "12000 [0.06706082, 0.0030505145, 0.06480719, 0.0022375782, 1.604743e-05]\n",
      "12500 [0.06744998, 0.040267557, 0.06495284, 0.0024810317, 1.610987e-05]\n",
      "13000 [0.0675224, 0.04597491, 0.06504247, 0.0024638318, 1.6093283e-05]\n",
      "13500 [0.06769336, 0.055806093, 0.0649873, 0.0026898747, 1.6183236e-05]\n",
      "14000 [0.066860564, 0.019543389, 0.06464162, 0.0022027604, 1.6189097e-05]\n",
      "14500 [0.06694689, 0.04424567, 0.06451665, 0.0024140645, 1.6172053e-05]\n",
      "15000 [0.06738932, 0.04054555, 0.06501866, 0.0023543811, 1.626879e-05]\n",
      "15500 [0.066684544, 0.024088005, 0.064410076, 0.0022581597, 1.6310069e-05]\n",
      "16000 [0.0687512, 0.109079674, 0.06499399, 0.0037409759, 1.6236967e-05]\n",
      "16500 [0.06715076, 0.03940518, 0.06481683, 0.0023175739, 1.6346869e-05]\n",
      "17000 [0.0664624, 0.020657182, 0.0642695, 0.0021765307, 1.6365548e-05]\n",
      "17500 [0.06680296, 0.034513883, 0.06452351, 0.0022630652, 1.6389156e-05]\n",
      "18000 [0.066293195, 0.004039475, 0.06413347, 0.002143282, 1.6440028e-05]\n",
      "18500 [0.0662795, 0.029159, 0.06403339, 0.0022296933, 1.6417396e-05]\n",
      "19000 [0.06621237, 0.022665473, 0.06403506, 0.0021608085, 1.6500435e-05]\n",
      "19500 [0.066936545, 0.073959194, 0.06401253, 0.0029074727, 1.6547694e-05]\n",
      "20000 [0.065995865, 0.0015148843, 0.06387536, 0.0021039913, 1.6507938e-05]\n",
      "20500 [0.06611551, 0.017024547, 0.06394851, 0.0021504823, 1.6514741e-05]\n",
      "21000 [0.06653565, 0.05683315, 0.0639362, 0.002582869, 1.6575126e-05]\n",
      "21500 [0.06618471, 0.039514106, 0.063850455, 0.002317641, 1.6603713e-05]\n",
      "22000 [0.065867096, 0.011646074, 0.063751794, 0.002098715, 1.658337e-05]\n",
      "22500 [0.06592105, 0.024560738, 0.063720554, 0.00218395, 1.6544638e-05]\n",
      "23000 [0.06581518, 0.0071830703, 0.06370242, 0.0020961799, 1.658379e-05]\n",
      "23500 [0.06599308, 0.0331399, 0.0637699, 0.002206592, 1.6585547e-05]\n",
      "24000 [0.06584183, 0.025244355, 0.06366151, 0.0021637646, 1.6557824e-05]\n",
      "24500 [0.06611674, 0.04203073, 0.06376223, 0.0023378718, 1.6633765e-05]\n",
      "25000 [0.065615766, 0.011061043, 0.06352212, 0.0020770172, 1.6621263e-05]\n",
      "25500 [0.065823846, 0.037830394, 0.063544504, 0.0022626433, 1.66984e-05]\n",
      "26000 [0.065771475, 0.038725115, 0.063507214, 0.0022475903, 1.667487e-05]\n",
      "26500 [0.06554255, 0.014784739, 0.06344668, 0.0020792221, 1.6655507e-05]\n",
      "27000 [0.067515016, 0.10633718, 0.06389893, 0.003599514, 1.6570057e-05]\n",
      "27500 [0.06558681, 0.016834116, 0.06350547, 0.0020646893, 1.6652051e-05]\n",
      "28000 [0.06597065, 0.014109149, 0.06384998, 0.0021039906, 1.6682176e-05]\n",
      "28500 [0.06540031, 0.009220673, 0.06333189, 0.002051738, 1.6679056e-05]\n",
      "29000 [0.067351654, 0.07511127, 0.064398974, 0.0029359784, 1.6705268e-05]\n",
      "29500 [0.0663586, 0.043709308, 0.063973784, 0.0023681237, 1.6698623e-05]\n",
      "30000 [0.06717725, 0.031090664, 0.06489453, 0.002266036, 1.6691925e-05]\n",
      "30500 [0.06599503, 0.0529208, 0.0635009, 0.002477374, 1.675867e-05]\n",
      "31000 [0.06532307, 0.021846885, 0.06321821, 0.002088131, 1.6723174e-05]\n",
      "31500 [0.06565864, 0.04320206, 0.06338855, 0.002253399, 1.6689391e-05]\n",
      "32000 [0.06626138, 0.083056934, 0.063292585, 0.0029521426, 1.664844e-05]\n",
      "32500 [0.06533605, 0.033787873, 0.06315226, 0.002167084, 1.670732e-05]\n",
      "33000 [0.065296784, 0.027313584, 0.063192256, 0.0020878077, 1.6720633e-05]\n",
      "33500 [0.06547995, 0.025555288, 0.06334385, 0.0021193626, 1.673204e-05]\n",
      "34000 [0.06557681, 0.042504895, 0.0633466, 0.0022134748, 1.6728445e-05]\n",
      "34500 [0.06531804, 0.011916719, 0.06325426, 0.002047019, 1.6766895e-05]\n",
      "35000 [0.06506398, 0.016225899, 0.0630178, 0.0020294487, 1.6731217e-05]\n",
      "35500 [0.06680227, 0.07328403, 0.06396854, 0.002816937, 1.6791731e-05]\n",
      "36000 [0.06536171, 0.039062988, 0.063177444, 0.0021675057, 1.6754613e-05]\n",
      "36500 [0.0650926, 0.029588234, 0.06297159, 0.0021042034, 1.680884e-05]\n",
      "37000 [0.064966835, 0.015642231, 0.06293334, 0.0020167003, 1.6794103e-05]\n",
      "37500 [0.06506779, 0.03145159, 0.06295826, 0.0020927554, 1.67681e-05]\n",
      "38000 [0.066895016, 0.09487513, 0.0637094, 0.0031688735, 1.6741966e-05]\n",
      "38500 [0.06544932, 0.05667042, 0.062994175, 0.0024382733, 1.6879167e-05]\n",
      "39000 [0.064881906, 0.012801493, 0.062887035, 0.001978056, 1.6814764e-05]\n",
      "39500 [0.06482874, 0.0052470923, 0.06283485, 0.0019770719, 1.6819631e-05]\n",
      "40000 [0.06514639, 0.014429099, 0.06307425, 0.0020553165, 1.6816968e-05]\n",
      "40500 [0.06533896, 0.030879388, 0.06319653, 0.0021256087, 1.6821688e-05]\n",
      "41000 [0.06476988, 0.014086835, 0.0627766, 0.001976427, 1.6843034e-05]\n",
      "41500 [0.06849, 0.1275073, 0.06426591, 0.0042073135, 1.6781147e-05]\n",
      "42000 [0.06477169, 0.012401479, 0.06276952, 0.0019853257, 1.6849468e-05]\n",
      "42500 [0.06473696, 0.017402288, 0.06273832, 0.001981779, 1.6862532e-05]\n",
      "43000 [0.06734911, 0.12301569, 0.06338541, 0.003946898, 1.679817e-05]\n",
      "43500 [0.06469467, 0.009652148, 0.06270216, 0.0019756325, 1.6884127e-05]\n",
      "44000 [0.0647995, 0.023546468, 0.06272167, 0.0020609356, 1.689479e-05]\n",
      "44500 [0.06484374, 0.010685382, 0.0628358, 0.0019910275, 1.6913506e-05]\n",
      "45000 [0.06467099, 0.016937623, 0.06265333, 0.0020007635, 1.6887032e-05]\n",
      "45500 [0.0646292, 0.02066282, 0.06261349, 0.0019988068, 1.690373e-05]\n",
      "46000 [0.0646579, 0.009321472, 0.062647946, 0.0019930364, 1.6911474e-05]\n",
      "46500 [0.06459283, 0.008498231, 0.062599145, 0.0019767683, 1.692104e-05]\n",
      "47000 [0.06460235, 0.018971587, 0.06255868, 0.0020267195, 1.6952676e-05]\n",
      "47500 [0.06461338, 0.010414531, 0.06265409, 0.0019423367, 1.695161e-05]\n",
      "48000 [0.06453274, 0.019123675, 0.06250971, 0.0020061163, 1.6923332e-05]\n",
      "48500 [0.064481735, 0.014950454, 0.06249571, 0.0019690848, 1.6944472e-05]\n",
      "49000 [0.06460679, 0.018317042, 0.06256572, 0.0020241037, 1.6968468e-05]\n",
      "49500 [0.064669244, 0.038758326, 0.062485144, 0.0021671096, 1.6987931e-05]\n",
      "Current sparse vectors:\n",
      "[array([[0.        ],\n",
      "       [0.        ],\n",
      "       [0.3073957 ],\n",
      "       [0.0059424 ],\n",
      "       [0.00839991],\n",
      "       [0.        ],\n",
      "       [0.        ],\n",
      "       [0.        ],\n",
      "       [0.        ],\n",
      "       [0.        ],\n",
      "       [0.        ],\n",
      "       [0.        ]])]\n",
      "Now running for the final time...\n",
      "Epoch | Total loss | Loss gradient | MSE | PI | L1 \n",
      "0 [0.1225197, 0.075192004, 0.112771094, 0.009748607, 0.0]\n",
      "500 [0.066899635, 0.007073957, 0.0637438, 0.0031558322, 0.0]\n",
      "1000 [0.06630896, 0.0010637423, 0.06334189, 0.0029670638, 0.0]\n",
      "1500 [0.06663963, 0.0059670606, 0.063714825, 0.0029248036, 0.0]\n",
      "2000 [0.066131294, 0.00079113134, 0.06330353, 0.0028277661, 0.0]\n",
      "2500 [0.066084765, 0.0026541976, 0.06330242, 0.0027823441, 0.0]\n",
      "3000 [0.06600271, 0.00043726168, 0.06323063, 0.002772086, 0.0]\n",
      "3500 [0.06604442, 0.0039834124, 0.063296415, 0.0027480049, 0.0]\n",
      "4000 [0.06593465, 0.001505993, 0.06320057, 0.0027340793, 0.0]\n",
      "4500 [0.06588586, 0.0041046743, 0.06316421, 0.002721647, 0.0]\n",
      "5000 [0.066365205, 0.0091080265, 0.06367309, 0.0026921153, 0.0]\n",
      "5500 [0.06597814, 0.0047249906, 0.063293554, 0.0026845895, 0.0]\n",
      "6000 [0.06583325, 0.005698745, 0.06315571, 0.0026775347, 0.0]\n",
      "6500 [0.06574723, 0.0026723247, 0.06308206, 0.0026651733, 0.0]\n",
      "7000 [0.06570935, 0.0030087177, 0.063046314, 0.0026630363, 0.0]\n",
      "7500 [0.06573882, 0.0042379075, 0.06308746, 0.0026513592, 0.0]\n",
      "8000 [0.06571537, 0.0045463275, 0.06307656, 0.00263881, 0.0]\n",
      "8500 [0.06562676, 0.002856378, 0.062983885, 0.0026428795, 0.0]\n",
      "9000 [0.06567579, 0.0025946007, 0.063046604, 0.0026291856, 0.0]\n",
      "9500 [0.065598674, 0.0048086336, 0.062971294, 0.002627377, 0.0]\n",
      "10000 [0.06556408, 0.0044240244, 0.062942676, 0.0026214044, 0.0]\n",
      "10500 [0.06558233, 0.0049298746, 0.06295075, 0.002631577, 0.0]\n",
      "11000 [0.06565755, 0.003500517, 0.06301654, 0.0026410038, 0.0]\n",
      "11500 [0.06544897, 0.00062934746, 0.06284973, 0.0025992359, 0.0]\n",
      "12000 [0.06543276, 0.0023270939, 0.062835, 0.0025977576, 0.0]\n",
      "12500 [0.06543998, 0.002598481, 0.06285323, 0.0025867443, 0.0]\n",
      "13000 [0.065388575, 0.0004347276, 0.06279622, 0.0025923538, 0.0]\n",
      "13500 [0.065471314, 0.0076938635, 0.06288479, 0.0025865182, 0.0]\n",
      "14000 [0.06536715, 0.004224344, 0.062779866, 0.0025872835, 0.0]\n",
      "14500 [0.06549612, 0.006348294, 0.062899105, 0.0025970102, 0.0]\n",
      "15000 [0.0655013, 0.0057483558, 0.06293132, 0.002569984, 0.0]\n",
      "15500 [0.06551812, 0.008462642, 0.06291423, 0.002603889, 0.0]\n",
      "16000 [0.065340735, 0.0015918809, 0.062808596, 0.0025321408, 0.0]\n",
      "16500 [0.06567315, 0.008584448, 0.063056044, 0.002617107, 0.0]\n",
      "17000 [0.065254875, 0.0029816185, 0.06270456, 0.0025503102, 0.0]\n",
      "17500 [0.06548577, 0.0130007705, 0.062895656, 0.002590115, 0.0]\n",
      "18000 [0.06516724, 0.001577718, 0.06262976, 0.0025374833, 0.0]\n",
      "18500 [0.06512573, 0.00092553074, 0.06258927, 0.0025364587, 0.0]\n",
      "19000 [0.06523099, 0.0074712397, 0.06267245, 0.0025585357, 0.0]\n",
      "19500 [0.065127894, 0.002209338, 0.06258159, 0.0025463032, 0.0]\n"
     ]
    }
   ],
   "source": [
    "sparse_vectors, denoised = DeepMoD(X_train, y_train, config, library_2Din_1Dout, library_config, train_opts, output_opts)"
   ]
  },
  {
   "cell_type": "markdown",
   "metadata": {},
   "source": [
    "Show final result:"
   ]
  },
  {
   "cell_type": "code",
   "execution_count": 17,
   "metadata": {},
   "outputs": [
    {
     "name": "stdout",
     "output_type": "stream",
     "text": [
      "Inferred equation:\n",
      "u_t = 0.303u_{y} + 0.009u_{xx} + 0.009u_{yy}\n"
     ]
    }
   ],
   "source": [
    "u = ['1', 'u']\n",
    "du = ['1', 'u_{x}', 'u_{y}','u_{xx}', 'u_{yy}','u_{xy}']\n",
    "coeffs_list = library_matrix_mat(u, du)\n",
    "\n",
    "print('Inferred equation:')\n",
    "print_PDE(sparse_vectors[0], coeffs_list, PDE_term='u_t')"
   ]
  },
  {
   "cell_type": "markdown",
   "metadata": {},
   "source": [
    "Plot the 'Ground truth', 'Noisy' and 'Reconstructed/Denoised' solution"
   ]
  },
  {
   "cell_type": "code",
   "execution_count": 22,
   "metadata": {},
   "outputs": [],
   "source": [
    "X_predict = X[(X[:,0]==5.0) | (X[:,0]==9.0) | (X[:,0]==7.0), :]"
   ]
  },
  {
   "cell_type": "code",
   "execution_count": 23,
   "metadata": {},
   "outputs": [],
   "source": [
    "data_dict = {'x_grid': X[:,1],'y_grid': X[:,2], 't_grid': X[:,0], 'ground_truth': np.squeeze(y), 'noisy': np.squeeze(y_noisy)}\n",
    "df = pd.DataFrame(data_dict)\n",
    "for key in df:\n",
    "    df[key] = np.squeeze(df[key])\n",
    "data = pd.DataFrame(df)"
   ]
  },
  {
   "cell_type": "code",
   "execution_count": 24,
   "metadata": {},
   "outputs": [],
   "source": [
    "data_dict_denoised = {'x_grid': X[:,1],'y_grid': X[:,2], 't_grid': X[:,0], 'denoised': np.squeeze(denoised)}\n",
    "df_dn = pd.DataFrame(data_dict_denoised)\n",
    "for key in df_dn:\n",
    "    df_dn[key] = np.squeeze(df_dn[key])\n",
    "data_denoised = pd.DataFrame(df_dn)"
   ]
  },
  {
   "cell_type": "code",
   "execution_count": 31,
   "metadata": {},
   "outputs": [
    {
     "data": {
      "image/png": "[encoded data removed]",
      "text/plain": [
       "<Figure size 1080x288 with 4 Axes>"
      ]
     },
     "metadata": {
      "needs_background": "light"
     },
     "output_type": "display_data"
    }
   ],
   "source": [
    "time1 = 7.0\n",
    "\n",
    "vmin = np.min(data[data['t_grid'] == time1]['ground_truth'])\n",
    "vmax = np.max(data[data['t_grid'] == time1]['ground_truth'])\n",
    "\n",
    "fig, axes = plt.subplots(ncols=3, figsize=(15, 4))\n",
    "\n",
    "im1 = axes[0].contourf(pd.pivot_table(data[data['t_grid'] == time1],index='y_grid', columns='x_grid', values='ground_truth'), cmap='coolwarm',vmin=vmin, vmax=vmax)\n",
    "axes[0].set_xlabel('x')\n",
    "axes[0].set_ylabel('y')\n",
    "axes[0].set_title('Ground truth')\n",
    "\n",
    "im2 = axes[1].contourf(pd.pivot_table(data[data['t_grid'] == time1],index='y_grid', columns='x_grid', values='noisy'), cmap='coolwarm', vmin=vmin, vmax=vmax)\n",
    "axes[1].set_xlabel('x')\n",
    "axes[1].set_title('Noisy')\n",
    "\n",
    "im3 = axes[2].contourf(pd.pivot_table(data_denoised[data_denoised['t_grid'] == time1],index='y_grid', columns='x_grid', values='denoised'), cmap='coolwarm', vmin=vmin, vmax=vmax)\n",
    "axes[2].set_xlabel('x')\n",
    "axes[2].set_title('Sampled')\n",
    "\n",
    "fig.colorbar(im1, ax=axes.ravel().tolist())\n",
    "\n",
    "plt.show()"
   ]
  },
  {
   "cell_type": "code",
   "execution_count": null,
   "metadata": {},
   "outputs": [],
   "source": []
  }
 ],
 "metadata": {
  "kernelspec": {
   "display_name": "Python 3",
   "language": "python",
   "name": "python3"
  },
  "language_info": {
   "codemirror_mode": {
    "name": "ipython",
    "version": 3
   },
   "file_extension": ".py",
   "mimetype": "text/x-python",
   "name": "python",
   "nbconvert_exporter": "python",
   "pygments_lexer": "ipython3",
   "version": "3.6.8"
  }
 },
 "nbformat": 4,
 "nbformat_minor": 2
}
