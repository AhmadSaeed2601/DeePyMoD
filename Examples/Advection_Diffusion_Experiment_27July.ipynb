{
 "cells": [
  {
   "cell_type": "markdown",
   "metadata": {},
   "source": [
    "# 2D Advection-Diffusion equation"
   ]
  },
  {
   "cell_type": "markdown",
   "metadata": {},
   "source": [
    "in this notebook we provide a simple example of the DeepMoD algorithm and apply it on the 2D advection-diffusion equation. "
   ]
  },
  {
   "cell_type": "code",
   "execution_count": 103,
   "metadata": {},
   "outputs": [],
   "source": [
    "import sys\n",
    "import numpy as np\n",
    "import pandas as pd \n",
    "\n",
    "sys.path.append('../src/deepymod/')\n",
    "\n",
    "from scipy.io import loadmat\n",
    "from DeepMoD import DeepMoD\n",
    "from library_functions import library_2Din_1Dout\n",
    "from deepymod.utilities import library_matrix_mat, print_PDE\n",
    "\n",
    "import matplotlib.pyplot as plt\n",
    "plt.style.use('seaborn-notebook')\n",
    "\n",
    "np.random.seed(40)  # setting seed for randomisation"
   ]
  },
  {
   "cell_type": "markdown",
   "metadata": {},
   "source": [
    "## Prepare the data"
   ]
  },
  {
   "cell_type": "markdown",
   "metadata": {},
   "source": [
    "Next, we prepare the dataset."
   ]
  },
  {
   "cell_type": "code",
   "execution_count": 119,
   "metadata": {},
   "outputs": [],
   "source": [
    "u_v = np.load('data/Diffusion27July/diffusion_advection_27longb.npy')\n",
    "u_v = np.moveaxis(u_v,0,-1)/10.0\n",
    "data = loadmat('data/Diffusion27July/Diffusion_advection_27long.mat')\n",
    "usol = np.real(data['Expression1'])\n",
    "usol= usol.reshape((150,300,55,3)) \n",
    "x_v= usol[:,:,:,0]\n",
    "y_v = usol[:,:,:,1]\n",
    "t_v = usol[:,:,:,2]"
   ]
  },
  {
   "cell_type": "code",
   "execution_count": 120,
   "metadata": {},
   "outputs": [
    {
     "data": {
      "text/plain": [
       "(150, 300, 55)"
      ]
     },
     "execution_count": 120,
     "metadata": {},
     "output_type": "execute_result"
    }
   ],
   "source": [
    "x_v.shape"
   ]
  },
  {
   "cell_type": "code",
   "execution_count": 121,
   "metadata": {},
   "outputs": [],
   "source": [
    "x_v = x_v[:,:250,7:]\n",
    "y_v = y_v[:,:250,7:]\n",
    "t_v = t_v[:,:250,7:]\n",
    "u_v = u_v[:,:250,7:]"
   ]
  },
  {
   "cell_type": "markdown",
   "metadata": {},
   "source": [
    "Next we plot the dataset for three different time-points"
   ]
  },
  {
   "cell_type": "code",
   "execution_count": 122,
   "metadata": {},
   "outputs": [
    {
     "data": {
      "image/png": "[encoded data removed]",
      "text/plain": [
       "<Figure size 1080x288 with 4 Axes>"
      ]
     },
     "metadata": {
      "needs_background": "light"
     },
     "output_type": "display_data"
    }
   ],
   "source": [
    "fig, axes = plt.subplots(ncols=3, figsize=(15, 4))\n",
    "\n",
    "im0 = axes[0].contourf(x_v[:,:,1], y_v[:,:,1], u_v[:,:,0], cmap='coolwarm')\n",
    "axes[0].set_xlabel('x')\n",
    "axes[0].set_ylabel('y')\n",
    "axes[0].set_title('t = 0')\n",
    "\n",
    "im1 = axes[1].contourf(x_v[:,:,1], y_v[:,:,1], u_v[:,:,4], cmap='coolwarm')\n",
    "axes[1].set_xlabel('x')\n",
    "axes[1].set_title('t = 10')\n",
    "\n",
    "im2 = axes[2].contourf(x_v[:,:,1], y_v[:,:,1], u_v[:,:,10], cmap='coolwarm')\n",
    "axes[2].set_xlabel('x')\n",
    "axes[2].set_title('t= 20')\n",
    "\n",
    "fig.colorbar(im1, ax=axes.ravel().tolist())\n",
    "\n",
    "plt.show()"
   ]
  },
  {
   "cell_type": "markdown",
   "metadata": {},
   "source": [
    "We flatten it to give it the right dimensions for feeding it to the network:"
   ]
  },
  {
   "cell_type": "code",
   "execution_count": 123,
   "metadata": {},
   "outputs": [],
   "source": [
    "X = np.transpose((t_v.flatten(),x_v.flatten(), y_v.flatten()))\n",
    "y = u_v.reshape((u_v.size, 1))"
   ]
  },
  {
   "cell_type": "markdown",
   "metadata": {},
   "source": [
    "We select the noise level we add to the data-set"
   ]
  },
  {
   "cell_type": "code",
   "execution_count": 124,
   "metadata": {},
   "outputs": [],
   "source": [
    "noise_level = 0."
   ]
  },
  {
   "cell_type": "code",
   "execution_count": 125,
   "metadata": {},
   "outputs": [],
   "source": [
    "y_noisy = y + noise_level * np.std(y) * np.random.randn(y.size, 1)"
   ]
  },
  {
   "cell_type": "markdown",
   "metadata": {},
   "source": [
    "Select the number of samples:"
   ]
  },
  {
   "cell_type": "code",
   "execution_count": 126,
   "metadata": {},
   "outputs": [],
   "source": [
    "number_of_samples = 2000"
   ]
  },
  {
   "cell_type": "code",
   "execution_count": 127,
   "metadata": {},
   "outputs": [],
   "source": [
    "idx = np.random.permutation(y.size)\n",
    "X_train = X[idx, :][:number_of_samples]\n",
    "y_train = y_noisy[idx, :][:number_of_samples]"
   ]
  },
  {
   "cell_type": "markdown",
   "metadata": {},
   "source": [
    "## Configure the neural network"
   ]
  },
  {
   "cell_type": "markdown",
   "metadata": {},
   "source": [
    "Next we define the architecture and strength of the $L_1$ penalty for the neural network.\n",
    "Note that in this example have three input channels in this example: {x,y,t}"
   ]
  },
  {
   "cell_type": "code",
   "execution_count": 164,
   "metadata": {},
   "outputs": [],
   "source": [
    "config = {'layers': [3, 20, 20, 20, 1], 'lambda': 10**-2}"
   ]
  },
  {
   "cell_type": "markdown",
   "metadata": {},
   "source": [
    "DeepMoD accepts any arbitrary library function and any options for it can be given through *the library_config*. The library function for this example accepts a maximum order for the polynomial and derivative terms. DeepMoD also needs to know the total number of terms upfront. We can calculate that by making a list of the polynomial and derivative terms and getting all the terms by feeding them into the library_matrix_mat function. Its output will be used later to print the found PDE."
   ]
  },
  {
   "cell_type": "code",
   "execution_count": 165,
   "metadata": {},
   "outputs": [
    {
     "name": "stdout",
     "output_type": "stream",
     "text": [
      "['1', 'u_{x}', 'u_{y}', 'u_{xx}', 'u_{yy}', 'u_{xy}', 'u', 'uu_{x}', 'uu_{y}', 'uu_{xx}', 'uu_{yy}', 'uu_{xy}']\n"
     ]
    }
   ],
   "source": [
    "u = ['1','u']\n",
    "du = ['1', 'u_{x}', 'u_{y}','u_{xx}', 'u_{yy}','u_{xy}']\n",
    "coeffs_list = library_matrix_mat(u, du)\n",
    "print(coeffs_list)\n",
    "library_config = {'total_terms': 12, 'deriv_order': 2, 'poly_order': 1}"
   ]
  },
  {
   "cell_type": "markdown",
   "metadata": {},
   "source": [
    "Next we set the training options. Usually we only change the maximum iterations and the grad_tol, which sets the convergence criterion;"
   ]
  },
  {
   "cell_type": "code",
   "execution_count": 166,
   "metadata": {},
   "outputs": [],
   "source": [
    "train_opts = {'max_iterations': 100000, 'grad_tol':10**-7, 'learning_rate': 0.001, 'beta1': 0.9, 'beta2': 0.99, 'epsilon': 10**-8}"
   ]
  },
  {
   "cell_type": "markdown",
   "metadata": {},
   "source": [
    "The last configuration we need to fill is the ouput_opts. It contains an output_directory and X_predict field. We've build a custom tensorboard so you can follow the progress of the run.  Output_directory sets where the files are saved, then simply run \n",
    "\n",
    "`tensorboard --logdir $[OUTPUT_DIRECTORY]`\n",
    "\n",
    "in a terminal to open tensorboard. It shows the value of the coefficients, scaled coefficients and all possible costs. Note that the runs are timestamped in output_directory, so you'll have to add it! We can also use the output of tensorboard to analyze deepmod after. We show this below. The last option is X_predict. As DeepMoD also denoises the data, use this option to denoise some dataset X after DeepMoD has converged."
   ]
  },
  {
   "cell_type": "code",
   "execution_count": 168,
   "metadata": {},
   "outputs": [],
   "source": [
    "output_opts = {'output_directory': 'output/advection_diffusion_27regesmall/', 'X_predict': X}"
   ]
  },
  {
   "cell_type": "markdown",
   "metadata": {},
   "source": [
    "## Run DeepMoD"
   ]
  },
  {
   "cell_type": "markdown",
   "metadata": {},
   "source": [
    "We can now run DeepMoD using all the options we have set and the training data. We also need to specify which library function we wish to use. You can build any library you want and just pass is through this command:"
   ]
  },
  {
   "cell_type": "code",
   "execution_count": null,
   "metadata": {},
   "outputs": [
    {
     "name": "stdout",
     "output_type": "stream",
     "text": [
      "Epoch | Total loss | Loss gradient | MSE | PI | L1 \n",
      "0 [4.5110884, 0.03747024, 4.1977296, 0.29305938, 0.020299478]\n",
      "500 [1.4304755, 0.04325385, 1.3266234, 0.046390876, 0.057461113]\n",
      "1000 [0.14874783, 0.011348959, 0.12830095, 0.007690656, 0.012756224]\n",
      "1500 [0.10335352, 0.024267208, 0.08124949, 0.008077543, 0.014026488]\n",
      "2000 [0.09631243, 0.03263217, 0.07545818, 0.0072301603, 0.013624092]\n",
      "2500 [0.094371766, 0.066967234, 0.07331407, 0.007075708, 0.013981991]\n",
      "3000 [0.09212568, 0.048967488, 0.07188205, 0.0061805923, 0.014063037]\n",
      "3500 [0.090607144, 0.011273823, 0.07094969, 0.0056660883, 0.013991365]\n",
      "4000 [0.09018095, 0.035789344, 0.07038885, 0.0056930473, 0.014099047]\n",
      "4500 [0.08907898, 0.02686258, 0.06963737, 0.0052449126, 0.014196696]\n",
      "5000 [0.08845238, 0.019530267, 0.069150984, 0.005219253, 0.014082143]\n",
      "5500 [0.087973736, 0.010951461, 0.068759434, 0.005000969, 0.014213333]\n",
      "6000 [0.088363715, 0.06360973, 0.06856351, 0.0052549695, 0.01454523]\n",
      "6500 [0.087482415, 0.011768914, 0.06832088, 0.004808156, 0.014353379]\n",
      "7000 [0.08701432, 0.015632566, 0.06789824, 0.0048038512, 0.014312225]\n",
      "7500 [0.08671151, 0.01789435, 0.06753517, 0.0048128148, 0.014363525]\n",
      "8000 [0.08652003, 0.023444012, 0.067338474, 0.0049549695, 0.014226588]\n",
      "8500 [0.08621256, 0.04432015, 0.066938534, 0.0048872577, 0.014386766]\n",
      "9000 [0.08578075, 0.017669652, 0.066666424, 0.0047326973, 0.014381623]\n",
      "9500 [0.08570547, 0.034410387, 0.06635374, 0.0047930907, 0.014558635]\n",
      "10000 [0.08526324, 0.029063907, 0.06608648, 0.004894739, 0.014282015]\n",
      "10500 [0.08497659, 0.02717553, 0.06580034, 0.0048677856, 0.01430847]\n",
      "11000 [0.08539386, 0.04938426, 0.06598778, 0.004790762, 0.014615319]\n",
      "11500 [0.08459817, 0.040579163, 0.06530998, 0.004606782, 0.014681407]\n",
      "12000 [0.08574161, 0.09204223, 0.06514661, 0.006412627, 0.014182378]\n",
      "12500 [0.08382494, 0.007948403, 0.0648291, 0.00442756, 0.014568276]\n",
      "13000 [0.08378413, 0.040865943, 0.06449615, 0.0046757525, 0.014612225]\n",
      "13500 [0.08356567, 0.040524174, 0.064245306, 0.0048093097, 0.014511047]\n",
      "14000 [0.08333813, 0.039962426, 0.064088635, 0.004494768, 0.014754721]\n",
      "14500 [0.08299642, 0.019863011, 0.06389752, 0.0045351554, 0.014563745]\n",
      "15000 [0.0826206, 0.013575807, 0.06358836, 0.004444618, 0.01458762]\n",
      "15500 [0.082724854, 0.044083387, 0.06336949, 0.004596187, 0.014759178]\n",
      "16000 [0.082206465, 0.025733385, 0.06313652, 0.004575282, 0.014494662]\n",
      "16500 [0.08193821, 0.015080986, 0.06288287, 0.004336467, 0.014718867]\n",
      "17000 [0.0821713, 0.045363683, 0.06274927, 0.0046100025, 0.014812031]\n",
      "17500 [0.08178435, 0.03956922, 0.06249073, 0.0044755843, 0.014818039]\n",
      "18000 [0.081664726, 0.034368813, 0.062452264, 0.0044691693, 0.014743287]\n",
      "18500 [0.08137006, 0.035798464, 0.062167555, 0.004413435, 0.014789076]\n",
      "19000 [0.081023045, 0.017164296, 0.06198007, 0.0043782596, 0.014664715]\n",
      "19500 [0.08102308, 0.032843396, 0.061822012, 0.0043867235, 0.014814347]\n",
      "20000 [0.080655426, 0.0152415745, 0.061615463, 0.0043566683, 0.014683294]\n",
      "20500 [0.08048558, 0.020640865, 0.061454825, 0.004356854, 0.014673902]\n",
      "21000 [0.08047383, 0.02830624, 0.061367758, 0.0043133027, 0.014792768]\n",
      "21500 [0.08015771, 0.016012136, 0.061220977, 0.0042245267, 0.014712203]\n",
      "22000 [0.0805043, 0.061277073, 0.061027355, 0.004966724, 0.014510221]\n",
      "22500 [0.07985723, 0.037679303, 0.060880452, 0.0042669107, 0.014709871]\n",
      "23000 [0.07962805, 0.03148959, 0.060711723, 0.004143491, 0.014772837]\n",
      "23500 [0.079395205, 0.030612675, 0.060599696, 0.004127718, 0.014667792]\n",
      "24000 [0.07924108, 0.022049444, 0.060484406, 0.0040633446, 0.0146933375]\n",
      "24500 [0.0790665, 0.024402674, 0.060327362, 0.0040121926, 0.014726948]\n",
      "25000 [0.078844376, 0.018781861, 0.06019477, 0.0039330795, 0.014716526]\n",
      "25500 [0.0791116, 0.04339843, 0.060116287, 0.0043876595, 0.014607656]\n",
      "26000 [0.078858614, 0.03490387, 0.06004, 0.0039850697, 0.014833538]\n",
      "26500 [0.07885837, 0.03266689, 0.060042057, 0.004096135, 0.014720176]\n",
      "27000 [0.07841666, 0.03550388, 0.0598136, 0.0038985524, 0.014704511]\n",
      "27500 [0.07822948, 0.027443137, 0.059756033, 0.0038083186, 0.014665127]\n",
      "28000 [0.077962264, 0.031464603, 0.059561554, 0.0037927418, 0.014607968]\n",
      "28500 [0.07778048, 0.012432804, 0.05947882, 0.0036298723, 0.014671787]\n",
      "29000 [0.07767895, 0.01959793, 0.059407845, 0.0036176564, 0.014653445]\n",
      "29500 [0.0777721, 0.034687456, 0.059412904, 0.0036845866, 0.014674609]\n",
      "30000 [0.07826882, 0.038132865, 0.05955173, 0.0041705067, 0.014546583]\n",
      "30500 [0.077607885, 0.03279557, 0.059240732, 0.0036325771, 0.014734577]\n",
      "31000 [0.07726867, 0.020081567, 0.05909764, 0.003697033, 0.014473998]\n",
      "31500 [0.07715592, 0.027164156, 0.05905739, 0.0035949613, 0.014503569]\n",
      "32000 [0.07721645, 0.032310277, 0.05902798, 0.003637461, 0.014551003]\n",
      "32500 [0.07713399, 0.036210123, 0.05893151, 0.0037355917, 0.014466888]\n",
      "33000 [0.07686147, 0.027796064, 0.05890387, 0.0034573607, 0.014500242]\n",
      "33500 [0.076784365, 0.023401916, 0.058793746, 0.003548038, 0.01444258]\n",
      "34000 [0.07694318, 0.040484324, 0.058765776, 0.0035498876, 0.0146275135]\n",
      "34500 [0.07652359, 0.01518973, 0.05869749, 0.0033457996, 0.014480303]\n",
      "35000 [0.07661381, 0.028734945, 0.05865154, 0.003393374, 0.014568897]\n",
      "35500 [0.07685659, 0.038668294, 0.058653582, 0.0036074682, 0.014595544]\n",
      "36000 [0.07651369, 0.04104058, 0.058577456, 0.0033819245, 0.014554314]\n",
      "36500 [0.07699225, 0.053065762, 0.058552828, 0.003770812, 0.01466861]\n",
      "37000 [0.0763425, 0.030340735, 0.058462538, 0.0033479757, 0.014531991]\n",
      "37500 [0.07628427, 0.024730334, 0.058407694, 0.003327815, 0.014548753]\n",
      "38000 [0.07634757, 0.020875677, 0.058370087, 0.0033962603, 0.014581217]\n",
      "38500 [0.07627676, 0.038703676, 0.058345933, 0.0034117165, 0.014519105]\n",
      "39000 [0.07610211, 0.024464034, 0.058328778, 0.0034364962, 0.014336835]\n",
      "39500 [0.07609598, 0.03474232, 0.058243155, 0.0035256052, 0.014327224]\n",
      "40000 [0.075977236, 0.026104512, 0.05828914, 0.0032315427, 0.0144565515]\n",
      "40500 [0.07630369, 0.05165337, 0.05820009, 0.0035272054, 0.014576393]\n",
      "41000 [0.07581628, 0.027234081, 0.05813424, 0.0032742221, 0.014407822]\n",
      "41500 [0.07579091, 0.024253411, 0.05807616, 0.0033551813, 0.014359568]\n",
      "42000 [0.076499216, 0.050463166, 0.058146473, 0.0041246107, 0.0142281335]\n",
      "42500 [0.07575254, 0.034645546, 0.05805486, 0.0032788494, 0.014418832]\n",
      "43000 [0.07582733, 0.038762584, 0.05795759, 0.0035085892, 0.014361154]\n",
      "43500 [0.07570056, 0.024731066, 0.057967987, 0.0032041422, 0.014528429]\n",
      "44000 [0.075747214, 0.03538198, 0.057912327, 0.003361308, 0.014473581]\n",
      "44500 [0.07613199, 0.054319937, 0.05793535, 0.0039342926, 0.014262349]\n",
      "45000 [0.075457595, 0.01936642, 0.057827704, 0.0031986174, 0.014431277]\n",
      "45500 [0.075407, 0.03403476, 0.057780974, 0.0032004472, 0.014425572]\n",
      "46000 [0.075388834, 0.019834328, 0.057757262, 0.00324759, 0.014383983]\n",
      "46500 [0.075451486, 0.03777647, 0.0577399, 0.0034458674, 0.014265723]\n",
      "47000 [0.07597482, 0.057964735, 0.057694055, 0.003876495, 0.014404267]\n",
      "47500 [0.075678185, 0.056094963, 0.057677772, 0.003414653, 0.014585757]\n",
      "48000 [0.07625898, 0.06630036, 0.057693932, 0.0038911547, 0.014673893]\n",
      "48500 [0.07536481, 0.036024675, 0.05761061, 0.003241253, 0.0145129515]\n",
      "49000 [0.07504025, 0.021836417, 0.05757713, 0.0031846298, 0.014278493]\n",
      "49500 [0.07506384, 0.02479295, 0.05751384, 0.0032186452, 0.014331355]\n",
      "50000 [0.07537863, 0.04955009, 0.05757542, 0.0033362655, 0.014466943]\n",
      "50500 [0.07503016, 0.03188382, 0.05749271, 0.0030845823, 0.014452875]\n",
      "51000 [0.07506519, 0.027028596, 0.057476565, 0.00335191, 0.01423671]\n",
      "51500 [0.07505231, 0.035003964, 0.057395425, 0.0031608862, 0.014496]\n",
      "52000 [0.07528707, 0.049511053, 0.0574729, 0.0033149745, 0.014499189]\n",
      "52500 [0.07508372, 0.031861123, 0.05735449, 0.003268799, 0.014460425]\n",
      "53000 [0.07492198, 0.02836355, 0.057314076, 0.0033098187, 0.014298082]\n",
      "53500 [0.07502633, 0.03660139, 0.057377256, 0.0032011198, 0.014447955]\n",
      "54000 [0.07495487, 0.03665805, 0.057381876, 0.0031673054, 0.0144056855]\n",
      "54500 [0.07468854, 0.029257182, 0.05724328, 0.0030428784, 0.014402382]\n",
      "55000 [0.07473652, 0.041055184, 0.057229683, 0.003100324, 0.0144065125]\n",
      "55500 [0.075466365, 0.055623643, 0.057346314, 0.004015704, 0.014104347]\n",
      "56000 [0.07453681, 0.01830285, 0.057170745, 0.0030192637, 0.014346802]\n",
      "56500 [0.0750265, 0.05308714, 0.057151888, 0.0037652492, 0.014109362]\n",
      "57000 [0.077297755, 0.0830826, 0.057424862, 0.005181558, 0.014691341]\n",
      "57500 [0.0759928, 0.0767194, 0.057280503, 0.0040971385, 0.0146151595]\n",
      "58000 [0.07445565, 0.026459318, 0.057061113, 0.0030054979, 0.014389041]\n",
      "58500 [0.07433006, 0.023986217, 0.057043828, 0.002964633, 0.014321601]\n",
      "59000 [0.074639924, 0.046805304, 0.05701705, 0.0034840223, 0.014138853]\n",
      "59500 [0.074503995, 0.04360387, 0.05704938, 0.0033084052, 0.014146215]\n",
      "60000 [0.07440131, 0.04060641, 0.05698128, 0.003095127, 0.014324902]\n",
      "60500 [0.074267335, 0.03210153, 0.057002697, 0.0030501268, 0.014214511]\n",
      "61000 [0.07426459, 0.02001285, 0.056910656, 0.0030566745, 0.014297262]\n",
      "61500 [0.074422896, 0.033536945, 0.056932222, 0.0031824932, 0.014308184]\n",
      "62000 [0.074326, 0.029476339, 0.05687306, 0.0031254387, 0.014327502]\n",
      "62500 [0.07408463, 0.03390295, 0.05681444, 0.0030120425, 0.014258151]\n",
      "63000 [0.07499309, 0.05394189, 0.056877542, 0.0036540462, 0.014461502]\n",
      "63500 [0.07497573, 0.048778586, 0.05690561, 0.003669675, 0.014400448]\n",
      "64000 [0.07401164, 0.020153128, 0.05675347, 0.0030957607, 0.014162406]\n",
      "64500 [0.07405798, 0.04426256, 0.056699935, 0.0031045675, 0.014253478]\n",
      "65000 [0.074068785, 0.022314599, 0.056765143, 0.0031972972, 0.014106347]\n",
      "65500 [0.07391254, 0.019391693, 0.05666565, 0.0029857608, 0.0142611265]\n",
      "66000 [0.07489517, 0.04960238, 0.056818828, 0.0036349413, 0.014441404]\n",
      "66500 [0.07383082, 0.030099718, 0.056621216, 0.0029864665, 0.014223137]\n",
      "67000 [0.07376043, 0.03073694, 0.056576606, 0.0029899064, 0.014193914]\n",
      "67500 [0.073994026, 0.039994176, 0.056561235, 0.0033394012, 0.014093387]\n",
      "68000 [0.07379511, 0.03507632, 0.056533836, 0.0031578613, 0.0141034145]\n",
      "68500 [0.073995695, 0.035390664, 0.05656072, 0.0031180275, 0.014316949]\n",
      "69000 [0.0741118, 0.041243676, 0.056585, 0.0035237991, 0.014003]\n",
      "69500 [0.07404586, 0.04438174, 0.056583427, 0.0033657688, 0.0140966615]\n",
      "70000 [0.07352393, 0.018404847, 0.05640041, 0.0029242907, 0.01419923]\n",
      "70500 [0.073715836, 0.046296597, 0.05636101, 0.0032036887, 0.014151141]\n",
      "71000 [0.07341455, 0.026817022, 0.056354932, 0.002963953, 0.014095664]\n",
      "71500 [0.07342606, 0.017179983, 0.056310944, 0.0029499512, 0.014165165]\n",
      "72000 [0.073476605, 0.031048242, 0.056303293, 0.003074276, 0.014099035]\n",
      "72500 [0.07430965, 0.059506204, 0.056339577, 0.0036394743, 0.014330592]\n",
      "73000 [0.07449885, 0.064729, 0.056434475, 0.004197804, 0.013866567]\n",
      "73500 [0.07493941, 0.07989882, 0.056353822, 0.004165914, 0.01441967]\n",
      "74000 [0.07324967, 0.018160041, 0.056165382, 0.002967506, 0.014116783]\n",
      "74500 [0.07332734, 0.041553956, 0.05614783, 0.0031542792, 0.014025235]\n",
      "75000 [0.07344535, 0.041814923, 0.05613223, 0.0030962802, 0.0142168375]\n",
      "75500 [0.07330209, 0.033907536, 0.05610362, 0.003226715, 0.0139717525]\n",
      "76000 [0.07341853, 0.035126727, 0.056083746, 0.0030985284, 0.01423625]\n",
      "76500 [0.07319288, 0.027090503, 0.056075443, 0.003059291, 0.014058148]\n",
      "77000 [0.07301814, 0.02132606, 0.056026567, 0.002890287, 0.014101292]\n",
      "77500 [0.0735144, 0.05849282, 0.05603454, 0.0036362067, 0.013843653]\n",
      "78000 [0.073018506, 0.021270577, 0.055962194, 0.0031008502, 0.013955466]\n",
      "78500 [0.07324621, 0.054233972, 0.055927727, 0.0032367152, 0.014081772]\n",
      "79000 [0.073120475, 0.038770147, 0.05594204, 0.0032167675, 0.013961671]\n",
      "79500 [0.07308145, 0.037485503, 0.055907134, 0.0031616574, 0.014012654]\n",
      "80000 [0.072907336, 0.012786144, 0.05595396, 0.0029671628, 0.013986213]\n",
      "80500 [0.07297708, 0.024278559, 0.055834036, 0.0030887164, 0.01405433]\n",
      "81000 [0.07321776, 0.044963725, 0.05583857, 0.0032136836, 0.014165501]\n",
      "81500 [0.073668085, 0.07086052, 0.055858206, 0.0040189656, 0.013790914]\n",
      "82000 [0.07312173, 0.037710257, 0.055825297, 0.0032007957, 0.014095632]\n",
      "82500 [0.07278027, 0.028514447, 0.055807404, 0.0030757817, 0.013897079]\n",
      "83000 [0.07266298, 0.030733725, 0.055746276, 0.0029430632, 0.01397364]\n",
      "83500 [0.07283237, 0.033868555, 0.05573976, 0.0030588254, 0.014033784]\n",
      "84000 [0.07284479, 0.04596391, 0.055788573, 0.003209343, 0.013846874]\n",
      "84500 [0.07279257, 0.0406469, 0.055677257, 0.003269862, 0.01384545]\n",
      "85000 [0.072634086, 0.02753707, 0.05567871, 0.0029008586, 0.014054516]\n",
      "85500 [0.072679594, 0.043381784, 0.05562138, 0.0031016767, 0.013956535]\n",
      "86000 [0.07255096, 0.03860798, 0.05562807, 0.0029925255, 0.013930367]\n",
      "86500 [0.0726545, 0.032719634, 0.05557738, 0.00299257, 0.014084549]\n",
      "87000 [0.07265692, 0.045629803, 0.0556061, 0.0030302748, 0.014020547]\n",
      "87500 [0.072428495, 0.025502956, 0.05556951, 0.002907964, 0.01395102]\n",
      "88000 [0.07246019, 0.033898138, 0.055532586, 0.0029492306, 0.013978375]\n",
      "88500 [0.07297441, 0.060400728, 0.055607498, 0.003457562, 0.013909354]\n",
      "89000 [0.07237314, 0.042408586, 0.05548193, 0.0030749661, 0.013816243]\n",
      "89500 [0.07229103, 0.024876673, 0.055478606, 0.0029292637, 0.013883163]\n",
      "90000 [0.07230522, 0.0345833, 0.05548028, 0.0030345083, 0.0137904305]\n",
      "90500 [0.07217861, 0.01558893, 0.055442024, 0.002861477, 0.01387511]\n",
      "91000 [0.07242085, 0.044606097, 0.05542091, 0.0030202342, 0.013979707]\n",
      "91500 [0.075654745, 0.110532396, 0.055904258, 0.0063498328, 0.013400652]\n",
      "92000 [0.07220014, 0.0399325, 0.055386946, 0.003017943, 0.013795255]\n",
      "92500 [0.07433659, 0.091580614, 0.05581531, 0.0050435704, 0.013477709]\n",
      "93000 [0.07228708, 0.04126171, 0.05545536, 0.0030101822, 0.013821542]\n",
      "93500 [0.07222999, 0.016161213, 0.05553382, 0.0029954996, 0.013700669]\n",
      "94000 [0.07236276, 0.03917604, 0.05538466, 0.0033138804, 0.0136642195]\n",
      "94500 [0.07213307, 0.03749742, 0.055293623, 0.0030051388, 0.013834306]\n",
      "95000 [0.07197986, 0.026121182, 0.055273164, 0.0029244313, 0.013782263]\n",
      "95500 [0.07230677, 0.0421587, 0.05538218, 0.0030727193, 0.013851869]\n",
      "96000 [0.07203463, 0.032402426, 0.055360466, 0.0029746213, 0.013699535]\n",
      "96500 [0.072080135, 0.048277486, 0.055227157, 0.0031291964, 0.013723783]\n",
      "97000 [0.07187344, 0.023441223, 0.055229414, 0.002882825, 0.0137612065]\n",
      "97500 [0.071814835, 0.020770209, 0.055217497, 0.002854507, 0.0137428325]\n",
      "98000 [0.07241129, 0.04986306, 0.05535427, 0.0035485488, 0.013508473]\n",
      "98500 [0.07200315, 0.04140663, 0.055161424, 0.0032592034, 0.013582517]\n",
      "99000 [0.07172211, 0.014603045, 0.055165358, 0.0028528543, 0.013703904]\n",
      "99500 [0.07210904, 0.048146226, 0.05512857, 0.003464125, 0.01351635]\n",
      "Current sparse vectors:\n",
      "[array([[ 0.10416459],\n",
      "       [ 0.        ],\n",
      "       [ 0.26774484],\n",
      "       [ 0.00403263],\n",
      "       [ 0.        ],\n",
      "       [ 0.        ],\n",
      "       [-0.04694741],\n",
      "       [ 0.        ],\n",
      "       [ 0.        ],\n",
      "       [ 0.        ],\n",
      "       [ 0.00211358],\n",
      "       [ 0.        ]])]\n",
      "Now running for the final time...\n",
      "Epoch | Total loss | Loss gradient | MSE | PI | L1 \n",
      "0 [0.28806195, 1.1162785, 0.092317216, 0.19574472, 0.0]\n",
      "500 [0.057842635, 0.0038197925, 0.05496108, 0.0028815547, 0.0]\n",
      "1000 [0.057771686, 0.010125819, 0.0549235, 0.0028481844, 0.0]\n",
      "1500 [0.05769449, 0.0021544558, 0.054892626, 0.0028018642, 0.0]\n",
      "2000 [0.058975156, 0.059618726, 0.055149782, 0.003825375, 0.0]\n",
      "2500 [0.057636335, 0.005978958, 0.05486969, 0.0027666464, 0.0]\n",
      "3000 [0.057580214, 0.0031008006, 0.054826036, 0.002754178, 0.0]\n",
      "3500 [0.057556164, 0.003775463, 0.054797605, 0.0027585572, 0.0]\n",
      "4000 [0.057601057, 0.014653691, 0.054823592, 0.0027774654, 0.0]\n",
      "4500 [0.057489093, 0.006282244, 0.054746993, 0.0027420998, 0.0]\n",
      "5000 [0.05772729, 0.024615536, 0.054763094, 0.0029641944, 0.0]\n",
      "5500 [0.05763665, 0.025076125, 0.05472528, 0.0029113702, 0.0]\n",
      "6000 [0.05783591, 0.030407025, 0.054766573, 0.0030693365, 0.0]\n",
      "6500 [0.05738511, 0.0034183527, 0.054644886, 0.002740222, 0.0]\n",
      "7000 [0.057400193, 0.0072906143, 0.05464467, 0.0027555234, 0.0]\n",
      "7500 [0.057326254, 0.005172866, 0.054601107, 0.0027251467, 0.0]\n",
      "8000 [0.057296697, 0.0033758143, 0.054580696, 0.0027160018, 0.0]\n",
      "8500 [0.057373613, 0.009786777, 0.054603394, 0.0027702188, 0.0]\n",
      "9000 [0.057254005, 0.00330561, 0.05453187, 0.0027221383, 0.0]\n",
      "9500 [0.057277028, 0.0072964705, 0.05451875, 0.0027582764, 0.0]\n",
      "10000 [0.057217706, 0.00857003, 0.05449549, 0.0027222144, 0.0]\n",
      "10500 [0.05718691, 0.011922868, 0.05447502, 0.0027118898, 0.0]\n",
      "11000 [0.057242688, 0.025351027, 0.05446737, 0.0027753192, 0.0]\n",
      "11500 [0.05715162, 0.00433773, 0.054448523, 0.0027030979, 0.0]\n",
      "12000 [0.057173196, 0.021953, 0.05441575, 0.0027574443, 0.0]\n",
      "12500 [0.0571239, 0.010919271, 0.05441968, 0.0027042164, 0.0]\n",
      "13000 [0.05709371, 0.009312591, 0.054348193, 0.002745515, 0.0]\n",
      "13500 [0.057062034, 0.014155135, 0.054350577, 0.0027114567, 0.0]\n",
      "14000 [0.057072643, 0.013583783, 0.054343354, 0.0027292909, 0.0]\n",
      "14500 [0.05701313, 0.0072147963, 0.054304756, 0.0027083764, 0.0]\n",
      "15000 [0.05700455, 0.006632009, 0.05425908, 0.0027454668, 0.0]\n",
      "15500 [0.056936167, 0.003278273, 0.054243304, 0.0026928629, 0.0]\n",
      "16000 [0.05716579, 0.015473833, 0.05434306, 0.0028227298, 0.0]\n",
      "16500 [0.056960147, 0.021184087, 0.054219354, 0.0027407946, 0.0]\n",
      "17000 [0.056880385, 0.008988276, 0.05417195, 0.0027084341, 0.0]\n",
      "17500 [0.056868196, 0.0045719664, 0.054148894, 0.0027193024, 0.0]\n",
      "18000 [0.056872178, 0.020958817, 0.054133974, 0.002738204, 0.0]\n",
      "18500 [0.056909546, 0.009302421, 0.05413365, 0.002775897, 0.0]\n",
      "19000 [0.056801327, 0.0039560837, 0.054083604, 0.0027177224, 0.0]\n",
      "19500 [0.0569013, 0.009794247, 0.054091606, 0.002809691, 0.0]\n",
      "20000 [0.057184864, 0.018128606, 0.054160476, 0.003024388, 0.0]\n",
      "20500 [0.05677034, 0.0062389337, 0.05405825, 0.0027120877, 0.0]\n",
      "21000 [0.056787856, 0.021743925, 0.054018322, 0.0027695321, 0.0]\n",
      "21500 [0.056976736, 0.041476972, 0.05403766, 0.002939077, 0.0]\n",
      "22000 [0.056660276, 0.0062839887, 0.05396784, 0.0026924345, 0.0]\n",
      "22500 [0.056649543, 0.011566355, 0.05394236, 0.002707185, 0.0]\n",
      "23000 [0.056620944, 0.0022943122, 0.053925943, 0.0026950012, 0.0]\n",
      "23500 [0.05666714, 0.008216408, 0.053967655, 0.0026994853, 0.0]\n",
      "24000 [0.0567721, 0.020525001, 0.05392502, 0.0028470824, 0.0]\n",
      "24500 [0.056684375, 0.014355839, 0.053904373, 0.0027800014, 0.0]\n",
      "25000 [0.056623194, 0.02281923, 0.05385717, 0.0027660227, 0.0]\n",
      "25500 [0.05661695, 0.021637866, 0.053843614, 0.0027733387, 0.0]\n",
      "26000 [0.05651818, 0.0074158064, 0.05380838, 0.0027098, 0.0]\n",
      "26500 [0.056519102, 0.01569545, 0.053798467, 0.002720637, 0.0]\n",
      "27000 [0.056630548, 0.009400927, 0.053864874, 0.0027656744, 0.0]\n",
      "27500 [0.05658177, 0.029249981, 0.053768508, 0.00281326, 0.0]\n",
      "28000 [0.056496944, 0.019202493, 0.053739358, 0.002757586, 0.0]\n",
      "28500 [0.056439668, 0.012742749, 0.05372171, 0.0027179585, 0.0]\n",
      "29000 [0.056747064, 0.04807394, 0.053739563, 0.0030075004, 0.0]\n",
      "29500 [0.056507777, 0.012090192, 0.05375706, 0.0027507176, 0.0]\n",
      "30000 [0.05653136, 0.016156282, 0.053756654, 0.0027747026, 0.0]\n",
      "30500 [0.056364197, 0.0059131426, 0.05364285, 0.0027213483, 0.0]\n",
      "31000 [0.0563514, 0.012602506, 0.05363002, 0.0027213788, 0.0]\n",
      "31500 [0.056326862, 0.0053317, 0.053610668, 0.0027161934, 0.0]\n",
      "32000 [0.056304622, 0.0076357634, 0.053600017, 0.002704604, 0.0]\n",
      "32500 [0.056351833, 0.019558342, 0.053593323, 0.0027585085, 0.0]\n",
      "33000 [0.056333974, 0.014609826, 0.053572226, 0.0027617482, 0.0]\n",
      "33500 [0.056285407, 0.015077648, 0.05355706, 0.0027283472, 0.0]\n",
      "34000 [0.05629457, 0.0059809745, 0.05358241, 0.0027121592, 0.0]\n",
      "34500 [0.056269683, 0.010884071, 0.05351807, 0.0027516116, 0.0]\n",
      "35000 [0.05622709, 0.004671493, 0.053501524, 0.0027255684, 0.0]\n",
      "35500 [0.05621505, 0.011031072, 0.05349443, 0.002720619, 0.0]\n",
      "36000 [0.0563012, 0.008311545, 0.053503197, 0.0027980017, 0.0]\n",
      "36500 [0.056180168, 0.0038089082, 0.053459473, 0.0027206964, 0.0]\n",
      "37000 [0.05616825, 0.003897853, 0.053464774, 0.0027034772, 0.0]\n",
      "37500 [0.0561983, 0.009275163, 0.05347572, 0.0027225818, 0.0]\n",
      "38000 [0.056174584, 0.007410692, 0.053420473, 0.0027541094, 0.0]\n",
      "38500 [0.05618957, 0.012817388, 0.053404413, 0.002785158, 0.0]\n",
      "39000 [0.05624417, 0.009254253, 0.053503796, 0.0027403722, 0.0]\n",
      "39500 [0.05618329, 0.027127, 0.05338793, 0.00279536, 0.0]\n",
      "40000 [0.056072157, 0.003294817, 0.053367507, 0.0027046497, 0.0]\n",
      "40500 [0.056072965, 0.005971669, 0.053346507, 0.0027264594, 0.0]\n",
      "41000 [0.05607305, 0.0048795408, 0.053337038, 0.0027360148, 0.0]\n",
      "41500 [0.056112655, 0.025659375, 0.05332791, 0.0027847458, 0.0]\n",
      "42000 [0.056170173, 0.021419581, 0.0533156, 0.0028545742, 0.0]\n",
      "42500 [0.056008942, 0.007875016, 0.05330764, 0.0027012993, 0.0]\n",
      "43000 [0.056155868, 0.027949512, 0.05332824, 0.002827628, 0.0]\n",
      "43500 [0.056216277, 0.02942554, 0.053366166, 0.0028501097, 0.0]\n",
      "44000 [0.0559767, 0.010301947, 0.053258035, 0.0027186654, 0.0]\n",
      "44500 [0.056106843, 0.02002537, 0.053254224, 0.0028526178, 0.0]\n",
      "45000 [0.05601685, 0.02168509, 0.05325861, 0.0027582427, 0.0]\n",
      "45500 [0.056071647, 0.010635141, 0.053256527, 0.0028151197, 0.0]\n",
      "46000 [0.055899173, 0.0019923688, 0.05321511, 0.002684064, 0.0]\n",
      "46500 [0.055905677, 0.0037131319, 0.053222068, 0.0026836083, 0.0]\n",
      "47000 [0.055934492, 0.010302659, 0.0531953, 0.0027391897, 0.0]\n",
      "47500 [0.055969466, 0.021662133, 0.053201623, 0.0027678423, 0.0]\n",
      "48000 [0.055895776, 0.016401852, 0.05316963, 0.0027261465, 0.0]\n",
      "48500 [0.05598658, 0.020936811, 0.053171434, 0.0028151446, 0.0]\n",
      "49000 [0.0561825, 0.03712385, 0.05330375, 0.002878753, 0.0]\n",
      "49500 [0.055980586, 0.013410369, 0.053211775, 0.0027688101, 0.0]\n",
      "50000 [0.055855956, 0.006832761, 0.053167116, 0.0026888414, 0.0]\n",
      "50500 [0.0560592, 0.04087559, 0.053146247, 0.002912953, 0.0]\n",
      "51000 [0.055872515, 0.010550304, 0.05310851, 0.002764004, 0.0]\n",
      "51500 [0.056316625, 0.02052052, 0.053277753, 0.0030388723, 0.0]\n",
      "52000 [0.056211516, 0.052315548, 0.053162545, 0.0030489706, 0.0]\n",
      "52500 [0.05584191, 0.020983042, 0.053112764, 0.0027291467, 0.0]\n",
      "53000 [0.055861846, 0.021340843, 0.053102832, 0.0027590147, 0.0]\n",
      "53500 [0.055852853, 0.023817478, 0.05310794, 0.0027449145, 0.0]\n",
      "54000 [0.055850327, 0.011944168, 0.053053964, 0.0027963617, 0.0]\n",
      "54500 [0.05575762, 0.017074566, 0.05304035, 0.002717269, 0.0]\n",
      "55000 [0.055740584, 0.0048098797, 0.053048693, 0.0026918913, 0.0]\n",
      "55500 [0.05581291, 0.013178917, 0.05302639, 0.0027865218, 0.0]\n",
      "56000 [0.055987857, 0.012150193, 0.0531986, 0.0027892576, 0.0]\n",
      "56500 [0.055946533, 0.014824313, 0.053091902, 0.002854632, 0.0]\n",
      "57000 [0.05621534, 0.022677945, 0.053303078, 0.0029122587, 0.0]\n",
      "57500 [0.056004886, 0.021879015, 0.053084824, 0.002920062, 0.0]\n",
      "58000 [0.05581874, 0.023333887, 0.05302057, 0.0027981687, 0.0]\n",
      "58500 [0.055788692, 0.019272221, 0.052999306, 0.0027893872, 0.0]\n",
      "59000 [0.055653587, 0.0041777077, 0.052953094, 0.0027004918, 0.0]\n",
      "59500 [0.05561939, 0.0030226628, 0.052942656, 0.002676734, 0.0]\n",
      "60000 [0.055642013, 0.0044489736, 0.052939612, 0.0027023992, 0.0]\n",
      "60500 [0.056303598, 0.070058376, 0.052982308, 0.0033212919, 0.0]\n",
      "61000 [0.055622473, 0.013656684, 0.05292461, 0.0026978636, 0.0]\n",
      "61500 [0.055635255, 0.017482463, 0.052919634, 0.0027156195, 0.0]\n",
      "62000 [0.055703666, 0.00864422, 0.05295693, 0.0027467355, 0.0]\n",
      "62500 [0.055617422, 0.004302603, 0.052902274, 0.0027151464, 0.0]\n",
      "63000 [0.055553596, 0.00075173815, 0.052889388, 0.0026642098, 0.0]\n",
      "63500 [0.055575326, 0.0043046884, 0.052876897, 0.0026984287, 0.0]\n",
      "64000 [0.05555325, 0.009511675, 0.05287924, 0.0026740106, 0.0]\n",
      "64500 [0.05553418, 0.0048256908, 0.052860156, 0.0026740257, 0.0]\n",
      "65000 [0.0555177, 0.000951937, 0.05285634, 0.0026613588, 0.0]\n",
      "65500 [0.055648655, 0.012149816, 0.052855346, 0.0027933086, 0.0]\n",
      "66000 [0.05565805, 0.008903623, 0.052928474, 0.0027295751, 0.0]\n"
     ]
    }
   ],
   "source": [
    "sparse_vectors, denoised = DeepMoD(X_train, y_train, config, library_2Din_1Dout, library_config, train_opts, output_opts)"
   ]
  },
  {
   "cell_type": "markdown",
   "metadata": {},
   "source": [
    "Show final result:"
   ]
  },
  {
   "cell_type": "code",
   "execution_count": 16,
   "metadata": {},
   "outputs": [
    {
     "name": "stdout",
     "output_type": "stream",
     "text": [
      "Inferred equation:\n",
      "u_t = 0.308u_{y} + 0.008u_{xx} + 0.008u_{yy} - 0.027u\n"
     ]
    }
   ],
   "source": [
    "u = ['1', 'u']\n",
    "du = ['1', 'u_{x}', 'u_{y}','u_{xx}', 'u_{yy}','u_{xy}']\n",
    "coeffs_list = library_matrix_mat(u, du)\n",
    "\n",
    "print('Inferred equation:')\n",
    "print_PDE(sparse_vectors[0], coeffs_list, PDE_term='u_t')"
   ]
  },
  {
   "cell_type": "markdown",
   "metadata": {},
   "source": [
    "Plot the 'Ground truth', 'Noisy' and 'Reconstructed/Denoised' solution"
   ]
  },
  {
   "cell_type": "code",
   "execution_count": 22,
   "metadata": {},
   "outputs": [],
   "source": [
    "X_predict = X[(X[:,0]==5.0) | (X[:,0]==9.0) | (X[:,0]==7.0), :]"
   ]
  },
  {
   "cell_type": "code",
   "execution_count": 23,
   "metadata": {},
   "outputs": [],
   "source": [
    "data_dict = {'x_grid': X[:,1],'y_grid': X[:,2], 't_grid': X[:,0], 'ground_truth': np.squeeze(y), 'noisy': np.squeeze(y_noisy)}\n",
    "df = pd.DataFrame(data_dict)\n",
    "for key in df:\n",
    "    df[key] = np.squeeze(df[key])\n",
    "data = pd.DataFrame(df)"
   ]
  },
  {
   "cell_type": "code",
   "execution_count": 24,
   "metadata": {},
   "outputs": [],
   "source": [
    "data_dict_denoised = {'x_grid': X[:,1],'y_grid': X[:,2], 't_grid': X[:,0], 'denoised': np.squeeze(denoised)}\n",
    "df_dn = pd.DataFrame(data_dict_denoised)\n",
    "for key in df_dn:\n",
    "    df_dn[key] = np.squeeze(df_dn[key])\n",
    "data_denoised = pd.DataFrame(df_dn)"
   ]
  },
  {
   "cell_type": "code",
   "execution_count": 31,
   "metadata": {},
   "outputs": [
    {
     "data": {
      "image/png": "[encoded data removed]",
      "text/plain": [
       "<Figure size 1080x288 with 4 Axes>"
      ]
     },
     "metadata": {
      "needs_background": "light"
     },
     "output_type": "display_data"
    }
   ],
   "source": [
    "time1 = 7.0\n",
    "\n",
    "vmin = np.min(data[data['t_grid'] == time1]['ground_truth'])\n",
    "vmax = np.max(data[data['t_grid'] == time1]['ground_truth'])\n",
    "\n",
    "fig, axes = plt.subplots(ncols=3, figsize=(15, 4))\n",
    "\n",
    "im1 = axes[0].contourf(pd.pivot_table(data[data['t_grid'] == time1],index='y_grid', columns='x_grid', values='ground_truth'), cmap='coolwarm',vmin=vmin, vmax=vmax)\n",
    "axes[0].set_xlabel('x')\n",
    "axes[0].set_ylabel('y')\n",
    "axes[0].set_title('Ground truth')\n",
    "\n",
    "im2 = axes[1].contourf(pd.pivot_table(data[data['t_grid'] == time1],index='y_grid', columns='x_grid', values='noisy'), cmap='coolwarm', vmin=vmin, vmax=vmax)\n",
    "axes[1].set_xlabel('x')\n",
    "axes[1].set_title('Noisy')\n",
    "\n",
    "im3 = axes[2].contourf(pd.pivot_table(data_denoised[data_denoised['t_grid'] == time1],index='y_grid', columns='x_grid', values='denoised'), cmap='coolwarm', vmin=vmin, vmax=vmax)\n",
    "axes[2].set_xlabel('x')\n",
    "axes[2].set_title('Sampled')\n",
    "\n",
    "fig.colorbar(im1, ax=axes.ravel().tolist())\n",
    "\n",
    "plt.show()"
   ]
  },
  {
   "cell_type": "code",
   "execution_count": null,
   "metadata": {},
   "outputs": [],
   "source": []
  }
 ],
 "metadata": {
  "kernelspec": {
   "display_name": "Python 3",
   "language": "python",
   "name": "python3"
  },
  "language_info": {
   "codemirror_mode": {
    "name": "ipython",
    "version": 3
   },
   "file_extension": ".py",
   "mimetype": "text/x-python",
   "name": "python",
   "nbconvert_exporter": "python",
   "pygments_lexer": "ipython3",
   "version": "3.6.8"
  }
 },
 "nbformat": 4,
 "nbformat_minor": 2
}
