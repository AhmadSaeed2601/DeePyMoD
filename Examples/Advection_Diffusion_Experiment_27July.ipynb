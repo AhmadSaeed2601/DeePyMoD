{
 "cells": [
  {
   "cell_type": "markdown",
   "metadata": {},
   "source": [
    "# 2D Advection-Diffusion equation"
   ]
  },
  {
   "cell_type": "markdown",
   "metadata": {},
   "source": [
    "in this notebook we provide a simple example of the DeepMoD algorithm and apply it on the 2D advection-diffusion equation. "
   ]
  },
  {
   "cell_type": "code",
   "execution_count": 1,
   "metadata": {},
   "outputs": [],
   "source": [
    "import sys\n",
    "import numpy as np\n",
    "import pandas as pd \n",
    "\n",
    "sys.path.append('../src/deepymod/')\n",
    "\n",
    "from scipy.io import loadmat\n",
    "from DeepMoD import DeepMoD\n",
    "from library_functions import library_2Din_1Dout\n",
    "from deepymod.utilities import library_matrix_mat, print_PDE\n",
    "\n",
    "import matplotlib.pyplot as plt\n",
    "plt.style.use('seaborn-notebook')\n",
    "\n",
    "np.random.seed(40)  # setting seed for randomisation"
   ]
  },
  {
   "cell_type": "markdown",
   "metadata": {},
   "source": [
    "## Prepare the data"
   ]
  },
  {
   "cell_type": "markdown",
   "metadata": {},
   "source": [
    "Next, we prepare the dataset."
   ]
  },
  {
   "cell_type": "code",
   "execution_count": 2,
   "metadata": {},
   "outputs": [],
   "source": [
    "u_v = np.load('data/Diffusion27July/diffusion_advection_27long.npy')\n",
    "u_v = np.moveaxis(u_v,0,-1)/10.0\n",
    "data = loadmat('data/Diffusion27July/Diffusion_advection_27long.mat')\n",
    "usol = np.real(data['Expression1'])\n",
    "usol= usol.reshape((150,300,55,3)) \n",
    "x_v= usol[:,:,:,0]\n",
    "y_v = usol[:,:,:,1]\n",
    "t_v = usol[:,:,:,2]"
   ]
  },
  {
   "cell_type": "code",
   "execution_count": 3,
   "metadata": {},
   "outputs": [
    {
     "data": {
      "text/plain": [
       "(150, 300, 55)"
      ]
     },
     "execution_count": 3,
     "metadata": {},
     "output_type": "execute_result"
    }
   ],
   "source": [
    "x_v.shape"
   ]
  },
  {
   "cell_type": "code",
   "execution_count": 4,
   "metadata": {},
   "outputs": [],
   "source": [
    "x_v = x_v[:,:250,7:]\n",
    "y_v = y_v[:,:250,7:]\n",
    "t_v = t_v[:,:250,7:]\n",
    "u_v = u_v[:,:250,7:]"
   ]
  },
  {
   "cell_type": "markdown",
   "metadata": {},
   "source": [
    "Next we plot the dataset for three different time-points"
   ]
  },
  {
   "cell_type": "code",
   "execution_count": 5,
   "metadata": {},
   "outputs": [
    {
     "data": {
      "image/png": "[encoded data removed]",
      "text/plain": [
       "<Figure size 1080x288 with 4 Axes>"
      ]
     },
     "metadata": {
      "needs_background": "light"
     },
     "output_type": "display_data"
    }
   ],
   "source": [
    "fig, axes = plt.subplots(ncols=3, figsize=(15, 4))\n",
    "\n",
    "im0 = axes[0].contourf(x_v[:,:,1], y_v[:,:,1], u_v[:,:,0], cmap='coolwarm')\n",
    "axes[0].set_xlabel('x')\n",
    "axes[0].set_ylabel('y')\n",
    "axes[0].set_title('t = 0')\n",
    "\n",
    "im1 = axes[1].contourf(x_v[:,:,1], y_v[:,:,1], u_v[:,:,4], cmap='coolwarm')\n",
    "axes[1].set_xlabel('x')\n",
    "axes[1].set_title('t = 10')\n",
    "\n",
    "im2 = axes[2].contourf(x_v[:,:,1], y_v[:,:,1], u_v[:,:,24], cmap='coolwarm')\n",
    "axes[2].set_xlabel('x')\n",
    "axes[2].set_title('t= 20')\n",
    "\n",
    "fig.colorbar(im1, ax=axes.ravel().tolist())\n",
    "\n",
    "plt.show()"
   ]
  },
  {
   "cell_type": "markdown",
   "metadata": {},
   "source": [
    "We flatten it to give it the right dimensions for feeding it to the network:"
   ]
  },
  {
   "cell_type": "code",
   "execution_count": 6,
   "metadata": {},
   "outputs": [],
   "source": [
    "X = np.transpose((t_v.flatten(),x_v.flatten(), y_v.flatten()))\n",
    "y = u_v.reshape((u_v.size, 1))"
   ]
  },
  {
   "cell_type": "markdown",
   "metadata": {},
   "source": [
    "We select the noise level we add to the data-set"
   ]
  },
  {
   "cell_type": "code",
   "execution_count": 7,
   "metadata": {},
   "outputs": [],
   "source": [
    "noise_level = 0."
   ]
  },
  {
   "cell_type": "code",
   "execution_count": 8,
   "metadata": {},
   "outputs": [],
   "source": [
    "y_noisy = y + noise_level * np.std(y) * np.random.randn(y.size, 1)"
   ]
  },
  {
   "cell_type": "markdown",
   "metadata": {},
   "source": [
    "Select the number of samples:"
   ]
  },
  {
   "cell_type": "code",
   "execution_count": 9,
   "metadata": {},
   "outputs": [],
   "source": [
    "number_of_samples = 2000"
   ]
  },
  {
   "cell_type": "code",
   "execution_count": 10,
   "metadata": {},
   "outputs": [],
   "source": [
    "idx = np.random.permutation(y.size)\n",
    "X_train = X[idx, :][:number_of_samples]\n",
    "y_train = y_noisy[idx, :][:number_of_samples]"
   ]
  },
  {
   "cell_type": "markdown",
   "metadata": {},
   "source": [
    "## Configure the neural network"
   ]
  },
  {
   "cell_type": "markdown",
   "metadata": {},
   "source": [
    "Next we define the architecture and strength of the $L_1$ penalty for the neural network.\n",
    "Note that in this example have three input channels in this example: {x,y,t}"
   ]
  },
  {
   "cell_type": "code",
   "execution_count": 11,
   "metadata": {},
   "outputs": [],
   "source": [
    "config = {'layers': [3, 20, 20, 20, 20, 1], 'lambda': 10**-5}"
   ]
  },
  {
   "cell_type": "markdown",
   "metadata": {},
   "source": [
    "DeepMoD accepts any arbitrary library function and any options for it can be given through *the library_config*. The library function for this example accepts a maximum order for the polynomial and derivative terms. DeepMoD also needs to know the total number of terms upfront. We can calculate that by making a list of the polynomial and derivative terms and getting all the terms by feeding them into the library_matrix_mat function. Its output will be used later to print the found PDE."
   ]
  },
  {
   "cell_type": "code",
   "execution_count": 12,
   "metadata": {},
   "outputs": [
    {
     "name": "stdout",
     "output_type": "stream",
     "text": [
      "['1', 'u_{x}', 'u_{y}', 'u_{xx}', 'u_{yy}', 'u_{xy}', 'u', 'uu_{x}', 'uu_{y}', 'uu_{xx}', 'uu_{yy}', 'uu_{xy}']\n"
     ]
    }
   ],
   "source": [
    "u = ['1','u']\n",
    "du = ['1', 'u_{x}', 'u_{y}','u_{xx}', 'u_{yy}','u_{xy}']\n",
    "coeffs_list = library_matrix_mat(u, du)\n",
    "print(coeffs_list)\n",
    "library_config = {'total_terms': 12, 'deriv_order': 2, 'poly_order': 1}"
   ]
  },
  {
   "cell_type": "markdown",
   "metadata": {},
   "source": [
    "Next we set the training options. Usually we only change the maximum iterations and the grad_tol, which sets the convergence criterion;"
   ]
  },
  {
   "cell_type": "code",
   "execution_count": 13,
   "metadata": {},
   "outputs": [],
   "source": [
    "train_opts = {'max_iterations': 50000, 'grad_tol':10**-7, 'learning_rate': 0.001, 'beta1': 0.9, 'beta2': 0.99, 'epsilon': 10**-8}"
   ]
  },
  {
   "cell_type": "markdown",
   "metadata": {},
   "source": [
    "The last configuration we need to fill is the ouput_opts. It contains an output_directory and X_predict field. We've build a custom tensorboard so you can follow the progress of the run.  Output_directory sets where the files are saved, then simply run \n",
    "\n",
    "`tensorboard --logdir $[OUTPUT_DIRECTORY]`\n",
    "\n",
    "in a terminal to open tensorboard. It shows the value of the coefficients, scaled coefficients and all possible costs. Note that the runs are timestamped in output_directory, so you'll have to add it! We can also use the output of tensorboard to analyze deepmod after. We show this below. The last option is X_predict. As DeepMoD also denoises the data, use this option to denoise some dataset X after DeepMoD has converged."
   ]
  },
  {
   "cell_type": "code",
   "execution_count": 15,
   "metadata": {},
   "outputs": [],
   "source": [
    "output_opts = {'output_directory': 'output/advection_diffusion_newb/', 'X_predict': X}"
   ]
  },
  {
   "cell_type": "markdown",
   "metadata": {},
   "source": [
    "## Run DeepMoD"
   ]
  },
  {
   "cell_type": "markdown",
   "metadata": {},
   "source": [
    "We can now run DeepMoD using all the options we have set and the training data. We also need to specify which library function we wish to use. You can build any library you want and just pass is through this command:"
   ]
  },
  {
   "cell_type": "code",
   "execution_count": 16,
   "metadata": {},
   "outputs": [
    {
     "name": "stdout",
     "output_type": "stream",
     "text": [
      "Epoch | Total loss | Loss gradient | MSE | PI | L1 \n",
      "0 [6.356175, 0.0049379244, 6.348211, 0.007948957, 1.5264603e-05]\n",
      "500 [2.5983222, 0.02820791, 2.5572414, 0.04091768, 0.00016316825]\n",
      "1000 [1.6243443, 0.035189837, 1.5766841, 0.046968967, 0.00069134095]\n",
      "1500 [1.4016048, 0.06372857, 1.3541626, 0.04672985, 0.00071242225]\n",
      "2000 [1.2108873, 0.10566403, 1.1564147, 0.053707108, 0.0007654968]\n",
      "2500 [1.0433365, 0.14236228, 0.9858947, 0.056612667, 0.00082916685]\n",
      "3000 [0.90952194, 0.16291305, 0.85472584, 0.053965077, 0.0008309851]\n",
      "3500 [0.8286095, 0.1675957, 0.76996225, 0.05780912, 0.00083817035]\n",
      "4000 [0.774162, 0.059364907, 0.7207106, 0.052605066, 0.00084633636]\n",
      "4500 [0.7439293, 0.016822053, 0.6926223, 0.05046517, 0.0008418617]\n",
      "5000 [0.7306705, 0.13379675, 0.67546874, 0.05437813, 0.00082363235]\n",
      "5500 [0.7641079, 0.41338226, 0.67577964, 0.08752075, 0.00080746564]\n",
      "6000 [0.7209424, 0.29275623, 0.65262145, 0.06751175, 0.0008092121]\n",
      "6500 [0.7067624, 0.26895368, 0.64109313, 0.064871885, 0.0007973366]\n",
      "7000 [0.68128264, 0.21496627, 0.62620425, 0.05429767, 0.0007806842]\n",
      "7500 [0.6698154, 0.20291099, 0.61749005, 0.051562384, 0.00076297217]\n",
      "8000 [0.68746567, 0.3710274, 0.6133651, 0.073345415, 0.00075513555]\n",
      "8500 [0.6358864, 0.04862743, 0.5951254, 0.040015, 0.0007460165]\n",
      "9000 [0.62722737, 0.01310098, 0.5886911, 0.037809808, 0.00072646275]\n",
      "9500 [0.61995536, 0.0054705124, 0.58171666, 0.037521306, 0.00071743125]\n",
      "10000 [0.61222506, 0.0052055786, 0.57424843, 0.037267715, 0.000708964]\n",
      "10500 [0.6834952, 0.51435816, 0.5857577, 0.097045146, 0.00069242367]\n",
      "11000 [0.59446627, 0.033275865, 0.5577162, 0.036068726, 0.0006813641]\n",
      "11500 [0.62608606, 0.35690463, 0.5590168, 0.06640553, 0.00066370907]\n",
      "12000 [0.6897301, 0.50377804, 0.5793424, 0.109741256, 0.0006464052]\n",
      "12500 [0.5696403, 0.023086756, 0.5343174, 0.034677733, 0.0006451434]\n",
      "13000 [0.5813054, 0.23281889, 0.5321781, 0.048493378, 0.0006339148]\n",
      "13500 [0.5729685, 0.24707817, 0.52561384, 0.046734445, 0.00062021584]\n",
      "14000 [0.5784129, 0.28959343, 0.52304167, 0.054758742, 0.0006125088]\n",
      "14500 [0.5327521, 0.0069911447, 0.5012577, 0.030896083, 0.0005983071]\n",
      "15000 [0.534238, 0.14264837, 0.49824566, 0.03540759, 0.0005847103]\n",
      "15500 [0.5789236, 0.44619843, 0.50637984, 0.07197623, 0.0005675128]\n",
      "16000 [0.509642, 0.13316987, 0.47838336, 0.030706672, 0.0005519923]\n",
      "16500 [0.52390593, 0.26013383, 0.4806604, 0.04270944, 0.00053609884]\n",
      "17000 [0.49051216, 0.04755579, 0.46299145, 0.027001906, 0.00051880506]\n",
      "17500 [0.49591833, 0.14624436, 0.46356216, 0.031855833, 0.0005003647]\n",
      "18000 [0.508899, 0.31076014, 0.46190575, 0.046509538, 0.0004836653]\n",
      "18500 [0.46915823, 0.06449061, 0.44398654, 0.024705656, 0.0004660486]\n",
      "19000 [0.4596931, 0.065963306, 0.43582526, 0.02341735, 0.00045048314]\n",
      "19500 [0.4527608, 0.013045679, 0.43061626, 0.021707445, 0.00043709512]\n",
      "20000 [0.447956, 0.06349915, 0.42597893, 0.021551255, 0.0004258237]\n",
      "20500 [0.44527024, 0.10511974, 0.4227937, 0.022061443, 0.00041510432]\n",
      "21000 [0.44062245, 0.0919777, 0.41924658, 0.020970456, 0.00040541435]\n",
      "21500 [0.4386645, 0.06688448, 0.41805908, 0.020208431, 0.00039698364]\n",
      "22000 [0.43304121, 0.025357502, 0.41385406, 0.018798329, 0.00038882045]\n",
      "22500 [0.4320978, 0.09328613, 0.4118696, 0.019848332, 0.00037985953]\n",
      "23000 [0.42782307, 0.005733633, 0.40930828, 0.018142622, 0.00037217612]\n",
      "23500 [0.45343643, 0.124271736, 0.428623, 0.024452906, 0.00036053802]\n",
      "24000 [0.42289698, 0.03359287, 0.40465358, 0.017889475, 0.0003539425]\n",
      "24500 [0.42033368, 0.027695578, 0.4023375, 0.017651726, 0.0003444557]\n",
      "25000 [0.41866016, 0.05534517, 0.40025806, 0.018066343, 0.00033575628]\n",
      "25500 [0.43093002, 0.12580922, 0.4083769, 0.022226334, 0.0003267929]\n",
      "26000 [0.41949892, 0.152123, 0.3986127, 0.020569652, 0.0003165644]\n",
      "26500 [0.41009063, 0.052041803, 0.39268994, 0.017092366, 0.00030830942]\n",
      "27000 [0.40796256, 0.052785646, 0.39057538, 0.017087234, 0.00029997516]\n",
      "27500 [0.40508544, 0.040526938, 0.38825983, 0.016534379, 0.0002912397]\n",
      "28000 [0.40606552, 0.046906456, 0.38834563, 0.017436897, 0.00028300265]\n",
      "28500 [0.39991677, 0.07193421, 0.3828534, 0.016790196, 0.00027316803]\n",
      "29000 [0.39808872, 0.113631554, 0.37997177, 0.017853083, 0.00026386452]\n",
      "29500 [0.400244, 0.1481144, 0.38050994, 0.01948117, 0.00025288336]\n",
      "30000 [0.39175862, 0.08626529, 0.3744741, 0.017042948, 0.00024157544]\n",
      "30500 [0.3879561, 0.018374356, 0.3715274, 0.016199837, 0.00022886909]\n",
      "31000 [0.38280344, 0.0073215547, 0.36631438, 0.016273623, 0.00021543387]\n",
      "31500 [0.3832501, 0.034002077, 0.36547515, 0.017574536, 0.00020040477]\n",
      "32000 [0.37231964, 0.02170639, 0.35485017, 0.017288888, 0.00018057827]\n",
      "32500 [0.3638639, 0.0261615, 0.34513152, 0.018576454, 0.00015591367]\n",
      "33000 [0.34736362, 0.03989383, 0.3259571, 0.021286441, 0.00012011325]\n",
      "33500 [0.28988695, 0.09019863, 0.26205924, 0.02776709, 6.0603797e-05]\n",
      "34000 [0.092867345, 0.038978443, 0.08478, 0.0080719795, 1.536221e-05]\n",
      "34500 [0.07776889, 0.038209915, 0.072613716, 0.0051402026, 1.4977487e-05]\n",
      "35000 [0.0735135, 0.07551378, 0.06876364, 0.004734786, 1.507034e-05]\n",
      "35500 [0.07089305, 0.029605083, 0.06737907, 0.0034987393, 1.5238791e-05]\n",
      "36000 [0.07021896, 0.042955186, 0.066737175, 0.003466571, 1.5211639e-05]\n",
      "36500 [0.06935411, 0.03624342, 0.06611769, 0.003221203, 1.52123985e-05]\n",
      "37000 [0.075052276, 0.11170761, 0.07018229, 0.004854889, 1.5091643e-05]\n",
      "37500 [0.06848998, 0.008552006, 0.06562663, 0.0028481383, 1.5211957e-05]\n",
      "38000 [0.06862007, 0.023483034, 0.065723, 0.002881804, 1.526744e-05]\n",
      "38500 [0.06774512, 0.006505048, 0.064987436, 0.002742411, 1.5276592e-05]\n",
      "39000 [0.067724474, 0.033491217, 0.06487433, 0.0028348893, 1.5259917e-05]\n",
      "39500 [0.06736178, 0.020674456, 0.06463684, 0.0027096206, 1.5318526e-05]\n",
      "40000 [0.07032415, 0.05226576, 0.06727456, 0.0030342673, 1.5324167e-05]\n",
      "40500 [0.06692002, 0.008505514, 0.06431195, 0.0025926952, 1.5373837e-05]\n",
      "41000 [0.06683111, 0.024280548, 0.06418604, 0.002629691, 1.5385996e-05]\n",
      "41500 [0.06673303, 0.017278358, 0.064149074, 0.0025685267, 1.543094e-05]\n",
      "42000 [0.06716405, 0.021144638, 0.06457232, 0.0025763137, 1.541723e-05]\n",
      "42500 [0.0664383, 0.022932801, 0.06386581, 0.0025570705, 1.5424876e-05]\n",
      "43000 [0.06664066, 0.008547286, 0.06412566, 0.0024995485, 1.54546e-05]\n",
      "43500 [0.0667991, 0.035265386, 0.064105324, 0.002678278, 1.5495683e-05]\n",
      "44000 [0.06599255, 0.014611451, 0.063486375, 0.0024906965, 1.5473885e-05]\n",
      "44500 [0.06597034, 0.029075263, 0.06337517, 0.0025796713, 1.5496755e-05]\n",
      "45000 [0.06574691, 0.011484739, 0.06325853, 0.002472938, 1.5444448e-05]\n",
      "45500 [0.06571914, 0.0062274686, 0.06322944, 0.0024742507, 1.5451844e-05]\n",
      "46000 [0.065920785, 0.042150956, 0.06319527, 0.0027100926, 1.5422065e-05]\n",
      "46500 [0.06552323, 0.016974345, 0.062996775, 0.0025109716, 1.5481657e-05]\n",
      "47000 [0.06970427, 0.0568002, 0.06674605, 0.0029427677, 1.545186e-05]\n",
      "47500 [0.065652534, 0.02711621, 0.063038856, 0.0025982226, 1.5451415e-05]\n",
      "48000 [0.06565887, 0.04616596, 0.06286358, 0.0027797504, 1.5532714e-05]\n",
      "48500 [0.06553769, 0.04381879, 0.06279045, 0.0027317682, 1.5469428e-05]\n",
      "49000 [0.065218635, 0.016797895, 0.06270583, 0.0024973156, 1.5492868e-05]\n",
      "49500 [0.065232135, 0.019282756, 0.06269673, 0.0025198506, 1.5546322e-05]\n",
      "Current sparse vectors:\n",
      "[array([[ 0.        ],\n",
      "       [ 0.        ],\n",
      "       [ 0.31054437],\n",
      "       [ 0.00688205],\n",
      "       [ 0.00847488],\n",
      "       [ 0.        ],\n",
      "       [-0.05047284],\n",
      "       [ 0.        ],\n",
      "       [ 0.        ],\n",
      "       [ 0.        ],\n",
      "       [-0.00069889],\n",
      "       [ 0.        ]])]\n",
      "Now running for the final time...\n",
      "Epoch | Total loss | Loss gradient | MSE | PI | L1 \n",
      "0 [0.32992044, 0.47194886, 0.29435775, 0.03556269, 0.0]\n",
      "500 [0.0673938, 0.0071463375, 0.06451285, 0.0028809542, 0.0]\n",
      "1000 [0.06583573, 0.00472811, 0.06297921, 0.0028565235, 0.0]\n",
      "1500 [0.0676262, 0.030996138, 0.06462764, 0.0029985614, 0.0]\n",
      "2000 [0.066040576, 0.018350715, 0.06324738, 0.002793191, 0.0]\n",
      "2500 [0.06531313, 0.0018760929, 0.06253911, 0.0027740255, 0.0]\n",
      "3000 [0.06534126, 0.0111962035, 0.06258312, 0.0027581386, 0.0]\n",
      "3500 [0.065649085, 0.009345578, 0.06291781, 0.0027312713, 0.0]\n",
      "4000 [0.0652373, 0.0034326906, 0.06248012, 0.0027571796, 0.0]\n",
      "4500 [0.06586143, 0.0076048058, 0.06314407, 0.002717352, 0.0]\n",
      "5000 [0.06505813, 0.0131621575, 0.062312067, 0.0027460633, 0.0]\n",
      "5500 [0.06498788, 0.0053590317, 0.062248457, 0.0027394237, 0.0]\n",
      "6000 [0.065313555, 0.025384914, 0.06248565, 0.002827906, 0.0]\n",
      "6500 [0.06488183, 0.0042119455, 0.062158298, 0.0027235346, 0.0]\n",
      "7000 [0.064923905, 0.0035134363, 0.062189158, 0.0027347482, 0.0]\n",
      "7500 [0.065410405, 0.008899119, 0.06270464, 0.00270577, 0.0]\n",
      "8000 [0.06478684, 0.009413248, 0.06205358, 0.0027332534, 0.0]\n",
      "8500 [0.06519581, 0.030819885, 0.062369898, 0.0028259105, 0.0]\n",
      "9000 [0.06470178, 0.0070691733, 0.061977744, 0.0027240368, 0.0]\n",
      "9500 [0.06562205, 0.024142537, 0.062862575, 0.0027594692, 0.0]\n",
      "10000 [0.06491211, 0.013689832, 0.062184125, 0.0027279868, 0.0]\n",
      "10500 [0.064648464, 0.0094701955, 0.06192848, 0.0027199837, 0.0]\n",
      "11000 [0.06486419, 0.0047893925, 0.062164072, 0.0027001146, 0.0]\n",
      "11500 [0.06457922, 0.011485157, 0.061854452, 0.0027247677, 0.0]\n",
      "12000 [0.06488121, 0.030662216, 0.06202609, 0.0028551219, 0.0]\n",
      "12500 [0.064516194, 0.0072067464, 0.06180176, 0.0027144335, 0.0]\n",
      "13000 [0.06446173, 0.009871909, 0.061732795, 0.0027289381, 0.0]\n",
      "13500 [0.06446503, 0.0018978463, 0.061744787, 0.002720244, 0.0]\n",
      "14000 [0.06576751, 0.050850436, 0.062732406, 0.0030351023, 0.0]\n",
      "14500 [0.06441388, 0.008448566, 0.06169639, 0.0027174891, 0.0]\n",
      "15000 [0.065497264, 0.021588067, 0.0626767, 0.0028205637, 0.0]\n",
      "15500 [0.06429712, 0.0017287491, 0.06159055, 0.0027065664, 0.0]\n",
      "16000 [0.065963514, 0.03814806, 0.06297481, 0.0029887008, 0.0]\n",
      "16500 [0.064236164, 0.0036101895, 0.061530106, 0.0027060593, 0.0]\n",
      "17000 [0.0642089, 0.0016799113, 0.06150552, 0.0027033805, 0.0]\n",
      "17500 [0.06454798, 0.005695549, 0.061811134, 0.0027368453, 0.0]\n",
      "18000 [0.06480869, 0.018002862, 0.062093962, 0.0027147294, 0.0]\n",
      "18500 [0.06414539, 0.01108557, 0.061433997, 0.0027113943, 0.0]\n",
      "19000 [0.064313434, 0.027109254, 0.061529916, 0.0027835206, 0.0]\n",
      "19500 [0.06406173, 0.0012843029, 0.06136114, 0.002700592, 0.0]\n",
      "20000 [0.06412072, 0.024173483, 0.06133568, 0.002785038, 0.0]\n",
      "20500 [0.06413821, 0.023905719, 0.061355997, 0.0027822142, 0.0]\n",
      "21000 [0.06407711, 0.0021951834, 0.061370082, 0.0027070276, 0.0]\n",
      "21500 [0.063944794, 0.0004735864, 0.061253674, 0.0026911197, 0.0]\n",
      "22000 [0.06427292, 0.007217701, 0.061580215, 0.0026927013, 0.0]\n",
      "22500 [0.06396291, 0.002093033, 0.061283372, 0.002679533, 0.0]\n",
      "23000 [0.06436411, 0.02087875, 0.06158239, 0.002781725, 0.0]\n",
      "23500 [0.06474449, 0.047369473, 0.061713908, 0.0030305823, 0.0]\n",
      "24000 [0.064051166, 0.034844846, 0.061213743, 0.0028374225, 0.0]\n",
      "24500 [0.06379559, 0.0065757358, 0.061117653, 0.0026779347, 0.0]\n",
      "25000 [0.063777775, 0.009573241, 0.0610871, 0.0026906696, 0.0]\n",
      "25500 [0.06385319, 0.00591871, 0.061188795, 0.0026643968, 0.0]\n",
      "26000 [0.06372068, 0.003461787, 0.06104562, 0.0026750623, 0.0]\n",
      "26500 [0.06369897, 0.002716093, 0.061031416, 0.0026675556, 0.0]\n",
      "27000 [0.063665725, 0.0010632023, 0.061004955, 0.0026607718, 0.0]\n",
      "27500 [0.06365112, 0.0046037803, 0.060983647, 0.0026674767, 0.0]\n",
      "28000 [0.06363947, 0.004322906, 0.060985368, 0.0026540998, 0.0]\n",
      "28500 [0.06410691, 0.03495598, 0.06125, 0.0028569105, 0.0]\n",
      "29000 [0.06383694, 0.011242391, 0.06118953, 0.0026474076, 0.0]\n",
      "29500 [0.06410567, 0.041641425, 0.061249208, 0.0028564571, 0.0]\n",
      "30000 [0.06378259, 0.015432275, 0.061118804, 0.0026637826, 0.0]\n",
      "30500 [0.06406308, 0.018538546, 0.061334275, 0.0027288047, 0.0]\n",
      "31000 [0.06348842, 0.004814919, 0.060845952, 0.0026424623, 0.0]\n",
      "31500 [0.06349771, 0.014362334, 0.060830437, 0.0026672736, 0.0]\n",
      "32000 [0.06353876, 0.0041064806, 0.06089312, 0.002645641, 0.0]\n",
      "32500 [0.0634302, 0.004297054, 0.060802042, 0.0026281553, 0.0]\n",
      "33000 [0.064034216, 0.025704538, 0.061336618, 0.0026975947, 0.0]\n",
      "33500 [0.06343642, 0.00962848, 0.06079613, 0.0026402867, 0.0]\n",
      "34000 [0.06347653, 0.012686667, 0.060830977, 0.0026455594, 0.0]\n",
      "34500 [0.06335801, 0.008820795, 0.060717355, 0.0026406522, 0.0]\n",
      "35000 [0.06334137, 0.00340144, 0.060708534, 0.0026328382, 0.0]\n",
      "35500 [0.064321965, 0.03169819, 0.061502613, 0.0028193481, 0.0]\n",
      "36000 [0.06364552, 0.0043921713, 0.0610476, 0.0025979239, 0.0]\n",
      "36500 [0.06325873, 0.0072154105, 0.060634118, 0.002624609, 0.0]\n",
      "37000 [0.06324753, 0.009550515, 0.060630806, 0.0026167226, 0.0]\n",
      "37500 [0.06320967, 0.0046124225, 0.060606733, 0.0026029341, 0.0]\n",
      "38000 [0.06326102, 0.010697358, 0.060628038, 0.0026329819, 0.0]\n",
      "38500 [0.06316226, 0.008860872, 0.06055815, 0.0026041088, 0.0]\n",
      "39000 [0.06327468, 0.022774316, 0.060593024, 0.002681661, 0.0]\n",
      "39500 [0.06851523, 0.05598114, 0.06534345, 0.0031717871, 0.0]\n",
      "40000 [0.06312534, 0.0025308717, 0.060528576, 0.0025967688, 0.0]\n",
      "40500 [0.063090235, 0.0037133172, 0.060486726, 0.0026035064, 0.0]\n",
      "41000 [0.06313916, 0.01194491, 0.060544726, 0.0025944405, 0.0]\n",
      "41500 [0.06426982, 0.015965598, 0.061586168, 0.0026836537, 0.0]\n",
      "42000 [0.06309011, 0.017792312, 0.06047059, 0.0026195173, 0.0]\n",
      "42500 [0.06297763, 0.0031339899, 0.06039273, 0.0025848988, 0.0]\n",
      "43000 [0.062961936, 0.0072483905, 0.06037969, 0.002582242, 0.0]\n",
      "43500 [0.06393255, 0.017742818, 0.061351024, 0.002581529, 0.0]\n",
      "44000 [0.06317398, 0.014557748, 0.060589705, 0.0025842772, 0.0]\n",
      "44500 [0.06289977, 0.0021063557, 0.060320016, 0.0025797526, 0.0]\n",
      "45000 [0.06335682, 0.020393725, 0.0606913, 0.0026655188, 0.0]\n",
      "45500 [0.06307443, 0.031054087, 0.0603602, 0.0027142288, 0.0]\n",
      "46000 [0.0638793, 0.043212935, 0.06099415, 0.0028851558, 0.0]\n",
      "46500 [0.06324411, 0.024897432, 0.060552165, 0.0026919441, 0.0]\n",
      "47000 [0.06330825, 0.024293147, 0.060687162, 0.0026210877, 0.0]\n",
      "47500 [0.062768325, 0.0039160377, 0.060201637, 0.0025666899, 0.0]\n",
      "48000 [0.06291632, 0.024395801, 0.060291365, 0.0026249622, 0.0]\n",
      "48500 [0.06286263, 0.011536799, 0.060271278, 0.0025913483, 0.0]\n",
      "49000 [0.0630437, 0.026333569, 0.06035896, 0.0026847406, 0.0]\n",
      "49500 [0.062726736, 0.016057119, 0.06013905, 0.0025876835, 0.0]\n"
     ]
    }
   ],
   "source": [
    "sparse_vectors, denoised = DeepMoD(X_train, y_train, config, library_2Din_1Dout, library_config, train_opts, output_opts)"
   ]
  },
  {
   "cell_type": "markdown",
   "metadata": {},
   "source": [
    "Show final result:"
   ]
  },
  {
   "cell_type": "code",
   "execution_count": 32,
   "metadata": {},
   "outputs": [
    {
     "name": "stdout",
     "output_type": "stream",
     "text": [
      "Inferred equation:\n",
      "u_t = 0.254u_{x} + 0.495u_{y} + 0.498u_{xx} + 0.522u_{yy}\n"
     ]
    }
   ],
   "source": [
    "u = ['1', 'u']\n",
    "du = ['1', 'u_{x}', 'u_{y}','u_{xx}', 'u_{yy}','u_{xy}']\n",
    "coeffs_list = library_matrix_mat(u, du)\n",
    "\n",
    "print('Inferred equation:')\n",
    "print_PDE(sparse_vectors[0], coeffs_list, PDE_term='u_t')"
   ]
  },
  {
   "cell_type": "markdown",
   "metadata": {},
   "source": [
    "Plot the 'Ground truth', 'Noisy' and 'Reconstructed/Denoised' solution"
   ]
  },
  {
   "cell_type": "code",
   "execution_count": 22,
   "metadata": {},
   "outputs": [],
   "source": [
    "X_predict = X[(X[:,0]==5.0) | (X[:,0]==9.0) | (X[:,0]==7.0), :]"
   ]
  },
  {
   "cell_type": "code",
   "execution_count": 23,
   "metadata": {},
   "outputs": [],
   "source": [
    "data_dict = {'x_grid': X[:,1],'y_grid': X[:,2], 't_grid': X[:,0], 'ground_truth': np.squeeze(y), 'noisy': np.squeeze(y_noisy)}\n",
    "df = pd.DataFrame(data_dict)\n",
    "for key in df:\n",
    "    df[key] = np.squeeze(df[key])\n",
    "data = pd.DataFrame(df)"
   ]
  },
  {
   "cell_type": "code",
   "execution_count": 24,
   "metadata": {},
   "outputs": [],
   "source": [
    "data_dict_denoised = {'x_grid': X[:,1],'y_grid': X[:,2], 't_grid': X[:,0], 'denoised': np.squeeze(denoised)}\n",
    "df_dn = pd.DataFrame(data_dict_denoised)\n",
    "for key in df_dn:\n",
    "    df_dn[key] = np.squeeze(df_dn[key])\n",
    "data_denoised = pd.DataFrame(df_dn)"
   ]
  },
  {
   "cell_type": "code",
   "execution_count": 31,
   "metadata": {},
   "outputs": [
    {
     "data": {
      "image/png": "[encoded data removed]",
      "text/plain": [
       "<Figure size 1080x288 with 4 Axes>"
      ]
     },
     "metadata": {
      "needs_background": "light"
     },
     "output_type": "display_data"
    }
   ],
   "source": [
    "time1 = 7.0\n",
    "\n",
    "vmin = np.min(data[data['t_grid'] == time1]['ground_truth'])\n",
    "vmax = np.max(data[data['t_grid'] == time1]['ground_truth'])\n",
    "\n",
    "fig, axes = plt.subplots(ncols=3, figsize=(15, 4))\n",
    "\n",
    "im1 = axes[0].contourf(pd.pivot_table(data[data['t_grid'] == time1],index='y_grid', columns='x_grid', values='ground_truth'), cmap='coolwarm',vmin=vmin, vmax=vmax)\n",
    "axes[0].set_xlabel('x')\n",
    "axes[0].set_ylabel('y')\n",
    "axes[0].set_title('Ground truth')\n",
    "\n",
    "im2 = axes[1].contourf(pd.pivot_table(data[data['t_grid'] == time1],index='y_grid', columns='x_grid', values='noisy'), cmap='coolwarm', vmin=vmin, vmax=vmax)\n",
    "axes[1].set_xlabel('x')\n",
    "axes[1].set_title('Noisy')\n",
    "\n",
    "im3 = axes[2].contourf(pd.pivot_table(data_denoised[data_denoised['t_grid'] == time1],index='y_grid', columns='x_grid', values='denoised'), cmap='coolwarm', vmin=vmin, vmax=vmax)\n",
    "axes[2].set_xlabel('x')\n",
    "axes[2].set_title('Sampled')\n",
    "\n",
    "fig.colorbar(im1, ax=axes.ravel().tolist())\n",
    "\n",
    "plt.show()"
   ]
  },
  {
   "cell_type": "code",
   "execution_count": null,
   "metadata": {},
   "outputs": [],
   "source": []
  }
 ],
 "metadata": {
  "kernelspec": {
   "display_name": "Python 3",
   "language": "python",
   "name": "python3"
  },
  "language_info": {
   "codemirror_mode": {
    "name": "ipython",
    "version": 3
   },
   "file_extension": ".py",
   "mimetype": "text/x-python",
   "name": "python",
   "nbconvert_exporter": "python",
   "pygments_lexer": "ipython3",
   "version": "3.6.8"
  }
 },
 "nbformat": 4,
 "nbformat_minor": 2
}
